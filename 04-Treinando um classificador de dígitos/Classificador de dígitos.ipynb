{
 "cells": [
  {
   "cell_type": "markdown",
   "id": "ef7604df",
   "metadata": {},
   "source": [
    "# AVISO"
   ]
  },
  {
   "cell_type": "markdown",
   "id": "2476f71a",
   "metadata": {},
   "source": [
    "O conteúdo presente neste notebook é altamente baseado no quarto capítulo do livro <a ref='\n",
    "https://www.amazon.com.br/dp/B08C2KM7NR/ref=dp-kindle-redirect?_encoding=UTF8&btkr=1' > \n",
    "Deep Learning for Coders with fastai and PyTorch: AI Applications Without a PhD</a>. Nosso objetivo é explicar em Portugês a implementação dos códigos e principais conceitos abordados pelo capítulo de modo que estudantes que falam português possam se iniciar no fastai e na aprendizagem de máquina prática. Se você deseja acessar o conteúdo original, você pode ler o seguinte <a href='https://course.fast.ai/start_gradient' > artigo  </a> a fim de aprender como executar o notebook contendo todos os capítulo disponibilizados de graça no <a href='https://gradient.run/notebooks'> Gradient </a>. Todos os créditos reservados aos autores Jeremy Howard and Sylvain Gugger. \n"
   ]
  },
  {
   "cell_type": "markdown",
   "id": "c8090f94",
   "metadata": {},
   "source": [
    "# 0- Configuração do notebook\n"
   ]
  },
  {
   "cell_type": "markdown",
   "id": "0c5ee1e8",
   "metadata": {},
   "source": [
    "Antes de qualquer coisa, iremos configurar nosso notebook como de costume:"
   ]
  },
  {
   "cell_type": "code",
   "execution_count": 1,
   "id": "0f5fe3a3",
   "metadata": {},
   "outputs": [],
   "source": [
    "import warnings\n",
    "warnings.filterwarnings('ignore')\n",
    "\n",
    "from fastbook import *"
   ]
  },
  {
   "cell_type": "markdown",
   "id": "9d450055",
   "metadata": {},
   "source": [
    "# 1- Introdução"
   ]
  },
  {
   "cell_type": "markdown",
   "id": "5e09fc04",
   "metadata": {},
   "source": [
    "Neste notebook, iremos nos aprofundar em conceitos de Deep Learning a fim de entender um pouco mais o que os modelos que treinamos até o momento estão realizando. "
   ]
  },
  {
   "cell_type": "markdown",
   "id": "d93420a3",
   "metadata": {},
   "source": [
    "Para tanto, iremos abordar um problema de visão computacional, a classificação de dígitos escritos a mão. Dessa forma, será empregado o dataset <a href='http://yann.lecun.com/exdb/mnist/'>MNIST</a>. Abaixo, segue breve descrição:"
   ]
  },
  {
   "cell_type": "markdown",
   "id": "77049433",
   "metadata": {},
   "source": [
    ">O dataset MNIST contem imagens de dígitos escritos a mão coletadas pelo NIST (_National Institute of Standards and Technology_) e reunidas como um dataset de machine learning por Yann Lecun e seus colegas. Lecun usou o MNIST em 1998 no LeNet-5, o primeiro sistema computacional a demonstrar o reconhecimento de sequências de dígitos escritos a mão de forma prática e útil, o que é considerado um dos avanços mais importantes na história da IA. "
   ]
  },
  {
   "cell_type": "markdown",
   "id": "20567da8",
   "metadata": {},
   "source": [
    "# 2- Como computadores lidam com imagens?"
   ]
  },
  {
   "cell_type": "markdown",
   "id": "49ac26a3",
   "metadata": {},
   "source": [
    "Para entender o que acontece em um modelo de visão computacional, precisamos entender primeiramente como computadores lidam com imagens. Para tanto, inicialmente iremos desenvolver um modelo simples que classifica imagens como dígitos 3 ou 7. "
   ]
  },
  {
   "cell_type": "markdown",
   "id": "61a3dc70",
   "metadata": {},
   "source": [
    "Como visto nos notebooks passados, quando desejamos realizar o download de qualquer dataset, podemos empregar a função `untar_data`, a qual nos retorna o caminho de destino do dataset:"
   ]
  },
  {
   "cell_type": "code",
   "execution_count": 2,
   "id": "220c13a6",
   "metadata": {},
   "outputs": [],
   "source": [
    "url_dataset = URLs.MNIST_SAMPLE\n",
    "path = untar_data(url_dataset)"
   ]
  },
  {
   "cell_type": "markdown",
   "id": "f1fe81f3",
   "metadata": {},
   "source": [
    "Se aplicarmos o método adicionado pelo fastai `.ls()`, poderemos verificar qual o conteúdo do diretório retornado."
   ]
  },
  {
   "cell_type": "markdown",
   "id": "e1f1c55f",
   "metadata": {},
   "source": [
    "Vale ressaltar que o método retorna um objeto de uma classe especial do fastai denominada `L`, a qual possui todas as funcionalidades do tipo built-in do Python `list`, bem como muitas outras. Por exemplo, exibir a quantidade de itens quando o objeto é impresso, além de listar alguns dos itens."
   ]
  },
  {
   "cell_type": "code",
   "execution_count": 3,
   "id": "bf2e2fc8",
   "metadata": {},
   "outputs": [
    {
     "data": {
      "text/plain": [
       "(#3) [Path('/home/lucaszampar/.fastai/data/mnist_sample/train'),Path('/home/lucaszampar/.fastai/data/mnist_sample/valid'),Path('/home/lucaszampar/.fastai/data/mnist_sample/labels.csv')]"
      ]
     },
     "execution_count": 3,
     "metadata": {},
     "output_type": "execute_result"
    }
   ],
   "source": [
    "path.ls()"
   ]
  },
  {
   "cell_type": "markdown",
   "id": "35505e30",
   "metadata": {},
   "source": [
    "Dessa forma, podemos perceber que há 3 itens no diretório retornado: a pasta `train`, que contém as imagens de treinamento; a pasta `valid`, imagens de validação; o arquivo `labels.csv`, os rótulos das imagens. Vale ressaltar que dividir as imagens de treinamento e de validação em pastas separadas é um padrão comum para datasets de machine learning."
   ]
  },
  {
   "cell_type": "markdown",
   "id": "c28e869a",
   "metadata": {},
   "source": [
    "Agora, vamos verificar o que há na pasta `train`:"
   ]
  },
  {
   "cell_type": "code",
   "execution_count": 4,
   "id": "aa447ec8",
   "metadata": {},
   "outputs": [
    {
     "data": {
      "text/plain": [
       "(#2) [Path('/home/lucaszampar/.fastai/data/mnist_sample/train/7'),Path('/home/lucaszampar/.fastai/data/mnist_sample/train/3')]"
      ]
     },
     "execution_count": 4,
     "metadata": {},
     "output_type": "execute_result"
    }
   ],
   "source": [
    "(path/'train').ls()"
   ]
  },
  {
   "cell_type": "markdown",
   "id": "a6468c37",
   "metadata": {},
   "source": [
    "Como esperado, há duas pastas referentes às classes de dígitos 3 e 7. Nesse caso, tais dígitos são as _labels_ do dataset. A partir disso, vamos referenciar os arquivos de imagem de cada pasta, ordenando-os conforme o nome. "
   ]
  },
  {
   "cell_type": "code",
   "execution_count": 5,
   "id": "fe9811af",
   "metadata": {},
   "outputs": [
    {
     "data": {
      "text/plain": [
       "(#6131) [Path('/home/lucaszampar/.fastai/data/mnist_sample/train/3/10.png'),Path('/home/lucaszampar/.fastai/data/mnist_sample/train/3/10000.png'),Path('/home/lucaszampar/.fastai/data/mnist_sample/train/3/10011.png'),Path('/home/lucaszampar/.fastai/data/mnist_sample/train/3/10031.png'),Path('/home/lucaszampar/.fastai/data/mnist_sample/train/3/10034.png'),Path('/home/lucaszampar/.fastai/data/mnist_sample/train/3/10042.png'),Path('/home/lucaszampar/.fastai/data/mnist_sample/train/3/10052.png'),Path('/home/lucaszampar/.fastai/data/mnist_sample/train/3/1007.png'),Path('/home/lucaszampar/.fastai/data/mnist_sample/train/3/10074.png'),Path('/home/lucaszampar/.fastai/data/mnist_sample/train/3/10091.png')...]"
      ]
     },
     "execution_count": 5,
     "metadata": {},
     "output_type": "execute_result"
    }
   ],
   "source": [
    "threes = (path/'train'/'3').ls().sorted()\n",
    "sevens = (path/'train'/'7').ls().sorted()\n",
    "threes"
   ]
  },
  {
   "cell_type": "markdown",
   "id": "5ae7282a",
   "metadata": {},
   "source": [
    "Como pode ser percebido pela saída, há 6.131 imagens do dígito 3 reservadas para o treinamento. Dessa forma, podemos exibir uma destas imagens ampliada:"
   ]
  },
  {
   "cell_type": "code",
   "execution_count": 6,
   "id": "2fd4012e",
   "metadata": {},
   "outputs": [
    {
     "data": {
      "image/png": "[encoded data removed]",
      "text/plain": [
       "<PIL.Image.Image image mode=L size=150x150 at 0x7FC5F2F57A50>"
      ]
     },
     "execution_count": 6,
     "metadata": {},
     "output_type": "execute_result"
    }
   ],
   "source": [
    "im3_path = threes[1]\n",
    "im3 = Image.open(im3_path)\n",
    "im3.resize((150, 150))"
   ]
  },
  {
   "cell_type": "markdown",
   "id": "462320dd",
   "metadata": {},
   "source": [
    "Para a exibição da imagem acima, empregamos a classe `Image` da biblioteca PIL (_Python \n",
    "Imaging Library_), que é o pacote do Python mais utilizado para abrir, manipular e ver imagens. "
   ]
  },
  {
   "cell_type": "markdown",
   "id": "b8356e90",
   "metadata": {},
   "source": [
    "Em um computador, tudo é representado por meio de números. Nesse contexto, para ver os números que compõem a imagem acima, podemos convertê-la para um __array NumPy__ ou um __tensor PyTorch__. Por exemplo, podemos verificar os números que compõem uma seção da imagem ao convertê-la para um array numpy:"
   ]
  },
  {
   "cell_type": "code",
   "execution_count": 7,
   "id": "750f842e",
   "metadata": {},
   "outputs": [
    {
     "data": {
      "text/plain": [
       "array([[  0,   0,   0,   0,   0,   0],\n",
       "       [  0,   0,   0,   0,   0,  29],\n",
       "       [  0,   0,   0,  48, 166, 224],\n",
       "       [  0,  93, 244, 249, 253, 187],\n",
       "       [  0, 107, 253, 253, 230,  48],\n",
       "       [  0,   3,  20,  20,  15,   0]], dtype=uint8)"
      ]
     },
     "execution_count": 7,
     "metadata": {},
     "output_type": "execute_result"
    }
   ],
   "source": [
    "array(im3)[4:10, 4:10]"
   ]
  },
  {
   "cell_type": "markdown",
   "id": "40ae5a47",
   "metadata": {},
   "source": [
    "Acima, acessamos as linhas de índice 4 até o 9 da matriz que configura a imagem, bem como a  coluna de índice 4 até o 9. Assim, estamos acessando uma região no canto superior esquerdo da imagem."
   ]
  },
  {
   "cell_type": "markdown",
   "id": "ad70f470",
   "metadata": {},
   "source": [
    "O mesmo procedimento pode ser realizado por meio de um tensor do Pytroch:"
   ]
  },
  {
   "cell_type": "code",
   "execution_count": 8,
   "id": "490ff9e0",
   "metadata": {},
   "outputs": [
    {
     "data": {
      "text/plain": [
       "tensor([[  0,   0,   0,   0,   0,   0],\n",
       "        [  0,   0,   0,   0,   0,  29],\n",
       "        [  0,   0,   0,  48, 166, 224],\n",
       "        [  0,  93, 244, 249, 253, 187],\n",
       "        [  0, 107, 253, 253, 230,  48],\n",
       "        [  0,   3,  20,  20,  15,   0]], dtype=torch.uint8)"
      ]
     },
     "execution_count": 8,
     "metadata": {},
     "output_type": "execute_result"
    }
   ],
   "source": [
    "tensor(im3)[4:10, 4:10]"
   ]
  },
  {
   "cell_type": "markdown",
   "id": "8c3af07a",
   "metadata": {},
   "source": [
    "Além disso, podemos visualizar como os valores de pixels formam a imagem de um dígito ao transformar o array ou o tensor em um __dataframe Pandas__, aplicando um gradiente de cores em seguida."
   ]
  },
  {
   "cell_type": "code",
   "execution_count": 9,
   "id": "5801d7e3",
   "metadata": {},
   "outputs": [
    {
     "data": {
      "text/html": [
       "<style type=\"text/css\">\n",
       "#T_94715_row0_col0, #T_94715_row0_col1, #T_94715_row0_col2, #T_94715_row0_col3, #T_94715_row0_col4, #T_94715_row0_col5, #T_94715_row0_col6, #T_94715_row0_col7, #T_94715_row0_col8, #T_94715_row0_col9, #T_94715_row0_col10, #T_94715_row0_col11, #T_94715_row0_col12, #T_94715_row0_col13, #T_94715_row0_col14, #T_94715_row0_col15, #T_94715_row0_col16, #T_94715_row0_col17, #T_94715_row1_col0, #T_94715_row1_col1, #T_94715_row1_col2, #T_94715_row1_col3, #T_94715_row1_col4, #T_94715_row1_col15, #T_94715_row1_col16, #T_94715_row1_col17, #T_94715_row2_col0, #T_94715_row2_col1, #T_94715_row2_col2, #T_94715_row2_col15, #T_94715_row2_col16, #T_94715_row2_col17, #T_94715_row3_col0, #T_94715_row3_col15, #T_94715_row3_col16, #T_94715_row3_col17, #T_94715_row4_col0, #T_94715_row4_col6, #T_94715_row4_col7, #T_94715_row4_col8, #T_94715_row4_col9, #T_94715_row4_col10, #T_94715_row4_col15, #T_94715_row4_col16, #T_94715_row4_col17, #T_94715_row5_col0, #T_94715_row5_col5, #T_94715_row5_col6, #T_94715_row5_col7, #T_94715_row5_col8, #T_94715_row5_col9, #T_94715_row5_col15, #T_94715_row5_col16, #T_94715_row5_col17, #T_94715_row6_col0, #T_94715_row6_col1, #T_94715_row6_col2, #T_94715_row6_col3, #T_94715_row6_col4, #T_94715_row6_col5, #T_94715_row6_col6, #T_94715_row6_col7, #T_94715_row6_col8, #T_94715_row6_col9, #T_94715_row6_col14, #T_94715_row6_col15, #T_94715_row6_col16, #T_94715_row6_col17, #T_94715_row7_col0, #T_94715_row7_col1, #T_94715_row7_col2, #T_94715_row7_col3, #T_94715_row7_col4, #T_94715_row7_col5, #T_94715_row7_col6, #T_94715_row7_col13, #T_94715_row7_col14, #T_94715_row7_col15, #T_94715_row7_col16, #T_94715_row7_col17, #T_94715_row8_col0, #T_94715_row8_col1, #T_94715_row8_col2, #T_94715_row8_col3, #T_94715_row8_col4, #T_94715_row8_col13, #T_94715_row8_col14, #T_94715_row8_col15, #T_94715_row8_col16, #T_94715_row8_col17, #T_94715_row9_col0, #T_94715_row9_col1, #T_94715_row9_col2, #T_94715_row9_col3, #T_94715_row9_col4, #T_94715_row9_col16, #T_94715_row9_col17, #T_94715_row10_col0, #T_94715_row10_col1, #T_94715_row10_col2, #T_94715_row10_col3, #T_94715_row10_col4, #T_94715_row10_col5, #T_94715_row10_col6, #T_94715_row10_col17 {\n",
       "  font-size: 6pt;\n",
       "  background-color: #ffffff;\n",
       "  color: #000000;\n",
       "}\n",
       "#T_94715_row1_col5 {\n",
       "  font-size: 6pt;\n",
       "  background-color: #efefef;\n",
       "  color: #000000;\n",
       "}\n",
       "#T_94715_row1_col6, #T_94715_row1_col13 {\n",
       "  font-size: 6pt;\n",
       "  background-color: #7c7c7c;\n",
       "  color: #f1f1f1;\n",
       "}\n",
       "#T_94715_row1_col7 {\n",
       "  font-size: 6pt;\n",
       "  background-color: #4a4a4a;\n",
       "  color: #f1f1f1;\n",
       "}\n",
       "#T_94715_row1_col8, #T_94715_row1_col9, #T_94715_row1_col10, #T_94715_row2_col5, #T_94715_row2_col6, #T_94715_row2_col7, #T_94715_row2_col11, #T_94715_row2_col12, #T_94715_row2_col13, #T_94715_row3_col4, #T_94715_row3_col12, #T_94715_row3_col13, #T_94715_row4_col1, #T_94715_row4_col2, #T_94715_row4_col3, #T_94715_row4_col12, #T_94715_row4_col13, #T_94715_row5_col12, #T_94715_row6_col11, #T_94715_row9_col11, #T_94715_row10_col11, #T_94715_row10_col12, #T_94715_row10_col13, #T_94715_row10_col14, #T_94715_row10_col15, #T_94715_row10_col16 {\n",
       "  font-size: 6pt;\n",
       "  background-color: #000000;\n",
       "  color: #f1f1f1;\n",
       "}\n",
       "#T_94715_row1_col11 {\n",
       "  font-size: 6pt;\n",
       "  background-color: #606060;\n",
       "  color: #f1f1f1;\n",
       "}\n",
       "#T_94715_row1_col12 {\n",
       "  font-size: 6pt;\n",
       "  background-color: #4d4d4d;\n",
       "  color: #f1f1f1;\n",
       "}\n",
       "#T_94715_row1_col14 {\n",
       "  font-size: 6pt;\n",
       "  background-color: #bbbbbb;\n",
       "  color: #000000;\n",
       "}\n",
       "#T_94715_row2_col3 {\n",
       "  font-size: 6pt;\n",
       "  background-color: #e4e4e4;\n",
       "  color: #000000;\n",
       "}\n",
       "#T_94715_row2_col4, #T_94715_row8_col6 {\n",
       "  font-size: 6pt;\n",
       "  background-color: #6b6b6b;\n",
       "  color: #f1f1f1;\n",
       "}\n",
       "#T_94715_row2_col8, #T_94715_row2_col14, #T_94715_row3_col14 {\n",
       "  font-size: 6pt;\n",
       "  background-color: #171717;\n",
       "  color: #f1f1f1;\n",
       "}\n",
       "#T_94715_row2_col9, #T_94715_row3_col11 {\n",
       "  font-size: 6pt;\n",
       "  background-color: #4b4b4b;\n",
       "  color: #f1f1f1;\n",
       "}\n",
       "#T_94715_row2_col10, #T_94715_row7_col10, #T_94715_row8_col8, #T_94715_row8_col10, #T_94715_row9_col8, #T_94715_row9_col10 {\n",
       "  font-size: 6pt;\n",
       "  background-color: #010101;\n",
       "  color: #f1f1f1;\n",
       "}\n",
       "#T_94715_row3_col1 {\n",
       "  font-size: 6pt;\n",
       "  background-color: #272727;\n",
       "  color: #f1f1f1;\n",
       "}\n",
       "#T_94715_row3_col2 {\n",
       "  font-size: 6pt;\n",
       "  background-color: #0a0a0a;\n",
       "  color: #f1f1f1;\n",
       "}\n",
       "#T_94715_row3_col3 {\n",
       "  font-size: 6pt;\n",
       "  background-color: #050505;\n",
       "  color: #f1f1f1;\n",
       "}\n",
       "#T_94715_row3_col5 {\n",
       "  font-size: 6pt;\n",
       "  background-color: #333333;\n",
       "  color: #f1f1f1;\n",
       "}\n",
       "#T_94715_row3_col6 {\n",
       "  font-size: 6pt;\n",
       "  background-color: #e6e6e6;\n",
       "  color: #000000;\n",
       "}\n",
       "#T_94715_row3_col7, #T_94715_row3_col10 {\n",
       "  font-size: 6pt;\n",
       "  background-color: #fafafa;\n",
       "  color: #000000;\n",
       "}\n",
       "#T_94715_row3_col8 {\n",
       "  font-size: 6pt;\n",
       "  background-color: #fbfbfb;\n",
       "  color: #000000;\n",
       "}\n",
       "#T_94715_row3_col9 {\n",
       "  font-size: 6pt;\n",
       "  background-color: #fdfdfd;\n",
       "  color: #000000;\n",
       "}\n",
       "#T_94715_row4_col4 {\n",
       "  font-size: 6pt;\n",
       "  background-color: #1b1b1b;\n",
       "  color: #f1f1f1;\n",
       "}\n",
       "#T_94715_row4_col5 {\n",
       "  font-size: 6pt;\n",
       "  background-color: #e0e0e0;\n",
       "  color: #000000;\n",
       "}\n",
       "#T_94715_row4_col11 {\n",
       "  font-size: 6pt;\n",
       "  background-color: #4e4e4e;\n",
       "  color: #f1f1f1;\n",
       "}\n",
       "#T_94715_row4_col14 {\n",
       "  font-size: 6pt;\n",
       "  background-color: #767676;\n",
       "  color: #f1f1f1;\n",
       "}\n",
       "#T_94715_row5_col1 {\n",
       "  font-size: 6pt;\n",
       "  background-color: #fcfcfc;\n",
       "  color: #000000;\n",
       "}\n",
       "#T_94715_row5_col2, #T_94715_row5_col3 {\n",
       "  font-size: 6pt;\n",
       "  background-color: #f6f6f6;\n",
       "  color: #000000;\n",
       "}\n",
       "#T_94715_row5_col4, #T_94715_row7_col7 {\n",
       "  font-size: 6pt;\n",
       "  background-color: #f8f8f8;\n",
       "  color: #000000;\n",
       "}\n",
       "#T_94715_row5_col10, #T_94715_row10_col7 {\n",
       "  font-size: 6pt;\n",
       "  background-color: #e8e8e8;\n",
       "  color: #000000;\n",
       "}\n",
       "#T_94715_row5_col11 {\n",
       "  font-size: 6pt;\n",
       "  background-color: #222222;\n",
       "  color: #f1f1f1;\n",
       "}\n",
       "#T_94715_row5_col13, #T_94715_row6_col12 {\n",
       "  font-size: 6pt;\n",
       "  background-color: #090909;\n",
       "  color: #f1f1f1;\n",
       "}\n",
       "#T_94715_row5_col14 {\n",
       "  font-size: 6pt;\n",
       "  background-color: #d0d0d0;\n",
       "  color: #000000;\n",
       "}\n",
       "#T_94715_row6_col10, #T_94715_row7_col11, #T_94715_row9_col6 {\n",
       "  font-size: 6pt;\n",
       "  background-color: #060606;\n",
       "  color: #f1f1f1;\n",
       "}\n",
       "#T_94715_row6_col13 {\n",
       "  font-size: 6pt;\n",
       "  background-color: #979797;\n",
       "  color: #f1f1f1;\n",
       "}\n",
       "#T_94715_row7_col8 {\n",
       "  font-size: 6pt;\n",
       "  background-color: #b6b6b6;\n",
       "  color: #000000;\n",
       "}\n",
       "#T_94715_row7_col9 {\n",
       "  font-size: 6pt;\n",
       "  background-color: #252525;\n",
       "  color: #f1f1f1;\n",
       "}\n",
       "#T_94715_row7_col12 {\n",
       "  font-size: 6pt;\n",
       "  background-color: #999999;\n",
       "  color: #f1f1f1;\n",
       "}\n",
       "#T_94715_row8_col5 {\n",
       "  font-size: 6pt;\n",
       "  background-color: #f9f9f9;\n",
       "  color: #000000;\n",
       "}\n",
       "#T_94715_row8_col7 {\n",
       "  font-size: 6pt;\n",
       "  background-color: #101010;\n",
       "  color: #f1f1f1;\n",
       "}\n",
       "#T_94715_row8_col9, #T_94715_row9_col9 {\n",
       "  font-size: 6pt;\n",
       "  background-color: #020202;\n",
       "  color: #f1f1f1;\n",
       "}\n",
       "#T_94715_row8_col11 {\n",
       "  font-size: 6pt;\n",
       "  background-color: #545454;\n",
       "  color: #f1f1f1;\n",
       "}\n",
       "#T_94715_row8_col12 {\n",
       "  font-size: 6pt;\n",
       "  background-color: #f1f1f1;\n",
       "  color: #000000;\n",
       "}\n",
       "#T_94715_row9_col5 {\n",
       "  font-size: 6pt;\n",
       "  background-color: #f7f7f7;\n",
       "  color: #000000;\n",
       "}\n",
       "#T_94715_row9_col7 {\n",
       "  font-size: 6pt;\n",
       "  background-color: #030303;\n",
       "  color: #f1f1f1;\n",
       "}\n",
       "#T_94715_row9_col12 {\n",
       "  font-size: 6pt;\n",
       "  background-color: #181818;\n",
       "  color: #f1f1f1;\n",
       "}\n",
       "#T_94715_row9_col13 {\n",
       "  font-size: 6pt;\n",
       "  background-color: #303030;\n",
       "  color: #f1f1f1;\n",
       "}\n",
       "#T_94715_row9_col14 {\n",
       "  font-size: 6pt;\n",
       "  background-color: #a9a9a9;\n",
       "  color: #f1f1f1;\n",
       "}\n",
       "#T_94715_row9_col15 {\n",
       "  font-size: 6pt;\n",
       "  background-color: #fefefe;\n",
       "  color: #000000;\n",
       "}\n",
       "#T_94715_row10_col8, #T_94715_row10_col9 {\n",
       "  font-size: 6pt;\n",
       "  background-color: #bababa;\n",
       "  color: #000000;\n",
       "}\n",
       "#T_94715_row10_col10 {\n",
       "  font-size: 6pt;\n",
       "  background-color: #393939;\n",
       "  color: #f1f1f1;\n",
       "}\n",
       "</style>\n",
       "<table id=\"T_94715_\">\n",
       "  <thead>\n",
       "    <tr>\n",
       "      <th class=\"blank level0\" >&nbsp;</th>\n",
       "      <th class=\"col_heading level0 col0\" >0</th>\n",
       "      <th class=\"col_heading level0 col1\" >1</th>\n",
       "      <th class=\"col_heading level0 col2\" >2</th>\n",
       "      <th class=\"col_heading level0 col3\" >3</th>\n",
       "      <th class=\"col_heading level0 col4\" >4</th>\n",
       "      <th class=\"col_heading level0 col5\" >5</th>\n",
       "      <th class=\"col_heading level0 col6\" >6</th>\n",
       "      <th class=\"col_heading level0 col7\" >7</th>\n",
       "      <th class=\"col_heading level0 col8\" >8</th>\n",
       "      <th class=\"col_heading level0 col9\" >9</th>\n",
       "      <th class=\"col_heading level0 col10\" >10</th>\n",
       "      <th class=\"col_heading level0 col11\" >11</th>\n",
       "      <th class=\"col_heading level0 col12\" >12</th>\n",
       "      <th class=\"col_heading level0 col13\" >13</th>\n",
       "      <th class=\"col_heading level0 col14\" >14</th>\n",
       "      <th class=\"col_heading level0 col15\" >15</th>\n",
       "      <th class=\"col_heading level0 col16\" >16</th>\n",
       "      <th class=\"col_heading level0 col17\" >17</th>\n",
       "    </tr>\n",
       "  </thead>\n",
       "  <tbody>\n",
       "    <tr>\n",
       "      <th id=\"T_94715_level0_row0\" class=\"row_heading level0 row0\" >0</th>\n",
       "      <td id=\"T_94715_row0_col0\" class=\"data row0 col0\" >0</td>\n",
       "      <td id=\"T_94715_row0_col1\" class=\"data row0 col1\" >0</td>\n",
       "      <td id=\"T_94715_row0_col2\" class=\"data row0 col2\" >0</td>\n",
       "      <td id=\"T_94715_row0_col3\" class=\"data row0 col3\" >0</td>\n",
       "      <td id=\"T_94715_row0_col4\" class=\"data row0 col4\" >0</td>\n",
       "      <td id=\"T_94715_row0_col5\" class=\"data row0 col5\" >0</td>\n",
       "      <td id=\"T_94715_row0_col6\" class=\"data row0 col6\" >0</td>\n",
       "      <td id=\"T_94715_row0_col7\" class=\"data row0 col7\" >0</td>\n",
       "      <td id=\"T_94715_row0_col8\" class=\"data row0 col8\" >0</td>\n",
       "      <td id=\"T_94715_row0_col9\" class=\"data row0 col9\" >0</td>\n",
       "      <td id=\"T_94715_row0_col10\" class=\"data row0 col10\" >0</td>\n",
       "      <td id=\"T_94715_row0_col11\" class=\"data row0 col11\" >0</td>\n",
       "      <td id=\"T_94715_row0_col12\" class=\"data row0 col12\" >0</td>\n",
       "      <td id=\"T_94715_row0_col13\" class=\"data row0 col13\" >0</td>\n",
       "      <td id=\"T_94715_row0_col14\" class=\"data row0 col14\" >0</td>\n",
       "      <td id=\"T_94715_row0_col15\" class=\"data row0 col15\" >0</td>\n",
       "      <td id=\"T_94715_row0_col16\" class=\"data row0 col16\" >0</td>\n",
       "      <td id=\"T_94715_row0_col17\" class=\"data row0 col17\" >0</td>\n",
       "    </tr>\n",
       "    <tr>\n",
       "      <th id=\"T_94715_level0_row1\" class=\"row_heading level0 row1\" >1</th>\n",
       "      <td id=\"T_94715_row1_col0\" class=\"data row1 col0\" >0</td>\n",
       "      <td id=\"T_94715_row1_col1\" class=\"data row1 col1\" >0</td>\n",
       "      <td id=\"T_94715_row1_col2\" class=\"data row1 col2\" >0</td>\n",
       "      <td id=\"T_94715_row1_col3\" class=\"data row1 col3\" >0</td>\n",
       "      <td id=\"T_94715_row1_col4\" class=\"data row1 col4\" >0</td>\n",
       "      <td id=\"T_94715_row1_col5\" class=\"data row1 col5\" >29</td>\n",
       "      <td id=\"T_94715_row1_col6\" class=\"data row1 col6\" >150</td>\n",
       "      <td id=\"T_94715_row1_col7\" class=\"data row1 col7\" >195</td>\n",
       "      <td id=\"T_94715_row1_col8\" class=\"data row1 col8\" >254</td>\n",
       "      <td id=\"T_94715_row1_col9\" class=\"data row1 col9\" >255</td>\n",
       "      <td id=\"T_94715_row1_col10\" class=\"data row1 col10\" >254</td>\n",
       "      <td id=\"T_94715_row1_col11\" class=\"data row1 col11\" >176</td>\n",
       "      <td id=\"T_94715_row1_col12\" class=\"data row1 col12\" >193</td>\n",
       "      <td id=\"T_94715_row1_col13\" class=\"data row1 col13\" >150</td>\n",
       "      <td id=\"T_94715_row1_col14\" class=\"data row1 col14\" >96</td>\n",
       "      <td id=\"T_94715_row1_col15\" class=\"data row1 col15\" >0</td>\n",
       "      <td id=\"T_94715_row1_col16\" class=\"data row1 col16\" >0</td>\n",
       "      <td id=\"T_94715_row1_col17\" class=\"data row1 col17\" >0</td>\n",
       "    </tr>\n",
       "    <tr>\n",
       "      <th id=\"T_94715_level0_row2\" class=\"row_heading level0 row2\" >2</th>\n",
       "      <td id=\"T_94715_row2_col0\" class=\"data row2 col0\" >0</td>\n",
       "      <td id=\"T_94715_row2_col1\" class=\"data row2 col1\" >0</td>\n",
       "      <td id=\"T_94715_row2_col2\" class=\"data row2 col2\" >0</td>\n",
       "      <td id=\"T_94715_row2_col3\" class=\"data row2 col3\" >48</td>\n",
       "      <td id=\"T_94715_row2_col4\" class=\"data row2 col4\" >166</td>\n",
       "      <td id=\"T_94715_row2_col5\" class=\"data row2 col5\" >224</td>\n",
       "      <td id=\"T_94715_row2_col6\" class=\"data row2 col6\" >253</td>\n",
       "      <td id=\"T_94715_row2_col7\" class=\"data row2 col7\" >253</td>\n",
       "      <td id=\"T_94715_row2_col8\" class=\"data row2 col8\" >234</td>\n",
       "      <td id=\"T_94715_row2_col9\" class=\"data row2 col9\" >196</td>\n",
       "      <td id=\"T_94715_row2_col10\" class=\"data row2 col10\" >253</td>\n",
       "      <td id=\"T_94715_row2_col11\" class=\"data row2 col11\" >253</td>\n",
       "      <td id=\"T_94715_row2_col12\" class=\"data row2 col12\" >253</td>\n",
       "      <td id=\"T_94715_row2_col13\" class=\"data row2 col13\" >253</td>\n",
       "      <td id=\"T_94715_row2_col14\" class=\"data row2 col14\" >233</td>\n",
       "      <td id=\"T_94715_row2_col15\" class=\"data row2 col15\" >0</td>\n",
       "      <td id=\"T_94715_row2_col16\" class=\"data row2 col16\" >0</td>\n",
       "      <td id=\"T_94715_row2_col17\" class=\"data row2 col17\" >0</td>\n",
       "    </tr>\n",
       "    <tr>\n",
       "      <th id=\"T_94715_level0_row3\" class=\"row_heading level0 row3\" >3</th>\n",
       "      <td id=\"T_94715_row3_col0\" class=\"data row3 col0\" >0</td>\n",
       "      <td id=\"T_94715_row3_col1\" class=\"data row3 col1\" >93</td>\n",
       "      <td id=\"T_94715_row3_col2\" class=\"data row3 col2\" >244</td>\n",
       "      <td id=\"T_94715_row3_col3\" class=\"data row3 col3\" >249</td>\n",
       "      <td id=\"T_94715_row3_col4\" class=\"data row3 col4\" >253</td>\n",
       "      <td id=\"T_94715_row3_col5\" class=\"data row3 col5\" >187</td>\n",
       "      <td id=\"T_94715_row3_col6\" class=\"data row3 col6\" >46</td>\n",
       "      <td id=\"T_94715_row3_col7\" class=\"data row3 col7\" >10</td>\n",
       "      <td id=\"T_94715_row3_col8\" class=\"data row3 col8\" >8</td>\n",
       "      <td id=\"T_94715_row3_col9\" class=\"data row3 col9\" >4</td>\n",
       "      <td id=\"T_94715_row3_col10\" class=\"data row3 col10\" >10</td>\n",
       "      <td id=\"T_94715_row3_col11\" class=\"data row3 col11\" >194</td>\n",
       "      <td id=\"T_94715_row3_col12\" class=\"data row3 col12\" >253</td>\n",
       "      <td id=\"T_94715_row3_col13\" class=\"data row3 col13\" >253</td>\n",
       "      <td id=\"T_94715_row3_col14\" class=\"data row3 col14\" >233</td>\n",
       "      <td id=\"T_94715_row3_col15\" class=\"data row3 col15\" >0</td>\n",
       "      <td id=\"T_94715_row3_col16\" class=\"data row3 col16\" >0</td>\n",
       "      <td id=\"T_94715_row3_col17\" class=\"data row3 col17\" >0</td>\n",
       "    </tr>\n",
       "    <tr>\n",
       "      <th id=\"T_94715_level0_row4\" class=\"row_heading level0 row4\" >4</th>\n",
       "      <td id=\"T_94715_row4_col0\" class=\"data row4 col0\" >0</td>\n",
       "      <td id=\"T_94715_row4_col1\" class=\"data row4 col1\" >107</td>\n",
       "      <td id=\"T_94715_row4_col2\" class=\"data row4 col2\" >253</td>\n",
       "      <td id=\"T_94715_row4_col3\" class=\"data row4 col3\" >253</td>\n",
       "      <td id=\"T_94715_row4_col4\" class=\"data row4 col4\" >230</td>\n",
       "      <td id=\"T_94715_row4_col5\" class=\"data row4 col5\" >48</td>\n",
       "      <td id=\"T_94715_row4_col6\" class=\"data row4 col6\" >0</td>\n",
       "      <td id=\"T_94715_row4_col7\" class=\"data row4 col7\" >0</td>\n",
       "      <td id=\"T_94715_row4_col8\" class=\"data row4 col8\" >0</td>\n",
       "      <td id=\"T_94715_row4_col9\" class=\"data row4 col9\" >0</td>\n",
       "      <td id=\"T_94715_row4_col10\" class=\"data row4 col10\" >0</td>\n",
       "      <td id=\"T_94715_row4_col11\" class=\"data row4 col11\" >192</td>\n",
       "      <td id=\"T_94715_row4_col12\" class=\"data row4 col12\" >253</td>\n",
       "      <td id=\"T_94715_row4_col13\" class=\"data row4 col13\" >253</td>\n",
       "      <td id=\"T_94715_row4_col14\" class=\"data row4 col14\" >156</td>\n",
       "      <td id=\"T_94715_row4_col15\" class=\"data row4 col15\" >0</td>\n",
       "      <td id=\"T_94715_row4_col16\" class=\"data row4 col16\" >0</td>\n",
       "      <td id=\"T_94715_row4_col17\" class=\"data row4 col17\" >0</td>\n",
       "    </tr>\n",
       "    <tr>\n",
       "      <th id=\"T_94715_level0_row5\" class=\"row_heading level0 row5\" >5</th>\n",
       "      <td id=\"T_94715_row5_col0\" class=\"data row5 col0\" >0</td>\n",
       "      <td id=\"T_94715_row5_col1\" class=\"data row5 col1\" >3</td>\n",
       "      <td id=\"T_94715_row5_col2\" class=\"data row5 col2\" >20</td>\n",
       "      <td id=\"T_94715_row5_col3\" class=\"data row5 col3\" >20</td>\n",
       "      <td id=\"T_94715_row5_col4\" class=\"data row5 col4\" >15</td>\n",
       "      <td id=\"T_94715_row5_col5\" class=\"data row5 col5\" >0</td>\n",
       "      <td id=\"T_94715_row5_col6\" class=\"data row5 col6\" >0</td>\n",
       "      <td id=\"T_94715_row5_col7\" class=\"data row5 col7\" >0</td>\n",
       "      <td id=\"T_94715_row5_col8\" class=\"data row5 col8\" >0</td>\n",
       "      <td id=\"T_94715_row5_col9\" class=\"data row5 col9\" >0</td>\n",
       "      <td id=\"T_94715_row5_col10\" class=\"data row5 col10\" >43</td>\n",
       "      <td id=\"T_94715_row5_col11\" class=\"data row5 col11\" >224</td>\n",
       "      <td id=\"T_94715_row5_col12\" class=\"data row5 col12\" >253</td>\n",
       "      <td id=\"T_94715_row5_col13\" class=\"data row5 col13\" >245</td>\n",
       "      <td id=\"T_94715_row5_col14\" class=\"data row5 col14\" >74</td>\n",
       "      <td id=\"T_94715_row5_col15\" class=\"data row5 col15\" >0</td>\n",
       "      <td id=\"T_94715_row5_col16\" class=\"data row5 col16\" >0</td>\n",
       "      <td id=\"T_94715_row5_col17\" class=\"data row5 col17\" >0</td>\n",
       "    </tr>\n",
       "    <tr>\n",
       "      <th id=\"T_94715_level0_row6\" class=\"row_heading level0 row6\" >6</th>\n",
       "      <td id=\"T_94715_row6_col0\" class=\"data row6 col0\" >0</td>\n",
       "      <td id=\"T_94715_row6_col1\" class=\"data row6 col1\" >0</td>\n",
       "      <td id=\"T_94715_row6_col2\" class=\"data row6 col2\" >0</td>\n",
       "      <td id=\"T_94715_row6_col3\" class=\"data row6 col3\" >0</td>\n",
       "      <td id=\"T_94715_row6_col4\" class=\"data row6 col4\" >0</td>\n",
       "      <td id=\"T_94715_row6_col5\" class=\"data row6 col5\" >0</td>\n",
       "      <td id=\"T_94715_row6_col6\" class=\"data row6 col6\" >0</td>\n",
       "      <td id=\"T_94715_row6_col7\" class=\"data row6 col7\" >0</td>\n",
       "      <td id=\"T_94715_row6_col8\" class=\"data row6 col8\" >0</td>\n",
       "      <td id=\"T_94715_row6_col9\" class=\"data row6 col9\" >0</td>\n",
       "      <td id=\"T_94715_row6_col10\" class=\"data row6 col10\" >249</td>\n",
       "      <td id=\"T_94715_row6_col11\" class=\"data row6 col11\" >253</td>\n",
       "      <td id=\"T_94715_row6_col12\" class=\"data row6 col12\" >245</td>\n",
       "      <td id=\"T_94715_row6_col13\" class=\"data row6 col13\" >126</td>\n",
       "      <td id=\"T_94715_row6_col14\" class=\"data row6 col14\" >0</td>\n",
       "      <td id=\"T_94715_row6_col15\" class=\"data row6 col15\" >0</td>\n",
       "      <td id=\"T_94715_row6_col16\" class=\"data row6 col16\" >0</td>\n",
       "      <td id=\"T_94715_row6_col17\" class=\"data row6 col17\" >0</td>\n",
       "    </tr>\n",
       "    <tr>\n",
       "      <th id=\"T_94715_level0_row7\" class=\"row_heading level0 row7\" >7</th>\n",
       "      <td id=\"T_94715_row7_col0\" class=\"data row7 col0\" >0</td>\n",
       "      <td id=\"T_94715_row7_col1\" class=\"data row7 col1\" >0</td>\n",
       "      <td id=\"T_94715_row7_col2\" class=\"data row7 col2\" >0</td>\n",
       "      <td id=\"T_94715_row7_col3\" class=\"data row7 col3\" >0</td>\n",
       "      <td id=\"T_94715_row7_col4\" class=\"data row7 col4\" >0</td>\n",
       "      <td id=\"T_94715_row7_col5\" class=\"data row7 col5\" >0</td>\n",
       "      <td id=\"T_94715_row7_col6\" class=\"data row7 col6\" >0</td>\n",
       "      <td id=\"T_94715_row7_col7\" class=\"data row7 col7\" >14</td>\n",
       "      <td id=\"T_94715_row7_col8\" class=\"data row7 col8\" >101</td>\n",
       "      <td id=\"T_94715_row7_col9\" class=\"data row7 col9\" >223</td>\n",
       "      <td id=\"T_94715_row7_col10\" class=\"data row7 col10\" >253</td>\n",
       "      <td id=\"T_94715_row7_col11\" class=\"data row7 col11\" >248</td>\n",
       "      <td id=\"T_94715_row7_col12\" class=\"data row7 col12\" >124</td>\n",
       "      <td id=\"T_94715_row7_col13\" class=\"data row7 col13\" >0</td>\n",
       "      <td id=\"T_94715_row7_col14\" class=\"data row7 col14\" >0</td>\n",
       "      <td id=\"T_94715_row7_col15\" class=\"data row7 col15\" >0</td>\n",
       "      <td id=\"T_94715_row7_col16\" class=\"data row7 col16\" >0</td>\n",
       "      <td id=\"T_94715_row7_col17\" class=\"data row7 col17\" >0</td>\n",
       "    </tr>\n",
       "    <tr>\n",
       "      <th id=\"T_94715_level0_row8\" class=\"row_heading level0 row8\" >8</th>\n",
       "      <td id=\"T_94715_row8_col0\" class=\"data row8 col0\" >0</td>\n",
       "      <td id=\"T_94715_row8_col1\" class=\"data row8 col1\" >0</td>\n",
       "      <td id=\"T_94715_row8_col2\" class=\"data row8 col2\" >0</td>\n",
       "      <td id=\"T_94715_row8_col3\" class=\"data row8 col3\" >0</td>\n",
       "      <td id=\"T_94715_row8_col4\" class=\"data row8 col4\" >0</td>\n",
       "      <td id=\"T_94715_row8_col5\" class=\"data row8 col5\" >11</td>\n",
       "      <td id=\"T_94715_row8_col6\" class=\"data row8 col6\" >166</td>\n",
       "      <td id=\"T_94715_row8_col7\" class=\"data row8 col7\" >239</td>\n",
       "      <td id=\"T_94715_row8_col8\" class=\"data row8 col8\" >253</td>\n",
       "      <td id=\"T_94715_row8_col9\" class=\"data row8 col9\" >253</td>\n",
       "      <td id=\"T_94715_row8_col10\" class=\"data row8 col10\" >253</td>\n",
       "      <td id=\"T_94715_row8_col11\" class=\"data row8 col11\" >187</td>\n",
       "      <td id=\"T_94715_row8_col12\" class=\"data row8 col12\" >30</td>\n",
       "      <td id=\"T_94715_row8_col13\" class=\"data row8 col13\" >0</td>\n",
       "      <td id=\"T_94715_row8_col14\" class=\"data row8 col14\" >0</td>\n",
       "      <td id=\"T_94715_row8_col15\" class=\"data row8 col15\" >0</td>\n",
       "      <td id=\"T_94715_row8_col16\" class=\"data row8 col16\" >0</td>\n",
       "      <td id=\"T_94715_row8_col17\" class=\"data row8 col17\" >0</td>\n",
       "    </tr>\n",
       "    <tr>\n",
       "      <th id=\"T_94715_level0_row9\" class=\"row_heading level0 row9\" >9</th>\n",
       "      <td id=\"T_94715_row9_col0\" class=\"data row9 col0\" >0</td>\n",
       "      <td id=\"T_94715_row9_col1\" class=\"data row9 col1\" >0</td>\n",
       "      <td id=\"T_94715_row9_col2\" class=\"data row9 col2\" >0</td>\n",
       "      <td id=\"T_94715_row9_col3\" class=\"data row9 col3\" >0</td>\n",
       "      <td id=\"T_94715_row9_col4\" class=\"data row9 col4\" >0</td>\n",
       "      <td id=\"T_94715_row9_col5\" class=\"data row9 col5\" >16</td>\n",
       "      <td id=\"T_94715_row9_col6\" class=\"data row9 col6\" >248</td>\n",
       "      <td id=\"T_94715_row9_col7\" class=\"data row9 col7\" >250</td>\n",
       "      <td id=\"T_94715_row9_col8\" class=\"data row9 col8\" >253</td>\n",
       "      <td id=\"T_94715_row9_col9\" class=\"data row9 col9\" >253</td>\n",
       "      <td id=\"T_94715_row9_col10\" class=\"data row9 col10\" >253</td>\n",
       "      <td id=\"T_94715_row9_col11\" class=\"data row9 col11\" >253</td>\n",
       "      <td id=\"T_94715_row9_col12\" class=\"data row9 col12\" >232</td>\n",
       "      <td id=\"T_94715_row9_col13\" class=\"data row9 col13\" >213</td>\n",
       "      <td id=\"T_94715_row9_col14\" class=\"data row9 col14\" >111</td>\n",
       "      <td id=\"T_94715_row9_col15\" class=\"data row9 col15\" >2</td>\n",
       "      <td id=\"T_94715_row9_col16\" class=\"data row9 col16\" >0</td>\n",
       "      <td id=\"T_94715_row9_col17\" class=\"data row9 col17\" >0</td>\n",
       "    </tr>\n",
       "    <tr>\n",
       "      <th id=\"T_94715_level0_row10\" class=\"row_heading level0 row10\" >10</th>\n",
       "      <td id=\"T_94715_row10_col0\" class=\"data row10 col0\" >0</td>\n",
       "      <td id=\"T_94715_row10_col1\" class=\"data row10 col1\" >0</td>\n",
       "      <td id=\"T_94715_row10_col2\" class=\"data row10 col2\" >0</td>\n",
       "      <td id=\"T_94715_row10_col3\" class=\"data row10 col3\" >0</td>\n",
       "      <td id=\"T_94715_row10_col4\" class=\"data row10 col4\" >0</td>\n",
       "      <td id=\"T_94715_row10_col5\" class=\"data row10 col5\" >0</td>\n",
       "      <td id=\"T_94715_row10_col6\" class=\"data row10 col6\" >0</td>\n",
       "      <td id=\"T_94715_row10_col7\" class=\"data row10 col7\" >43</td>\n",
       "      <td id=\"T_94715_row10_col8\" class=\"data row10 col8\" >98</td>\n",
       "      <td id=\"T_94715_row10_col9\" class=\"data row10 col9\" >98</td>\n",
       "      <td id=\"T_94715_row10_col10\" class=\"data row10 col10\" >208</td>\n",
       "      <td id=\"T_94715_row10_col11\" class=\"data row10 col11\" >253</td>\n",
       "      <td id=\"T_94715_row10_col12\" class=\"data row10 col12\" >253</td>\n",
       "      <td id=\"T_94715_row10_col13\" class=\"data row10 col13\" >253</td>\n",
       "      <td id=\"T_94715_row10_col14\" class=\"data row10 col14\" >253</td>\n",
       "      <td id=\"T_94715_row10_col15\" class=\"data row10 col15\" >187</td>\n",
       "      <td id=\"T_94715_row10_col16\" class=\"data row10 col16\" >22</td>\n",
       "      <td id=\"T_94715_row10_col17\" class=\"data row10 col17\" >0</td>\n",
       "    </tr>\n",
       "  </tbody>\n",
       "</table>\n"
      ],
      "text/plain": [
       "<pandas.io.formats.style.Styler at 0x7fc5f3495f90>"
      ]
     },
     "execution_count": 9,
     "metadata": {},
     "output_type": "execute_result"
    }
   ],
   "source": [
    "im3_t = tensor(im3)\n",
    "df = pd.DataFrame(im3_t[4:15, 4:22])\n",
    "df.style.set_properties(**{'font-size':'6pt'}).background_gradient('Greys')"
   ]
  },
  {
   "cell_type": "markdown",
   "id": "98e425f8",
   "metadata": {},
   "source": [
    "Você pode perceber que os valores de pixels brancos são armazenados como 0, os pretos como 255 e os tons de cinza estão entre os dois. A imagem contem ao todo 28 pixels de altura e 28 pixels de largura, ou seja, 768 pixels no total, o que é muito menor do que qualquer imagem que se pode tirar a partir da câmero de um smartphone."
   ]
  },
  {
   "cell_type": "markdown",
   "id": "3279583a",
   "metadata": {},
   "source": [
    "# 3- Primeira tentativa: similaridade de pixel"
   ]
  },
  {
   "cell_type": "markdown",
   "id": "4c439b0f",
   "metadata": {},
   "source": [
    "Para solucionar o problema de classificar uma imagem como dígito 3 ou 7, inicialmente poderíamos, para cada classe de dígitos, encontrar o valor médio para cada pixel das imagens. A partir disso, tais valores constituíram os pixels de um dígito ideal. Dessa forma, a fim de classificar uma nova imagem, poderíamos identificar a similaridade com uma dessas imagens ideais. Essa abordagem certamente é melhor do que nada, o que será nossa __baseline__. "
   ]
  },
  {
   "cell_type": "markdown",
   "id": "2e1c6701",
   "metadata": {},
   "source": [
    "> Baseline é um modelo ou solução simples para determinado problema cujos resultados serão comparados a implementações futuras mais complexas e sofisticadas. Dessa forma, serve como um referencial de que as abordagens seguintes estão realmente se tornando melhores. Nesse contexto, uma boa ideia para criar uma baseline é empregar um modelo simples e fácil de implementar, como o descrito acima. Outra ideia é procurar soluções já existentes e tomá-las como baseline."
   ]
  },
  {
   "cell_type": "markdown",
   "id": "d16ff79a",
   "metadata": {},
   "source": [
    "A fim de implementar nossa ideia inicial, vamos criar dois tensores, cada um contendo todas as imagens de treinamento de cada dígito. Para criar um tensor contendo todas as imagens em um diretório, primeiramente vamos empregar a compreensão de listas do Python a fim de referenciar cada tensor individual das imagens."
   ]
  },
  {
   "cell_type": "code",
   "execution_count": 10,
   "id": "d00c9896",
   "metadata": {},
   "outputs": [
    {
     "name": "stdout",
     "output_type": "stream",
     "text": [
      "Quantidade de imagens 3: 6131\n",
      "Quantidade de imagens 7: 6265\n"
     ]
    }
   ],
   "source": [
    "three_tensors = [tensor(Image.open(_)) for _ in threes]\n",
    "seven_tensors = [tensor(Image.open(_)) for _ in sevens]\n",
    "print(f'Quantidade de imagens 3: {len(three_tensors)}') \n",
    "print(f'Quantidade de imagens 7: {len(seven_tensors)}')"
   ]
  },
  {
   "cell_type": "markdown",
   "id": "ccf1325c",
   "metadata": {},
   "source": [
    "Como pode ser visto pela saída, há 6.131 imagens para o digíto 3 no conjunto de treinamento; 6.265, para o dígito 7. A partir disso, podemos verificar uma das imagens de dígito 3 ao repassar um dos tensores para a função do fastai `show_image`"
   ]
  },
  {
   "cell_type": "code",
   "execution_count": 11,
   "id": "f8e826ac",
   "metadata": {},
   "outputs": [
    {
     "data": {
      "image/png": "[encoded data removed]",
      "text/plain": [
       "<Figure size 72x72 with 1 Axes>"
      ]
     },
     "metadata": {
      "needs_background": "light"
     },
     "output_type": "display_data"
    }
   ],
   "source": [
    "show_image(three_tensors[1]);"
   ]
  },
  {
   "cell_type": "markdown",
   "id": "0b654bd5",
   "metadata": {},
   "source": [
    "Agora, podemos combinar todas as imagens para cada lista em um tensor tridimensional (rank 3). Para tanto, nós empilhamos os tensores individuais de uma coleção em um único tensor por meio do método `stack`."
   ]
  },
  {
   "cell_type": "code",
   "execution_count": 12,
   "id": "e865e000",
   "metadata": {},
   "outputs": [],
   "source": [
    "stacked_sevens = torch.stack(seven_tensors)\n",
    "stacked_threes = torch.stack(three_tensors)"
   ]
  },
  {
   "cell_type": "markdown",
   "id": "404d968d",
   "metadata": {},
   "source": [
    "Vale ressaltar que algumas operações no PyTorch, como a média, requerem que o tipo de dado armazenado pelo tensor seja o `float`. Dessa forma, precisamos realizar o __casting__ do tensor. Além disso, será necessário dividir o tensor por 255 a fim de que os valores de intensidade os pixels estajam em um intervalo de 0 a 255 conforme o esperado."
   ]
  },
  {
   "cell_type": "code",
   "execution_count": 13,
   "id": "63b53b7b",
   "metadata": {},
   "outputs": [
    {
     "data": {
      "text/plain": [
       "torch.Size([6131, 28, 28])"
      ]
     },
     "execution_count": 13,
     "metadata": {},
     "output_type": "execute_result"
    }
   ],
   "source": [
    "stacked_sevens = stacked_sevens.float()/255\n",
    "stacked_threes = stacked_threes.float()/255\n",
    "stacked_threes.shape"
   ]
  },
  {
   "cell_type": "markdown",
   "id": "f169483a",
   "metadata": {},
   "source": [
    "Por meio do atributo `shape`, podemos verificar o comprimento de cada __eixo__ do tensor. Nesse caso, podemos concluir que temos 6.131 imagens do dígito 3, cada uma com 28 pixels de altura e de 28 pixels de largura respectivamente. Não há nada no tensor que indique que o primeio eixo é referente ao número de imagens, o segundo a altura e o terceiro a largura. A semântica de um tensor é responsabilidade nossa. "
   ]
  },
  {
   "cell_type": "markdown",
   "id": "3368597a",
   "metadata": {},
   "source": [
    "O comprimento da forma de um tensor é seu rank ou dimensão:"
   ]
  },
  {
   "cell_type": "code",
   "execution_count": 14,
   "id": "9c15f5c4",
   "metadata": {},
   "outputs": [
    {
     "data": {
      "text/plain": [
       "6131"
      ]
     },
     "execution_count": 14,
     "metadata": {},
     "output_type": "execute_result"
    }
   ],
   "source": [
    "len(stacked_threes)"
   ]
  },
  {
   "cell_type": "markdown",
   "id": "1da47784",
   "metadata": {},
   "source": [
    "O rank, ou a dimensão, de um tensor pode ser verificado também pelo atributo `ndim`."
   ]
  },
  {
   "cell_type": "code",
   "execution_count": 15,
   "id": "b0cd484d",
   "metadata": {},
   "outputs": [
    {
     "data": {
      "text/plain": [
       "3"
      ]
     },
     "execution_count": 15,
     "metadata": {},
     "output_type": "execute_result"
    }
   ],
   "source": [
    "stacked_threes.ndim"
   ]
  },
  {
   "cell_type": "markdown",
   "id": "9e5e990f",
   "metadata": {},
   "source": [
    "Vale ressaltar aqui que há uma distinção entre a dimensão do tensor e o comprimentos de seus eixos. Imagine, por exemplo, que um tensor represente um vetor que guarda as coordenadas de um ponto em um espaço tridimensional. Apesar do vetor ter três componentes, o tensor que representa tal vetor tem apenas uma dimensão, pois um vetor é um tensor de rank 1. No caso, o comprimento do eixo deste tensor é 3. "
   ]
  },
  {
   "cell_type": "markdown",
   "id": "b923d4fa",
   "metadata": {},
   "source": [
    "Finalmente, podemos computar o tensor referente ao dígito 3 ideal ao calcular a média dos valores de intensidade de pixel de todas imagens para cada posição de pixel. Para tanto, calculamos a média ao longo da dimensão 0 da pilha que representa o tensor de rank 3. Há outras dimensões possíveis que fazem referência às colunas e às linhas somente."
   ]
  },
  {
   "cell_type": "code",
   "execution_count": 16,
   "id": "9f8f369b",
   "metadata": {},
   "outputs": [],
   "source": [
    "mean3 = stacked_threes.mean(0)"
   ]
  },
  {
   "cell_type": "markdown",
   "id": "ff39064c",
   "metadata": {},
   "source": [
    "A partir disso, podemos exibir a imagem do dígito 3 ideal."
   ]
  },
  {
   "cell_type": "code",
   "execution_count": 17,
   "id": "cefab53e",
   "metadata": {},
   "outputs": [
    {
     "data": {
      "text/plain": [
       "<matplotlib.axes._subplots.AxesSubplot at 0x7fc5f2a31410>"
      ]
     },
     "execution_count": 17,
     "metadata": {},
     "output_type": "execute_result"
    },
    {
     "data": {
      "image/png": "[encoded data removed]",
      "text/plain": [
       "<Figure size 72x72 with 1 Axes>"
      ]
     },
     "metadata": {
      "needs_background": "light"
     },
     "output_type": "display_data"
    }
   ],
   "source": [
    "show_image(mean3)"
   ]
  },
  {
   "cell_type": "markdown",
   "id": "6449e118",
   "metadata": {},
   "source": [
    "Perceba que a imagem é intensa onde os pixels das 1imagens concordam, porém embaçada onde começam a distoar. Agora, vamos aplicar o mesmo procedimento para as imagens referentes ao dígito 7:"
   ]
  },
  {
   "cell_type": "code",
   "execution_count": 18,
   "id": "abf80601",
   "metadata": {},
   "outputs": [
    {
     "data": {
      "text/plain": [
       "<matplotlib.axes._subplots.AxesSubplot at 0x7fc5f29e9f50>"
      ]
     },
     "execution_count": 18,
     "metadata": {},
     "output_type": "execute_result"
    },
    {
     "data": {
      "image/png": "[encoded data removed]",
      "text/plain": [
       "<Figure size 72x72 with 1 Axes>"
      ]
     },
     "metadata": {
      "needs_background": "light"
     },
     "output_type": "display_data"
    }
   ],
   "source": [
    "mean7 = stacked_sevens.mean(0)\n",
    "show_image(mean7)"
   ]
  },
  {
   "cell_type": "markdown",
   "id": "063128e9",
   "metadata": {},
   "source": [
    "Com base nisso, a fim de determinar de qual dígito ideal uma nova imagem está mais próxima, devemos calcular a distância. Para tanto, podemos empregar __diferença média absoluta__ (também conhecida como __norma L1__) ou a __raíz quadrada do erro médio__ (também conhecido como __norma L2__). Nesse contexto, vamos definir duas funções para cada método:"
   ]
  },
  {
   "cell_type": "code",
   "execution_count": 19,
   "id": "c76dc655",
   "metadata": {},
   "outputs": [],
   "source": [
    "def erro_medio_absoluto(tensor1, tensor2):\n",
    "    return (tensor1 - tensor2).abs().mean()\n",
    "\n",
    "def raiz_quadrada_erro_medio(tensor1, tensor2):\n",
    "    return ((tensor1 - tensor2)**2).mean().sqrt()\n"
   ]
  },
  {
   "cell_type": "markdown",
   "id": "2fdafb17",
   "metadata": {},
   "source": [
    "Agora, vamos pegar alguma imagem do dígito 3."
   ]
  },
  {
   "cell_type": "code",
   "execution_count": 20,
   "id": "57d204ac",
   "metadata": {},
   "outputs": [],
   "source": [
    "im3 = stacked_threes[1]\n"
   ]
  },
  {
   "cell_type": "markdown",
   "id": "8b3b6ef2",
   "metadata": {},
   "source": [
    "Em segudida, iremos calcular as distâncias desta imagem em relação às imagens dos dígitos 3 e 7 ideais. "
   ]
  },
  {
   "cell_type": "code",
   "execution_count": 21,
   "id": "226b662b",
   "metadata": {},
   "outputs": [
    {
     "data": {
      "text/plain": [
       "(tensor(0.1114), tensor(0.3021))"
      ]
     },
     "execution_count": 21,
     "metadata": {},
     "output_type": "execute_result"
    }
   ],
   "source": [
    "mda_3 = erro_medio_absoluto(im3, mean3)\n",
    "rmse_3 = raiz_quadrada_erro_medio(im3, mean7)\n",
    "\n",
    "mda_3, rmse_3"
   ]
  },
  {
   "cell_type": "code",
   "execution_count": 22,
   "id": "111d7132",
   "metadata": {},
   "outputs": [
    {
     "data": {
      "text/plain": [
       "(tensor(0.1586), tensor(0.3021))"
      ]
     },
     "execution_count": 22,
     "metadata": {},
     "output_type": "execute_result"
    }
   ],
   "source": [
    "mda_7 = erro_medio_absoluto(im3, mean7)\n",
    "rmse_7 = raiz_quadrada_erro_medio(im3, mean7)\n",
    "\n",
    "mda_7, rmse_7"
   ]
  },
  {
   "cell_type": "markdown",
   "id": "7f57e9a3",
   "metadata": {},
   "source": [
    "Em ambos os casos, a distância entre nosso 3 e o 3 ideal é menor do que a distância em relação ao 7 ideal. Neste caso, nosso simples modelo nos dará a predição correta. O Pytorch já provê tais funções na forma de funções de custo (_loss functions_) por meio do módulo `torch.nn.functional` que pode ser acessado por meio de `F` pelo fastai."
   ]
  },
  {
   "cell_type": "code",
   "execution_count": 23,
   "id": "3ff4ab1e",
   "metadata": {},
   "outputs": [
    {
     "data": {
      "text/plain": [
       "(tensor(0.1586), tensor(0.3021))"
      ]
     },
     "execution_count": 23,
     "metadata": {},
     "output_type": "execute_result"
    }
   ],
   "source": [
    "F.l1_loss(im3.float(), mean7), F.mse_loss(im3, mean7).sqrt()"
   ]
  },
  {
   "cell_type": "markdown",
   "id": "d13da6f8",
   "metadata": {},
   "source": [
    "# 4- Arrays NumPy e tensores PyTorch"
   ]
  },
  {
   "cell_type": "markdown",
   "id": "fc9131ae",
   "metadata": {},
   "source": [
    "<a href='https://numpy.org/'> NumPy </a> é uma das bibliotecas mais utilizadas para programação científica e numérica no Python. Porém, apesar de disponibilizar diversas funcionalidades semelhantes as dos tensores, não suporta utilizar a GPU para os cálculos, nem calcula gradientes."
   ]
  },
  {
   "cell_type": "markdown",
   "id": "ec8e299c",
   "metadata": {},
   "source": [
    "Uma dúvida talvez posso surgir nesse momento: por que utilizar arrays e tensores? Porque eles são mais rápidos do que Python puro, que é uma linguagem lenta quando comparada a outras linguagens."
   ]
  },
  {
   "cell_type": "markdown",
   "id": "f04350c0",
   "metadata": {},
   "source": [
    "Um __array numpy__ é uma tabela de dados multidimensional com todos os itens do mesmo tipo. Nesse contexto, os itens podem ser outros arrays, sendo que os arrays mais internos podem ter tamanhos diferentes (_jagged array_). Se os itens são de tipos simples, como inteiros ou float, o NumPy irá armazená-los como uma estrutura de dados compacta do C na memória. Nesse contexto, NumPy possui uma grande variedade de operadores e métodos que podem executar computações nessas estruturas na mesma velocidade do C otimizado, porque elas são escritas em C."
   ]
  },
  {
   "cell_type": "markdown",
   "id": "d17235ce",
   "metadata": {},
   "source": [
    "Um tensor PyTorch é aproximadamente a memsa coisa que um array NumPy, porém com algumas restrições, por exemplo, não adimitir _jagged array_, e funcionalidade adicionais. Nesse contexto, tais estruturas podem habitar a GPU, o que acelara as computações, além de calcular automaticamente de gradientes. "
   ]
  },
  {
   "cell_type": "markdown",
   "id": "a5f8bc26",
   "metadata": {},
   "source": [
    "Agora, vamos criar um array e um tensor:"
   ]
  },
  {
   "cell_type": "code",
   "execution_count": 24,
   "id": "4348daec",
   "metadata": {},
   "outputs": [],
   "source": [
    "data = [[1,2,3],[4,5,6]]\n",
    "arr = array(data)\n",
    "tns = tensor(data)"
   ]
  },
  {
   "cell_type": "code",
   "execution_count": 25,
   "id": "9d9358aa",
   "metadata": {},
   "outputs": [
    {
     "data": {
      "text/plain": [
       "array([[1, 2, 3],\n",
       "       [4, 5, 6]])"
      ]
     },
     "execution_count": 25,
     "metadata": {},
     "output_type": "execute_result"
    }
   ],
   "source": [
    "arr"
   ]
  },
  {
   "cell_type": "code",
   "execution_count": 26,
   "id": "94e3d4c9",
   "metadata": {},
   "outputs": [
    {
     "data": {
      "text/plain": [
       "tensor([[1, 2, 3],\n",
       "        [4, 5, 6]])"
      ]
     },
     "execution_count": 26,
     "metadata": {},
     "output_type": "execute_result"
    }
   ],
   "source": [
    "tns"
   ]
  },
  {
   "cell_type": "markdown",
   "id": "3fa5a673",
   "metadata": {},
   "source": [
    "Nesse caso, as estruturas representam uma matriz. Podemos acessar o primeiro elemento, isto é, a primeira linha por meio de:"
   ]
  },
  {
   "cell_type": "code",
   "execution_count": 27,
   "id": "74b5d9f1",
   "metadata": {},
   "outputs": [
    {
     "data": {
      "text/plain": [
       "tensor([1, 2, 3])"
      ]
     },
     "execution_count": 27,
     "metadata": {},
     "output_type": "execute_result"
    }
   ],
   "source": [
    "tns[0]"
   ]
  },
  {
   "cell_type": "markdown",
   "id": "272df600",
   "metadata": {},
   "source": [
    "Além de empregar _slicing_ para percorrers tanto linhas como colunas. Abaixo, selecionamos todas as linhas da segnda coluna."
   ]
  },
  {
   "cell_type": "code",
   "execution_count": 28,
   "id": "335ffb1b",
   "metadata": {},
   "outputs": [
    {
     "data": {
      "text/plain": [
       "tensor([2, 5])"
      ]
     },
     "execution_count": 28,
     "metadata": {},
     "output_type": "execute_result"
    }
   ],
   "source": [
    "tns[:, 1]"
   ]
  },
  {
   "cell_type": "markdown",
   "id": "78798c37",
   "metadata": {},
   "source": [
    "Já no seguinte exemplo escolhemos apenas a segunda linha das segunda e terceiras colunas"
   ]
  },
  {
   "cell_type": "code",
   "execution_count": 29,
   "id": "7200abcc",
   "metadata": {},
   "outputs": [
    {
     "data": {
      "text/plain": [
       "tensor([5, 6])"
      ]
     },
     "execution_count": 29,
     "metadata": {},
     "output_type": "execute_result"
    }
   ],
   "source": [
    "tns[1, 1:3]"
   ]
  },
  {
   "cell_type": "markdown",
   "id": "913877e9",
   "metadata": {},
   "source": [
    "Além disso, é possível aplicar operações aritiméticas a todos os itens do tensor diretamente."
   ]
  },
  {
   "cell_type": "code",
   "execution_count": 30,
   "id": "27ad811d",
   "metadata": {},
   "outputs": [
    {
     "data": {
      "text/plain": [
       "tensor([[2, 3, 4],\n",
       "        [5, 6, 7]])"
      ]
     },
     "execution_count": 30,
     "metadata": {},
     "output_type": "execute_result"
    }
   ],
   "source": [
    "tns+1\n"
   ]
  },
  {
   "cell_type": "markdown",
   "id": "457a49ff",
   "metadata": {},
   "source": [
    "Vale ressaltar que os tensores possuem um tipo."
   ]
  },
  {
   "cell_type": "code",
   "execution_count": 31,
   "id": "96ca0019",
   "metadata": {},
   "outputs": [
    {
     "data": {
      "text/plain": [
       "'torch.LongTensor'"
      ]
     },
     "execution_count": 31,
     "metadata": {},
     "output_type": "execute_result"
    }
   ],
   "source": [
    "tns.type()"
   ]
  },
  {
   "cell_type": "markdown",
   "id": "a86f5a1b",
   "metadata": {},
   "source": [
    "O qual será alterado automaticamente de acordo com o contexto da operação. "
   ]
  },
  {
   "cell_type": "code",
   "execution_count": 32,
   "id": "b2babb71",
   "metadata": {},
   "outputs": [
    {
     "data": {
      "text/plain": [
       "tensor([[1.5000, 3.0000, 4.5000],\n",
       "        [6.0000, 7.5000, 9.0000]])"
      ]
     },
     "execution_count": 32,
     "metadata": {},
     "output_type": "execute_result"
    }
   ],
   "source": [
    "tns = tns*1.5\n",
    "tns"
   ]
  },
  {
   "cell_type": "code",
   "execution_count": 33,
   "id": "9f7c3bfa",
   "metadata": {},
   "outputs": [
    {
     "data": {
      "text/plain": [
       "'torch.FloatTensor'"
      ]
     },
     "execution_count": 33,
     "metadata": {},
     "output_type": "execute_result"
    }
   ],
   "source": [
    "tns.type()"
   ]
  },
  {
   "cell_type": "markdown",
   "id": "13d47869",
   "metadata": {},
   "source": [
    "# 5- Computando métricas por meio de _brodcasting_"
   ]
  },
  {
   "cell_type": "markdown",
   "id": "10182b32",
   "metadata": {},
   "source": [
    "Lembre-se que uma métrica é um número calculado com base nas predições do nosso modelo e as _labels_ corretas no nosso dataset de modo a nos dizer quão bom nosso modelo é. Apesar de podermos utilizar as funções que vimos anteriormente, como o erro médio absoluto, geralmente utilizamos a acurácia como métrica de modelos de classificação pode ser mais amigável."
   ]
  },
  {
   "cell_type": "markdown",
   "id": "552edbef",
   "metadata": {},
   "source": [
    "No exemplo da nossa _baseline_, não correremos o risco de superadpatar nosso modelo aos dados (_overffiting_), já que não há componentes treináveis. Porém, a fim de seguir as convenções, empregaremos o conjunto de validação já definido. Dessa forma, vamos criar os tensores referentes às imagens dos dígitos 3 e 7 no conjunto de validação."
   ]
  },
  {
   "cell_type": "code",
   "execution_count": 34,
   "id": "b3b41d58",
   "metadata": {},
   "outputs": [
    {
     "data": {
      "text/plain": [
       "(torch.Size([1010, 28, 28]), torch.Size([1028, 28, 28]))"
      ]
     },
     "execution_count": 34,
     "metadata": {},
     "output_type": "execute_result"
    }
   ],
   "source": [
    "valid_3_tns = torch.stack( [ tensor(Image.open(_)) for _ in (path/'valid'/'3').ls()] )\n",
    "valid_3_tns = valid_3_tns.float()/255\n",
    "\n",
    "valid_7_tns = torch.stack( [ tensor(Image.open(_)) for _ in (path/'valid'/'7').ls()] )\n",
    "valid_7_tns = valid_7_tns.float()/255\n",
    "\n",
    "valid_3_tns.shape, valid_7_tns.shape\n"
   ]
  },
  {
   "cell_type": "markdown",
   "id": "49253fdb",
   "metadata": {},
   "source": [
    "Podemos perceber pela saída acima que há 1010 imagens do 3 para validação, enquanto que há 1028 do 7. Agora, vamos começar a implementar uma forma de classificar tais imagens. Inicialmente, precisamos escrever uma função que verifica a distância entre dada imagem e a imagem ideal dos dígitos 3 e 7. Nesse caso, empregaremos o erro médio absoluto."
   ]
  },
  {
   "cell_type": "code",
   "execution_count": 35,
   "id": "8c212121",
   "metadata": {},
   "outputs": [],
   "source": [
    "def mnist_distance(a,b): \n",
    "    return (a-b).abs().mean((-1,-2))"
   ]
  },
  {
   "cell_type": "markdown",
   "id": "4db303a9",
   "metadata": {},
   "source": [
    "Algo interessante pode ocorrer aqui. As operações aplicadas entre tensores não exigem que eles tenham necessariamenta a mesma dimensão. Por exemplo, se passarmos um tensor de rank 3 contendo todas as imagens de validação de um dos dígitos e outro de rank 2 representando apenas uma imagem do dígito ideal, o resultado será um tensor contendo o resultado da operação aplicada item a item do tensor maior em relação ao menor. Dessa forma, podemos aplicar o cálcula da distância para todos os itens do conjunto de validação de uma só vez."
   ]
  },
  {
   "cell_type": "code",
   "execution_count": 36,
   "id": "d7b98361",
   "metadata": {},
   "outputs": [
    {
     "data": {
      "text/plain": [
       "(tensor([0.1512, 0.1200, 0.1621,  ..., 0.1603, 0.1364, 0.1541]),\n",
       " torch.Size([1010]))"
      ]
     },
     "execution_count": 36,
     "metadata": {},
     "output_type": "execute_result"
    }
   ],
   "source": [
    "valid_3_dist = mnist_distance(valid_3_tns, mean3)\n",
    "valid_3_dist, valid_3_dist.shape"
   ]
  },
  {
   "cell_type": "markdown",
   "id": "1a1a64d8",
   "metadata": {},
   "source": [
    "Podemos perceber pela saída acima que é retornado um tensor de rank 1 com 1010 itens, cada um sendo o resultado do cálculo de distância entre o a imagem daquela posição com a imagem do dígito ideal 3. Para tanto, o PyTorch aplica o __broadcasting__, isto é, ele expande o tensor de menor rank para ter o mesmo tamanho do de maior. Após o broadcasting, os tensores possuem o mesmo rank, então o Pytorch aplica a mesma lógica que empregaria para tensores de mesmo rank no cálculo aritimético. "
   ]
  },
  {
   "cell_type": "code",
   "execution_count": 37,
   "id": "2b7fa537",
   "metadata": {},
   "outputs": [
    {
     "data": {
      "text/plain": [
       "tensor([[2, 2, 2],\n",
       "        [2, 2, 2]])"
      ]
     },
     "execution_count": 37,
     "metadata": {},
     "output_type": "execute_result"
    }
   ],
   "source": [
    "tensor([1,1,1], [1,1,1]) + tensor([1,1,1])"
   ]
  },
  {
   "cell_type": "markdown",
   "id": "a45b985e",
   "metadata": {},
   "source": [
    "Pense como se o Pytorch fizesse 1010 cópias da imagem do 3 ideal, calculando a distância entre ela e as demais imagens de validaçãoem seguida. No início, ele simplesmente subtrai os valores de intensidade de pixel entre as imagens. Nesse momento, teríamos como resutlado um tensor de rank 3."
   ]
  },
  {
   "cell_type": "code",
   "execution_count": 38,
   "id": "afd932b6",
   "metadata": {},
   "outputs": [
    {
     "data": {
      "text/plain": [
       "torch.Size([1010, 28, 28])"
      ]
     },
     "execution_count": 38,
     "metadata": {},
     "output_type": "execute_result"
    }
   ],
   "source": [
    "(valid_3_tns - mean3).shape"
   ]
  },
  {
   "cell_type": "markdown",
   "id": "427f52a9",
   "metadata": {},
   "source": [
    "Vale ressaltar que o Pytorch não cria de fato 1010 cópias da imagem, o que demandaria a alocação de memória adicional desnecessária. Além disso, todos os cálculos são feitos em C, ou em CUDA quando utiliza a GPU, o que é dezena de milhares de vezes mais rápido do que Python puro."
   ]
  },
  {
   "cell_type": "markdown",
   "id": "8b1e11dc",
   "metadata": {},
   "source": [
    "Em seguida, é aplicado o método `abs` para o cálculo do valor absoluto. Nesse sentido, valores de pixels resultantes negativos "
   ]
  },
  {
   "cell_type": "code",
   "execution_count": 39,
   "id": "3edc8f38",
   "metadata": {},
   "outputs": [
    {
     "data": {
      "text/plain": [
       "torch.Size([1010, 28, 28])"
      ]
     },
     "execution_count": 39,
     "metadata": {},
     "output_type": "execute_result"
    }
   ],
   "source": [
    "((valid_3_tns-mean3).abs()).shape"
   ]
  },
  {
   "cell_type": "markdown",
   "id": "f11c04bf",
   "metadata": {},
   "source": [
    "Por fim, calcumos a média. Nesse caso, a tupla (-1,-2) indica ao longo de quais eixos se deseja calcular a média. Nesse sentido, -1 indica o eixo horizontal (linhas); -2, eixo vertical (colunas). Assim, a tupla indica que desejamos calcular a média para esses dois eixos. No final, teremos o tensor de rank 1 com 1010 itens.\n"
   ]
  },
  {
   "cell_type": "code",
   "execution_count": 40,
   "id": "5a592c74",
   "metadata": {},
   "outputs": [
    {
     "data": {
      "text/plain": [
       "torch.Size([1010])"
      ]
     },
     "execution_count": 40,
     "metadata": {},
     "output_type": "execute_result"
    }
   ],
   "source": [
    "((valid_3_tns-mean3).abs().mean((-1,-2))).shape"
   ]
  },
  {
   "cell_type": "markdown",
   "id": "cddaef1f",
   "metadata": {},
   "source": [
    "A partir disso, podemos definir uma função que avalia se a imagem em questão se refere ao dígito 3. Para tanto, basta avaliar se a distância entre a a imagem dada e a do 3 ideal é menor do que a do 7 ideal. Chamaremos essa função de `is_3`."
   ]
  },
  {
   "cell_type": "code",
   "execution_count": 41,
   "id": "2dbd84b4",
   "metadata": {},
   "outputs": [],
   "source": [
    "def is_3(x): return mnist_distance(x, mean3) < mnist_distance(x, mean7)"
   ]
  },
  {
   "cell_type": "markdown",
   "id": "518328e2",
   "metadata": {},
   "source": [
    "O mesmo pode ser feito para o 7:"
   ]
  },
  {
   "cell_type": "code",
   "execution_count": 42,
   "id": "0c2484de",
   "metadata": {},
   "outputs": [],
   "source": [
    "def is_7(x): return mnist_distance(x, mean7) < mnist_distance(x, mean3)"
   ]
  },
  {
   "cell_type": "markdown",
   "id": "db493437",
   "metadata": {},
   "source": [
    "A partir disso podemso aplicar para os dos conjuntos de validação"
   ]
  },
  {
   "cell_type": "code",
   "execution_count": 43,
   "id": "d2fb0b42",
   "metadata": {},
   "outputs": [
    {
     "data": {
      "text/plain": [
       "tensor([False,  True,  True,  ..., False,  True,  True])"
      ]
     },
     "execution_count": 43,
     "metadata": {},
     "output_type": "execute_result"
    }
   ],
   "source": [
    "valid_3s = is_3(valid_3_tns)\n",
    "valid_7s = is_7(valid_7_tns)\n",
    "valid_3s\n"
   ]
  },
  {
   "cell_type": "markdown",
   "id": "84792f8f",
   "metadata": {},
   "source": [
    "Podemos perceber que nos é retornado um tensor de booleanos. A fim de calculcar a acurácia, isto é, a média dos acertos. Podemos converter o tipo do tensor para o float. "
   ]
  },
  {
   "cell_type": "code",
   "execution_count": 44,
   "id": "cc0fd453",
   "metadata": {},
   "outputs": [
    {
     "data": {
      "text/plain": [
       "(tensor(0.9168), tensor(0.9854), tensor(0.9511))"
      ]
     },
     "execution_count": 44,
     "metadata": {},
     "output_type": "execute_result"
    }
   ],
   "source": [
    "accuracy_3s =  valid_3s.float().mean()\n",
    "accuracy_7s =  valid_7s.float().mean()\n",
    "accuracy_3s, accuracy_7s, (accuracy_3s+accuracy_7s)/2 "
   ]
  },
  {
   "cell_type": "markdown",
   "id": "6e10f740",
   "metadata": {},
   "source": [
    "Percebemos que a acurácia média da nossa baseline é muito boa, sendo maior do que 90%. Porém, sejamos honestos. Os dígitos 3 e 7 são muito diferentes. Além disso, estamos classificando apenas duas dentre dez possibilidades. Para fazermos melhor que isso, devemos acrescentar um pouco mais de aprendizagem."
   ]
  },
  {
   "cell_type": "markdown",
   "id": "5a850caa",
   "metadata": {},
   "source": [
    "# 6- Gradiente estocástico descendente"
   ]
  },
  {
   "cell_type": "markdown",
   "id": "a1f025b6",
   "metadata": {},
   "source": [
    "Atualmente, não somos capazes melhorar nossa abordagem de similaridade de pixel ao ajusta um conjunto de parâmetros. Para ter as vantagens do poder do deep learning, nós primeiro temos que representar nossa tarefa na forma como Arthur Samuel descreveu, isto é, atrubuir pesos ao modelo, bem como testar a eficácia da atribuição atual de pesos. "
   ]
  },
  {
   "cell_type": "markdown",
   "id": "e1d994b6",
   "metadata": {},
   "source": [
    "Em vez tentar encontrar a similaridade entre uma imagem e uma imagem iseal, poderíamos olhar para cada pixel individual e atribuir um peso. Assim, pesos maiores poderiam estar associados com pixels mais prováveis de serem intensos para uma determinada categoria. Por exemplo, pixels na metade direita da imagem não são muito prováveis de serem ativados para um 7, possuindo, pois, valores de peso baixos. No entanto, o mesmo não ocorre provavelmente para um 8. Dessa forma, poderíamos implementar uma função que recebe como parâmetros a imagem representada por um longo vetor de pixels, bem como o vetor de pesos para cada pixel, de modo a reconhecer o dígito 8."
   ]
  },
  {
   "cell_type": "code",
   "execution_count": 45,
   "id": "8add95e8",
   "metadata": {},
   "outputs": [],
   "source": [
    "def pr_eight(x, w): (x*w).sum()"
   ]
  },
  {
   "cell_type": "markdown",
   "id": "3c5b6cfa",
   "metadata": {},
   "source": [
    "Agora, precisamos de um modo para atualizar os pesos a fim de torná-los melhores. Dessa forma, podemos repetir esse passo quantas vezes quisermos, tornando os pesos melhores e melhores até serem tão bons quanto quisermos de sorte que a função retorne valores altos para imagens do dígito 8; menores, para aquelas diferentes. Pra tanto, podemos empregar os seguintes passos:"
   ]
  },
  {
   "cell_type": "markdown",
   "id": "91dec3e9",
   "metadata": {},
   "source": [
    "<blockquote>\n",
    "\n",
    "<ol>\n",
    "    <li>Inicializar os pesos</li>\n",
    "    <li>Para cada imagem, utilize os pesos para predizer se a imagem se parece com o dígito em questão.</li>\n",
    "    <li> Com base nas predições, calcular quão o modelo é, isto é, sua loss </li>\n",
    "    <li> Calcular o gradiente, que mede como a mudança de cada peso mudaria a loss </li>\n",
    "    <li> Mude todos os pesos a partir desse cálculo (step) </li>\n",
    "    <li> Volte para o segundo passo e repita o processo </li>\n",
    "    <li> Itere até decidir parar o processo de treinamento </li>\n",
    "</ol>\n",
    "\n",
    "</blockquote>"
   ]
  },
  {
   "cell_type": "markdown",
   "id": "374c8876",
   "metadata": {},
   "source": [
    "Os sete passos descritos acima sào a chave para o treinamento de todos os modelos de deep learning. Há diversas formas de realizar cada passo, esses são os detalhes que fazem muita diferença para os praticantes de deep learning. Porém, podemos definir alguns princípios básicos para determinados passos:"
   ]
  },
  {
   "cell_type": "markdown",
   "id": "8eaef759",
   "metadata": {},
   "source": [
    "<blockquote>\n",
    "<dl>\n",
    "<dt> Inicialização: </dt>\n",
    "<dd>Inicialize os parâmetros com valores aleatórios </dd>\n",
    "\n",
    "<dt> Loss: </dt>\n",
    "<dd> Aplique uma função para avaliar a performance atual do modelo (loss). Por convenção, essa função deve retorar um valor alto, se a performance for ruim; baixo, de for boa </dd>\n",
    "\n",
    "<dt> Step: </dt>\n",
    "<dd> Calcule o gradiente, o qual, por meio de conceitos do Cálculo, descobre em qual direção e por quanto se deve mudar o valor de cada peso. Em seguida, atualize os valores dos pesos. </dd>\n",
    "\n",
    "<dt> Parada: </dt>\n",
    "<dd> Adore um critério de parada, por exemplo, o momento a partir do qual a acurácia fica cada vez pior ou um número fixo de épocas ou um limite de tempo de execução. </dd>\n",
    "\n",
    "</dl>\n",
    "\n",
    "</blockquote>"
   ]
  },
  {
   "cell_type": "markdown",
   "id": "68e61bc1",
   "metadata": {},
   "source": [
    "Antes de aplicarnos esses passos para nosso problema de classificação de imagem, vamos ilustrá-los em um simples caso. Para tanto, vamos considerar que nossa função de custo seja muito simples como quadrática. Assim, a função f(x)= x<sup>2</sup> será nossa função de custo; x, nosso parâmetro.  "
   ]
  },
  {
   "cell_type": "code",
   "execution_count": 46,
   "id": "3d6831f8",
   "metadata": {},
   "outputs": [],
   "source": [
    "def f(x): return x**2"
   ]
  },
  {
   "cell_type": "markdown",
   "id": "314e0585",
   "metadata": {},
   "source": [
    "Abaixo, podemos ver o gráfico da função."
   ]
  },
  {
   "cell_type": "code",
   "execution_count": 47,
   "id": "e9764777",
   "metadata": {
    "scrolled": true
   },
   "outputs": [
    {
     "data": {
      "image/png": "[encoded data removed]",
      "text/plain": [
       "<Figure size 432x288 with 1 Axes>"
      ]
     },
     "metadata": {
      "needs_background": "light"
     },
     "output_type": "display_data"
    }
   ],
   "source": [
    "plot_function(f, 'x', 'x**2')"
   ]
  },
  {
   "cell_type": "markdown",
   "id": "de43cfc7",
   "metadata": {},
   "source": [
    "A partir disso, iniciamos nosso parâmetro com um valor aleatório. Nesse caso, vamos supor que o valor escolhido seja -1.5. Com isso, nossa função retornará 2.25."
   ]
  },
  {
   "cell_type": "code",
   "execution_count": 48,
   "id": "21d9ca33",
   "metadata": {},
   "outputs": [
    {
     "data": {
      "image/png": "[encoded data removed]",
      "text/plain": [
       "<Figure size 432x288 with 1 Axes>"
      ]
     },
     "metadata": {
      "needs_background": "light"
     },
     "output_type": "display_data"
    }
   ],
   "source": [
    "plot_function(f, 'x', 'x**2')\n",
    "plt.scatter(-1.5, f(-1.5), color='red');"
   ]
  },
  {
   "cell_type": "markdown",
   "id": "b599c20d",
   "metadata": {},
   "source": [
    "Agora, precisamos saber em qual direção seguir de modo a reduzir o valor da função. Para tanto, podemos analisar a inclinação da reta (laranja) tangente ao gráfico no ponto inicial, ou seja, a derivada neste ponto. Então, percebemos que devemos ajustar o valor do parâmetro na direção da seta vermelha para reduzirmos o valor da função."
   ]
  },
  {
   "cell_type": "code",
   "execution_count": 49,
   "id": "21f2b9cb",
   "metadata": {},
   "outputs": [
    {
     "data": {
      "text/plain": [
       "[(0, 4), Text(0, 0.5, 'x**2'), (-2.5, 2.5), Text(0.5, 0, 'x')]"
      ]
     },
     "execution_count": 49,
     "metadata": {},
     "output_type": "execute_result"
    },
    {
     "data": {
      "image/png": "[encoded data removed]",
      "text/plain": [
       "<Figure size 432x288 with 1 Axes>"
      ]
     },
     "metadata": {
      "needs_background": "light"
     },
     "output_type": "display_data"
    }
   ],
   "source": [
    "import numpy as np\n",
    "import matplotlib.pyplot as plt\n",
    "\n",
    "\n",
    "fig, ax = plt.subplots()\n",
    "\n",
    "x = np.linspace(-2.0, 2.0)\n",
    "y = f(x)\n",
    "\n",
    "x0 = -1.5\n",
    "\n",
    "#CURVAS\n",
    "ax.plot(x, y)\n",
    "ax.plot(x, -3*(x)-2.25)\n",
    "#PONTO\n",
    "ax.scatter(x0, f(x0), color='red')\n",
    "#LINHAS TRACEJADAS\n",
    "plt.vlines(x0, 0, f(x0), linestyle=\"dashed\")\n",
    "plt.hlines(f(x0), -2.5, x0, linestyle=\"dashed\")\n",
    "#FLECHA\n",
    "ax.arrow(x0, f(x0),  abs(x0 - (-1)), -(f(x0)-(-3*(-1) -2.25)), width=.02, color='red')\n",
    "#CONFIG\n",
    "ax.set(xlabel='x', ylabel='x**2', ylim=(0,4), xlim=(-2.5, 2.5))\n"
   ]
  },
  {
   "cell_type": "markdown",
   "id": "ebd956a7",
   "metadata": {},
   "source": [
    "Podemos repetir esse procedimento novamente, calculando o valor da loss para o novo valor de parâmetro e ajustando-o em seguida, até chegar no menor ponto da nossa curva."
   ]
  },
  {
   "cell_type": "code",
   "execution_count": 50,
   "id": "bd95d9a4",
   "metadata": {},
   "outputs": [
    {
     "data": {
      "text/plain": [
       "[(0, 4), Text(0, 0.5, 'x**2'), (-2.5, 2.5), Text(0.5, 0, 'x')]"
      ]
     },
     "execution_count": 50,
     "metadata": {},
     "output_type": "execute_result"
    },
    {
     "data": {
      "image/png": "[encoded data removed]",
      "text/plain": [
       "<Figure size 432x288 with 1 Axes>"
      ]
     },
     "metadata": {
      "needs_background": "light"
     },
     "output_type": "display_data"
    }
   ],
   "source": [
    "import numpy as np\n",
    "import matplotlib.pyplot as plt\n",
    "\n",
    "\n",
    "fig, ax = plt.subplots()\n",
    "\n",
    "x = np.linspace(-2.0, 2.0)\n",
    "y = f(x)\n",
    "\n",
    "x0 = -1.5\n",
    "x1 = -0.75\n",
    "x2 = -0.25\n",
    "\n",
    "#CURVAS\n",
    "ax.plot(x, y)\n",
    "\n",
    "#PONTOS\n",
    "ax.scatter(x0, f(x0), color='red')\n",
    "ax.scatter(x1, f(x1), color='red')\n",
    "ax.scatter(x2, f(x2), color='red')\n",
    "\n",
    "#LINHAS\n",
    "plt.vlines(x1, f(x0), f(x1), linestyle=\"dashed\", color='red')\n",
    "plt.vlines(x2, f(x1), f(x2), linestyle=\"dashed\", color='red')\n",
    "plt.vlines(0, f(x2), 0, linestyle=\"dashed\", color='red')\n",
    "#FLECHAS\n",
    "ax.arrow(x0, f(x0),  abs(x0 - (x1)), 0, width=.01, color='red')\n",
    "ax.arrow(x1, f(x1),  abs(x1 - (x2)), 0, width=.01, color='red')\n",
    "ax.arrow(x2, f(x2),  abs(x2 - 0), 0, width=.01, color='red')\n",
    "\n",
    "#CONFIG\n",
    "ax.set(xlabel='x', ylabel='x**2', ylim=(0,4), xlim=(-2.5, 2.5))\n",
    "\n"
   ]
  },
  {
   "cell_type": "markdown",
   "id": "964cc44e",
   "metadata": {},
   "source": [
    "Por meio desse método, conseguimos otimizar qualquer função arbitrária. Não importa quão complicada seja nossa função, a abordagem básica do gradiente descendente não mudará tanto. As menores mudanças estarão em como torná-lo mais rápido ao encontrar passos melhores."
   ]
  },
  {
   "cell_type": "markdown",
   "id": "09121887",
   "metadata": {},
   "source": [
    "## 6.1 - Calculando gradientes"
   ]
  },
  {
   "cell_type": "markdown",
   "id": "4d65d343",
   "metadata": {},
   "source": [
    "Como visto anteriormente, o gradiente diz quanto devemos mudar cada parâmetro do modelo de modo a torná-lo melhor. Para tanto, é empregado a derivada da função de custo, que nos informa a variação da função em determinado ponto. Quando nós sabemos como nossa função varia, sabemos o que é necessário para torná-la menor. Isso é o ponto chave para o machine learning: ter uma método para mudar parâmetros de uma função a fim de torná-la menor. Nesse contexto, o PyTorch possui a funcionalidade muito interessante de calcular gradientes automaticamente."
   ]
  },
  {
   "cell_type": "code",
   "execution_count": 51,
   "id": "3bd63c4b",
   "metadata": {},
   "outputs": [],
   "source": [
    "xt = tensor(3.).requires_grad_()"
   ]
  },
  {
   "cell_type": "markdown",
   "id": "1e5dd323",
   "metadata": {},
   "source": [
    "Por meio do método `requires_grad_()`, especificamos que desejamos calcular gradientes futuros em relação ao valor da variável especificado, nesse caso, 3. A partir disso, podemos calcular o valor da nossa função no ponto desejado."
   ]
  },
  {
   "cell_type": "code",
   "execution_count": 52,
   "id": "48860ef6",
   "metadata": {},
   "outputs": [
    {
     "data": {
      "text/plain": [
       "tensor(9., grad_fn=<PowBackward0>)"
      ]
     },
     "execution_count": 52,
     "metadata": {},
     "output_type": "execute_result"
    }
   ],
   "source": [
    "yt = f(xt)\n",
    "yt"
   ]
  },
  {
   "cell_type": "markdown",
   "id": "7e69830a",
   "metadata": {},
   "source": [
    "Perceba que ao imprimirmos, além da imagem da função no ponto 3, é informado também qual função será empregada para o cálculo do gradiente. Com base nisso, podemos calcular o gradiente para função no ponto repassado."
   ]
  },
  {
   "cell_type": "code",
   "execution_count": 53,
   "id": "ecfdbc04",
   "metadata": {},
   "outputs": [],
   "source": [
    "yt.backward()"
   ]
  },
  {
   "cell_type": "markdown",
   "id": "a726c5b3",
   "metadata": {},
   "source": [
    "O método `backward` se refere a __backpropagation__, que é o nome do processo de calcular a derivadada para cada camada do modelo. Essa etapa geralmente é chamada __backward pass__, em oposição ao __forward pass__, quando as ativações são calculadas. Agora, podemos verificar o valor do gradiente para o ponto dado."
   ]
  },
  {
   "cell_type": "code",
   "execution_count": 54,
   "id": "cac7b911",
   "metadata": {},
   "outputs": [
    {
     "data": {
      "text/plain": [
       "tensor(6.)"
      ]
     },
     "execution_count": 54,
     "metadata": {},
     "output_type": "execute_result"
    }
   ],
   "source": [
    "xt.grad"
   ]
  },
  {
   "cell_type": "markdown",
   "id": "03e82725",
   "metadata": {},
   "source": [
    "O valor 6 se deve ao fato de que a derivada da função no ponto dado é 6. Lembre-se que a derivada de f(x) = x<sup>2</sup> é f<sup>'</sup>(x) = 2x. Nesse sentindo, para o ponto dado, f<sup>'</sup>(3) = 6. Agora, iremos repetir o processo, porém com um vetor como argumento para nossa função."
   ]
  },
  {
   "cell_type": "code",
   "execution_count": 55,
   "id": "b2ed62f6",
   "metadata": {},
   "outputs": [
    {
     "data": {
      "text/plain": [
       "tensor([ 3.,  4., 10.], requires_grad=True)"
      ]
     },
     "execution_count": 55,
     "metadata": {},
     "output_type": "execute_result"
    }
   ],
   "source": [
    "xt = tensor([3.,4.,10.]).requires_grad_()\n",
    "xt"
   ]
  },
  {
   "cell_type": "markdown",
   "id": "7770c93d",
   "metadata": {},
   "source": [
    "Além disso, iremos acrescentar o método `sum` a nossa função original de sorte que ela possa receber um tensor de rank 1 e retornar um escalar, isto é, um tensor de rank 0, que representaria a loss do modelo para os parâmetros repassados no vetor."
   ]
  },
  {
   "cell_type": "code",
   "execution_count": 56,
   "id": "7f71ba72",
   "metadata": {},
   "outputs": [],
   "source": [
    "def f(x): return (x**2).sum()\n"
   ]
  },
  {
   "cell_type": "code",
   "execution_count": 57,
   "id": "4aea98d0",
   "metadata": {},
   "outputs": [
    {
     "data": {
      "text/plain": [
       "tensor(125., grad_fn=<SumBackward0>)"
      ]
     },
     "execution_count": 57,
     "metadata": {},
     "output_type": "execute_result"
    }
   ],
   "source": [
    "yt = f(xt)\n",
    "yt"
   ]
  },
  {
   "cell_type": "markdown",
   "id": "b64acd2d",
   "metadata": {},
   "source": [
    "Agora, podemos calcular o gradiente para cada ponto especificado."
   ]
  },
  {
   "cell_type": "code",
   "execution_count": 58,
   "id": "79b6acfa",
   "metadata": {},
   "outputs": [
    {
     "data": {
      "text/plain": [
       "tensor([ 6.,  8., 20.])"
      ]
     },
     "execution_count": 58,
     "metadata": {},
     "output_type": "execute_result"
    }
   ],
   "source": [
    "yt.backward()\n",
    "xt.grad"
   ]
  },
  {
   "cell_type": "markdown",
   "id": "f5ccc1d5",
   "metadata": {},
   "source": [
    "Percebemos que para os pontos dados, os valores do gradiente são 6, 8 e 20 respectivamente, ou seja, o valor da derivida da função nesses pontos."
   ]
  },
  {
   "cell_type": "markdown",
   "id": "4589d210",
   "metadata": {},
   "source": [
    "Vale ressaltar que os valores do gradiente apenas nos indicam a inclinação da função nos pontos especificados. Eles não expressam exatamente quanto ajustar os parâmetros. Porém, temos alguma ideia a partir deles. Se a inclinação é muito grande, significa que temos mais ajustes para fazer, enquanto que se for muito pequena, possivelmente estamos perto de um valor ótimo."
   ]
  },
  {
   "cell_type": "markdown",
   "id": "6b69a952",
   "metadata": {},
   "source": [
    "## 6.2 - Stepping com a taxa de aprendizagem"
   ]
  },
  {
   "cell_type": "markdown",
   "id": "06871cb9",
   "metadata": {},
   "source": [
    "Decidir como mudar nossos parâmetros baseando-se nos valores do gradiente é uma importante parte do processo de deep learning. Quase todas as abordagens partem da mesma ideia básica de multiplicar o gradiente por um valor pequeno, denominado taxa de aprendizagem ou _learning rate_ do inglês.  Gearalmente, seleciona-se um valor entre 0.001 e 0.1, embora possa ser qualquer valor. A partir do momento que a taxa de aprendizagem for escolhida, podemos aplicar a seguinte função para atualizar nossos parâmetros:"
   ]
  },
  {
   "cell_type": "code",
   "execution_count": 59,
   "id": "96ff5aee",
   "metadata": {},
   "outputs": [],
   "source": [
    "def update(w, lr): return w - w.grad * lr"
   ]
  },
  {
   "cell_type": "markdown",
   "id": "236ac349",
   "metadata": {},
   "source": [
    "Aqui, algumas considerações sobre o valor escolhido para a taxa de aprendizagem devem ser feitas. Por exemplo, caso seja muito pequeno, talvez muitos _steps_ sejam necessários, como ilutra o gráfico abaixo."
   ]
  },
  {
   "cell_type": "code",
   "execution_count": 60,
   "id": "c0e1ba5d",
   "metadata": {},
   "outputs": [
    {
     "data": {
      "text/plain": [
       "[(0, 4), Text(0, 0.5, 'x**2'), (-2.5, 2.5), Text(0.5, 0, 'x')]"
      ]
     },
     "execution_count": 60,
     "metadata": {},
     "output_type": "execute_result"
    },
    {
     "data": {
      "image/png": "[encoded data removed]",
      "text/plain": [
       "<Figure size 432x288 with 1 Axes>"
      ]
     },
     "metadata": {
      "needs_background": "light"
     },
     "output_type": "display_data"
    }
   ],
   "source": [
    "import numpy as np\n",
    "import matplotlib.pyplot as plt\n",
    "\n",
    "def quad(x): return x**2\n",
    "\n",
    "fig, ax = plt.subplots()\n",
    "\n",
    "x = np.linspace(-2.0, 2.0)\n",
    "y = x**2\n",
    "\n",
    "x0 = -1.5\n",
    "x1 = -1.25\n",
    "x2 = -1.0\n",
    "x3 = -0.75\n",
    "x4 = -0.5\n",
    "x5 = -0.25\n",
    "\n",
    "#CURVAS\n",
    "ax.plot(x, y)\n",
    "\n",
    "#PONTOS\n",
    "ax.scatter(x0, quad(x0), color='red')\n",
    "ax.scatter(x1, quad(x1), color='red')\n",
    "ax.scatter(x2, quad(x2), color='red')\n",
    "ax.scatter(x3, quad(x3), color='red')\n",
    "ax.scatter(x4, quad(x4), color='red')\n",
    "ax.scatter(x5, quad(x5), color='red')\n",
    "\n",
    "\n",
    "#LINHAS\n",
    "plt.vlines(x1, quad(x0), quad(x1), linestyle=\"dashed\", color='red')\n",
    "plt.vlines(x2, quad(x1), quad(x2), linestyle=\"dashed\", color='red')\n",
    "plt.vlines(x3, quad(x2), quad(x3), linestyle=\"dashed\", color='red')\n",
    "plt.vlines(x4, quad(x3), quad(x4), linestyle=\"dashed\", color='red')\n",
    "plt.vlines(x5, quad(x4), quad(x5), linestyle=\"dashed\", color='red')\n",
    "\n",
    "#FLECHAS\n",
    "ax.arrow(x0, quad(x0),  abs(x0 - x1), 0, width=.01, color='red')\n",
    "ax.arrow(x1, quad(x1),  abs(x1 - x2), 0, width=.01, color='red')\n",
    "ax.arrow(x2, quad(x2),  abs(x2 - x3), 0, width=.01, color='red')\n",
    "ax.arrow(x3, quad(x3),  abs(x3 - x4), 0, width=.01, color='red')\n",
    "ax.arrow(x4, quad(x4),  abs(x4 - x5), 0, width=.01, color='red')\n",
    "\n",
    "#CONFIG\n",
    "ax.set(xlabel='x', ylabel='x**2', ylim=(0,4), xlim=(-2.5, 2.5))\n"
   ]
  },
  {
   "cell_type": "markdown",
   "id": "af66465c",
   "metadata": {},
   "source": [
    "Porém, se for muito alto, o resultado pode ser ainda pior, com o valor da loss se tornando cada vez maior, como é ilustrado no gráfico abaixo."
   ]
  },
  {
   "cell_type": "code",
   "execution_count": 61,
   "id": "db5217d5",
   "metadata": {},
   "outputs": [
    {
     "data": {
      "text/plain": [
       "[(0, 4), Text(0, 0.5, 'x**2'), (-2.5, 2.5), Text(0.5, 0, 'x')]"
      ]
     },
     "execution_count": 61,
     "metadata": {},
     "output_type": "execute_result"
    },
    {
     "data": {
      "image/png": "[encoded data removed]",
      "text/plain": [
       "<Figure size 432x288 with 1 Axes>"
      ]
     },
     "metadata": {
      "needs_background": "light"
     },
     "output_type": "display_data"
    }
   ],
   "source": [
    "import numpy as np\n",
    "import matplotlib.pyplot as plt\n",
    "\n",
    "def quad(x): return x**2\n",
    "\n",
    "fig, ax = plt.subplots()\n",
    "\n",
    "x = np.linspace(-2.0, 2.0)\n",
    "y = x**2\n",
    "\n",
    "x0 = -0.5\n",
    "x1 = 0.8\n",
    "x2 = -1.0\n",
    "x3 = 1.2\n",
    "x4 = -1.6\n",
    "x5 = 1.8\n",
    "\n",
    "#CURVAS\n",
    "ax.plot(x, y)\n",
    "\n",
    "#PONTOS\n",
    "ax.scatter(x0, quad(x0), color='red')\n",
    "ax.scatter(x1, quad(x1), color='red')\n",
    "ax.scatter(x2, quad(x2), color='red')\n",
    "ax.scatter(x3, quad(x3), color='red')\n",
    "ax.scatter(x4, quad(x4), color='red')\n",
    "ax.scatter(x5, quad(x5), color='red')\n",
    "\n",
    "\n",
    "#LINHAS\n",
    "plt.vlines(x1, quad(x0), quad(x1), linestyle=\"dashed\", color='red')\n",
    "plt.vlines(x2, quad(x1), quad(x2), linestyle=\"dashed\", color='red')\n",
    "plt.vlines(x3, quad(x2), quad(x3), linestyle=\"dashed\", color='red')\n",
    "plt.vlines(x4, quad(x3), quad(x4), linestyle=\"dashed\", color='red')\n",
    "plt.vlines(x5, quad(x4), quad(x5), linestyle=\"dashed\", color='red')\n",
    "\n",
    "#FLECHAS\n",
    "ax.arrow(x0, quad(x0),  abs(x0 - x1), 0, width=.02, color='red')\n",
    "ax.arrow(x1, quad(x1),  -abs(x1 - x2), 0, width=.02, color='red')\n",
    "ax.arrow(x2, quad(x2),  abs(x2 - x3), 0, width=.02, color='red')\n",
    "ax.arrow(x3, quad(x3),  -abs(x3 - x4), 0, width=.02, color='red')\n",
    "ax.arrow(x4, quad(x4),  abs(x4 - x5), 0, width=.02, color='red')\n",
    "\n",
    "\n",
    "#CONFIG\n",
    "ax.set(xlabel='x', ylabel='x**2', ylim=(0,4), xlim=(-2.5, 2.5))"
   ]
  },
  {
   "cell_type": "markdown",
   "id": "d73cb554",
   "metadata": {},
   "source": [
    "Além disso, em vez de divergir, ela pode oscilar. Como resultado, o treinamento exige mais _steps_."
   ]
  },
  {
   "cell_type": "markdown",
   "id": "c04d69d9",
   "metadata": {},
   "source": [
    "## 6.3 - Um exemplo fim-a-fim do gradiente descendente"
   ]
  },
  {
   "cell_type": "markdown",
   "id": "99514819",
   "metadata": {},
   "source": [
    "Imagine que você está medindo a velocidade de um carrinho a partir de uma das colinas de uma montanha russa. Ele começaria rápido ao descer a colina, então ficaria mais lento a medida que sobe novamente até chegar ao topo com velocidade mínima, acelerando em seguida ao descer. Nesse contexto, você quer criar um modelo de como a velocidade varia com o passar do tempo. Se você estivesse medindo a velocidade manualmente a cada segundo durante 20 segundos, você poderia acabar encontrando um resultado como o seguinte:"
   ]
  },
  {
   "cell_type": "code",
   "execution_count": 62,
   "id": "3b0b92ea",
   "metadata": {},
   "outputs": [
    {
     "data": {
      "text/plain": [
       "<matplotlib.collections.PathCollection at 0x7fc5f1e1ccd0>"
      ]
     },
     "execution_count": 62,
     "metadata": {},
     "output_type": "execute_result"
    },
    {
     "data": {
      "image/png": "[encoded data removed]",
      "text/plain": [
       "<Figure size 432x288 with 1 Axes>"
      ]
     },
     "metadata": {
      "needs_background": "light"
     },
     "output_type": "display_data"
    }
   ],
   "source": [
    "time = torch.arange(0, 20).float()\n",
    "speed = torch.rand(20)*3 + 0.75*(time-9.5)**2 + 1\n",
    "plt.scatter(time, speed)"
   ]
  },
  {
   "cell_type": "markdown",
   "id": "14b6e640",
   "metadata": {},
   "source": [
    "Acrescentamos um pouco de ruído aleatório, já que medir coisas manualmente não é preciso. Isso significa que não é tão fácil responder a questão: qual foi a velocidade do carrinho na montanha russa? Utilizando o SGD, nós podemos tentar encontrtar uma função que se encaixe com nossas observações. Porém, nós não conseguimos considerar todas as funções possíveis. Dessa forma, vamos utilizar um palpite de que ela seja quadrática, ou seja, na forma de f(t) = a.t<sup>2</sup> + b.t + c."
   ]
  },
  {
   "cell_type": "markdown",
   "id": "ed646ad3",
   "metadata": {},
   "source": [
    "Para tanto, vamos implementar uma função cujos argumentos sejam a variável t que estamos medindo, no caso o tempo, e os parâmetros da função quadrática, no caso os coeficientes a,b e c, que distiguem a função quadrática."
   ]
  },
  {
   "cell_type": "code",
   "execution_count": 63,
   "id": "48430cf8",
   "metadata": {},
   "outputs": [],
   "source": [
    "def f(t, params):\n",
    "    a, b, c = params\n",
    "    return a*(t**2) + (b*t) + c"
   ]
  },
  {
   "cell_type": "markdown",
   "id": "69cbfb99",
   "metadata": {},
   "source": [
    "Em outras palavras, nós restringimos o problema de encontrar a melhor função imaginável que ajuste os dados para encontrar a melhor função quadrática. Isso simplifica o problema enormemente, já que toda função quadrática é completamente definida pelos três parâmetros a, b e c. Dessa forma, para encontrar a melhor função quadrática, nós precisamos encontrar apenas os melhores valores para a, b e c."
   ]
  },
  {
   "cell_type": "markdown",
   "id": "11b49e22",
   "metadata": {},
   "source": [
    "Se nós podemos resolver esse problema para os três parâmetros de uma função quadrática, nós seremos capazes de aplicar a mesma abordagem para qualquer outra função mais complexa, como uma rede neural. Inicialmente, vamos encontrar os parâmetros para a função f, então nós retornaremos e faremos a mesma coisa para o dataset MNIST com uma rede neural."
   ]
  },
  {
   "cell_type": "markdown",
   "id": "b4c3b4da",
   "metadata": {},
   "source": [
    "Nós precisamos definir primeiramente o que significa o melhor. Para tanto, definimos isso precisamente ao escolher uma função de custo (_loss function_) que retornará um valor baseado nas predições e nos dados medidos (_targets_). Tal valor será tão melhor quanto melhores forem as predições. Para valores contínuos, é comum empregar o erro quadrático médio, ou _mean squared error (mse)_ do inglês. "
   ]
  },
  {
   "cell_type": "code",
   "execution_count": 64,
   "id": "a4356079",
   "metadata": {},
   "outputs": [],
   "source": [
    "def mse(preds, targets): return ((preds-targets)**2).mean()"
   ]
  },
  {
   "cell_type": "markdown",
   "id": "7038fc3b",
   "metadata": {},
   "source": [
    "Agora, vamos seguir os sete passos descritos no início da seção."
   ]
  },
  {
   "cell_type": "markdown",
   "id": "2f9121c4",
   "metadata": {},
   "source": [
    "### 1 - Inicilizar os parâmetros"
   ]
  },
  {
   "cell_type": "markdown",
   "id": "ac5c7814",
   "metadata": {},
   "source": [
    "Primeiramente, inicializamos os parâmetros de forma aleatória, especificando para o Pytorch que desejamos monitorar os gradiente utilizado o método `requires_grad_`"
   ]
  },
  {
   "cell_type": "code",
   "execution_count": 65,
   "id": "07f96eb5",
   "metadata": {},
   "outputs": [],
   "source": [
    "params = torch.rand(3).requires_grad_()"
   ]
  },
  {
   "cell_type": "markdown",
   "id": "96fc2a7f",
   "metadata": {},
   "source": [
    "### 2- Calcular as predições"
   ]
  },
  {
   "cell_type": "markdown",
   "id": "4bf18000",
   "metadata": {},
   "source": [
    "Em seguida, calculamos as predições"
   ]
  },
  {
   "cell_type": "code",
   "execution_count": 66,
   "id": "623e14bf",
   "metadata": {},
   "outputs": [],
   "source": [
    "preds = f(time, params)"
   ]
  },
  {
   "cell_type": "markdown",
   "id": "1b2f564b",
   "metadata": {},
   "source": [
    "Vamos criar uma pequena função que nos mostre quão perto nossas predições estão de nossos targets."
   ]
  },
  {
   "cell_type": "code",
   "execution_count": 67,
   "id": "0d02ecd8",
   "metadata": {},
   "outputs": [],
   "source": [
    "def show_preds(preds, ax=None):\n",
    "    if ax is None: ax = plt.subplots()[1]\n",
    "    ax.scatter(time, speed)\n",
    "    ax.scatter(time, to_np(preds), color='red')\n",
    "    ax.set_ylim(-300, 100)"
   ]
  },
  {
   "cell_type": "code",
   "execution_count": 68,
   "id": "e2cdd50e",
   "metadata": {},
   "outputs": [
    {
     "data": {
      "image/png": "[encoded data removed]",
      "text/plain": [
       "<Figure size 432x288 with 1 Axes>"
      ]
     },
     "metadata": {
      "needs_background": "light"
     },
     "output_type": "display_data"
    }
   ],
   "source": [
    "show_preds(preds)"
   ]
  },
  {
   "cell_type": "markdown",
   "id": "912cb6c5",
   "metadata": {},
   "source": [
    "A partir do gráfico, percebemos que nossas predições não estão muito perto dos valores medidos, ou seja, de nossos targets."
   ]
  },
  {
   "cell_type": "markdown",
   "id": "dd574c98",
   "metadata": {},
   "source": [
    "### 3- Calculando a loss"
   ]
  },
  {
   "cell_type": "markdown",
   "id": "fa743819",
   "metadata": {},
   "source": [
    "Em seguida, calculamos o valor da loss a partir da função de custo"
   ]
  },
  {
   "cell_type": "code",
   "execution_count": 69,
   "id": "4a967280",
   "metadata": {},
   "outputs": [
    {
     "data": {
      "text/plain": [
       "tensor(1340.5829, grad_fn=<MeanBackward0>)"
      ]
     },
     "execution_count": 69,
     "metadata": {},
     "output_type": "execute_result"
    }
   ],
   "source": [
    "loss = mse(preds, speed)\n",
    "loss"
   ]
  },
  {
   "cell_type": "markdown",
   "id": "f392e62a",
   "metadata": {},
   "source": [
    "Nosso objetivo agora é melhorar isso. Para tanto, nós precisaremos conhecer os gradientes."
   ]
  },
  {
   "cell_type": "markdown",
   "id": "5ac085ce",
   "metadata": {},
   "source": [
    "### 4- Calculando os gradientes"
   ]
  },
  {
   "cell_type": "markdown",
   "id": "2c58366c",
   "metadata": {},
   "source": [
    "O próximo passo é calcular o gradiente, cujos valores indicam aproximadamente como os parâmetros devem mudar."
   ]
  },
  {
   "cell_type": "code",
   "execution_count": 70,
   "id": "cabe6c85",
   "metadata": {},
   "outputs": [
    {
     "data": {
      "text/plain": [
       "tensor([8669.1045,  560.3882,   19.8805])"
      ]
     },
     "execution_count": 70,
     "metadata": {},
     "output_type": "execute_result"
    }
   ],
   "source": [
    "loss.backward()\n",
    "params.grad"
   ]
  },
  {
   "cell_type": "markdown",
   "id": "2918ce46",
   "metadata": {},
   "source": [
    "## 5- Stepping"
   ]
  },
  {
   "cell_type": "markdown",
   "id": "390033f3",
   "metadata": {},
   "source": [
    "A partir disso, podemos definir uma taxa de aprendizagem a fim de atualizar os parâmetros. Nesse caso, a taxa será de 1e<sup>-5</sup> (0.00001). "
   ]
  },
  {
   "cell_type": "code",
   "execution_count": 71,
   "id": "600d191c",
   "metadata": {},
   "outputs": [],
   "source": [
    "lr = 1e-5\n",
    "params.data -= lr*params.grad.data\n",
    "params.grad = None"
   ]
  },
  {
   "cell_type": "markdown",
   "id": "cecc380b",
   "metadata": {},
   "source": [
    "Perceba que na última linha limpamos o gradiente para próximo _step_. "
   ]
  },
  {
   "cell_type": "markdown",
   "id": "8f2bb123",
   "metadata": {},
   "source": [
    "Vamos verificar se nossos parâmetros atuais ajustaram a função melhor aos dados."
   ]
  },
  {
   "cell_type": "code",
   "execution_count": 73,
   "id": "6e7509bb",
   "metadata": {},
   "outputs": [
    {
     "data": {
      "image/png": "[encoded data removed]",
      "text/plain": [
       "<Figure size 432x288 with 1 Axes>"
      ]
     },
     "metadata": {
      "needs_background": "light"
     },
     "output_type": "display_data"
    }
   ],
   "source": [
    "preds = f(time, params)\n",
    "show_preds(preds)"
   ]
  },
  {
   "cell_type": "markdown",
   "id": "bdcd0949",
   "metadata": {},
   "source": [
    "Percebemos que a curva de ajuste está se aproximando dos dados medidos."
   ]
  },
  {
   "cell_type": "markdown",
   "id": "f8b168c5",
   "metadata": {},
   "source": [
    "Como precisaremos repetir os procedimentos acima mais algumas vezes, vamos criar uma função para aplicar um _step_."
   ]
  },
  {
   "cell_type": "code",
   "execution_count": 74,
   "id": "c10a9f53",
   "metadata": {},
   "outputs": [],
   "source": [
    "def apply_step(params, prn=True):\n",
    "    preds = f(time, params)\n",
    "    loss = mse(preds, speed)\n",
    "    loss.backward()\n",
    "    params.data -= lr* params.grad.data\n",
    "    params.grad = None\n",
    "    if prn: print(loss.item())\n",
    "    return preds\n"
   ]
  },
  {
   "cell_type": "markdown",
   "id": "2432ca60",
   "metadata": {},
   "source": [
    "### 6- Repita o processo"
   ]
  },
  {
   "cell_type": "markdown",
   "id": "682d5da3",
   "metadata": {},
   "source": [
    "Agora, iteramos na expectativa de de alcançar bons resultados."
   ]
  },
  {
   "cell_type": "code",
   "execution_count": 75,
   "id": "ae6c72a9",
   "metadata": {},
   "outputs": [
    {
     "name": "stdout",
     "output_type": "stream",
     "text": [
      "799.0980224609375\n",
      "696.6298217773438\n",
      "677.2368774414062\n",
      "673.5643310546875\n",
      "672.8665771484375\n",
      "672.7317504882812\n",
      "672.703369140625\n",
      "672.6951904296875\n",
      "672.6907958984375\n",
      "672.687255859375\n"
     ]
    }
   ],
   "source": [
    "for i in range(10): apply_step(params)"
   ]
  },
  {
   "cell_type": "markdown",
   "id": "deb0c2f0",
   "metadata": {},
   "source": [
    "Perceba que o valor da loss está decrescendo, como esperado. Em cada iteração, estamos tentando encontrar uma função quadrática que melhor ajuste os dados. Podemos visualizar esse processo a cada _step_ abaixo."
   ]
  },
  {
   "cell_type": "code",
   "execution_count": 78,
   "id": "d0ab0e1e",
   "metadata": {},
   "outputs": [
    {
     "data": {
      "image/png": "[encoded data removed]",
      "text/plain": [
       "<Figure size 864x216 with 4 Axes>"
      ]
     },
     "metadata": {
      "needs_background": "light"
     },
     "output_type": "display_data"
    }
   ],
   "source": [
    "_, axs = plt.subplots(1,4, figsize= (12, 3))\n",
    "for ax in axs: show_preds(apply_step(params, False), ax)\n",
    "plt.tight_layout()"
   ]
  },
  {
   "cell_type": "markdown",
   "id": "94922c51",
   "metadata": {},
   "source": [
    "### 7- Pare"
   ]
  },
  {
   "cell_type": "markdown",
   "id": "73227348",
   "metadata": {},
   "source": [
    "Nós decidimos parar após 10 epochs arbitrariamente. Na prática, poderíamos assistir as losses do treinamento e da validação e outras métricas de modo a decidir quando parar."
   ]
  },
  {
   "cell_type": "markdown",
   "id": "22a3da39",
   "metadata": {},
   "source": [
    "## 6.4- Resumindo o gradiente descendente"
   ]
  },
  {
   "cell_type": "markdown",
   "id": "d96703e9",
   "metadata": {},
   "source": [
    "No início, os valores dos parâmetros do nosso modelo podem ser aleatórios ou podem vir de outro modelo pré-treinado (_transfer learning_). Em ambos os casos, o modelo precisará aprender valores de parâmetros melhores."
   ]
  },
  {
   "cell_type": "markdown",
   "id": "e43d950c",
   "metadata": {},
   "source": [
    "Nesse contexto, inicialmente, comparamos os resultados do modelo (predições) com o que ele deveria retornar (targets) utilizando uma função de custo (_loss function_), que nos retorna uma número que desejamos tornar o menor possível ao melhorar os parâmetros. Para tanto, nós pegamos alguns itens (como imagens) do  nosso dataset de treinamento e alimentamos nosso modelo. Então, comparamos os resultados com os targets correspondentes utilizando a _loss function_. O valor que obtivermos nos diz quão erradas nossas predições estão. Para encontrar como alterar os parâmetros a fim de tornar a loss um pouco melhor, nós utilizamos o Cálculo para calcular os gradientes."
   ]
  },
  {
   "cell_type": "markdown",
   "id": "e364eb52",
   "metadata": {},
   "source": [
    "# 7- Loss function para o MNIST"
   ]
  },
  {
   "cell_type": "markdown",
   "id": "30f45248",
   "metadata": {},
   "source": [
    "Nós já temos nossas variáveis independentes, ou seja, as imagens. Precisamos apenas adaptá-las para o modelo que pretendemos desenvolver. Para tanto, iremos concatenar as imagens de ambos os dígitos em um único tensor, além de alterá-lo de uma lista de matrizes (rank 3) para uma lista de vetores (rank 2), por meio do método `view` que muda a dimensão do tensor sem alterar seu conteúdo. No nosso caso, repassaremos o argumento -1 para o método."
   ]
  },
  {
   "cell_type": "code",
   "execution_count": 79,
   "id": "1d50c874",
   "metadata": {},
   "outputs": [],
   "source": [
    "train_x = torch.cat([stacked_threes, stacked_sevens]).view(-1, 28*28)"
   ]
  },
  {
   "cell_type": "markdown",
   "id": "97df2c0f",
   "metadata": {},
   "source": [
    "Em seguida, precisamos de uma _label_ para cada imagem. Nesse contexto, empregaremos 1 para os 3s e 0 para os 7s."
   ]
  },
  {
   "cell_type": "code",
   "execution_count": 80,
   "id": "0ee30cb3",
   "metadata": {},
   "outputs": [
    {
     "data": {
      "text/plain": [
       "(torch.Size([12396, 784]), torch.Size([12396, 1]))"
      ]
     },
     "execution_count": 80,
     "metadata": {},
     "output_type": "execute_result"
    }
   ],
   "source": [
    "train_y = tensor([1]*len(threes) + [0]*len(sevens)).unsqueeze(1)\n",
    "train_x.shape,train_y.shape"
   ]
  },
  {
   "cell_type": "markdown",
   "id": "64d356a9",
   "metadata": {},
   "source": [
    "O método `unsqueeze` muda a dimensão do tensor. No caso, de [1, 12396] para [12396, 1]."
   ]
  },
  {
   "cell_type": "markdown",
   "id": "abca76c0",
   "metadata": {},
   "source": [
    "Agora, precisamos concatenar as variáveis independentes com as a respectivas _labels_. Para tanto, empregaremos o função built-in do python `zip`."
   ]
  },
  {
   "cell_type": "code",
   "execution_count": 82,
   "id": "a38ff857",
   "metadata": {},
   "outputs": [
    {
     "data": {
      "text/plain": [
       "(torch.Size([784]), tensor([1]))"
      ]
     },
     "execution_count": 82,
     "metadata": {},
     "output_type": "execute_result"
    }
   ],
   "source": [
    "dset = list(zip(train_x, train_y))\n",
    "x, y = dset[1]\n",
    "x.shape, y\n"
   ]
  },
  {
   "cell_type": "markdown",
   "id": "71e4038c",
   "metadata": {},
   "source": [
    "Podemos empregar os mesmos procedimentos para construir o conjunto de validação."
   ]
  },
  {
   "cell_type": "code",
   "execution_count": 85,
   "id": "3d50529e",
   "metadata": {},
   "outputs": [],
   "source": [
    "valid_x = torch.cat([valid_3_tns, valid_7_tns]).view(-1, 28*28)\n",
    "valid_y = tensor([1]*len(valid_3_tns)+[0]*len(valid_7_tns)).unsqueeze(1)\n",
    "valid_dset = list(zip(valid_x, valid_y))"
   ]
  },
  {
   "cell_type": "markdown",
   "id": "c7bf1e75",
   "metadata": {},
   "source": [
    "Agora, precisamso inicializar aleatoriamente os pesos para cada pixel. "
   ]
  },
  {
   "cell_type": "code",
   "execution_count": 86,
   "id": "99093811",
   "metadata": {},
   "outputs": [],
   "source": [
    "def init_params(size, std=1.): return (torch.randn(size)*std).requires_grad_()"
   ]
  },
  {
   "cell_type": "code",
   "execution_count": 89,
   "id": "aef9f5bc",
   "metadata": {},
   "outputs": [],
   "source": [
    "weights = init_params((28*28, 1))"
   ]
  },
  {
   "cell_type": "markdown",
   "id": "927f936c",
   "metadata": {},
   "source": [
    "Porém, a função pesos x pixels não será suficientemente flexível, pois ela sempre será igual a zero quando os pixels são iguais a 0. Nesse contexto, você deve se lembrar que a fórmula de uma reta é y=w.x + b. Dessa forma, precisaremos incluir o termo b em nosso modelo. Vamos inicilizá-lo aleatoriamente também:"
   ]
  },
  {
   "cell_type": "code",
   "execution_count": 90,
   "id": "e1a61033",
   "metadata": {},
   "outputs": [],
   "source": [
    "bias = init_params(1)"
   ]
  },
  {
   "cell_type": "markdown",
   "id": "83041141",
   "metadata": {},
   "source": [
    "Em redes neurais, o termo w na equação é chamado de peso, enquanto que o b é chamado de viés. Juntos, pesos e vieses formam os parâmetros do modelo."
   ]
  },
  {
   "cell_type": "markdown",
   "id": "4702292c",
   "metadata": {},
   "source": [
    "A partir disso, podemos calcular predições para uma imagem"
   ]
  },
  {
   "cell_type": "code",
   "execution_count": 91,
   "id": "3f5659b1",
   "metadata": {},
   "outputs": [
    {
     "data": {
      "text/plain": [
       "tensor([-6.0525], grad_fn=<AddBackward0>)"
      ]
     },
     "execution_count": 91,
     "metadata": {},
     "output_type": "execute_result"
    }
   ],
   "source": [
    "(train_x[0]*weights.T).sum()+bias"
   ]
  },
  {
   "cell_type": "markdown",
   "id": "3c338b57",
   "metadata": {},
   "source": [
    "Poderíamos empregar um laço for para calcular a predição para cada imagem, porém isso seria muito lento, pois os loops do Python não são executados na GPU, além de serem lentos quando comparados a outras linguagem. Nesse contexto, podemos aplicar simplesmente a multiplicação de matrizes. Em Python, tal operação é representa pelo operador @. "
   ]
  },
  {
   "cell_type": "code",
   "execution_count": 93,
   "id": "bb1cc5f8",
   "metadata": {},
   "outputs": [
    {
     "data": {
      "text/plain": [
       "tensor([[ -6.0525],\n",
       "        [-10.4347],\n",
       "        [ -3.7067],\n",
       "        ...,\n",
       "        [-14.2817],\n",
       "        [  5.1424],\n",
       "        [ -0.0173]], grad_fn=<AddBackward0>)"
      ]
     },
     "execution_count": 93,
     "metadata": {},
     "output_type": "execute_result"
    }
   ],
   "source": [
    "def linear1(xb): return xb@weights + bias\n",
    "preds = linear1(train_x)\n",
    "preds"
   ]
  },
  {
   "cell_type": "markdown",
   "id": "6fa90063",
   "metadata": {},
   "source": [
    "Perceba que o primeiro elemento é o mesmo que calculamos anteriormente, como esperado. A equação batch @ weights + bias é uma das duas mais fundamentais equações de qualquer rede neural. A outra é a _função de ativação_ que já iremos ver."
   ]
  },
  {
   "cell_type": "markdown",
   "id": "b5da8da3",
   "metadata": {},
   "source": [
    "Agora, vamos verificar nossa acurácia. Para saber se uma saída do modelo representa um 3, podemos apenas verificar se ela é maior que 0, caso contrário, será um 7. Assim, podemos empregar o broadcasting."
   ]
  },
  {
   "cell_type": "code",
   "execution_count": 95,
   "id": "10332e2e",
   "metadata": {},
   "outputs": [
    {
     "data": {
      "text/plain": [
       "tensor([[False],\n",
       "        [False],\n",
       "        [False],\n",
       "        ...,\n",
       "        [ True],\n",
       "        [False],\n",
       "        [ True]])"
      ]
     },
     "execution_count": 95,
     "metadata": {},
     "output_type": "execute_result"
    }
   ],
   "source": [
    "corrects = (preds>0.0).float() == train_y\n",
    "corrects"
   ]
  },
  {
   "cell_type": "code",
   "execution_count": 96,
   "id": "63dd7875",
   "metadata": {},
   "outputs": [
    {
     "data": {
      "text/plain": [
       "0.3098580241203308"
      ]
     },
     "execution_count": 96,
     "metadata": {},
     "output_type": "execute_result"
    }
   ],
   "source": [
    "corrects.float().mean().item()"
   ]
  }
 ],
 "metadata": {
  "kernelspec": {
   "display_name": "Python 3 (ipykernel)",
   "language": "python",
   "name": "python3"
  },
  "language_info": {
   "codemirror_mode": {
    "name": "ipython",
    "version": 3
   },
   "file_extension": ".py",
   "mimetype": "text/x-python",
   "name": "python",
   "nbconvert_exporter": "python",
   "pygments_lexer": "ipython3",
   "version": "3.7.7"
  }
 },
 "nbformat": 4,
 "nbformat_minor": 5
}
