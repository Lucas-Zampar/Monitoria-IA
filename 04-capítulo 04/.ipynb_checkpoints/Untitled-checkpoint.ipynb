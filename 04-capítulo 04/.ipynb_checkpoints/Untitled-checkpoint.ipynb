{
 "cells": [
  {
   "cell_type": "markdown",
   "id": "2f93eeaa",
   "metadata": {},
   "source": [
    "# WARNING"
   ]
  },
  {
   "cell_type": "markdown",
   "id": "66cdd0fb",
   "metadata": {},
   "source": [
    "The content presented in this notebook is highly based on the fourth chapter from <a ref='\n",
    "https://www.amazon.com.br/dp/B08C2KM7NR/ref=dp-kindle-redirect?_encoding=UTF8&btkr=1' > \n",
    "Deep Learning for Coders with fastai and PyTorch: AI Applications Without a PhD</a>. Our goal here is to explain in Portuguese the implementations of codes and main concepts covered by the chapter in order to any portuguese speaker student get started with fastai and pratical deep learning. If you want to acess the original material, you could read this <a href='https://course.fast.ai/start_gradient' > article </a> to learn how to run the notebook cointaning all the chapters available for free on <a href='https://gradient.run/notebooks'> Gradient </a>. All credits reserved to the authors Jeremy Howard and Sylvain Gugger. \n",
    "\n",
    "\n"
   ]
  },
  {
   "cell_type": "markdown",
   "id": "ef7604df",
   "metadata": {},
   "source": [
    "# AVISO"
   ]
  },
  {
   "cell_type": "markdown",
   "id": "2476f71a",
   "metadata": {},
   "source": [
    "O conteúdo presente neste notebook é altamente baseado no quarto capítulo do livro <a ref='\n",
    "https://www.amazon.com.br/dp/B08C2KM7NR/ref=dp-kindle-redirect?_encoding=UTF8&btkr=1' > \n",
    "Deep Learning for Coders with fastai and PyTorch: AI Applications Without a PhD</a>. Nosso objetivo é explicar em Portugês a implementação dos códigos e principais conceitos abordados pelo capítulo de modo que estudantes que falam português possam se iniciar no fastai e na aprendizagem de máquina prática. Se você deseja acessar o conteúdo original, você pode ler o seguinte <a href='https://course.fast.ai/start_gradient' > artigo  </a> a fim de aprender como executar o notebook contendo todos os capítulo disponibilizados de graça no <a href='https://gradient.run/notebooks'> Gradient </a>. Todos os créditos reservados aos autores Jeremy Howard and Sylvain Gugger. \n"
   ]
  },
  {
   "cell_type": "markdown",
   "id": "c8090f94",
   "metadata": {},
   "source": [
    "# 0- Configuração do notebook\n"
   ]
  },
  {
   "cell_type": "markdown",
   "id": "0c5ee1e8",
   "metadata": {},
   "source": [
    "Antes de qualquer coisa, iremos configurar nosso notebook como de costume:"
   ]
  },
  {
   "cell_type": "code",
   "execution_count": 1,
   "id": "0f5fe3a3",
   "metadata": {},
   "outputs": [],
   "source": [
    "import warnings\n",
    "warnings.filterwarnings('ignore')\n",
    "\n",
    "from fastbook import *"
   ]
  },
  {
   "cell_type": "markdown",
   "id": "9d450055",
   "metadata": {},
   "source": [
    "# 1- Introdução"
   ]
  },
  {
   "cell_type": "markdown",
   "id": "5e09fc04",
   "metadata": {},
   "source": [
    "Neste notebook, iremos nos aprofundar em conceitos de Deep Learning a fim de entender um pouco mais o que os modelos que treinamos até o momento estão realizando. "
   ]
  },
  {
   "cell_type": "markdown",
   "id": "d93420a3",
   "metadata": {},
   "source": [
    "Para tanto, iremos abordar um problema de visão computacional, a classificação de dígitos escritos a mão. Dessa forma, será empregado o dataset <a href='http://yann.lecun.com/exdb/mnist/'>MNIST</a>. Abaixo, segue breve descrição:"
   ]
  },
  {
   "cell_type": "markdown",
   "id": "77049433",
   "metadata": {},
   "source": [
    ">O dataset MNIST contem imagens de dígitos escritos a mão coletadas pelo NIST (_National Institute of Standards and Technology_) e reunidas como um dataset de machine learning por Yann Lecun e seus colegas. Lecun usou o MNIST em 1998 no LeNet-5, o primeiro sistema computacional a demonstrar o reconhecimento de sequências de dígitos escritos a mão de forma prática e útil, o que é considerado um dos avanços mais importantes na história da IA. "
   ]
  },
  {
   "cell_type": "markdown",
   "id": "20567da8",
   "metadata": {},
   "source": [
    "# 2- Como computadores lidam com imagens?"
   ]
  },
  {
   "cell_type": "markdown",
   "id": "49ac26a3",
   "metadata": {},
   "source": [
    "Para entender o que acontece em um modelo de visão computacional, precisamos entender primeiramente como computadores lidam com imagens. Para tanto, inicialmente iremos desenvolver um modelo simples que classifica imagens como dígitos 3 ou 7. "
   ]
  },
  {
   "cell_type": "markdown",
   "id": "61a3dc70",
   "metadata": {},
   "source": [
    "Como visto nos notebooks passados, quando desejamos realizar o download de qualquer dataset, podemos empregar a função `untar_data`, a qual nos retorna o caminho de destino do dataset:"
   ]
  },
  {
   "cell_type": "code",
   "execution_count": 2,
   "id": "220c13a6",
   "metadata": {},
   "outputs": [],
   "source": [
    "url_dataset = URLs.MNIST_SAMPLE\n",
    "path = untar_data(url_dataset)"
   ]
  },
  {
   "cell_type": "markdown",
   "id": "f1fe81f3",
   "metadata": {},
   "source": [
    "Se aplicarmos o método adicionado pelo fastai `.ls()`, poderemos verificar qual o conteúdo do diretório retornado."
   ]
  },
  {
   "cell_type": "markdown",
   "id": "e1f1c55f",
   "metadata": {},
   "source": [
    "Vale ressaltar que o método retorna um objeto de uma classe especial do fastai denominada `L`, a qual possui todas as funcionalidades do tipo built-in do Python `list`, bem como muitas outras. Por exemplo, exibir a quantidade de itens quando o objeto é impresso, além de listar alguns dos itens."
   ]
  },
  {
   "cell_type": "code",
   "execution_count": 3,
   "id": "bf2e2fc8",
   "metadata": {},
   "outputs": [
    {
     "data": {
      "text/plain": [
       "(#3) [Path('/home/lucaszampar/.fastai/data/mnist_sample/train'),Path('/home/lucaszampar/.fastai/data/mnist_sample/valid'),Path('/home/lucaszampar/.fastai/data/mnist_sample/labels.csv')]"
      ]
     },
     "execution_count": 3,
     "metadata": {},
     "output_type": "execute_result"
    }
   ],
   "source": [
    "path.ls()"
   ]
  },
  {
   "cell_type": "markdown",
   "id": "35505e30",
   "metadata": {},
   "source": [
    "Dessa forma, podemos perceber que há 3 itens no diretório retornado: a pasta `train`, que contém as imagens de treinamento; a pasta `valid`, imagens de validação; o arquivo `labels.csv`, os rótulos das imagens. Vale ressaltar que dividir as imagens de treinamento e de validação em pastas separadas é um padrão comum para datasets de machine learning."
   ]
  },
  {
   "cell_type": "markdown",
   "id": "c28e869a",
   "metadata": {},
   "source": [
    "Agora, vamos verificar o que há na pasta `train`:"
   ]
  },
  {
   "cell_type": "code",
   "execution_count": 4,
   "id": "aa447ec8",
   "metadata": {},
   "outputs": [
    {
     "data": {
      "text/plain": [
       "(#2) [Path('/home/lucaszampar/.fastai/data/mnist_sample/train/7'),Path('/home/lucaszampar/.fastai/data/mnist_sample/train/3')]"
      ]
     },
     "execution_count": 4,
     "metadata": {},
     "output_type": "execute_result"
    }
   ],
   "source": [
    "(path/'train').ls()"
   ]
  },
  {
   "cell_type": "markdown",
   "id": "a6468c37",
   "metadata": {},
   "source": [
    "Como esperado, há duas pastas referentes às classes de dígitos 3 e 7. Nesse caso, tais dígitos são as _labels_ do dataset. A partir disso, vamos referenciar os arquivos de imagem de cada pasta, ordenando-os conforme o nome. "
   ]
  },
  {
   "cell_type": "code",
   "execution_count": 5,
   "id": "fe9811af",
   "metadata": {},
   "outputs": [
    {
     "data": {
      "text/plain": [
       "(#6131) [Path('/home/lucaszampar/.fastai/data/mnist_sample/train/3/10.png'),Path('/home/lucaszampar/.fastai/data/mnist_sample/train/3/10000.png'),Path('/home/lucaszampar/.fastai/data/mnist_sample/train/3/10011.png'),Path('/home/lucaszampar/.fastai/data/mnist_sample/train/3/10031.png'),Path('/home/lucaszampar/.fastai/data/mnist_sample/train/3/10034.png'),Path('/home/lucaszampar/.fastai/data/mnist_sample/train/3/10042.png'),Path('/home/lucaszampar/.fastai/data/mnist_sample/train/3/10052.png'),Path('/home/lucaszampar/.fastai/data/mnist_sample/train/3/1007.png'),Path('/home/lucaszampar/.fastai/data/mnist_sample/train/3/10074.png'),Path('/home/lucaszampar/.fastai/data/mnist_sample/train/3/10091.png')...]"
      ]
     },
     "execution_count": 5,
     "metadata": {},
     "output_type": "execute_result"
    }
   ],
   "source": [
    "tres = (path/'train'/'3').ls().sorted()\n",
    "setes = (path/'train'/'7').ls().sorted()\n",
    "tres"
   ]
  },
  {
   "cell_type": "markdown",
   "id": "5ae7282a",
   "metadata": {},
   "source": [
    "Como pode ser percebido pela saída, há 6.131 imagens do dígito 3 reservadas para o treinamento. Dessa forma, podemos exibir uma destas imagens ampliada:"
   ]
  },
  {
   "cell_type": "code",
   "execution_count": 6,
   "id": "2fd4012e",
   "metadata": {},
   "outputs": [
    {
     "data": {
      "image/png": "[encoded data removed]",
      "text/plain": [
       "<PIL.Image.Image image mode=L size=150x150 at 0x7F30AD9E0950>"
      ]
     },
     "execution_count": 6,
     "metadata": {},
     "output_type": "execute_result"
    }
   ],
   "source": [
    "im3_path = tres[1]\n",
    "im3 = Image.open(im3_path)\n",
    "im3.resize((150, 150))"
   ]
  },
  {
   "cell_type": "markdown",
   "id": "462320dd",
   "metadata": {},
   "source": [
    "Para a exibição da imagem acima, empregamos a classe `Image` da biblioteca PIL (_Python \n",
    "Imaging Library_), que é o pacote do Python mais utilizado para abrir, manipular e ver imagens. "
   ]
  },
  {
   "cell_type": "markdown",
   "id": "b8356e90",
   "metadata": {},
   "source": [
    "Em um computador, tudo é representado por meio de números. Nesse contexto, para ver os números que compõem a imagem acima, podemos convertê-la para um __array NumPy__ ou um __tensor PyTorch__. Por exemplo, podemos verificar os números que compõem uma seção da imagem ao convertê-la para um array numpy:"
   ]
  },
  {
   "cell_type": "code",
   "execution_count": 7,
   "id": "750f842e",
   "metadata": {},
   "outputs": [
    {
     "data": {
      "text/plain": [
       "array([[  0,   0,   0,   0,   0,   0],\n",
       "       [  0,   0,   0,   0,   0,  29],\n",
       "       [  0,   0,   0,  48, 166, 224],\n",
       "       [  0,  93, 244, 249, 253, 187],\n",
       "       [  0, 107, 253, 253, 230,  48],\n",
       "       [  0,   3,  20,  20,  15,   0]], dtype=uint8)"
      ]
     },
     "execution_count": 7,
     "metadata": {},
     "output_type": "execute_result"
    }
   ],
   "source": [
    "array(im3)[4:10, 4:10]"
   ]
  },
  {
   "cell_type": "markdown",
   "id": "40ae5a47",
   "metadata": {},
   "source": [
    "Acima, acessamos as linhas de índice 4 até o 9 da matriz que configura a imagem, bem como a  coluna de índice 4 até o 9. Assim, estamos acessando uma região no canto superior esquerdo da imagem."
   ]
  },
  {
   "cell_type": "markdown",
   "id": "ad70f470",
   "metadata": {},
   "source": [
    "O mesmo procedimento pode ser realizado por meio de um tensor do Pytroch:"
   ]
  },
  {
   "cell_type": "code",
   "execution_count": 8,
   "id": "490ff9e0",
   "metadata": {},
   "outputs": [
    {
     "data": {
      "text/plain": [
       "tensor([[  0,   0,   0,   0,   0,   0],\n",
       "        [  0,   0,   0,   0,   0,  29],\n",
       "        [  0,   0,   0,  48, 166, 224],\n",
       "        [  0,  93, 244, 249, 253, 187],\n",
       "        [  0, 107, 253, 253, 230,  48],\n",
       "        [  0,   3,  20,  20,  15,   0]], dtype=torch.uint8)"
      ]
     },
     "execution_count": 8,
     "metadata": {},
     "output_type": "execute_result"
    }
   ],
   "source": [
    "tensor(im3)[4:10, 4:10]"
   ]
  },
  {
   "cell_type": "markdown",
   "id": "8c3af07a",
   "metadata": {},
   "source": [
    "Além disso, podemos visualizar como os valores de pixels formam a imagem de um dígito ao transformar o array ou o tensor em um __dataframe Pandas__, aplicando um gradiente de cores em seguida."
   ]
  },
  {
   "cell_type": "code",
   "execution_count": 10,
   "id": "5801d7e3",
   "metadata": {},
   "outputs": [
    {
     "data": {
      "text/html": [
       "<style type=\"text/css\">\n",
       "#T_6b9c2_row0_col0, #T_6b9c2_row0_col1, #T_6b9c2_row0_col2, #T_6b9c2_row0_col3, #T_6b9c2_row0_col4, #T_6b9c2_row0_col5, #T_6b9c2_row0_col6, #T_6b9c2_row0_col7, #T_6b9c2_row0_col8, #T_6b9c2_row0_col9, #T_6b9c2_row0_col10, #T_6b9c2_row0_col11, #T_6b9c2_row0_col12, #T_6b9c2_row0_col13, #T_6b9c2_row0_col14, #T_6b9c2_row0_col15, #T_6b9c2_row0_col16, #T_6b9c2_row0_col17, #T_6b9c2_row1_col0, #T_6b9c2_row1_col1, #T_6b9c2_row1_col2, #T_6b9c2_row1_col3, #T_6b9c2_row1_col4, #T_6b9c2_row1_col15, #T_6b9c2_row1_col16, #T_6b9c2_row1_col17, #T_6b9c2_row2_col0, #T_6b9c2_row2_col1, #T_6b9c2_row2_col2, #T_6b9c2_row2_col15, #T_6b9c2_row2_col16, #T_6b9c2_row2_col17, #T_6b9c2_row3_col0, #T_6b9c2_row3_col15, #T_6b9c2_row3_col16, #T_6b9c2_row3_col17, #T_6b9c2_row4_col0, #T_6b9c2_row4_col6, #T_6b9c2_row4_col7, #T_6b9c2_row4_col8, #T_6b9c2_row4_col9, #T_6b9c2_row4_col10, #T_6b9c2_row4_col15, #T_6b9c2_row4_col16, #T_6b9c2_row4_col17, #T_6b9c2_row5_col0, #T_6b9c2_row5_col5, #T_6b9c2_row5_col6, #T_6b9c2_row5_col7, #T_6b9c2_row5_col8, #T_6b9c2_row5_col9, #T_6b9c2_row5_col15, #T_6b9c2_row5_col16, #T_6b9c2_row5_col17, #T_6b9c2_row6_col0, #T_6b9c2_row6_col1, #T_6b9c2_row6_col2, #T_6b9c2_row6_col3, #T_6b9c2_row6_col4, #T_6b9c2_row6_col5, #T_6b9c2_row6_col6, #T_6b9c2_row6_col7, #T_6b9c2_row6_col8, #T_6b9c2_row6_col9, #T_6b9c2_row6_col14, #T_6b9c2_row6_col15, #T_6b9c2_row6_col16, #T_6b9c2_row6_col17, #T_6b9c2_row7_col0, #T_6b9c2_row7_col1, #T_6b9c2_row7_col2, #T_6b9c2_row7_col3, #T_6b9c2_row7_col4, #T_6b9c2_row7_col5, #T_6b9c2_row7_col6, #T_6b9c2_row7_col13, #T_6b9c2_row7_col14, #T_6b9c2_row7_col15, #T_6b9c2_row7_col16, #T_6b9c2_row7_col17, #T_6b9c2_row8_col0, #T_6b9c2_row8_col1, #T_6b9c2_row8_col2, #T_6b9c2_row8_col3, #T_6b9c2_row8_col4, #T_6b9c2_row8_col13, #T_6b9c2_row8_col14, #T_6b9c2_row8_col15, #T_6b9c2_row8_col16, #T_6b9c2_row8_col17, #T_6b9c2_row9_col0, #T_6b9c2_row9_col1, #T_6b9c2_row9_col2, #T_6b9c2_row9_col3, #T_6b9c2_row9_col4, #T_6b9c2_row9_col16, #T_6b9c2_row9_col17, #T_6b9c2_row10_col0, #T_6b9c2_row10_col1, #T_6b9c2_row10_col2, #T_6b9c2_row10_col3, #T_6b9c2_row10_col4, #T_6b9c2_row10_col5, #T_6b9c2_row10_col6, #T_6b9c2_row10_col17 {\n",
       "  font-size: 6pt;\n",
       "  background-color: #ffffff;\n",
       "  color: #000000;\n",
       "}\n",
       "#T_6b9c2_row1_col5 {\n",
       "  font-size: 6pt;\n",
       "  background-color: #efefef;\n",
       "  color: #000000;\n",
       "}\n",
       "#T_6b9c2_row1_col6, #T_6b9c2_row1_col13 {\n",
       "  font-size: 6pt;\n",
       "  background-color: #7c7c7c;\n",
       "  color: #f1f1f1;\n",
       "}\n",
       "#T_6b9c2_row1_col7 {\n",
       "  font-size: 6pt;\n",
       "  background-color: #4a4a4a;\n",
       "  color: #f1f1f1;\n",
       "}\n",
       "#T_6b9c2_row1_col8, #T_6b9c2_row1_col9, #T_6b9c2_row1_col10, #T_6b9c2_row2_col5, #T_6b9c2_row2_col6, #T_6b9c2_row2_col7, #T_6b9c2_row2_col11, #T_6b9c2_row2_col12, #T_6b9c2_row2_col13, #T_6b9c2_row3_col4, #T_6b9c2_row3_col12, #T_6b9c2_row3_col13, #T_6b9c2_row4_col1, #T_6b9c2_row4_col2, #T_6b9c2_row4_col3, #T_6b9c2_row4_col12, #T_6b9c2_row4_col13, #T_6b9c2_row5_col12, #T_6b9c2_row6_col11, #T_6b9c2_row9_col11, #T_6b9c2_row10_col11, #T_6b9c2_row10_col12, #T_6b9c2_row10_col13, #T_6b9c2_row10_col14, #T_6b9c2_row10_col15, #T_6b9c2_row10_col16 {\n",
       "  font-size: 6pt;\n",
       "  background-color: #000000;\n",
       "  color: #f1f1f1;\n",
       "}\n",
       "#T_6b9c2_row1_col11 {\n",
       "  font-size: 6pt;\n",
       "  background-color: #606060;\n",
       "  color: #f1f1f1;\n",
       "}\n",
       "#T_6b9c2_row1_col12 {\n",
       "  font-size: 6pt;\n",
       "  background-color: #4d4d4d;\n",
       "  color: #f1f1f1;\n",
       "}\n",
       "#T_6b9c2_row1_col14 {\n",
       "  font-size: 6pt;\n",
       "  background-color: #bbbbbb;\n",
       "  color: #000000;\n",
       "}\n",
       "#T_6b9c2_row2_col3 {\n",
       "  font-size: 6pt;\n",
       "  background-color: #e4e4e4;\n",
       "  color: #000000;\n",
       "}\n",
       "#T_6b9c2_row2_col4, #T_6b9c2_row8_col6 {\n",
       "  font-size: 6pt;\n",
       "  background-color: #6b6b6b;\n",
       "  color: #f1f1f1;\n",
       "}\n",
       "#T_6b9c2_row2_col8, #T_6b9c2_row2_col14, #T_6b9c2_row3_col14 {\n",
       "  font-size: 6pt;\n",
       "  background-color: #171717;\n",
       "  color: #f1f1f1;\n",
       "}\n",
       "#T_6b9c2_row2_col9, #T_6b9c2_row3_col11 {\n",
       "  font-size: 6pt;\n",
       "  background-color: #4b4b4b;\n",
       "  color: #f1f1f1;\n",
       "}\n",
       "#T_6b9c2_row2_col10, #T_6b9c2_row7_col10, #T_6b9c2_row8_col8, #T_6b9c2_row8_col10, #T_6b9c2_row9_col8, #T_6b9c2_row9_col10 {\n",
       "  font-size: 6pt;\n",
       "  background-color: #010101;\n",
       "  color: #f1f1f1;\n",
       "}\n",
       "#T_6b9c2_row3_col1 {\n",
       "  font-size: 6pt;\n",
       "  background-color: #272727;\n",
       "  color: #f1f1f1;\n",
       "}\n",
       "#T_6b9c2_row3_col2 {\n",
       "  font-size: 6pt;\n",
       "  background-color: #0a0a0a;\n",
       "  color: #f1f1f1;\n",
       "}\n",
       "#T_6b9c2_row3_col3 {\n",
       "  font-size: 6pt;\n",
       "  background-color: #050505;\n",
       "  color: #f1f1f1;\n",
       "}\n",
       "#T_6b9c2_row3_col5 {\n",
       "  font-size: 6pt;\n",
       "  background-color: #333333;\n",
       "  color: #f1f1f1;\n",
       "}\n",
       "#T_6b9c2_row3_col6 {\n",
       "  font-size: 6pt;\n",
       "  background-color: #e6e6e6;\n",
       "  color: #000000;\n",
       "}\n",
       "#T_6b9c2_row3_col7, #T_6b9c2_row3_col10 {\n",
       "  font-size: 6pt;\n",
       "  background-color: #fafafa;\n",
       "  color: #000000;\n",
       "}\n",
       "#T_6b9c2_row3_col8 {\n",
       "  font-size: 6pt;\n",
       "  background-color: #fbfbfb;\n",
       "  color: #000000;\n",
       "}\n",
       "#T_6b9c2_row3_col9 {\n",
       "  font-size: 6pt;\n",
       "  background-color: #fdfdfd;\n",
       "  color: #000000;\n",
       "}\n",
       "#T_6b9c2_row4_col4 {\n",
       "  font-size: 6pt;\n",
       "  background-color: #1b1b1b;\n",
       "  color: #f1f1f1;\n",
       "}\n",
       "#T_6b9c2_row4_col5 {\n",
       "  font-size: 6pt;\n",
       "  background-color: #e0e0e0;\n",
       "  color: #000000;\n",
       "}\n",
       "#T_6b9c2_row4_col11 {\n",
       "  font-size: 6pt;\n",
       "  background-color: #4e4e4e;\n",
       "  color: #f1f1f1;\n",
       "}\n",
       "#T_6b9c2_row4_col14 {\n",
       "  font-size: 6pt;\n",
       "  background-color: #767676;\n",
       "  color: #f1f1f1;\n",
       "}\n",
       "#T_6b9c2_row5_col1 {\n",
       "  font-size: 6pt;\n",
       "  background-color: #fcfcfc;\n",
       "  color: #000000;\n",
       "}\n",
       "#T_6b9c2_row5_col2, #T_6b9c2_row5_col3 {\n",
       "  font-size: 6pt;\n",
       "  background-color: #f6f6f6;\n",
       "  color: #000000;\n",
       "}\n",
       "#T_6b9c2_row5_col4, #T_6b9c2_row7_col7 {\n",
       "  font-size: 6pt;\n",
       "  background-color: #f8f8f8;\n",
       "  color: #000000;\n",
       "}\n",
       "#T_6b9c2_row5_col10, #T_6b9c2_row10_col7 {\n",
       "  font-size: 6pt;\n",
       "  background-color: #e8e8e8;\n",
       "  color: #000000;\n",
       "}\n",
       "#T_6b9c2_row5_col11 {\n",
       "  font-size: 6pt;\n",
       "  background-color: #222222;\n",
       "  color: #f1f1f1;\n",
       "}\n",
       "#T_6b9c2_row5_col13, #T_6b9c2_row6_col12 {\n",
       "  font-size: 6pt;\n",
       "  background-color: #090909;\n",
       "  color: #f1f1f1;\n",
       "}\n",
       "#T_6b9c2_row5_col14 {\n",
       "  font-size: 6pt;\n",
       "  background-color: #d0d0d0;\n",
       "  color: #000000;\n",
       "}\n",
       "#T_6b9c2_row6_col10, #T_6b9c2_row7_col11, #T_6b9c2_row9_col6 {\n",
       "  font-size: 6pt;\n",
       "  background-color: #060606;\n",
       "  color: #f1f1f1;\n",
       "}\n",
       "#T_6b9c2_row6_col13 {\n",
       "  font-size: 6pt;\n",
       "  background-color: #979797;\n",
       "  color: #f1f1f1;\n",
       "}\n",
       "#T_6b9c2_row7_col8 {\n",
       "  font-size: 6pt;\n",
       "  background-color: #b6b6b6;\n",
       "  color: #000000;\n",
       "}\n",
       "#T_6b9c2_row7_col9 {\n",
       "  font-size: 6pt;\n",
       "  background-color: #252525;\n",
       "  color: #f1f1f1;\n",
       "}\n",
       "#T_6b9c2_row7_col12 {\n",
       "  font-size: 6pt;\n",
       "  background-color: #999999;\n",
       "  color: #f1f1f1;\n",
       "}\n",
       "#T_6b9c2_row8_col5 {\n",
       "  font-size: 6pt;\n",
       "  background-color: #f9f9f9;\n",
       "  color: #000000;\n",
       "}\n",
       "#T_6b9c2_row8_col7 {\n",
       "  font-size: 6pt;\n",
       "  background-color: #101010;\n",
       "  color: #f1f1f1;\n",
       "}\n",
       "#T_6b9c2_row8_col9, #T_6b9c2_row9_col9 {\n",
       "  font-size: 6pt;\n",
       "  background-color: #020202;\n",
       "  color: #f1f1f1;\n",
       "}\n",
       "#T_6b9c2_row8_col11 {\n",
       "  font-size: 6pt;\n",
       "  background-color: #545454;\n",
       "  color: #f1f1f1;\n",
       "}\n",
       "#T_6b9c2_row8_col12 {\n",
       "  font-size: 6pt;\n",
       "  background-color: #f1f1f1;\n",
       "  color: #000000;\n",
       "}\n",
       "#T_6b9c2_row9_col5 {\n",
       "  font-size: 6pt;\n",
       "  background-color: #f7f7f7;\n",
       "  color: #000000;\n",
       "}\n",
       "#T_6b9c2_row9_col7 {\n",
       "  font-size: 6pt;\n",
       "  background-color: #030303;\n",
       "  color: #f1f1f1;\n",
       "}\n",
       "#T_6b9c2_row9_col12 {\n",
       "  font-size: 6pt;\n",
       "  background-color: #181818;\n",
       "  color: #f1f1f1;\n",
       "}\n",
       "#T_6b9c2_row9_col13 {\n",
       "  font-size: 6pt;\n",
       "  background-color: #303030;\n",
       "  color: #f1f1f1;\n",
       "}\n",
       "#T_6b9c2_row9_col14 {\n",
       "  font-size: 6pt;\n",
       "  background-color: #a9a9a9;\n",
       "  color: #f1f1f1;\n",
       "}\n",
       "#T_6b9c2_row9_col15 {\n",
       "  font-size: 6pt;\n",
       "  background-color: #fefefe;\n",
       "  color: #000000;\n",
       "}\n",
       "#T_6b9c2_row10_col8, #T_6b9c2_row10_col9 {\n",
       "  font-size: 6pt;\n",
       "  background-color: #bababa;\n",
       "  color: #000000;\n",
       "}\n",
       "#T_6b9c2_row10_col10 {\n",
       "  font-size: 6pt;\n",
       "  background-color: #393939;\n",
       "  color: #f1f1f1;\n",
       "}\n",
       "</style>\n",
       "<table id=\"T_6b9c2_\">\n",
       "  <thead>\n",
       "    <tr>\n",
       "      <th class=\"blank level0\" >&nbsp;</th>\n",
       "      <th class=\"col_heading level0 col0\" >0</th>\n",
       "      <th class=\"col_heading level0 col1\" >1</th>\n",
       "      <th class=\"col_heading level0 col2\" >2</th>\n",
       "      <th class=\"col_heading level0 col3\" >3</th>\n",
       "      <th class=\"col_heading level0 col4\" >4</th>\n",
       "      <th class=\"col_heading level0 col5\" >5</th>\n",
       "      <th class=\"col_heading level0 col6\" >6</th>\n",
       "      <th class=\"col_heading level0 col7\" >7</th>\n",
       "      <th class=\"col_heading level0 col8\" >8</th>\n",
       "      <th class=\"col_heading level0 col9\" >9</th>\n",
       "      <th class=\"col_heading level0 col10\" >10</th>\n",
       "      <th class=\"col_heading level0 col11\" >11</th>\n",
       "      <th class=\"col_heading level0 col12\" >12</th>\n",
       "      <th class=\"col_heading level0 col13\" >13</th>\n",
       "      <th class=\"col_heading level0 col14\" >14</th>\n",
       "      <th class=\"col_heading level0 col15\" >15</th>\n",
       "      <th class=\"col_heading level0 col16\" >16</th>\n",
       "      <th class=\"col_heading level0 col17\" >17</th>\n",
       "    </tr>\n",
       "  </thead>\n",
       "  <tbody>\n",
       "    <tr>\n",
       "      <th id=\"T_6b9c2_level0_row0\" class=\"row_heading level0 row0\" >0</th>\n",
       "      <td id=\"T_6b9c2_row0_col0\" class=\"data row0 col0\" >0</td>\n",
       "      <td id=\"T_6b9c2_row0_col1\" class=\"data row0 col1\" >0</td>\n",
       "      <td id=\"T_6b9c2_row0_col2\" class=\"data row0 col2\" >0</td>\n",
       "      <td id=\"T_6b9c2_row0_col3\" class=\"data row0 col3\" >0</td>\n",
       "      <td id=\"T_6b9c2_row0_col4\" class=\"data row0 col4\" >0</td>\n",
       "      <td id=\"T_6b9c2_row0_col5\" class=\"data row0 col5\" >0</td>\n",
       "      <td id=\"T_6b9c2_row0_col6\" class=\"data row0 col6\" >0</td>\n",
       "      <td id=\"T_6b9c2_row0_col7\" class=\"data row0 col7\" >0</td>\n",
       "      <td id=\"T_6b9c2_row0_col8\" class=\"data row0 col8\" >0</td>\n",
       "      <td id=\"T_6b9c2_row0_col9\" class=\"data row0 col9\" >0</td>\n",
       "      <td id=\"T_6b9c2_row0_col10\" class=\"data row0 col10\" >0</td>\n",
       "      <td id=\"T_6b9c2_row0_col11\" class=\"data row0 col11\" >0</td>\n",
       "      <td id=\"T_6b9c2_row0_col12\" class=\"data row0 col12\" >0</td>\n",
       "      <td id=\"T_6b9c2_row0_col13\" class=\"data row0 col13\" >0</td>\n",
       "      <td id=\"T_6b9c2_row0_col14\" class=\"data row0 col14\" >0</td>\n",
       "      <td id=\"T_6b9c2_row0_col15\" class=\"data row0 col15\" >0</td>\n",
       "      <td id=\"T_6b9c2_row0_col16\" class=\"data row0 col16\" >0</td>\n",
       "      <td id=\"T_6b9c2_row0_col17\" class=\"data row0 col17\" >0</td>\n",
       "    </tr>\n",
       "    <tr>\n",
       "      <th id=\"T_6b9c2_level0_row1\" class=\"row_heading level0 row1\" >1</th>\n",
       "      <td id=\"T_6b9c2_row1_col0\" class=\"data row1 col0\" >0</td>\n",
       "      <td id=\"T_6b9c2_row1_col1\" class=\"data row1 col1\" >0</td>\n",
       "      <td id=\"T_6b9c2_row1_col2\" class=\"data row1 col2\" >0</td>\n",
       "      <td id=\"T_6b9c2_row1_col3\" class=\"data row1 col3\" >0</td>\n",
       "      <td id=\"T_6b9c2_row1_col4\" class=\"data row1 col4\" >0</td>\n",
       "      <td id=\"T_6b9c2_row1_col5\" class=\"data row1 col5\" >29</td>\n",
       "      <td id=\"T_6b9c2_row1_col6\" class=\"data row1 col6\" >150</td>\n",
       "      <td id=\"T_6b9c2_row1_col7\" class=\"data row1 col7\" >195</td>\n",
       "      <td id=\"T_6b9c2_row1_col8\" class=\"data row1 col8\" >254</td>\n",
       "      <td id=\"T_6b9c2_row1_col9\" class=\"data row1 col9\" >255</td>\n",
       "      <td id=\"T_6b9c2_row1_col10\" class=\"data row1 col10\" >254</td>\n",
       "      <td id=\"T_6b9c2_row1_col11\" class=\"data row1 col11\" >176</td>\n",
       "      <td id=\"T_6b9c2_row1_col12\" class=\"data row1 col12\" >193</td>\n",
       "      <td id=\"T_6b9c2_row1_col13\" class=\"data row1 col13\" >150</td>\n",
       "      <td id=\"T_6b9c2_row1_col14\" class=\"data row1 col14\" >96</td>\n",
       "      <td id=\"T_6b9c2_row1_col15\" class=\"data row1 col15\" >0</td>\n",
       "      <td id=\"T_6b9c2_row1_col16\" class=\"data row1 col16\" >0</td>\n",
       "      <td id=\"T_6b9c2_row1_col17\" class=\"data row1 col17\" >0</td>\n",
       "    </tr>\n",
       "    <tr>\n",
       "      <th id=\"T_6b9c2_level0_row2\" class=\"row_heading level0 row2\" >2</th>\n",
       "      <td id=\"T_6b9c2_row2_col0\" class=\"data row2 col0\" >0</td>\n",
       "      <td id=\"T_6b9c2_row2_col1\" class=\"data row2 col1\" >0</td>\n",
       "      <td id=\"T_6b9c2_row2_col2\" class=\"data row2 col2\" >0</td>\n",
       "      <td id=\"T_6b9c2_row2_col3\" class=\"data row2 col3\" >48</td>\n",
       "      <td id=\"T_6b9c2_row2_col4\" class=\"data row2 col4\" >166</td>\n",
       "      <td id=\"T_6b9c2_row2_col5\" class=\"data row2 col5\" >224</td>\n",
       "      <td id=\"T_6b9c2_row2_col6\" class=\"data row2 col6\" >253</td>\n",
       "      <td id=\"T_6b9c2_row2_col7\" class=\"data row2 col7\" >253</td>\n",
       "      <td id=\"T_6b9c2_row2_col8\" class=\"data row2 col8\" >234</td>\n",
       "      <td id=\"T_6b9c2_row2_col9\" class=\"data row2 col9\" >196</td>\n",
       "      <td id=\"T_6b9c2_row2_col10\" class=\"data row2 col10\" >253</td>\n",
       "      <td id=\"T_6b9c2_row2_col11\" class=\"data row2 col11\" >253</td>\n",
       "      <td id=\"T_6b9c2_row2_col12\" class=\"data row2 col12\" >253</td>\n",
       "      <td id=\"T_6b9c2_row2_col13\" class=\"data row2 col13\" >253</td>\n",
       "      <td id=\"T_6b9c2_row2_col14\" class=\"data row2 col14\" >233</td>\n",
       "      <td id=\"T_6b9c2_row2_col15\" class=\"data row2 col15\" >0</td>\n",
       "      <td id=\"T_6b9c2_row2_col16\" class=\"data row2 col16\" >0</td>\n",
       "      <td id=\"T_6b9c2_row2_col17\" class=\"data row2 col17\" >0</td>\n",
       "    </tr>\n",
       "    <tr>\n",
       "      <th id=\"T_6b9c2_level0_row3\" class=\"row_heading level0 row3\" >3</th>\n",
       "      <td id=\"T_6b9c2_row3_col0\" class=\"data row3 col0\" >0</td>\n",
       "      <td id=\"T_6b9c2_row3_col1\" class=\"data row3 col1\" >93</td>\n",
       "      <td id=\"T_6b9c2_row3_col2\" class=\"data row3 col2\" >244</td>\n",
       "      <td id=\"T_6b9c2_row3_col3\" class=\"data row3 col3\" >249</td>\n",
       "      <td id=\"T_6b9c2_row3_col4\" class=\"data row3 col4\" >253</td>\n",
       "      <td id=\"T_6b9c2_row3_col5\" class=\"data row3 col5\" >187</td>\n",
       "      <td id=\"T_6b9c2_row3_col6\" class=\"data row3 col6\" >46</td>\n",
       "      <td id=\"T_6b9c2_row3_col7\" class=\"data row3 col7\" >10</td>\n",
       "      <td id=\"T_6b9c2_row3_col8\" class=\"data row3 col8\" >8</td>\n",
       "      <td id=\"T_6b9c2_row3_col9\" class=\"data row3 col9\" >4</td>\n",
       "      <td id=\"T_6b9c2_row3_col10\" class=\"data row3 col10\" >10</td>\n",
       "      <td id=\"T_6b9c2_row3_col11\" class=\"data row3 col11\" >194</td>\n",
       "      <td id=\"T_6b9c2_row3_col12\" class=\"data row3 col12\" >253</td>\n",
       "      <td id=\"T_6b9c2_row3_col13\" class=\"data row3 col13\" >253</td>\n",
       "      <td id=\"T_6b9c2_row3_col14\" class=\"data row3 col14\" >233</td>\n",
       "      <td id=\"T_6b9c2_row3_col15\" class=\"data row3 col15\" >0</td>\n",
       "      <td id=\"T_6b9c2_row3_col16\" class=\"data row3 col16\" >0</td>\n",
       "      <td id=\"T_6b9c2_row3_col17\" class=\"data row3 col17\" >0</td>\n",
       "    </tr>\n",
       "    <tr>\n",
       "      <th id=\"T_6b9c2_level0_row4\" class=\"row_heading level0 row4\" >4</th>\n",
       "      <td id=\"T_6b9c2_row4_col0\" class=\"data row4 col0\" >0</td>\n",
       "      <td id=\"T_6b9c2_row4_col1\" class=\"data row4 col1\" >107</td>\n",
       "      <td id=\"T_6b9c2_row4_col2\" class=\"data row4 col2\" >253</td>\n",
       "      <td id=\"T_6b9c2_row4_col3\" class=\"data row4 col3\" >253</td>\n",
       "      <td id=\"T_6b9c2_row4_col4\" class=\"data row4 col4\" >230</td>\n",
       "      <td id=\"T_6b9c2_row4_col5\" class=\"data row4 col5\" >48</td>\n",
       "      <td id=\"T_6b9c2_row4_col6\" class=\"data row4 col6\" >0</td>\n",
       "      <td id=\"T_6b9c2_row4_col7\" class=\"data row4 col7\" >0</td>\n",
       "      <td id=\"T_6b9c2_row4_col8\" class=\"data row4 col8\" >0</td>\n",
       "      <td id=\"T_6b9c2_row4_col9\" class=\"data row4 col9\" >0</td>\n",
       "      <td id=\"T_6b9c2_row4_col10\" class=\"data row4 col10\" >0</td>\n",
       "      <td id=\"T_6b9c2_row4_col11\" class=\"data row4 col11\" >192</td>\n",
       "      <td id=\"T_6b9c2_row4_col12\" class=\"data row4 col12\" >253</td>\n",
       "      <td id=\"T_6b9c2_row4_col13\" class=\"data row4 col13\" >253</td>\n",
       "      <td id=\"T_6b9c2_row4_col14\" class=\"data row4 col14\" >156</td>\n",
       "      <td id=\"T_6b9c2_row4_col15\" class=\"data row4 col15\" >0</td>\n",
       "      <td id=\"T_6b9c2_row4_col16\" class=\"data row4 col16\" >0</td>\n",
       "      <td id=\"T_6b9c2_row4_col17\" class=\"data row4 col17\" >0</td>\n",
       "    </tr>\n",
       "    <tr>\n",
       "      <th id=\"T_6b9c2_level0_row5\" class=\"row_heading level0 row5\" >5</th>\n",
       "      <td id=\"T_6b9c2_row5_col0\" class=\"data row5 col0\" >0</td>\n",
       "      <td id=\"T_6b9c2_row5_col1\" class=\"data row5 col1\" >3</td>\n",
       "      <td id=\"T_6b9c2_row5_col2\" class=\"data row5 col2\" >20</td>\n",
       "      <td id=\"T_6b9c2_row5_col3\" class=\"data row5 col3\" >20</td>\n",
       "      <td id=\"T_6b9c2_row5_col4\" class=\"data row5 col4\" >15</td>\n",
       "      <td id=\"T_6b9c2_row5_col5\" class=\"data row5 col5\" >0</td>\n",
       "      <td id=\"T_6b9c2_row5_col6\" class=\"data row5 col6\" >0</td>\n",
       "      <td id=\"T_6b9c2_row5_col7\" class=\"data row5 col7\" >0</td>\n",
       "      <td id=\"T_6b9c2_row5_col8\" class=\"data row5 col8\" >0</td>\n",
       "      <td id=\"T_6b9c2_row5_col9\" class=\"data row5 col9\" >0</td>\n",
       "      <td id=\"T_6b9c2_row5_col10\" class=\"data row5 col10\" >43</td>\n",
       "      <td id=\"T_6b9c2_row5_col11\" class=\"data row5 col11\" >224</td>\n",
       "      <td id=\"T_6b9c2_row5_col12\" class=\"data row5 col12\" >253</td>\n",
       "      <td id=\"T_6b9c2_row5_col13\" class=\"data row5 col13\" >245</td>\n",
       "      <td id=\"T_6b9c2_row5_col14\" class=\"data row5 col14\" >74</td>\n",
       "      <td id=\"T_6b9c2_row5_col15\" class=\"data row5 col15\" >0</td>\n",
       "      <td id=\"T_6b9c2_row5_col16\" class=\"data row5 col16\" >0</td>\n",
       "      <td id=\"T_6b9c2_row5_col17\" class=\"data row5 col17\" >0</td>\n",
       "    </tr>\n",
       "    <tr>\n",
       "      <th id=\"T_6b9c2_level0_row6\" class=\"row_heading level0 row6\" >6</th>\n",
       "      <td id=\"T_6b9c2_row6_col0\" class=\"data row6 col0\" >0</td>\n",
       "      <td id=\"T_6b9c2_row6_col1\" class=\"data row6 col1\" >0</td>\n",
       "      <td id=\"T_6b9c2_row6_col2\" class=\"data row6 col2\" >0</td>\n",
       "      <td id=\"T_6b9c2_row6_col3\" class=\"data row6 col3\" >0</td>\n",
       "      <td id=\"T_6b9c2_row6_col4\" class=\"data row6 col4\" >0</td>\n",
       "      <td id=\"T_6b9c2_row6_col5\" class=\"data row6 col5\" >0</td>\n",
       "      <td id=\"T_6b9c2_row6_col6\" class=\"data row6 col6\" >0</td>\n",
       "      <td id=\"T_6b9c2_row6_col7\" class=\"data row6 col7\" >0</td>\n",
       "      <td id=\"T_6b9c2_row6_col8\" class=\"data row6 col8\" >0</td>\n",
       "      <td id=\"T_6b9c2_row6_col9\" class=\"data row6 col9\" >0</td>\n",
       "      <td id=\"T_6b9c2_row6_col10\" class=\"data row6 col10\" >249</td>\n",
       "      <td id=\"T_6b9c2_row6_col11\" class=\"data row6 col11\" >253</td>\n",
       "      <td id=\"T_6b9c2_row6_col12\" class=\"data row6 col12\" >245</td>\n",
       "      <td id=\"T_6b9c2_row6_col13\" class=\"data row6 col13\" >126</td>\n",
       "      <td id=\"T_6b9c2_row6_col14\" class=\"data row6 col14\" >0</td>\n",
       "      <td id=\"T_6b9c2_row6_col15\" class=\"data row6 col15\" >0</td>\n",
       "      <td id=\"T_6b9c2_row6_col16\" class=\"data row6 col16\" >0</td>\n",
       "      <td id=\"T_6b9c2_row6_col17\" class=\"data row6 col17\" >0</td>\n",
       "    </tr>\n",
       "    <tr>\n",
       "      <th id=\"T_6b9c2_level0_row7\" class=\"row_heading level0 row7\" >7</th>\n",
       "      <td id=\"T_6b9c2_row7_col0\" class=\"data row7 col0\" >0</td>\n",
       "      <td id=\"T_6b9c2_row7_col1\" class=\"data row7 col1\" >0</td>\n",
       "      <td id=\"T_6b9c2_row7_col2\" class=\"data row7 col2\" >0</td>\n",
       "      <td id=\"T_6b9c2_row7_col3\" class=\"data row7 col3\" >0</td>\n",
       "      <td id=\"T_6b9c2_row7_col4\" class=\"data row7 col4\" >0</td>\n",
       "      <td id=\"T_6b9c2_row7_col5\" class=\"data row7 col5\" >0</td>\n",
       "      <td id=\"T_6b9c2_row7_col6\" class=\"data row7 col6\" >0</td>\n",
       "      <td id=\"T_6b9c2_row7_col7\" class=\"data row7 col7\" >14</td>\n",
       "      <td id=\"T_6b9c2_row7_col8\" class=\"data row7 col8\" >101</td>\n",
       "      <td id=\"T_6b9c2_row7_col9\" class=\"data row7 col9\" >223</td>\n",
       "      <td id=\"T_6b9c2_row7_col10\" class=\"data row7 col10\" >253</td>\n",
       "      <td id=\"T_6b9c2_row7_col11\" class=\"data row7 col11\" >248</td>\n",
       "      <td id=\"T_6b9c2_row7_col12\" class=\"data row7 col12\" >124</td>\n",
       "      <td id=\"T_6b9c2_row7_col13\" class=\"data row7 col13\" >0</td>\n",
       "      <td id=\"T_6b9c2_row7_col14\" class=\"data row7 col14\" >0</td>\n",
       "      <td id=\"T_6b9c2_row7_col15\" class=\"data row7 col15\" >0</td>\n",
       "      <td id=\"T_6b9c2_row7_col16\" class=\"data row7 col16\" >0</td>\n",
       "      <td id=\"T_6b9c2_row7_col17\" class=\"data row7 col17\" >0</td>\n",
       "    </tr>\n",
       "    <tr>\n",
       "      <th id=\"T_6b9c2_level0_row8\" class=\"row_heading level0 row8\" >8</th>\n",
       "      <td id=\"T_6b9c2_row8_col0\" class=\"data row8 col0\" >0</td>\n",
       "      <td id=\"T_6b9c2_row8_col1\" class=\"data row8 col1\" >0</td>\n",
       "      <td id=\"T_6b9c2_row8_col2\" class=\"data row8 col2\" >0</td>\n",
       "      <td id=\"T_6b9c2_row8_col3\" class=\"data row8 col3\" >0</td>\n",
       "      <td id=\"T_6b9c2_row8_col4\" class=\"data row8 col4\" >0</td>\n",
       "      <td id=\"T_6b9c2_row8_col5\" class=\"data row8 col5\" >11</td>\n",
       "      <td id=\"T_6b9c2_row8_col6\" class=\"data row8 col6\" >166</td>\n",
       "      <td id=\"T_6b9c2_row8_col7\" class=\"data row8 col7\" >239</td>\n",
       "      <td id=\"T_6b9c2_row8_col8\" class=\"data row8 col8\" >253</td>\n",
       "      <td id=\"T_6b9c2_row8_col9\" class=\"data row8 col9\" >253</td>\n",
       "      <td id=\"T_6b9c2_row8_col10\" class=\"data row8 col10\" >253</td>\n",
       "      <td id=\"T_6b9c2_row8_col11\" class=\"data row8 col11\" >187</td>\n",
       "      <td id=\"T_6b9c2_row8_col12\" class=\"data row8 col12\" >30</td>\n",
       "      <td id=\"T_6b9c2_row8_col13\" class=\"data row8 col13\" >0</td>\n",
       "      <td id=\"T_6b9c2_row8_col14\" class=\"data row8 col14\" >0</td>\n",
       "      <td id=\"T_6b9c2_row8_col15\" class=\"data row8 col15\" >0</td>\n",
       "      <td id=\"T_6b9c2_row8_col16\" class=\"data row8 col16\" >0</td>\n",
       "      <td id=\"T_6b9c2_row8_col17\" class=\"data row8 col17\" >0</td>\n",
       "    </tr>\n",
       "    <tr>\n",
       "      <th id=\"T_6b9c2_level0_row9\" class=\"row_heading level0 row9\" >9</th>\n",
       "      <td id=\"T_6b9c2_row9_col0\" class=\"data row9 col0\" >0</td>\n",
       "      <td id=\"T_6b9c2_row9_col1\" class=\"data row9 col1\" >0</td>\n",
       "      <td id=\"T_6b9c2_row9_col2\" class=\"data row9 col2\" >0</td>\n",
       "      <td id=\"T_6b9c2_row9_col3\" class=\"data row9 col3\" >0</td>\n",
       "      <td id=\"T_6b9c2_row9_col4\" class=\"data row9 col4\" >0</td>\n",
       "      <td id=\"T_6b9c2_row9_col5\" class=\"data row9 col5\" >16</td>\n",
       "      <td id=\"T_6b9c2_row9_col6\" class=\"data row9 col6\" >248</td>\n",
       "      <td id=\"T_6b9c2_row9_col7\" class=\"data row9 col7\" >250</td>\n",
       "      <td id=\"T_6b9c2_row9_col8\" class=\"data row9 col8\" >253</td>\n",
       "      <td id=\"T_6b9c2_row9_col9\" class=\"data row9 col9\" >253</td>\n",
       "      <td id=\"T_6b9c2_row9_col10\" class=\"data row9 col10\" >253</td>\n",
       "      <td id=\"T_6b9c2_row9_col11\" class=\"data row9 col11\" >253</td>\n",
       "      <td id=\"T_6b9c2_row9_col12\" class=\"data row9 col12\" >232</td>\n",
       "      <td id=\"T_6b9c2_row9_col13\" class=\"data row9 col13\" >213</td>\n",
       "      <td id=\"T_6b9c2_row9_col14\" class=\"data row9 col14\" >111</td>\n",
       "      <td id=\"T_6b9c2_row9_col15\" class=\"data row9 col15\" >2</td>\n",
       "      <td id=\"T_6b9c2_row9_col16\" class=\"data row9 col16\" >0</td>\n",
       "      <td id=\"T_6b9c2_row9_col17\" class=\"data row9 col17\" >0</td>\n",
       "    </tr>\n",
       "    <tr>\n",
       "      <th id=\"T_6b9c2_level0_row10\" class=\"row_heading level0 row10\" >10</th>\n",
       "      <td id=\"T_6b9c2_row10_col0\" class=\"data row10 col0\" >0</td>\n",
       "      <td id=\"T_6b9c2_row10_col1\" class=\"data row10 col1\" >0</td>\n",
       "      <td id=\"T_6b9c2_row10_col2\" class=\"data row10 col2\" >0</td>\n",
       "      <td id=\"T_6b9c2_row10_col3\" class=\"data row10 col3\" >0</td>\n",
       "      <td id=\"T_6b9c2_row10_col4\" class=\"data row10 col4\" >0</td>\n",
       "      <td id=\"T_6b9c2_row10_col5\" class=\"data row10 col5\" >0</td>\n",
       "      <td id=\"T_6b9c2_row10_col6\" class=\"data row10 col6\" >0</td>\n",
       "      <td id=\"T_6b9c2_row10_col7\" class=\"data row10 col7\" >43</td>\n",
       "      <td id=\"T_6b9c2_row10_col8\" class=\"data row10 col8\" >98</td>\n",
       "      <td id=\"T_6b9c2_row10_col9\" class=\"data row10 col9\" >98</td>\n",
       "      <td id=\"T_6b9c2_row10_col10\" class=\"data row10 col10\" >208</td>\n",
       "      <td id=\"T_6b9c2_row10_col11\" class=\"data row10 col11\" >253</td>\n",
       "      <td id=\"T_6b9c2_row10_col12\" class=\"data row10 col12\" >253</td>\n",
       "      <td id=\"T_6b9c2_row10_col13\" class=\"data row10 col13\" >253</td>\n",
       "      <td id=\"T_6b9c2_row10_col14\" class=\"data row10 col14\" >253</td>\n",
       "      <td id=\"T_6b9c2_row10_col15\" class=\"data row10 col15\" >187</td>\n",
       "      <td id=\"T_6b9c2_row10_col16\" class=\"data row10 col16\" >22</td>\n",
       "      <td id=\"T_6b9c2_row10_col17\" class=\"data row10 col17\" >0</td>\n",
       "    </tr>\n",
       "  </tbody>\n",
       "</table>\n"
      ],
      "text/plain": [
       "<pandas.io.formats.style.Styler at 0x7f30ad98c410>"
      ]
     },
     "execution_count": 10,
     "metadata": {},
     "output_type": "execute_result"
    }
   ],
   "source": [
    "im3_t = tensor(im3)\n",
    "df = pd.DataFrame(im3_t[4:15, 4:22])\n",
    "df.style.set_properties(**{'font-size':'6pt'}).background_gradient('Greys')"
   ]
  },
  {
   "cell_type": "markdown",
   "id": "98e425f8",
   "metadata": {},
   "source": [
    "Você pode perceber que os valores de pixels brancos são armazenados como 0, os pretos como 255 e os tons de cinza estão entre os dois. A imagem contem ao todo 28 pixels de altura e 28 pixels de largura, ou seja, 768 pixels no total, o que é muito menor do que qualquer imagem que se pode tirar a partir da câmero de um smartphone."
   ]
  },
  {
   "cell_type": "markdown",
   "id": "3279583a",
   "metadata": {},
   "source": [
    "# 3- Primeira tentativa: similaridade de pixel"
   ]
  },
  {
   "cell_type": "markdown",
   "id": "4c439b0f",
   "metadata": {},
   "source": [
    "Para solucionar o problema de classificar uma imagem como dígito 3 ou 7, poderíamos encontrar o valor médio de pixel para cada pixel das respectivas imagens inicialmente. A partir disso, tais valores constituíram os pixels das imagens de um 3 e de um 7 ideais. Dessa forma, a fim de classificar uma nova imagem, poderíamos identificar a similaridade com uma dessas imagens ideais. Essa abordagem certamente é melhor do que nada."
   ]
  },
  {
   "cell_type": "code",
   "execution_count": null,
   "id": "7f796d63",
   "metadata": {},
   "outputs": [],
   "source": []
  }
 ],
 "metadata": {
  "kernelspec": {
   "display_name": "Python 3 (ipykernel)",
   "language": "python",
   "name": "python3"
  },
  "language_info": {
   "codemirror_mode": {
    "name": "ipython",
    "version": 3
   },
   "file_extension": ".py",
   "mimetype": "text/x-python",
   "name": "python",
   "nbconvert_exporter": "python",
   "pygments_lexer": "ipython3",
   "version": "3.7.7"
  }
 },
 "nbformat": 4,
 "nbformat_minor": 5
}
