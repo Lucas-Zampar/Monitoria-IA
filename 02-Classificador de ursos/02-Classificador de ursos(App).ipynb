{
 "cells": [
  {
   "cell_type": "code",
   "execution_count": 4,
   "id": "8e5f0eff",
   "metadata": {},
   "outputs": [],
   "source": [
    "import fastbook \n",
    "fastbook.setup_book()"
   ]
  },
  {
   "cell_type": "code",
   "execution_count": 5,
   "id": "32369f96",
   "metadata": {},
   "outputs": [],
   "source": [
    "from fastbook import *\n",
    "from fastai.vision.widgets import *"
   ]
  },
  {
   "cell_type": "code",
   "execution_count": 7,
   "id": "355efafe",
   "metadata": {},
   "outputs": [],
   "source": [
    "#Importando o modelo \n",
    "path = Path()\n",
    "learn_inf = load_learner(path/'mod_class_ursos.pkl')"
   ]
  },
  {
   "cell_type": "code",
   "execution_count": 8,
   "id": "852f0f47",
   "metadata": {},
   "outputs": [],
   "source": [
    "#Botão de upload \n",
    "btn_upload = widgets.FileUpload()"
   ]
  },
  {
   "cell_type": "code",
   "execution_count": 9,
   "id": "fd3cc18a",
   "metadata": {},
   "outputs": [],
   "source": [
    "#Para exibir imagem\n",
    "out_pl = widgets.Output()"
   ]
  },
  {
   "cell_type": "code",
   "execution_count": 10,
   "id": "fabdb916",
   "metadata": {},
   "outputs": [],
   "source": [
    "#Para exibir o label\n",
    "lbl_pred = widgets.Label()"
   ]
  },
  {
   "cell_type": "code",
   "execution_count": 11,
   "id": "0ad3a875",
   "metadata": {},
   "outputs": [],
   "source": [
    "#Botão de classificação\n",
    "btn_run = widgets.Button(description='Classificar')"
   ]
  },
  {
   "cell_type": "code",
   "execution_count": 12,
   "id": "c1812588",
   "metadata": {},
   "outputs": [],
   "source": [
    "#Handler de evento do botão de classificação\n",
    "def on_click_classify(change):\n",
    "    img = PILImage.create(btn_upload.data[-1])\n",
    "    out_pl.clear_output()\n",
    "    with out_pl: display(img.to_thumb(128,128))\n",
    "    pred,pred_idx,probs = learn_inf.predict(img)\n",
    "    lbl_pred.value = f'Predição: {pred}; Probabilidade: {probs[pred_idx]:.04f}'\n",
    "\n",
    "#Associe o handler ao evento de clicar\n",
    "btn_run.on_click(on_click_classify)"
   ]
  },
  {
   "cell_type": "code",
   "execution_count": 14,
   "id": "b2da7613",
   "metadata": {},
   "outputs": [
    {
     "data": {
      "application/vnd.jupyter.widget-view+json": {
       "model_id": "f04e2d9aad90414e976a4807354dcd5b",
       "version_major": 2,
       "version_minor": 0
      },
      "text/plain": [
       "VBox(children=(Label(value='Selecione seu urso!'), FileUpload(value={'grizzly.jpg': {'metadata': {'name': 'gri…"
      ]
     },
     "metadata": {},
     "output_type": "display_data"
    }
   ],
   "source": [
    "#Alinhe todos os componentes em uma caixa vertical\n",
    "VBox([widgets.Label('Selecione seu urso!'),\n",
    "btn_upload, btn_run, out_pl, lbl_pred])"
   ]
  },
  {
   "cell_type": "code",
   "execution_count": null,
   "id": "ac3351a2",
   "metadata": {},
   "outputs": [],
   "source": [
    "#Instala o voilà, caso não tenha \n",
    "!pip install voila\n",
    "\n",
    "#Inicia a aplicação a partir do notebook\n",
    "!voila "
   ]
  }
 ],
 "metadata": {
  "kernelspec": {
   "display_name": "Python 3",
   "language": "python",
   "name": "python3"
  },
  "language_info": {
   "codemirror_mode": {
    "name": "ipython",
    "version": 3
   },
   "file_extension": ".py",
   "mimetype": "text/x-python",
   "name": "python",
   "nbconvert_exporter": "python",
   "pygments_lexer": "ipython3",
   "version": "3.8.2"
  }
 },
 "nbformat": 4,
 "nbformat_minor": 5
}
