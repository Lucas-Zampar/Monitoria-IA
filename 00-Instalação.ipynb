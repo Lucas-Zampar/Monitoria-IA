{
 "cells": [
  {
   "cell_type": "markdown",
   "id": "83a12db6",
   "metadata": {},
   "source": [
    "# Conda"
   ]
  },
  {
   "cell_type": "markdown",
   "id": "443ed5c8",
   "metadata": {},
   "source": [
    "A fim de instalarmos os pacotes da fastai na máquina local, iremos empregar o gerenciador de pacotes e de ambientes Conda. Nesse contexto, podemos instalá-lo por meio do Anaconda, uma framework que oferece diversas ferramentas para data science. Ao instalá-lo, também instaleremos simultaneamento o Jupyter notebook."
   ]
  },
  {
   "cell_type": "markdown",
   "id": "7dc0bdda",
   "metadata": {},
   "source": [
    "# Obtendo o Anaconda"
   ]
  },
  {
   "cell_type": "markdown",
   "id": "f81efd0a",
   "metadata": {},
   "source": [
    "A fim de obter o Anaconda, acesse o seguinte link e realize o download para a versão do seu sistema operacional:https://www.anaconda.com/products/individual#Downloads"
   ]
  },
  {
   "cell_type": "markdown",
   "id": "0cd62516",
   "metadata": {},
   "source": [
    "Caso seja usuário linux, pode realizer o download da versão mais recente executando a célula abaixo: "
   ]
  },
  {
   "cell_type": "code",
   "execution_count": null,
   "id": "d3c57d0b",
   "metadata": {},
   "outputs": [],
   "source": [
    "!wget https://repo.anaconda.com/archive/Anaconda3-2021.05-Linux-x86_64.sh"
   ]
  },
  {
   "cell_type": "markdown",
   "id": "f4bdc029",
   "metadata": {},
   "source": [
    "# Instalando o Anaconda"
   ]
  },
  {
   "cell_type": "markdown",
   "id": "f94747d4",
   "metadata": {},
   "source": [
    "No caso de usuários linux, execute o comando bash *nome_do_arquivo_baixado.sh* no terminal. A partir disso, siga o fluxo normal de instalação. No final, o prompt mudará, exibindo (base) no início. Não se preocupe, isso apenas indica que estamos utilizando o ambiente base do conda. "
   ]
  },
  {
   "cell_type": "markdown",
   "id": "4624b5ef",
   "metadata": {},
   "source": [
    "Você poderá acessar o navegador do Anaconda por meio do comando <code> anaconda-navigator </code> no terminal. Caso queira apenas acessar o notebook Jupyter, entre com o comando <code> jupyter notebook </code>"
   ]
  },
  {
   "cell_type": "markdown",
   "id": "6ddb716f",
   "metadata": {},
   "source": [
    "No caso de usuários Windows, execute o arquivo .exe, siga o fluxo normal de instalação."
   ]
  },
  {
   "cell_type": "markdown",
   "id": "a2f7b7f6",
   "metadata": {},
   "source": [
    "# Instalando os pacotes do fastai"
   ]
  },
  {
   "cell_type": "markdown",
   "id": "9b64c551",
   "metadata": {},
   "source": [
    "Caso seja usuário linux, pode executar as seguintes células diretamente ou executar os respectivos comandos no terminal, apenas retire o sinal de exclamação (!) do início. O mesmo serve caso estejo utilizando o gradient. Lembre-se de executar estes comandos a fim de atualizar a biblioteca."
   ]
  },
  {
   "cell_type": "code",
   "execution_count": null,
   "id": "f569b8be",
   "metadata": {},
   "outputs": [],
   "source": [
    "!conda install -c fastchan fastai anaconda"
   ]
  },
  {
   "cell_type": "code",
   "execution_count": null,
   "id": "b9725a59",
   "metadata": {},
   "outputs": [],
   "source": [
    "!conda install -c fastai fastbook"
   ]
  },
  {
   "cell_type": "markdown",
   "id": "de514743",
   "metadata": {},
   "source": [
    "Caso seja usuário Windoes, abra o prompt do Anaconda, inserindo os comandos sem o sinal de exclamação (!) do início em seguida. "
   ]
  }
 ],
 "metadata": {
  "kernelspec": {
   "display_name": "Python 3",
   "language": "python",
   "name": "python3"
  },
  "language_info": {
   "codemirror_mode": {
    "name": "ipython",
    "version": 3
   },
   "file_extension": ".py",
   "mimetype": "text/x-python",
   "name": "python",
   "nbconvert_exporter": "python",
   "pygments_lexer": "ipython3",
   "version": "3.8.2"
  }
 },
 "nbformat": 4,
 "nbformat_minor": 5
}
