{
 "cells": [
  {
   "cell_type": "markdown",
   "id": "f285010c",
   "metadata": {},
   "source": [
    "# OBSERVAÇÃO"
   ]
  },
  {
   "cell_type": "markdown",
   "id": "5b0ea3ef",
   "metadata": {},
   "source": [
    "O presente notebook visa servir como uma breve introdução ao Pytorch Geometric, módulo por meio do qual é possível desenvolver modelos de deep learning geométrico. Não é necessário ter conhecimentos prévios em deep learning, pois todos os conceitos específicos serão explicados. Vale ressaltar que o código, bem como o conteúdo, deste notebook foi fortemente inspirado pela <a href='https://pytorch-geometric.readthedocs.io/en/latest/notes/introduction.html'>documentação</a> da biblioteca. Todo crédito aos desenvolvedores:\n",
    "\n",
    "FEY, Matthias; LENSSEN, Jan Eric. Fast graph representation learning with PyTorch Geometric. arXiv preprint arXiv:1903.02428, 2019."
   ]
  },
  {
   "cell_type": "markdown",
   "id": "9aeddc3d",
   "metadata": {},
   "source": [
    "# 0- Instalação"
   ]
  },
  {
   "cell_type": "markdown",
   "id": "aa75827c",
   "metadata": {},
   "source": [
    "## 0.1- Gradient notebook"
   ]
  },
  {
   "cell_type": "markdown",
   "id": "ee2b6374",
   "metadata": {},
   "source": [
    "No <a href='https://gradient.run/notebooks'>  gradient </a>, inicialize um novo notebook a partir do container do Pytorch. Em seguida, desinstale a versão atual do Pytorch pelo seguinte código:"
   ]
  },
  {
   "cell_type": "code",
   "execution_count": 1,
   "id": "1ef77b1c",
   "metadata": {},
   "outputs": [
    {
     "data": {
      "text/plain": [
       "'\\n!pip3 uninstall torchtext -y\\n!pip3 uninstall torchvision -y\\n!pip3 uninstall torch -y\\n'"
      ]
     },
     "execution_count": 1,
     "metadata": {},
     "output_type": "execute_result"
    }
   ],
   "source": [
    "'''\n",
    "!pip3 uninstall torchtext -y\n",
    "!pip3 uninstall torchvision -y\n",
    "!pip3 uninstall torch -y\n",
    "'''"
   ]
  },
  {
   "cell_type": "markdown",
   "id": "95c1bcea",
   "metadata": {},
   "source": [
    "A partir disso, instale a versão 1.9.0:"
   ]
  },
  {
   "cell_type": "code",
   "execution_count": 2,
   "id": "d2f46d60",
   "metadata": {},
   "outputs": [],
   "source": [
    "#!pip3 install torch==1.9.0"
   ]
  },
  {
   "cell_type": "markdown",
   "id": "7bce8fa3",
   "metadata": {},
   "source": [
    "Com isso, baixe os pacotes do Pytorch Geometric:"
   ]
  },
  {
   "cell_type": "code",
   "execution_count": 3,
   "id": "3470b668",
   "metadata": {},
   "outputs": [
    {
     "data": {
      "text/plain": [
       "\"\\nimport torch\\n\\nif torch.__version__ != '1.9.0+cu102':\\n    print('Versão do pytorch inadequada! Favor instalar a versão 1.9.0.')\\nelse:    \\n    pytorch_version=f'torch-{torch.__version__}.html'\\n    !pip3 install --no-index torch-scatter -f https://pytorch-geometric.com/whl/$pytorch_version\\n    !pip3 install --no-index torch-sparse -f https://pytorch-geometric.com/whl/$pytorch_version\\n    !pip3 install --no-index torch-cluster -f https://pytorch-geometric.com/whl/$pytorch_version\\n    !pip3 install --no-index torch-spline-conv -f https://pytorch-geometric.com/whl/$pytorch_version\\n    !pip3 install torch-geometric\\n\""
      ]
     },
     "execution_count": 3,
     "metadata": {},
     "output_type": "execute_result"
    }
   ],
   "source": [
    "'''\n",
    "import torch\n",
    "\n",
    "if torch.__version__ != '1.9.0+cu102':\n",
    "    print('Versão do pytorch inadequada! Favor instalar a versão 1.9.0.')\n",
    "else:    \n",
    "    pytorch_version=f'torch-{torch.__version__}.html'\n",
    "    !pip3 install --no-index torch-scatter -f https://pytorch-geometric.com/whl/$pytorch_version\n",
    "    !pip3 install --no-index torch-sparse -f https://pytorch-geometric.com/whl/$pytorch_version\n",
    "    !pip3 install --no-index torch-cluster -f https://pytorch-geometric.com/whl/$pytorch_version\n",
    "    !pip3 install --no-index torch-spline-conv -f https://pytorch-geometric.com/whl/$pytorch_version\n",
    "    !pip3 install torch-geometric\n",
    "'''"
   ]
  },
  {
   "cell_type": "markdown",
   "id": "7907e63a",
   "metadata": {},
   "source": [
    "## 0.2- Instalação local"
   ]
  },
  {
   "cell_type": "markdown",
   "id": "d4f1eeb1",
   "metadata": {},
   "source": [
    "É fortemente recomendado criar um novo ambiente virtual. "
   ]
  },
  {
   "cell_type": "markdown",
   "id": "4784019d",
   "metadata": {},
   "source": [
    "Instale o Pytorch:"
   ]
  },
  {
   "cell_type": "code",
   "execution_count": 4,
   "id": "a7cae41a",
   "metadata": {},
   "outputs": [],
   "source": [
    "#!conda install pytorch torchvision torchaudio cudatoolkit=10.2 -c pytorch -y"
   ]
  },
  {
   "cell_type": "markdown",
   "id": "b177abe8",
   "metadata": {},
   "source": [
    "Instale o Pytorch Geometric:"
   ]
  },
  {
   "cell_type": "code",
   "execution_count": 5,
   "id": "9c4ad74a",
   "metadata": {},
   "outputs": [],
   "source": [
    "#!conda install pyg -c pyg -c conda-forge"
   ]
  },
  {
   "cell_type": "markdown",
   "id": "af6e5d40",
   "metadata": {},
   "source": [
    "A partir desse momento, iremos denominar o Pytorch Geotric como PyG."
   ]
  },
  {
   "cell_type": "markdown",
   "id": "0fe0318f",
   "metadata": {},
   "source": [
    "# 1- Representação de um grafo"
   ]
  },
  {
   "cell_type": "markdown",
   "id": "eee53257",
   "metadata": {},
   "source": [
    "Como introdução ao PyG, vamos construir o grafo definido pela equação abaixo:"
   ]
  },
  {
   "cell_type": "markdown",
   "id": "245c105b",
   "metadata": {},
   "source": [
    "$$ G = \\{ V, E \\} $$"
   ]
  },
  {
   "cell_type": "markdown",
   "id": "e5d5454b",
   "metadata": {},
   "source": [
    "Em que:"
   ]
  },
  {
   "cell_type": "markdown",
   "id": "2d3e1d1e",
   "metadata": {},
   "source": [
    "$$ V = \\{ \\{0, 1, 2 \\} \\} $$\n",
    "$$ E = \\{ \\{0, 1\\}, \\{1, 2\\} \\} $$"
   ]
  },
  {
   "cell_type": "markdown",
   "id": "0d4380d4",
   "metadata": {},
   "source": [
    "Note que o grafo G é composto por três vértices {0,1,2} e por duas arestas {{0,1},{1,2}}, sendo não dirigido."
   ]
  },
  {
   "cell_type": "markdown",
   "id": "6a9ebdd3",
   "metadata": {},
   "source": [
    "No PyG, um grafo é representado como uma instância da classe <code>torch_geometric.data.Data</code>. Portanto, devemos importá-la de modo a construir o grafo. Além disso, importaremos também o módulo <code>torch</code> com a finalidade de utilizar algumas funcionalidades do Pytorch, como os tensores."
   ]
  },
  {
   "cell_type": "code",
   "execution_count": 6,
   "id": "e35086ee",
   "metadata": {},
   "outputs": [],
   "source": [
    "import torch\n",
    "from torch_geometric.data import Data"
   ]
  },
  {
   "cell_type": "markdown",
   "id": "497ecb59",
   "metadata": {},
   "source": [
    "## 1.1- Representando as arestas"
   ]
  },
  {
   "cell_type": "markdown",
   "id": "75df58d4",
   "metadata": {},
   "source": [
    "A classe <code>Data</code> espera receber a representação das arestas no formato <code>COO</code> (COOrdinate). Nele, a conectividade do grafo é representada por meio de uma matriz com duas linhas, a primeira se referindo aos vértices de origem; a segunda, aos de destino. Dessa forma, os dois vértices em uma mesma coluna compõem a aresta em questão."
   ]
  },
  {
   "cell_type": "markdown",
   "id": "2f2559b9",
   "metadata": {},
   "source": [
    "Usualmente,tal matriz é referida como <code>edge_index</code>, sendo implementada por um tensor do tipo <code>torch.long</code>:"
   ]
  },
  {
   "cell_type": "code",
   "execution_count": 7,
   "id": "63e31789",
   "metadata": {},
   "outputs": [
    {
     "data": {
      "text/plain": [
       "tensor([[0, 1, 1, 2],\n",
       "        [1, 0, 2, 1]])"
      ]
     },
     "execution_count": 7,
     "metadata": {},
     "output_type": "execute_result"
    }
   ],
   "source": [
    "l = [[0, 1, 1, 2], \n",
    "     [1, 0, 2, 1]]\n",
    "\n",
    "edge_index = torch.tensor(l, dtype=torch.long)\n",
    "edge_index"
   ]
  },
  {
   "cell_type": "markdown",
   "id": "8a181956",
   "metadata": {},
   "source": [
    "Perceba que, na primeria coluna, encontram-se os vértices 0 e 1 respectivamente, representando uma aresta que parte de 0 em direção a 1. Já na segunda coluna, novamente encontramos os vértices 0 e 1, porém na ordem inversa, indicando que agora a aresta parte de 1 em direção a 0. \n"
   ]
  },
  {
   "cell_type": "markdown",
   "id": "630bac90",
   "metadata": {},
   "source": [
    "Tal notação, embora pareça redundante, é necessária para sinalizar que o grafo é não dirigido. O mesmo padrão se repete para as duas últimas colunas, as quais representam a aresta {1,2}."
   ]
  },
  {
   "cell_type": "markdown",
   "id": "816e280f",
   "metadata": {},
   "source": [
    "Outra forma de definir as arestas seria por meio de uma lista de tuplas. Porém, de modo a manter o formato COO, precisamos realizar a transposição do tensor, por meio do método <code>t</code>, além de aplicar o método <code>contiguous</code> em seguida."
   ]
  },
  {
   "cell_type": "code",
   "execution_count": 8,
   "id": "962b6497",
   "metadata": {},
   "outputs": [
    {
     "data": {
      "text/plain": [
       "tensor([[0, 1, 1, 2],\n",
       "        [1, 0, 2, 1]])"
      ]
     },
     "execution_count": 8,
     "metadata": {},
     "output_type": "execute_result"
    }
   ],
   "source": [
    "edge_index = torch.tensor([[0,1],\n",
    "                           [1,0],\n",
    "                           [1,2],\n",
    "                           [2,1]], dtype=torch.long)\n",
    "\n",
    "edge_index = edge_index.t().contiguous()\n",
    "edge_index"
   ]
  },
  {
   "cell_type": "markdown",
   "id": "001e19bd",
   "metadata": {},
   "source": [
    "## 1.2 - Representando as _features_"
   ]
  },
  {
   "cell_type": "markdown",
   "id": "67078246",
   "metadata": {},
   "source": [
    "Para esse exemplo, cada nó terá apenas uma _feature_. Dessa forma, podemos definir o tensor como uma matriz coluna, em que cada linha representa as _features_ dos nós 0, 1 e 2 respectivamente. "
   ]
  },
  {
   "cell_type": "markdown",
   "id": "48d7632c",
   "metadata": {},
   "source": [
    "Como as _features_ são as variáveis independentes do modelo, iremos referenciar tal tensor como <code>x</code>, além de atribuir o tipo de dado <code>torch.float</code>."
   ]
  },
  {
   "cell_type": "code",
   "execution_count": 9,
   "id": "83784fff",
   "metadata": {},
   "outputs": [
    {
     "data": {
      "text/plain": [
       "tensor([[-1.],\n",
       "        [ 0.],\n",
       "        [ 1.]])"
      ]
     },
     "execution_count": 9,
     "metadata": {},
     "output_type": "execute_result"
    }
   ],
   "source": [
    "l = [[-1], \n",
    "     [0], \n",
    "     [1]]\n",
    "\n",
    "x = torch.tensor(l, dtype=torch.float)\n",
    "x"
   ]
  },
  {
   "cell_type": "markdown",
   "id": "957a8c6f",
   "metadata": {},
   "source": [
    "## 1.3 - Criando a representação do grafo"
   ]
  },
  {
   "cell_type": "markdown",
   "id": "79d5bb0f",
   "metadata": {},
   "source": [
    "Por fim, de modo a representar o grafo G, precisamos apenas criar uma instância da classe <code>Data</code>, passando os tensores como argumentos do construtor."
   ]
  },
  {
   "cell_type": "code",
   "execution_count": 10,
   "id": "0219bd37",
   "metadata": {},
   "outputs": [
    {
     "data": {
      "text/plain": [
       "Data(x=[3, 1], edge_index=[2, 4])"
      ]
     },
     "execution_count": 10,
     "metadata": {},
     "output_type": "execute_result"
    }
   ],
   "source": [
    "data = Data(x=x, edge_index=edge_index)\n",
    "data"
   ]
  },
  {
   "cell_type": "markdown",
   "id": "d31462fc",
   "metadata": {},
   "source": [
    "Dessa forma, criamos a representação do grafo G (indicado pela imagem abaixo) no PyG. "
   ]
  },
  {
   "cell_type": "markdown",
   "id": "38eb92ee",
   "metadata": {},
   "source": [
    "<figure>\n",
    "<img src=\"img/01-graph.svg\" alt=\"Grafo\" width='400'>\n",
    "    <figcaption>\n",
    "        <em>Fonte: \n",
    "            <a href='https://pytorch-geometric.readthedocs.io/en/latest/'>Documentação do Pytorch Geometric</a>\n",
    "        </em>\n",
    "    </figcaption>\n",
    "</figure>\n",
    "\n"
   ]
  },
  {
   "cell_type": "markdown",
   "id": "5e62194f",
   "metadata": {},
   "source": [
    "## 1.4 - Atributos e métodos"
   ]
  },
  {
   "cell_type": "markdown",
   "id": "bb3fa715",
   "metadata": {},
   "source": [
    "A classe <code>Data</code> contem diversos parâmetros que retornam informações importantes da representação do grafo. Por exemplo, podemos visualizar a matriz que representa as arestas no formato COO:"
   ]
  },
  {
   "cell_type": "code",
   "execution_count": 11,
   "id": "5ee4786e",
   "metadata": {},
   "outputs": [
    {
     "data": {
      "text/plain": [
       "tensor([[0, 1, 1, 2],\n",
       "        [1, 0, 2, 1]])"
      ]
     },
     "execution_count": 11,
     "metadata": {},
     "output_type": "execute_result"
    }
   ],
   "source": [
    "data.edge_index"
   ]
  },
  {
   "cell_type": "markdown",
   "id": "8620882e",
   "metadata": {},
   "source": [
    "A fim da melhor visualização, podemos transpor essa matriz:"
   ]
  },
  {
   "cell_type": "code",
   "execution_count": 12,
   "id": "526db424",
   "metadata": {},
   "outputs": [
    {
     "data": {
      "text/plain": [
       "tensor([[0, 1],\n",
       "        [1, 0],\n",
       "        [1, 2],\n",
       "        [2, 1]])"
      ]
     },
     "execution_count": 12,
     "metadata": {},
     "output_type": "execute_result"
    }
   ],
   "source": [
    "data.edge_index.t()"
   ]
  },
  {
   "cell_type": "markdown",
   "id": "e80a8355",
   "metadata": {},
   "source": [
    "Podemos visualizar também a matriz de _features_ que guarda as variáveis independentes do modelo:"
   ]
  },
  {
   "cell_type": "code",
   "execution_count": 13,
   "id": "cbf2681c",
   "metadata": {},
   "outputs": [
    {
     "data": {
      "text/plain": [
       "tensor([[-1.],\n",
       "        [ 0.],\n",
       "        [ 1.]])"
      ]
     },
     "execution_count": 13,
     "metadata": {},
     "output_type": "execute_result"
    }
   ],
   "source": [
    "data.x"
   ]
  },
  {
   "cell_type": "markdown",
   "id": "e7a7d0cd",
   "metadata": {},
   "source": [
    "Podemos saber a quantidade de nós do grafo:"
   ]
  },
  {
   "cell_type": "code",
   "execution_count": 14,
   "id": "998371ff",
   "metadata": {},
   "outputs": [
    {
     "data": {
      "text/plain": [
       "3"
      ]
     },
     "execution_count": 14,
     "metadata": {},
     "output_type": "execute_result"
    }
   ],
   "source": [
    "data.num_nodes"
   ]
  },
  {
   "cell_type": "markdown",
   "id": "177f61f8",
   "metadata": {},
   "source": [
    "Bem como o número de arestas:"
   ]
  },
  {
   "cell_type": "code",
   "execution_count": 15,
   "id": "37728abb",
   "metadata": {},
   "outputs": [
    {
     "data": {
      "text/plain": [
       "4"
      ]
     },
     "execution_count": 15,
     "metadata": {},
     "output_type": "execute_result"
    }
   ],
   "source": [
    "data.num_edges"
   ]
  },
  {
   "cell_type": "markdown",
   "id": "481c5553",
   "metadata": {},
   "source": [
    "Além da quantidade de _features_ por nó:"
   ]
  },
  {
   "cell_type": "code",
   "execution_count": 16,
   "id": "67970425",
   "metadata": {},
   "outputs": [
    {
     "data": {
      "text/plain": [
       "1"
      ]
     },
     "execution_count": 16,
     "metadata": {},
     "output_type": "execute_result"
    }
   ],
   "source": [
    "data.num_features"
   ]
  },
  {
   "cell_type": "markdown",
   "id": "5425cc13",
   "metadata": {},
   "source": [
    "Além disso, há métodos que retornnam outras informações gerais acerca do grafo, como se ele possui nós isolados:"
   ]
  },
  {
   "cell_type": "code",
   "execution_count": 17,
   "id": "efae8600",
   "metadata": {},
   "outputs": [
    {
     "data": {
      "text/plain": [
       "False"
      ]
     },
     "execution_count": 17,
     "metadata": {},
     "output_type": "execute_result"
    }
   ],
   "source": [
    "data.has_isolated_nodes()"
   ]
  },
  {
   "cell_type": "markdown",
   "id": "6b6a0a2f",
   "metadata": {},
   "source": [
    "Se possui grafos conectados a si (_self loops_):"
   ]
  },
  {
   "cell_type": "code",
   "execution_count": 18,
   "id": "b513bede",
   "metadata": {},
   "outputs": [
    {
     "data": {
      "text/plain": [
       "False"
      ]
     },
     "execution_count": 18,
     "metadata": {},
     "output_type": "execute_result"
    }
   ],
   "source": [
    "data.has_self_loops()"
   ]
  },
  {
   "cell_type": "markdown",
   "id": "a7a87983",
   "metadata": {},
   "source": [
    "Por fim, se o grafo é dirigido:"
   ]
  },
  {
   "cell_type": "code",
   "execution_count": 19,
   "id": "c03c3e8c",
   "metadata": {},
   "outputs": [
    {
     "data": {
      "text/plain": [
       "False"
      ]
     },
     "execution_count": 19,
     "metadata": {},
     "output_type": "execute_result"
    }
   ],
   "source": [
    "data.is_directed()"
   ]
  },
  {
   "cell_type": "markdown",
   "id": "2f46001c",
   "metadata": {},
   "source": [
    "# 2- Dataset Cora"
   ]
  },
  {
   "cell_type": "markdown",
   "id": "9f887b56",
   "metadata": {},
   "source": [
    "Até o presente momento, apenas verificamos como o PyG representa um grafo, bem como as informações que podemos extrair dele. A partir disso, já podemos trabalhar com um exemplo real."
   ]
  },
  {
   "cell_type": "markdown",
   "id": "d9de6821",
   "metadata": {},
   "source": [
    "Para tanto, o PyG disponibiliza diversos <a href='https://pytorch-geometric.readthedocs.io/en/latest/modules/datasets.html'>datasets</a>, dentre eles, o <code>Cora</code>, presente na coleção <code>Planetoid</code>, um dos mais empregados para benchmark para modelos de aprendizagem semi-supervisionada. Abaixo, há uma breve descrição do dataset:"
   ]
  },
  {
   "cell_type": "markdown",
   "id": "af740eae",
   "metadata": {},
   "source": [
    ">\n",
    ">O dataset Cora é constituído por 2708 publicações de Machine Learning classificadas em 7 categorias:\n",
    "> - Baseado em Caso\n",
    "> - Algortimos Genéticos\n",
    "> - Redes Neurais\n",
    "> - Métodos Probabilísticos\n",
    "> - Aprendizagem por Reforço\n",
    "> - Regra de Aprendizagem\n",
    "> - Teoria\n",
    ">\n",
    ">Os artigos foram selecionados de sorte que todos citam ou são citados por ao menos outro artigo. No total, há 5429 links de citação.\n",
    ">\n",
    ">Com base na frequência de palavras relevantes dos documentos, foi criado um vocabulário com 1433 palavras únicas. Cada publicação é descrita por um vetor binário que corresponde a presença ou ausência de determinada palavra do vocabulário.\n",
    ">\n",
    ">_Fonte: https://linqs.soe.ucsc.edu/data_"
   ]
  },
  {
   "cell_type": "markdown",
   "id": "e93e3bdc",
   "metadata": {},
   "source": [
    "A partir da descrição acima, podemos inferir algumas características do grafo que representa o dataset <code>Cora</code>. Nesse contexto, as publicações são referentes aos nós; as citações, às arestas. Além disso, o vetor binário indicando a presença ou ausência de palavras do vocabulário na publicação representa o vetor de _features_ de cada nó. "
   ]
  },
  {
   "cell_type": "markdown",
   "id": "a8d31492",
   "metadata": {},
   "source": [
    "Dessa forma, teríamos um grafo com 2708 nós (publicações), 5429 arestas (links de citação) e 1433 _features_ para cada nó. Podemos ter uma breve ideia da forma desse grafo com base na imagem abaixo. Cada cor represente uma entre as 7 classes possíveis para os nós:"
   ]
  },
  {
   "cell_type": "markdown",
   "id": "ac02a7a6",
   "metadata": {},
   "source": [
    "<figure>\n",
    "<img src=\"img/02-cora.jpg\" alt=\"Cora\" width='450'>\n",
    "    <figcaption>\n",
    "        <em>Fonte: \n",
    "            <a href='https://paperswithcode.com/dataset/cora'>PapersWithCode</a>\n",
    "        </em>\n",
    "    </figcaption>\n",
    "</figure>\n"
   ]
  },
  {
   "cell_type": "markdown",
   "id": "78da3c55",
   "metadata": {},
   "source": [
    "## 2.1- Importando o dataset"
   ]
  },
  {
   "cell_type": "markdown",
   "id": "0a1328b0",
   "metadata": {},
   "source": [
    "Para ter acesso a qualquer dataset disponibilizado pelo PyG, deve-se importar a classe referente à coleção do dataset a partir de <code>torch_geometric.datasets</code>. Nesse caso, o Cora está presente na coleção <code>Planetoid</code>. "
   ]
  },
  {
   "cell_type": "code",
   "execution_count": 20,
   "id": "e0dcfadf",
   "metadata": {},
   "outputs": [],
   "source": [
    "from torch_geometric.datasets import Planetoid"
   ]
  },
  {
   "cell_type": "markdown",
   "id": "1f2cc64b",
   "metadata": {},
   "source": [
    "Agora, devemos especificar o diretório de destino (<code>root</code>), bem como o nome (<code>name</code>) do dataset. Então, o PyG irá realizar o download dos arquivos brutos (_raw_) do dataset, convertendo posteriormente para o formato <code>Data</code> já discutido, caso isso não tenha sido realizado anteriormente."
   ]
  },
  {
   "cell_type": "code",
   "execution_count": 21,
   "id": "ff2a6fca",
   "metadata": {},
   "outputs": [],
   "source": [
    "dataset = Planetoid(root='.', name='Cora')"
   ]
  },
  {
   "cell_type": "markdown",
   "id": "148d8598",
   "metadata": {},
   "source": [
    "No exemplo acima, o destino final do dataset é o mesmo diretório deste notebook <code>'.'</code>. Então, é possível visualizar a criação da pasta Cora. Dentro dela, há duas pastas: _raw_ e _processed_. Na primeira, constam os arquivos originais do dataset; na segundo, os empregados pelo PyG para representar o dataset como um grafo no formato <code>Data</code> originados a partir do processamentos dos primeiros."
   ]
  },
  {
   "cell_type": "markdown",
   "id": "b235f803",
   "metadata": {},
   "source": [
    "## 2.2- Visualizando o dataset"
   ]
  },
  {
   "cell_type": "markdown",
   "id": "2800a403",
   "metadata": {},
   "source": [
    "Uma vez inicializado, podemos visualizar algumas informações do dataset. Por exemplo, seu tamanho, isto é, a quantidade de grafos que possui:"
   ]
  },
  {
   "cell_type": "code",
   "execution_count": 22,
   "id": "2ba91d6a",
   "metadata": {},
   "outputs": [
    {
     "data": {
      "text/plain": [
       "1"
      ]
     },
     "execution_count": 22,
     "metadata": {},
     "output_type": "execute_result"
    }
   ],
   "source": [
    "len(dataset)"
   ]
  },
  {
   "cell_type": "markdown",
   "id": "8abb1932",
   "metadata": {},
   "source": [
    "No total, há apenas um grande grafo que representa todo o dataset. Além disso, podemos verificar a quantidade de classes dos nós:"
   ]
  },
  {
   "cell_type": "code",
   "execution_count": 23,
   "id": "96080550",
   "metadata": {},
   "outputs": [
    {
     "data": {
      "text/plain": [
       "7"
      ]
     },
     "execution_count": 23,
     "metadata": {},
     "output_type": "execute_result"
    }
   ],
   "source": [
    "dataset.num_classes"
   ]
  },
  {
   "cell_type": "markdown",
   "id": "218fba7d",
   "metadata": {},
   "source": [
    "Conforme exposto pela descrição, há de fato 7 classes. Podemos também verificar o número de _features_ dos nós:"
   ]
  },
  {
   "cell_type": "code",
   "execution_count": 24,
   "id": "56972ada",
   "metadata": {},
   "outputs": [
    {
     "data": {
      "text/plain": [
       "1433"
      ]
     },
     "execution_count": 24,
     "metadata": {},
     "output_type": "execute_result"
    }
   ],
   "source": [
    "dataset.num_node_features"
   ]
  },
  {
   "cell_type": "markdown",
   "id": "1a56f53e",
   "metadata": {},
   "source": [
    "Dessa forma, é possível constatar que há 1433 _features_ por nó realmente."
   ]
  },
  {
   "cell_type": "markdown",
   "id": "45abd189",
   "metadata": {},
   "source": [
    "Agora, vamos referenciar o grafo do dataset. Nesse caso, como mencionado, há apenas um grande grafo. Porém, há datasets que contêm diversos grafos, especialmente aqueles destinados para tarefas de classificação em nível de grafo."
   ]
  },
  {
   "cell_type": "code",
   "execution_count": 25,
   "id": "cade5182",
   "metadata": {},
   "outputs": [
    {
     "data": {
      "text/plain": [
       "Data(x=[2708, 1433], edge_index=[2, 10556], y=[2708], train_mask=[2708], val_mask=[2708], test_mask=[2708])"
      ]
     },
     "execution_count": 25,
     "metadata": {},
     "output_type": "execute_result"
    }
   ],
   "source": [
    "data = dataset[0]\n",
    "data"
   ]
  },
  {
   "cell_type": "markdown",
   "id": "24038830",
   "metadata": {},
   "source": [
    "A partir disso, podemos verificar se o grafo retornado realmente é uma instância da classe <code>Data</code> conforme mencionado."
   ]
  },
  {
   "cell_type": "code",
   "execution_count": 26,
   "id": "1018aa44",
   "metadata": {},
   "outputs": [
    {
     "name": "stdout",
     "output_type": "stream",
     "text": [
      ">> O grafo é instâncida de Data\n"
     ]
    }
   ],
   "source": [
    "from torch_geometric.data import Data\n",
    "\n",
    "text = 'O grafo é instâncida de Data' if isinstance(data, Data) else 'O grafo não é instância de Data'\n",
    "print(f'>> {text}')"
   ]
  },
  {
   "cell_type": "markdown",
   "id": "7f26138c",
   "metadata": {},
   "source": [
    "Além disso, podemos verificar também se é um grafo dirigido ou não:"
   ]
  },
  {
   "cell_type": "code",
   "execution_count": 27,
   "id": "c3b912c8",
   "metadata": {},
   "outputs": [
    {
     "name": "stdout",
     "output_type": "stream",
     "text": [
      ">> O grafo não é dirigido\n"
     ]
    }
   ],
   "source": [
    "text = 'O grafo não é dirigido' if data.is_undirected() else 'O grafo é dirigido'\n",
    "print(f'>> {text}')"
   ]
  },
  {
   "cell_type": "markdown",
   "id": "6bf8605b",
   "metadata": {},
   "source": [
    "Bem como a quantidade de nós e de arestas. Lembre que as arestas são computadas duas vezes na representação de um grafo não dirigido. Portando, devemos dividir o resultado pela metade."
   ]
  },
  {
   "cell_type": "code",
   "execution_count": 28,
   "id": "7e95e4d7",
   "metadata": {},
   "outputs": [
    {
     "name": "stdout",
     "output_type": "stream",
     "text": [
      ">> # de nós: 2708\n",
      ">> # de arestas: 5278\n"
     ]
    }
   ],
   "source": [
    "num_nodes = data.num_nodes\n",
    "num_edges = data.num_edges\n",
    "print(f'>> # de nós: {num_nodes}')\n",
    "print(f'>> # de arestas: {num_edges//2}')"
   ]
  },
  {
   "cell_type": "markdown",
   "id": "4227bb60",
   "metadata": {},
   "source": [
    "Dessa forma, constatamos que há realmente 2708 nós (_publicações_), porém um pouco menos de arestas (_links de citações_) mencionadas na descrição. "
   ]
  },
  {
   "cell_type": "markdown",
   "id": "21dd1c32",
   "metadata": {},
   "source": [
    "Podemos utilizar uma forma mais compacta para verificar informações de cardinalidade do grafo ao simplesmente imprimir o objeto."
   ]
  },
  {
   "cell_type": "code",
   "execution_count": 29,
   "id": "429a3fd6",
   "metadata": {},
   "outputs": [
    {
     "data": {
      "text/plain": [
       "Data(x=[2708, 1433], edge_index=[2, 10556], y=[2708], train_mask=[2708], val_mask=[2708], test_mask=[2708])"
      ]
     },
     "execution_count": 29,
     "metadata": {},
     "output_type": "execute_result"
    }
   ],
   "source": [
    "data"
   ]
  },
  {
   "cell_type": "markdown",
   "id": "f7e11204",
   "metadata": {},
   "source": [
    "Aqui, podemos visualizar alguns parâmetros que nos informam sobre a quantidade de nós, arestas e _features_:\n",
    "\n",
    "><b>x</b>: informa as dimensões da matriz de _features_ [2708 linhas (nós), 1433 colunas (_features_)].\n"
   ]
  },
  {
   "cell_type": "code",
   "execution_count": 30,
   "id": "5b5790f2",
   "metadata": {},
   "outputs": [
    {
     "data": {
      "text/plain": [
       "torch.Size([2708, 1433])"
      ]
     },
     "execution_count": 30,
     "metadata": {},
     "output_type": "execute_result"
    }
   ],
   "source": [
    "data.x.shape"
   ]
  },
  {
   "cell_type": "markdown",
   "id": "9cff5076",
   "metadata": {},
   "source": [
    "><b>edge_index</b>: informa as dimensões da matriz de conectividade do grafo no formato COO [2 linhas (partida/destino), 10556 colunas (arestas para ambas direções)]."
   ]
  },
  {
   "cell_type": "code",
   "execution_count": 31,
   "id": "1846f4c9",
   "metadata": {},
   "outputs": [
    {
     "data": {
      "text/plain": [
       "torch.Size([2, 10556])"
      ]
     },
     "execution_count": 31,
     "metadata": {},
     "output_type": "execute_result"
    }
   ],
   "source": [
    "data.edge_index.shape"
   ]
  },
  {
   "cell_type": "markdown",
   "id": "64aca719",
   "metadata": {},
   "source": [
    "Além disso, novos parâmetros surgiram, trazendo novas informações:"
   ]
  },
  {
   "cell_type": "markdown",
   "id": "0803a03b",
   "metadata": {},
   "source": [
    "><b>y</b>: vetor que representa as _labels_, isto é, a variável que desejamos predizer do dataset. Pode ter dimensões variadas. Para predições em nível de grafo, possui apenas uma linha. Já para predições em nível de nó, possui uma linha para cada nó no grafo. O grafo atual se encaixa nesta categoria [2780 nós]\n"
   ]
  },
  {
   "cell_type": "code",
   "execution_count": 32,
   "id": "9690367c",
   "metadata": {},
   "outputs": [
    {
     "data": {
      "text/plain": [
       "tensor([3, 4, 4,  ..., 3, 3, 3])"
      ]
     },
     "execution_count": 32,
     "metadata": {},
     "output_type": "execute_result"
    }
   ],
   "source": [
    "data.y"
   ]
  },
  {
   "cell_type": "markdown",
   "id": "c7803ce5",
   "metadata": {},
   "source": [
    "><b>train_mask</b>: vetor booleano que especifica quais nós são reservados para o treinamento [2780 nós]\n"
   ]
  },
  {
   "cell_type": "code",
   "execution_count": 33,
   "id": "9b5f2138",
   "metadata": {},
   "outputs": [
    {
     "data": {
      "text/plain": [
       "tensor([ True,  True,  True,  ..., False, False, False])"
      ]
     },
     "execution_count": 33,
     "metadata": {},
     "output_type": "execute_result"
    }
   ],
   "source": [
    "data.train_mask"
   ]
  },
  {
   "cell_type": "markdown",
   "id": "7ce9b350",
   "metadata": {},
   "source": [
    "><b>val_mask</b>: vetor booleano que especifica quais nós são reservados para a validação [2780 nós]"
   ]
  },
  {
   "cell_type": "code",
   "execution_count": 34,
   "id": "cdd9713b",
   "metadata": {},
   "outputs": [
    {
     "data": {
      "text/plain": [
       "tensor([False, False, False,  ..., False, False, False])"
      ]
     },
     "execution_count": 34,
     "metadata": {},
     "output_type": "execute_result"
    }
   ],
   "source": [
    "data.val_mask"
   ]
  },
  {
   "cell_type": "markdown",
   "id": "91cb7664",
   "metadata": {},
   "source": [
    "><b>test_mask</b>: vetor booleano que especifica quais nós são reservados para o teste [2780 nós]"
   ]
  },
  {
   "cell_type": "code",
   "execution_count": 35,
   "id": "ac5e3ee4",
   "metadata": {},
   "outputs": [
    {
     "data": {
      "text/plain": [
       "tensor([False, False, False,  ...,  True,  True,  True])"
      ]
     },
     "execution_count": 35,
     "metadata": {},
     "output_type": "execute_result"
    }
   ],
   "source": [
    "data.test_mask"
   ]
  },
  {
   "cell_type": "markdown",
   "id": "e6f26723",
   "metadata": {},
   "source": [
    "Dessa forma, para o dataset em questão, não precisamos nos preocupar com divisão em conjunto de treinamento, validação e teste. Isso já está estabelecido de acordo com as máscaras."
   ]
  },
  {
   "cell_type": "markdown",
   "id": "6d5cfefa",
   "metadata": {},
   "source": [
    "# 3- Modelo"
   ]
  },
  {
   "cell_type": "markdown",
   "id": "5dad739f",
   "metadata": {},
   "source": [
    "Então, finalmente chegou o momento de criarmos nosso modelo utilizando GNNs (_Graph Neural Networks_). Porém, primeiro vamos pensar que tarefa desejamos realizar com esse modelo, isto é, qual tipo de predição desejamos fazer?"
   ]
  },
  {
   "cell_type": "markdown",
   "id": "3d41e002",
   "metadata": {},
   "source": [
    "Bem, temos um dataset representado por um grafo, cujas _labels_, isto é, aquilo que desejamos predizer, se referem aos nós do grafo. Nesse caso, elas representam a categoria (dentre 7) da publicação em questão. Dessa forma, desejamos fazer predições em nível de nó, ou seja, predizer a categoria das publicações que não foram apresentadas ao modelo durante o treinamento."
   ]
  },
  {
   "cell_type": "markdown",
   "id": "c844e056",
   "metadata": {},
   "source": [
    "## 3.1- Imports e considerações necessárias"
   ]
  },
  {
   "cell_type": "markdown",
   "id": "d37e8244",
   "metadata": {},
   "source": [
    "Para iniciar o implementação do nosso modelo, precisamos importar a classe base para qualquer modelo de rede neural do Pytorch:"
   ]
  },
  {
   "cell_type": "code",
   "execution_count": 36,
   "id": "82c2b953",
   "metadata": {},
   "outputs": [],
   "source": [
    "from torch.nn import Module"
   ]
  },
  {
   "cell_type": "markdown",
   "id": "9cd58314",
   "metadata": {},
   "source": [
    "Além disso, iremos importar o módulo do Pytroch com diversas funcionalidades que podem ser usadas durante a implementação do modelo como, por exemplo, as funções de ativação."
   ]
  },
  {
   "cell_type": "code",
   "execution_count": 37,
   "id": "4340c247",
   "metadata": {},
   "outputs": [],
   "source": [
    "import torch.nn.functional as F"
   ]
  },
  {
   "cell_type": "markdown",
   "id": "69f5568d",
   "metadata": {},
   "source": [
    "Precisamos definir também a arquitetura que será empregada no modelo. Como exposto na <a href='https://docs.google.com/presentation/d/10DHKI-UI_10aSF2zTca5n06xkZS900iCdYVD2HyMFrc/edit?usp=sharing'> apresentação</a>, entre as arquiteturas de redes neurais disponíveis para grafos, encontra-se a GCN (_Graph Convolutional Networks_). Nesse contexto, para tal arquitetura, ainda podemos escolher entre diversas formas de implementar as camadas de convolução. Para este exemplo, empregaremos o operador de convolução <code>GCNConv</code>, porém muitos outros podem ser acessados na <a href='\n",
    "https://pytorch-geometric.readthedocs.io/en/latest/modules/nn.html'> \n",
    "documentação </a> do PyG."
   ]
  },
  {
   "cell_type": "code",
   "execution_count": 38,
   "id": "f82d02ca",
   "metadata": {},
   "outputs": [],
   "source": [
    "from torch_geometric.nn import GCNConv"
   ]
  },
  {
   "cell_type": "markdown",
   "id": "eb60620e",
   "metadata": {},
   "source": [
    "Outro aspecto também discutido na <a href='https://docs.google.com/presentation/d/10DHKI-UI_10aSF2zTca5n06xkZS900iCdYVD2HyMFrc/edit?usp=sharing'> apresentação</a> são os vetores de _embeddings_, que representam a agregação de informações dos nós vizinhos. O tamanho de tal vetor geralmente difere da quantidade de _features_ dos nós, sendo uma decisão de hiperparâmetro. "
   ]
  },
  {
   "cell_type": "code",
   "execution_count": 39,
   "id": "5157de19",
   "metadata": {},
   "outputs": [],
   "source": [
    "EMBEDDING_SIZE = 16"
   ]
  },
  {
   "cell_type": "markdown",
   "id": "8bdd97ce",
   "metadata": {},
   "source": [
    "## 3.2- Implementação"
   ]
  },
  {
   "cell_type": "markdown",
   "id": "961642f5",
   "metadata": {},
   "source": [
    "Pronto, a partir disso, já é possível implementar o modelo:"
   ]
  },
  {
   "cell_type": "code",
   "execution_count": 40,
   "id": "3b4d5c50",
   "metadata": {},
   "outputs": [],
   "source": [
    "#O modelo herda a classe Module (base para qualquer modelo de nn)\n",
    "class GCN(Module):\n",
    "    def __init__(self):\n",
    "        #A classe herdada é inicializada\n",
    "        super().__init__()\n",
    "        \n",
    "        #São definidas duas camadas de convolução\n",
    "        \n",
    "        #A primeira camada recebe os vetores de features dos nós, construindo o embedding\n",
    "        self.conv1 = GCNConv(dataset.num_node_features, EMBEDDING_SIZE)\n",
    "        #A segunda camada recebe o embedding, predizendo a classe como saída\n",
    "        self.conv2 = GCNConv(EMBEDDING_SIZE, dataset.num_classes)\n",
    "\n",
    "    def forward(self, data):\n",
    "        #Referenciamos a matriz de features e a conectividade do grafo \n",
    "        x, edge_index = data.x, data.edge_index\n",
    "        \n",
    "        x = self.conv1(x, edge_index) #Repassamos esses dados para a prmeira camada\n",
    "        x = F.relu(x) #Função de ativação ReLu\n",
    "        x = F.dropout(x, training=self.training) #Dropout\n",
    "        x = self.conv2(x, edge_index) #Embedding é repassado para a segunda camada\n",
    "\n",
    "        return F.log_softmax(x, dim=1)#Função de ativação softmax"
   ]
  },
  {
   "cell_type": "markdown",
   "id": "15407422",
   "metadata": {},
   "source": [
    "Vamos analisar a implementação linha a linha para entender o que está sendo feito."
   ]
  },
  {
   "cell_type": "markdown",
   "id": "a81de199",
   "metadata": {},
   "source": [
    "Na primeira linha, definimos a classe GCN que representará nosso modelo, o qual deve herdar a classe <code>torch.nn.Module</code>, que é a classe base para qualquer modelo de rede neural."
   ]
  },
  {
   "cell_type": "markdown",
   "id": "0081bdfd",
   "metadata": {},
   "source": [
    "Na classe GCN, iremos implementar dois métodos: <code>\\_\\_init__</code> e <code>forward</code>"
   ]
  },
  {
   "cell_type": "markdown",
   "id": "bdbaeb65",
   "metadata": {},
   "source": [
    "### 3.4- Método \\_\\_init__( )"
   ]
  },
  {
   "cell_type": "markdown",
   "id": "5bd893f1",
   "metadata": {},
   "source": [
    "No método <code>\\_\\_init__</code>, iremos inicializar a classe, bem como definir a topologia da rede neural. Dessa forma: "
   ]
  },
  {
   "cell_type": "markdown",
   "id": "4d4cc1fa",
   "metadata": {},
   "source": [
    "1. Na primeira linha do método, inicializamos a classe herdada. "
   ]
  },
  {
   "cell_type": "markdown",
   "id": "0e379cc6",
   "metadata": {},
   "source": [
    "2. Na segunda linha, definimos nossa primeira camada de convolução <code>self.conv1</code>, a qual aplica o operador convolucional <code>GCNConv</code>. Nesse caso, precisamos especificar para o operador o tamanho de entrada e de saída dos dados. No primeiro caso, como os dados de entrada são os vetores de _features_, o tamanho é de <code>data.num_node_features</code>. Já no segudno, como os dados de saída são os _embeddings_, o tamanho é de <code>EMBEDDING_SIZE</code>"
   ]
  },
  {
   "cell_type": "markdown",
   "id": "474e22e3",
   "metadata": {},
   "source": [
    "3. Na terceira linha, definimos nossa segunda camada de convolução <code>self.conv2</code>, a qual aplica o operador convolucional <code>GCNConv</code>. Nesse caso, precisamos especificar novamente o tamanho de entrada e de saída dos dados para o operador. No primeiro caso, como os dados de entrada são os vetores de _embedding_, o tamanho é de <code>EMBEDDING_SIZE</code>. Já no segudno, como os dados de saída são as classes dos artigos, o tamanho é de <code>data.num_classes</code>"
   ]
  },
  {
   "cell_type": "markdown",
   "id": "03519097",
   "metadata": {},
   "source": [
    "A fim de melhor visualizar o procedimento adotado, imagine que parte do grafo é representado pela imagem abaixo, destacando o vetor de _featares_ do nó A."
   ]
  },
  {
   "cell_type": "markdown",
   "id": "4d79c009",
   "metadata": {},
   "source": [
    "<figure>\n",
    "    <img src='img/03-imp1.png' alt='Grafo genérico'>\n",
    "        <figcaption>\n",
    "        <em>\n",
    "            Fonte: Do autor        \n",
    "        </em>\n",
    "    </figcaption>   \n",
    "</figure>"
   ]
  },
  {
   "cell_type": "markdown",
   "id": "2f84c91b",
   "metadata": {},
   "source": [
    "A primeira camada de convolução será responsável por receber o vetor de _features_ do nó A. Por isso, especificamos a quantidade de _features_ no canal de entrada. Além disso, ela executará o primeiro nível de agregação, resultando no primeiro vetor de _embeddings_ para o nó A."
   ]
  },
  {
   "cell_type": "markdown",
   "id": "ad5863c8",
   "metadata": {},
   "source": [
    "Em seguida, a segunda camada de convolução irá receber o vetor de _embeddings_ do nó A. Por isso, especificamos o tamanho dele para o canal de entrada. Por fim, ela irá realizar a classificação do nó entre as 7 possíveis classes definidas."
   ]
  },
  {
   "cell_type": "markdown",
   "id": "101c74f2",
   "metadata": {},
   "source": [
    "Então, a topoplogia da rede pode ser visualizada da seguinte forma:"
   ]
  },
  {
   "cell_type": "markdown",
   "id": "a21b8781",
   "metadata": {},
   "source": [
    "<figure>\n",
    "    <img src='img/04-imp2.png' alt='Topologia'>\n",
    "        <figcaption>\n",
    "        <em>\n",
    "            Fonte: Do autor        \n",
    "        </em>\n",
    "    </figcaption>   \n",
    "</figure>"
   ]
  },
  {
   "cell_type": "markdown",
   "id": "06014232",
   "metadata": {},
   "source": [
    "### 3.5- Método forward( )"
   ]
  },
  {
   "cell_type": "markdown",
   "id": "c4ac7856",
   "metadata": {},
   "source": [
    "No método <code>forward</code>, definimos a regra de propagação da rede neural, ou seja, a computação realizada pelo modelo para realizar uma predição. Perceba que até o momendo só falamos na estrutura da rede. Dessa forma, vamos definir nossa lógica:"
   ]
  },
  {
   "cell_type": "markdown",
   "id": "238eb54a",
   "metadata": {},
   "source": [
    "1. Na primeira linha, referenciamos a matriz de _features_ <code>x</code>, bem como a conectividade do grafo <code>edge_index</code>, repassada para o modelo por meio do atributo data."
   ]
  },
  {
   "cell_type": "markdown",
   "id": "989958bb",
   "metadata": {},
   "source": [
    "2. Na segunda linha, repassamos esses dados para a primeira camada de convolução."
   ]
  },
  {
   "cell_type": "markdown",
   "id": "cb0a2016",
   "metadata": {},
   "source": [
    "3. Na terceira linha, adicionamos uma função de ativação na saída da primeira camada. As funções de ativação são muito imporantes para um modelo, pois elas adicionam não-linearidade, o que impacta diretamente na capacidade de predição do modelo. Além disso, elas definem quais valores são repassados para as próximas camadas. Nesse caso, empregamos a unidade linear refificada (ReLu). Ela simplesmente retorna o valor do neurônio, se for positivo; 0, se for negativo. O comportamento da função pode ser visto pelo gráfico abaixo:"
   ]
  },
  {
   "cell_type": "code",
   "execution_count": 41,
   "id": "1380c53f",
   "metadata": {},
   "outputs": [
    {
     "data": {
      "image/png": "[encoded data removed]",
      "text/plain": [
       "<Figure size 504x504 with 1 Axes>"
      ]
     },
     "metadata": {
      "needs_background": "light"
     },
     "output_type": "display_data"
    }
   ],
   "source": [
    "import numpy as np\n",
    "import matplotlib.pyplot as plt\n",
    "\n",
    "%matplotlib inline\n",
    "\n",
    "\n",
    "relu = lambda x: max(0,x)  \n",
    "\n",
    "x = np.linspace(-2.0, 2.0, 1000)\n",
    "y = np.array([relu(_) for _ in x])\n",
    "\n",
    "fig, ax = plt.subplots(figsize=(7, 7))\n",
    "ax.plot(x,y)\n",
    "ax.set(xlabel='ENTRADA',ylabel='SAÍDA', title='COMPORTAMENTO RELU')\n",
    "plt.show()"
   ]
  },
  {
   "cell_type": "markdown",
   "id": "1b28c1ed",
   "metadata": {},
   "source": [
    "O impacto da não-linearidae de um modelo pode ser ilustrada pelo gráfico de dispersão abaixo, que representa medidas fictícias da eficácia de um medicamento pela sua dosagem. A partir disso, suponha que se deseja predizer a eficácia de uma nova dosagem. Para tanto, poderíamos encontrar a curva que melhor aproxima os pontos do gráfico. Porém, teremos apenas retas com um modelo linear, o que não descreve bem os dados. Por exemplo, a reta vermelha aproxima apenas metade deles; a laranja, a outra metade. Porém, a partir de um modelo não-linear, podemos obter a curva verde, que aproxima bem todos os pontos."
   ]
  },
  {
   "cell_type": "code",
   "execution_count": 42,
   "id": "781cbd95",
   "metadata": {},
   "outputs": [
    {
     "data": {
      "image/png": "[encoded data removed]",
      "text/plain": [
       "<Figure size 720x720 with 1 Axes>"
      ]
     },
     "metadata": {
      "needs_background": "light"
     },
     "output_type": "display_data"
    }
   ],
   "source": [
    "import numpy as np\n",
    "import matplotlib.pyplot as plt\n",
    "\n",
    "%matplotlib inline\n",
    "\n",
    "\n",
    "x = np.linspace(0, 2, 100)\n",
    "noise = np.random.normal(0, .1, x.shape)\n",
    "y = -x**3 + 2*x**2 + noise\n",
    "\n",
    "y0 = x\n",
    "y1 = -3*x + 6\n",
    "y3 = -x**3 + 2*x**2\n",
    "\n",
    "fig, ax = plt.subplots(figsize=(10, 10))\n",
    "\n",
    "\n",
    "ax.set_xlim(0,2.5)\n",
    "ax.set_ylim(-0.5, 2)\n",
    "\n",
    "ax.scatter(x,y)\n",
    "ax.plot(x,y0, linewidth=3, color='red')\n",
    "ax.plot(x,y1, linewidth=3, color='orange')\n",
    "ax.plot(x,y3, linewidth=6, color='green')\n",
    "ax.set(xlabel='DOSAGEM', ylabel='EFICÁCIA')\n",
    "plt.show()\n",
    "\n",
    "\n"
   ]
  },
  {
   "cell_type": "markdown",
   "id": "4e196d55",
   "metadata": {},
   "source": [
    "4. Na quarta linha, aplicamos a técninca de _dropout_, um algoritmo recentemente introduzido no treinamento de redes neurais que tem demonstrado excelentes resultados. Nele, neurônios são temporariamente retirados do modelo de forma aleatória em cada interação. Assim, pode-se pensar que diversos modelos distintos são treinados, já que a topologia da rede muda a cada interação. O efeito final disso é a média dos efeitos de todas essas redes distinstas. Uma das vantagens da técninca é, por exemplo, evitar o problema de superadaptação dos dados (_overfitting_) ao generalizar o poder de inferência do modelo. Abaixo, encontra-se uma ilustração da técninca:"
   ]
  },
  {
   "cell_type": "markdown",
   "id": "48359971",
   "metadata": {},
   "source": [
    "<figure>\n",
    "    <img src='img/05-dropout.png' height='100'>\n",
    "    <figcaption><em>Fonte: <a href='https://www.deeplearningbook.com.br/capitulo-23-como-funciona-o-dropout/'>DeepLearningBook</a> </em></figcaption>\n",
    "</figure>"
   ]
  },
  {
   "cell_type": "markdown",
   "id": "2bb06b95",
   "metadata": {},
   "source": [
    "5. Na quinta linha, repassamos os resultados para a segunda camada de convolução."
   ]
  },
  {
   "cell_type": "markdown",
   "id": "abafa413",
   "metadata": {},
   "source": [
    "6. Na sexta linha, definimos nossa última função de ativação. Geralmente, quando um modelo lida com mais de uma saída, por exemplo, categorias de publicações, é comum repassar os resultados finais para uma função que os <b>mapeia</b> para valores em um intervalo fixo. Por exemplo, imagine que tivessemos os valores de saída [1.79, -0.86, 1.3] para as categorias A, B e C. Parece uma desordem, né? Nesse contexto, entra a função _softmax_, que é responsável por mapear os valores de saída em valores no intervalo de 0 a 1. O mais interessante é que a soma dos valores mapeados pela _softmax_ resulta em 1. Dessa forma, podemos considerar tais valores como probabilidades, porém sem confiar acurácia neles. O código abaixo ilustra o cenário descrito:"
   ]
  },
  {
   "cell_type": "code",
   "execution_count": 43,
   "id": "88af3242",
   "metadata": {
    "scrolled": true
   },
   "outputs": [
    {
     "name": "stdout",
     "output_type": "stream",
     "text": [
      "__________________\n",
      "ANTES DA SOFTMAX: \n",
      ">> Output de A: 1.79\n",
      ">> Output de B: -0.86\n",
      ">> Output de C: 1.3\n",
      "__________________\n",
      "DEPOIS DA SOFTMAX: \n",
      ">> Output de A: 0.59\n",
      ">> Output de B: 0.04\n",
      ">> Output de C: 0.36\n",
      "__________________\n",
      "SOMA DOS NOVOS OUTPUTS: \n",
      "1.0\n"
     ]
    }
   ],
   "source": [
    "import numpy as np\n",
    "import matplotlib.pyplot as plt\n",
    "\n",
    "labels = ['A','B','C']\n",
    "output = np.array([1.79, -0.86, 1.3])\n",
    "\n",
    "\n",
    "def softmax(vetor):\n",
    "    d = np.exp(vetor).sum()\n",
    "    return np.array([np.exp(_)/d for _ in vetor])\n",
    "\n",
    "\n",
    "print('__________________')\n",
    "print('ANTES DA SOFTMAX: ')\n",
    "\n",
    "for x, y in zip(labels, output): print(f'>> Output de {x}: {y}')\n",
    "\n",
    "new_output = softmax(output)\n",
    "\n",
    "print('__________________')\n",
    "print('DEPOIS DA SOFTMAX: ')\n",
    "for x, y in zip(labels, new_output): print(f'>> Output de {x}: {y:.2f}')\n",
    "\n",
    "print('__________________')\n",
    "print('SOMA DOS NOVOS OUTPUTS: ')\n",
    "print(new_output.sum())\n",
    "    "
   ]
  },
  {
   "cell_type": "markdown",
   "id": "4d9e16fd",
   "metadata": {},
   "source": [
    "O efeito da função softmax pode ser visualizado no gráfico abaixo. Nele, é possível perceber que valores de saída altos são mapeados para altas probabilidades, enquanto os menores são penalizados."
   ]
  },
  {
   "cell_type": "code",
   "execution_count": 44,
   "id": "bbb6cdd3",
   "metadata": {},
   "outputs": [
    {
     "data": {
      "image/png": "[encoded data removed]",
      "text/plain": [
       "<Figure size 432x432 with 1 Axes>"
      ]
     },
     "metadata": {
      "needs_background": "light"
     },
     "output_type": "display_data"
    }
   ],
   "source": [
    "import numpy as np\n",
    "import matplotlib.pyplot as plt\n",
    "\n",
    "%matplotlib inline\n",
    "\n",
    "def softmax(vetor):\n",
    "    d = np.exp(vetor).sum()\n",
    "    return np.array([np.exp(_)/d for _ in vetor])\n",
    "\n",
    "x = 3*np.random.rand(100)\n",
    "x0 = softmax(x)\n",
    "\n",
    "fig, ax = plt.subplots(figsize=(6, 6))\n",
    "ax.scatter(x, x0, color='g')\n",
    "ax.set(xlabel='SAÍDA', ylabel='PROBABILIDADE')\n",
    "plt.show()"
   ]
  },
  {
   "cell_type": "markdown",
   "id": "00696cf5",
   "metadata": {},
   "source": [
    "Por fim, a regra de propagação pode ser resumida pela figura abaixo:"
   ]
  },
  {
   "cell_type": "markdown",
   "id": "41539fdc",
   "metadata": {},
   "source": [
    "<figure>\n",
    "    <img src='img/06-forward.png' alt='Regra de propagação'>\n",
    "    <figcaption>\n",
    "        <em>\n",
    "            Fonte: Do autor        \n",
    "        </em>\n",
    "    </figcaption>   \n",
    "</figure>"
   ]
  },
  {
   "cell_type": "markdown",
   "id": "032a7089",
   "metadata": {},
   "source": [
    "# 4- Treinamento"
   ]
  },
  {
   "cell_type": "markdown",
   "id": "2763ed15",
   "metadata": {},
   "source": [
    "Uma vez definido o modelo, podemos iniciar a etapa de treinamento. Incialmente, devemos especificar qual unidade de processamento (CPU ou GPU) será empregada para o treinamento. Preferencialmente, deve-se optar pela GPU. Para tanto, podemos verificar a disponibilidade dela por meio do método <code>torch.cuda.is_available</code>. Se disponível, repassamos a string 'cuda' para o método <code>torch.device</code>;  'CPU', caso contrário:"
   ]
  },
  {
   "cell_type": "code",
   "execution_count": 45,
   "id": "ae8f4155",
   "metadata": {},
   "outputs": [],
   "source": [
    "device = torch.device('cuda' if torch.cuda.is_available() else 'cpu')"
   ]
  },
  {
   "cell_type": "markdown",
   "id": "d89db5f6",
   "metadata": {},
   "source": [
    "A partir disso, carregaremos tanto o modelo, como o dataset, no dispositivo selecionado:"
   ]
  },
  {
   "cell_type": "code",
   "execution_count": 46,
   "id": "2e9381c6",
   "metadata": {},
   "outputs": [],
   "source": [
    "model = GCN().to(device)\n",
    "data = dataset[0].to(device)"
   ]
  },
  {
   "cell_type": "markdown",
   "id": "4a4fb955",
   "metadata": {},
   "source": [
    "## 4.1- Função de custo e otmizador"
   ]
  },
  {
   "cell_type": "markdown",
   "id": "58a8ef50",
   "metadata": {},
   "source": [
    "A tarefa que uma rede neural executa depende de seus parâmetros. Então, se quisermos melhorar as predições feitas por qualquer modelo de Deep Learning, precisamos otimizar seus parâmetros. De modo a visualizar tal procedimento, vamos considerar o modelo genérico abaixo para fins ilustrativos. Ele recebe uma imagem de 28x28 pixels, classificando-a entre os dígitos de 0 a 9:"
   ]
  },
  {
   "cell_type": "markdown",
   "id": "f38e4421",
   "metadata": {},
   "source": [
    "<figure>\n",
    "    <img src='img/07-rede_gen.gif' alt='Rede Genérica'>\n",
    "    <figcaption><em>Fonte: <a href='https://www.youtube.com/watch?v=aircAruvnKk&t=742s'> 3Blue1Brown</a></em></figcaption>\n",
    "</figure>"
   ]
  },
  {
   "cell_type": "markdown",
   "id": "3bc7974c",
   "metadata": {},
   "source": [
    "Inicialmente, os parâmetros de um modelo são inicializados aleatoriamente. Isso provavelmente levará a resultados iniciais muito ruins. Por exemplo, para o modelo acima, os nós de saída provavelmente exibiriam valores sem sentido (_utter trash_) ao classificar uma imagem contendo o dígito 3. Porém, como avaliar a performance do modelo de fato?"
   ]
  },
  {
   "cell_type": "markdown",
   "id": "ed467c4a",
   "metadata": {},
   "source": [
    "<figure>\n",
    "    <img src='img/08-init.gif' alt='Inicialização' width='500'>\n",
    "    <figcaption><em>Fonte: <a href='https://www.youtube.com/watch?v=aircAruvnKk&t=742s'> 3Blue1Brown</a></em></figcaption>\n",
    "</figure>"
   ]
  },
  {
   "cell_type": "markdown",
   "id": "5c0ef096",
   "metadata": {},
   "source": [
    "Para esse caso, poderíamos calcular a distância entre os valores atuais da saída e os ideias. No exemplo acima, espera-se que a maioria dos nós possuíssem valores baixos (idealmente 0), enquanto que o nó referente ao dígito 3 tivesse o maior valor (idealmente 1). Então, podemos calcular a distância ao subtrair o que temos hoje pelo que desejaríamos ter, elevando ao quadrado de modo a obter valores positivos. Tais valores são denominados custos (_loss_)."
   ]
  },
  {
   "cell_type": "markdown",
   "id": "efbc0482",
   "metadata": {},
   "source": [
    "<figure>\n",
    "    <img src='img/09-loss.gif' alt='Loss'>\n",
    "    <figcaption><em>Fonte: <a href='https://www.youtube.com/watch?v=aircAruvnKk&t=742s'> 3Blue1Brown</a></em></figcaption>\n",
    "</figure>"
   ]
  },
  {
   "cell_type": "markdown",
   "id": "bd1c44b7",
   "metadata": {},
   "source": [
    "A fim de avaliar o modelo como um todo, podemos então empregar uma função de custo (_loss function_). Para o exemplo acima, poderíamos utilizar a função de erro quadrático médio (MSE). A partir disso, a ideia é minimizar os valores da função de custo. Nesse momento, lembre-se que os resultados da função de custo dependem dos parâmetros do modelo, uma vez que eles definem tais resultados. Dessa forma, minimizar a função de custo implica em otimizar os parâmetros do modelo.   "
   ]
  },
  {
   "cell_type": "markdown",
   "id": "dff2ab9f",
   "metadata": {},
   "source": [
    "Se você ainda se lembra das aulas de cálculo I, otimizar qualquer função envolve a aplicação de sua derivada. Se ainda não se deparou com esse conceito, a derivada de uma função apenas indica a taxa de variação dela em um determinado instante, bem como a tendência de crescimento e decrescimento. A partir disso, se desejamos encontrar um valor mínimo para uma função, poderíamos começar a partir de qualquer valor, caminhando pelos pontos do seu domínio até encontrar um valor de mínimo local. Para orientar a direção dessa caminhada, verificamos o sinal da derivada no ponto atual. Se for positivo, significa que a função crescerá caso nos desloquemos para a direita, o que não desejamos, logo seguimos para esquerda. O mesmo raciocínio é aplicado caso seja negativo. Por fim, a intensidade dos passos deve ser proporcional ao valor da derivada, pois ele se torna cada vez menor quanto mais se aproxima de um mínimo local."
   ]
  },
  {
   "cell_type": "markdown",
   "id": "37372bb1",
   "metadata": {},
   "source": [
    "<figure>\n",
    "    <img src='img/10-min.gif' alt='Minimização' width='500'>\n",
    "    <figcaption><em>Fonte: <a href='https://www.youtube.com/watch?v=aircAruvnKk&t=742s'> 3Blue1Brown</a></em></figcaption>\n",
    "</figure>"
   ]
  },
  {
   "cell_type": "markdown",
   "id": "4b7746a6",
   "metadata": {},
   "source": [
    "O nome desse algoritmo é gradiente descendente. Gradiente pois estamos aplicando as derivadas da função para estabelecer os passos; descendente, pois seguimos na direção de um mínimo. Perceba que me refiro a um mínimo, pois o algoritmo converge para um mínimo local, não necessariamente global (o que é extremamente custoso de ser calculado). No exemplo acima, estamos calculando o gradiente descendente para uma função de uma única variável, no caso, uma função de custo que depende apenas de um parâmetro do modelo. Porém, um modelo pode ter dezenas de milhares de parâmetros. Nesse sentido, o gradiente descendente também é aplicado para espaços multidimensionais. Abaixo, verificamos a minimização de uma função de custo com dois parâmetros: "
   ]
  },
  {
   "cell_type": "markdown",
   "id": "fd831949",
   "metadata": {},
   "source": [
    "<figure>\n",
    "    <img src='img/11-minim.gif' alt='Minimização' width='600'>\n",
    "    <figcaption> \n",
    "        <em>Fonte: \n",
    "            <a href='https://www.kdnuggets.com/2020/12/optimization-algorithms-neural-networks.html'>\n",
    "                KDnuggets\n",
    "            </a>\n",
    "        </em>\n",
    "    </figcaption>\n",
    "</figure>"
   ]
  },
  {
   "cell_type": "markdown",
   "id": "8e102cb2",
   "metadata": {},
   "source": [
    "Como o gradiente descendente está minimizando a função, ele é classificado como um otimizador. Há diversos tipos de otimizadores, variando especialmente no método empregado para quantificar a intensidade do passo que se dá rumo ao mínimo. Abaixo, são apresentados alguns tipos:"
   ]
  },
  {
   "cell_type": "markdown",
   "id": "b663acd7",
   "metadata": {},
   "source": [
    "<figure>\n",
    "    <img src='img/12-otimizadores.gif' alt='Otimizadores' width='500'>\n",
    "    <figcaption> \n",
    "        <em>Fonte: \n",
    "            <a href='https://www.kdnuggets.com/2020/12/optimization-algorithms-neural-networks.html'>\n",
    "                KDnuggets\n",
    "            </a>\n",
    "        </em>\n",
    "    </figcaption>\n",
    "</figure>"
   ]
  },
  {
   "cell_type": "markdown",
   "id": "b647ee98",
   "metadata": {},
   "source": [
    "Perceba que o gradiente descendente (SGD) representado por vermelho é um dos otimizadores mais lentos."
   ]
  },
  {
   "cell_type": "markdown",
   "id": "7fb39a50",
   "metadata": {},
   "source": [
    "Assim como há diversos otimizadores, há também diversas funções de custo. A escolha desses hiperparâmetros depende do problema em questão, sendo muito mais empírica do que matemática. "
   ]
  },
  {
   "cell_type": "markdown",
   "id": "1c13530d",
   "metadata": {},
   "source": [
    "Para o problema em questão, empregaremos <code>torch.nn.CrossEntropyLoss</code> como função de custo; <code>torch.optim.Adam</code>, como otimizador."
   ]
  },
  {
   "cell_type": "code",
   "execution_count": 47,
   "id": "53bfa643",
   "metadata": {},
   "outputs": [],
   "source": [
    "loss_function = torch.nn.CrossEntropyLoss()  \n",
    "optimizer = torch.optim.Adam(model.parameters(), lr=0.01, weight_decay=5e-4) "
   ]
  },
  {
   "cell_type": "markdown",
   "id": "2f487047",
   "metadata": {},
   "source": [
    "A escolha dessa função de custo se deve pelo fato de lidar melhor com os resultados da função de ativação _softmax_ presente na camada de saída. Por exemplo, para probabilidades próximas de 1, a _loss_ associada é próxima de zero, já para probabilidades próximas de 0, a _loss_ associada tende ao infinito."
   ]
  },
  {
   "cell_type": "markdown",
   "id": "ca276dfc",
   "metadata": {},
   "source": [
    "## 4.2- Função de treinamento"
   ]
  },
  {
   "cell_type": "markdown",
   "id": "461164d1",
   "metadata": {},
   "source": [
    "Definidas a função de custo, bem como o otimizador, podemos implementar a função que irá realizar o treinamento:"
   ]
  },
  {
   "cell_type": "code",
   "execution_count": 48,
   "id": "ceb6b411",
   "metadata": {},
   "outputs": [],
   "source": [
    "def train():\n",
    "    optimizer.zero_grad() #Limpa o gradiente\n",
    "    out = model(data) # Realiza a propagação\n",
    "    loss = loss_function(out[data.train_mask], data.y[data.train_mask]) # Computa o loss apenas do conjunto de treinamento\n",
    "    loss.backward()  # Calcula o gradiente \n",
    "    optimizer.step() # Atualiza os parâmetros do modelo com base no gradiente\n",
    "        \n",
    "    return loss"
   ]
  },
  {
   "cell_type": "markdown",
   "id": "52bc029d",
   "metadata": {},
   "source": [
    "Assim como fizemos com a implementação do modelo, vamos analisar linha por linha a implementação da função de treinamento:"
   ]
  },
  {
   "cell_type": "markdown",
   "id": "3b91f973",
   "metadata": {},
   "source": [
    "1. Na primeira linha, limpamos o gradiente. Nesse caso, o gradiente é o vetor que guarda os valores que irão otimizar os parâmetros.\n",
    "2. Na segunda linha, o modelo realiza predições a partir do grafo.\n",
    "3. Na terceira linha, com base nas predições da segunda linha, são calculados os custos (_loss_) apenas para as predições feitas a partir do conjunto de treinamento.\n",
    "4. Na quarta linha, o gradiente é calculado por meio do algoritmo de _backpropagation_\n",
    "5. Na quinta linha, os parâmetros do modelo são atualizados com base no gradiente calculado\n",
    "6. Por fim, na sexta linha, retornamos a _loss_ do modelo"
   ]
  },
  {
   "cell_type": "markdown",
   "id": "99f1895f",
   "metadata": {},
   "source": [
    "Os passos descritos acima são tomados por padrão no treinamento de qualquer modelo de rede neural. Inicialmente, são feitas predições por meio da propagação (_forward_). Em seguida, a _loss_ do modelo é calculada com base nessas predições. Então, é executado o algoritmo de retropropagação (_backward_), o qual aplica o otimizador para cada parâmetro do modelo a partir da última camada. Dessa forma, o gradiente é calculado, isto é, o vetor com os valores ótimos para ajustar os parâmetros do modelo, os quais são atualizados em seguida a fim de reduzir a _loss_ do modelo. Esse procedimento é resumido pela animação abaixo:"
   ]
  },
  {
   "cell_type": "markdown",
   "id": "cf1074fc",
   "metadata": {},
   "source": [
    "<figure>\n",
    "    <img src='img/13-back.gif' alt='Backpropagation' width='500'>\n",
    "        <figcaption> \n",
    "        <em>Fonte: \n",
    "            <a href='https://medium.com/analytics-vidhya/backpropagation-for-dummies-e069410fa585'>\n",
    "                Medium\n",
    "            </a>\n",
    "        </em>\n",
    "    </figcaption>\n",
    "    \n",
    "    \n",
    "</figure>"
   ]
  },
  {
   "cell_type": "markdown",
   "id": "a3dc403f",
   "metadata": {},
   "source": [
    "## 4.3- Função de avaliação"
   ]
  },
  {
   "cell_type": "markdown",
   "id": "62f92ca1",
   "metadata": {},
   "source": [
    "Além disso, podemos definir uma função para avaliar o modelo durante o treinamento:"
   ]
  },
  {
   "cell_type": "code",
   "execution_count": 49,
   "id": "7cac7870",
   "metadata": {},
   "outputs": [],
   "source": [
    "def aval_train():\n",
    "    pred = model(data).argmax(dim=1) # Realiza predições\n",
    "    correct = (pred[data.val_mask] == data.y[data.val_mask]).sum() # Soma os acertos totais\n",
    "    acc = int(correct) / int(data.val_mask.sum()) # Calcula a acurácia acertos / total\n",
    "    return acc\n"
   ]
  },
  {
   "cell_type": "markdown",
   "id": "fff9d34d",
   "metadata": {},
   "source": [
    "Essa função basicamente realiza:\n",
    "\n",
    "1. Na primeira linha, realizamos a predição para todos os nós do grafo.\n",
    "2. Na segunda linha, comparamos quais predições referentes aos nós do conjunto de validação estavam corretas, somando o total.\n",
    "3. Na terceira linha, calculamos a acurácia, isto é, a razão entre a quantidade de predições corretas para o conjunto de validaçao pelo total de elementos desse."
   ]
  },
  {
   "cell_type": "markdown",
   "id": "a554a127",
   "metadata": {},
   "source": [
    "Além disso, podemos definir outra função para avaliar o modelo uma vez que estiver treinado. Ela segue os mesmo procedimentos da anterior, porém emprega o conjunto de teste:"
   ]
  },
  {
   "cell_type": "code",
   "execution_count": 50,
   "id": "e55905b9",
   "metadata": {},
   "outputs": [],
   "source": [
    "def aval_final():\n",
    "    pred = model(data).argmax(dim=1) # Realiza predições\n",
    "    correct = (pred[data.test_mask] == data.y[data.test_mask]).sum() # Soma os acertos totais\n",
    "    acc = int(correct) / int(data.test_mask.sum()) # Calcula a acurácia acertos / total\n",
    "    return acc\n"
   ]
  },
  {
   "cell_type": "markdown",
   "id": "16aadb5f",
   "metadata": {},
   "source": [
    "## 4.4- treinando o modelo"
   ]
  },
  {
   "cell_type": "markdown",
   "id": "b803ab7e",
   "metadata": {},
   "source": [
    "Vamos treinar o modelo em 200 epochs (a epoch é uma passagem completa pelo dataset)."
   ]
  },
  {
   "cell_type": "code",
   "execution_count": 51,
   "id": "065e0e75",
   "metadata": {},
   "outputs": [],
   "source": [
    "num_epochs = 200 "
   ]
  },
  {
   "cell_type": "markdown",
   "id": "95c0a786",
   "metadata": {},
   "source": [
    "Além disso, vamos armazenar os valores de _loss_ e de acurácia para cada epoch a fim de plotá-los em seguida."
   ]
  },
  {
   "cell_type": "code",
   "execution_count": 52,
   "id": "41ae9e60",
   "metadata": {},
   "outputs": [],
   "source": [
    "accuracies = []\n",
    "losses = []"
   ]
  },
  {
   "cell_type": "markdown",
   "id": "6173d750",
   "metadata": {},
   "source": [
    "Pronto, basta executar o treinamento em cada epoch:"
   ]
  },
  {
   "cell_type": "code",
   "execution_count": 53,
   "id": "233e7fe3",
   "metadata": {
    "scrolled": true
   },
   "outputs": [
    {
     "name": "stdout",
     "output_type": "stream",
     "text": [
      "Epoch: 050, Loss: 0.0465, Acurácia: 0.702\n",
      "Epoch: 100, Loss: 0.0407, Acurácia: 0.708\n",
      "Epoch: 150, Loss: 0.0289, Acurácia: 0.73\n",
      "Epoch: 200, Loss: 0.0309, Acurácia: 0.716\n"
     ]
    }
   ],
   "source": [
    "epochs = np.arange(1,num_epochs+1)\n",
    "\n",
    "for epoch in epochs:\n",
    "    loss = train() #Realiza o treinamento\n",
    "    accuracy = aval_train() #Calcula a acurácia\n",
    "    losses.append(float(loss)) #Anexa o loss atual a lista de losses\n",
    "    accuracies.append(accuracy) # Anexa a acurácia atual na lista de acuracias\n",
    "    if epoch%50 == 0: print(f'Epoch: {epoch:03d}, Loss: {loss:.4f}, Acurácia: {accuracy}') #Imprima o status a cada 50 epochs"
   ]
  },
  {
   "cell_type": "markdown",
   "id": "cc71d1c0",
   "metadata": {},
   "source": [
    "Podemos plotar os valores da _loss_ e da acurácia para cada época, de modo a visualizar seu comportamento:"
   ]
  },
  {
   "cell_type": "code",
   "execution_count": 54,
   "id": "7675df80",
   "metadata": {},
   "outputs": [
    {
     "data": {
      "text/plain": [
       "[Text(0.5, 0, 'EPOCH')]"
      ]
     },
     "execution_count": 54,
     "metadata": {},
     "output_type": "execute_result"
    },
    {
     "data": {
      "image/png": "[encoded data removed]",
      "text/plain": [
       "<Figure size 504x504 with 1 Axes>"
      ]
     },
     "metadata": {
      "needs_background": "light"
     },
     "output_type": "display_data"
    }
   ],
   "source": [
    "import matplotlib.pyplot as plt \n",
    "\n",
    "%matplotlib inline\n",
    "\n",
    "fig, ax = plt.subplots(figsize=(7,7))\n",
    "ax.plot(epochs, losses, color='red')\n",
    "ax.plot(epochs, accuracies, color='blue')\n",
    "ax.set(xlabel='EPOCH')"
   ]
  },
  {
   "cell_type": "markdown",
   "id": "ceffb265",
   "metadata": {},
   "source": [
    "Percebe-se que a acurácia converge para um valor próximo de 0.75 a partir de menos de 25 epochs. Dessa forma, apesar da queda constante da _loss_, os treinamentos seguintes não surtem efeito no aumento da acurácia."
   ]
  },
  {
   "cell_type": "markdown",
   "id": "fcda560f",
   "metadata": {},
   "source": [
    "Nesse momento, podemos fazer uma última avaliação do modelo treinado:"
   ]
  },
  {
   "cell_type": "code",
   "execution_count": 55,
   "id": "c25b9f2e",
   "metadata": {},
   "outputs": [
    {
     "name": "stdout",
     "output_type": "stream",
     "text": [
      "Acurácia final do modelo: 0.762\n"
     ]
    }
   ],
   "source": [
    "print(f'Acurácia final do modelo: {aval_final()}')"
   ]
  },
  {
   "cell_type": "markdown",
   "id": "56fa68dd",
   "metadata": {},
   "source": [
    "Além disso, podemos visualizar alguns resultados, por exemplo, o total de acertos para cada classe:"
   ]
  },
  {
   "cell_type": "code",
   "execution_count": 56,
   "id": "1aa41b91",
   "metadata": {},
   "outputs": [
    {
     "name": "stdout",
     "output_type": "stream",
     "text": [
      "   ACERTOS  REAL     %\n",
      "0      251   351 71.51\n",
      "1      188   217 86.64\n",
      "2      385   418 92.11\n",
      "3      574   818 70.17\n",
      "4      352   426 82.63\n",
      "5      224   298 75.17\n",
      "6      144   180 80.00\n"
     ]
    }
   ],
   "source": [
    "import pandas as pd\n",
    "\n",
    "pred = pd.Series(model(data).argmax(1).cpu())\n",
    "y = pd.Series(data.y.cpu())\n",
    "\n",
    "columns = { 'PRED': pred, 'REAL': y}\n",
    "df = pd.DataFrame(columns)\n",
    "\n",
    "acertos = df[ df['PRED'] == df['REAL'] ].value_counts().sort_index(axis=0, ascending=True)\n",
    "acertos.index = [0,1,2,3,4,5,6]\n",
    "\n",
    "#total = pred.value_counts().sort_index(axis=0, ascending=True) #total de predições\n",
    "real = y.value_counts().sort_index(axis=0, ascending=True)\n",
    "\n",
    "\n",
    "new_columns = {'ACERTOS': acertos, 'REAL': real}\n",
    "df = pd.DataFrame(new_columns)\n",
    "df['%'] = (df['ACERTOS'] / df['REAL'])*100\n",
    "\n",
    "print(df.to_string(formatters={'%':'{:.2f}'.format}))"
   ]
  }
 ],
 "metadata": {
  "kernelspec": {
   "display_name": "Python 3 (ipykernel)",
   "language": "python",
   "name": "python3"
  },
  "language_info": {
   "codemirror_mode": {
    "name": "ipython",
    "version": 3
   },
   "file_extension": ".py",
   "mimetype": "text/x-python",
   "name": "python",
   "nbconvert_exporter": "python",
   "pygments_lexer": "ipython3",
   "version": "3.9.10"
  }
 },
 "nbformat": 4,
 "nbformat_minor": 5
}
