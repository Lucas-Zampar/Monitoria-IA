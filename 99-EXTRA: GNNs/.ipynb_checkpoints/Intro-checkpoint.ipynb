{
 "cells": [
  {
   "cell_type": "markdown",
   "id": "b79c85dc",
   "metadata": {},
   "source": [
    "# Instalação"
   ]
  },
  {
   "cell_type": "markdown",
   "id": "c2bc4422",
   "metadata": {},
   "source": [
    "A fim de desenvolver modelos de deep learning para grafos, será necessário instalar o módulo Pytorch Geometric. Para tanto, iremos desinstalar a versão atual do Pytorch pelo seguinte código:"
   ]
  },
  {
   "cell_type": "code",
   "execution_count": 2,
   "id": "83d04c60",
   "metadata": {},
   "outputs": [
    {
     "data": {
      "text/plain": [
       "'\\n!pip3 uninstall torchtext -y\\n!pip3 uninstall torchvision -y\\n!pip3 uninstall torch -y\\n'"
      ]
     },
     "execution_count": 2,
     "metadata": {},
     "output_type": "execute_result"
    }
   ],
   "source": [
    "'''\n",
    "!pip3 uninstall torchtext -y\n",
    "!pip3 uninstall torchvision -y\n",
    "!pip3 uninstall torch -y\n",
    "'''"
   ]
  },
  {
   "cell_type": "markdown",
   "id": "85db7d86",
   "metadata": {},
   "source": [
    "A partir disso, iremos instalar a versão 1.9.0, anterior a atual:"
   ]
  },
  {
   "cell_type": "code",
   "execution_count": 3,
   "id": "a5df8512",
   "metadata": {},
   "outputs": [],
   "source": [
    "#!pip3 install torch==1.9.0"
   ]
  },
  {
   "cell_type": "markdown",
   "id": "e30d3997",
   "metadata": {},
   "source": [
    "Com isso, poderemos baixar o pacote do Pytorch Geometric. Caso não seja instalado, reinicie a máquina, pois a instalação da nova versão do Pytorch pode não ter sido salva corretamente na máquina virtual."
   ]
  },
  {
   "cell_type": "code",
   "execution_count": 4,
   "id": "205b999c",
   "metadata": {},
   "outputs": [
    {
     "data": {
      "text/plain": [
       "\"\\nimport torch\\n\\nif torch.__version__ != '1.9.0+cu102':\\n    print('Versão do pytorch inadequada! Favor reiniciar a máquina virtual.')\\nelse:    \\n    pytorch_version=f'torch-{torch.__version__}.html'\\n    !pip3 install --no-index torch-scatter -f https://pytorch-geometric.com/whl/$pytorch_version\\n    !pip3 install --no-index torch-sparse -f https://pytorch-geometric.com/whl/$pytorch_version\\n    !pip3 install --no-index torch-cluster -f https://pytorch-geometric.com/whl/$pytorch_version\\n    !pip3 install --no-index torch-spline-conv -f https://pytorch-geometric.com/whl/$pytorch_version\\n    !pip3 install torch-geometric\\n\""
      ]
     },
     "execution_count": 4,
     "metadata": {},
     "output_type": "execute_result"
    }
   ],
   "source": [
    "'''\n",
    "import torch\n",
    "\n",
    "if torch.__version__ != '1.9.0+cu102':\n",
    "    print('Versão do pytorch inadequada! Favor reiniciar a máquina virtual.')\n",
    "else:    \n",
    "    pytorch_version=f'torch-{torch.__version__}.html'\n",
    "    !pip3 install --no-index torch-scatter -f https://pytorch-geometric.com/whl/$pytorch_version\n",
    "    !pip3 install --no-index torch-sparse -f https://pytorch-geometric.com/whl/$pytorch_version\n",
    "    !pip3 install --no-index torch-cluster -f https://pytorch-geometric.com/whl/$pytorch_version\n",
    "    !pip3 install --no-index torch-spline-conv -f https://pytorch-geometric.com/whl/$pytorch_version\n",
    "    !pip3 install torch-geometric\n",
    "'''"
   ]
  },
  {
   "cell_type": "markdown",
   "id": "8ecd118b",
   "metadata": {},
   "source": [
    "# 1- Representação de um grafo"
   ]
  },
  {
   "cell_type": "markdown",
   "id": "c25adddc",
   "metadata": {},
   "source": [
    "Como introdução ao PyG, vamos construir o grafo definido pela equação abaixo:"
   ]
  },
  {
   "cell_type": "markdown",
   "id": "ca9907a6",
   "metadata": {},
   "source": [
    "$$ G = \\{ V, E \\} $$"
   ]
  },
  {
   "cell_type": "markdown",
   "id": "8251115a",
   "metadata": {},
   "source": [
    "Em que:"
   ]
  },
  {
   "cell_type": "markdown",
   "id": "d8442df7",
   "metadata": {},
   "source": [
    "$$ V = \\{ \\{0, 1, 2 \\} \\} $$\n",
    "$$ E = \\{ \\{0, 1\\}, \\{1, 2\\} \\} $$"
   ]
  },
  {
   "cell_type": "markdown",
   "id": "829b5923",
   "metadata": {},
   "source": [
    "Note que o grafo G é composto por três vértices {0,1,2} e por duas arestas {{0,1},{1,2}}, sendo não dirigido."
   ]
  },
  {
   "cell_type": "markdown",
   "id": "17b8326a",
   "metadata": {},
   "source": [
    "No PyG, um grafo é representado como uma instância da classe <code>torch_geometric.data.Data</code>. Portanto, devemos importá-la de modo a construir o grafo. "
   ]
  },
  {
   "cell_type": "markdown",
   "id": "21c2d6fe",
   "metadata": {},
   "source": [
    "Além disso, importaremos também o módulo <code>torch</code> com a finalidade de utilizar algumas funcionalidades do Pytorch, como os tensores."
   ]
  },
  {
   "cell_type": "code",
   "execution_count": 5,
   "id": "7c2054ce",
   "metadata": {},
   "outputs": [],
   "source": [
    "import torch\n",
    "from torch_geometric.data import Data"
   ]
  },
  {
   "cell_type": "markdown",
   "id": "34e55827",
   "metadata": {},
   "source": [
    "## 1.1- Representando as arestas"
   ]
  },
  {
   "cell_type": "markdown",
   "id": "218477f0",
   "metadata": {},
   "source": [
    "A classe <code>Data</code> espera receber a representação das arestas no formato <code>COO</code> (COOrdinate). Nele, a conectividade do grafo é representada por meio de uma matriz com duas linhas, a primeira se referindo aos vértices de origem; a segunda, aos de destino. Dessa forma, os dois vértices em uma mesma coluna compõem a aresta em questão."
   ]
  },
  {
   "cell_type": "markdown",
   "id": "e09242e0",
   "metadata": {},
   "source": [
    "Usualmente,tal matriz é referida como <code>edge_index</code>, sendo implementada por um tensor do tipo <code>torch.long</code>:"
   ]
  },
  {
   "cell_type": "code",
   "execution_count": 6,
   "id": "8050dbe7",
   "metadata": {},
   "outputs": [
    {
     "data": {
      "text/plain": [
       "tensor([[0, 1, 1, 2],\n",
       "        [1, 0, 2, 1]])"
      ]
     },
     "execution_count": 6,
     "metadata": {},
     "output_type": "execute_result"
    }
   ],
   "source": [
    "edge_index = torch.tensor([[0, 1, 1, 2],\n",
    "                          [1, 0, 2, 1]], dtype=torch.long)\n",
    "edge_index"
   ]
  },
  {
   "cell_type": "markdown",
   "id": "89d75737",
   "metadata": {},
   "source": [
    "Perceba que, na primeria coluna, encontram-se os vértices 0 e 1 respectivamente, representando uma aresta que parte de 0 em direção a 1. Já na segunda coluna, novamente encontramos os vértices 0 e 1, porém na ordem inversa, indicando que agora a aresta parte de 1 em direção a 0. \n"
   ]
  },
  {
   "cell_type": "markdown",
   "id": "52988fee",
   "metadata": {},
   "source": [
    "Tal notação, embora pareça redundante, é necessária para sinalizar que o grafo é não dirigido. O mesmo padrão se repete para as duas últimas colunas, as quais representam a aresta {1,2}."
   ]
  },
  {
   "cell_type": "markdown",
   "id": "4083cbf1",
   "metadata": {},
   "source": [
    "Outra forma de definir as arestas seria por meio de uma lista de tuplas. Porém, de modo a manter o formato COO, precisamos realizar a transposição do tensor, por meio do método <code>t</code>, além de aplicar o método <code>contiguous</code> em seguida."
   ]
  },
  {
   "cell_type": "code",
   "execution_count": 7,
   "id": "8e7ca8c1",
   "metadata": {},
   "outputs": [
    {
     "data": {
      "text/plain": [
       "tensor([[0, 1, 1, 2],\n",
       "        [1, 0, 2, 1]])"
      ]
     },
     "execution_count": 7,
     "metadata": {},
     "output_type": "execute_result"
    }
   ],
   "source": [
    "edge_index = torch.tensor([[0,1],\n",
    "                           [1,0],\n",
    "                           [1,2],\n",
    "                           [2,1]], dtype=torch.long)\n",
    "\n",
    "edge_index = edge_index.t().contiguous()\n",
    "edge_index"
   ]
  },
  {
   "cell_type": "markdown",
   "id": "6260e180",
   "metadata": {},
   "source": [
    "## 1.2 - Representando as _features_"
   ]
  },
  {
   "cell_type": "markdown",
   "id": "767323a1",
   "metadata": {},
   "source": [
    "Para esse exemplo, cada nó terá apenas uma _feature_. Dessa forma, podemos definir o tensor como uma matriz coluna, em que cada linha representa as _features_ dos nós 0, 1 e 2 respectivamente. "
   ]
  },
  {
   "cell_type": "markdown",
   "id": "7ed4710e",
   "metadata": {},
   "source": [
    "Como as _features_ são as variáveis independentes do modelo, iremos referenciar tal tensor como <code>x</code>, além de atribuir o tipo de dado <code>torch.float</code>."
   ]
  },
  {
   "cell_type": "code",
   "execution_count": 8,
   "id": "ada8cf0e",
   "metadata": {},
   "outputs": [
    {
     "data": {
      "text/plain": [
       "tensor([[-1.],\n",
       "        [ 0.],\n",
       "        [ 1.]])"
      ]
     },
     "execution_count": 8,
     "metadata": {},
     "output_type": "execute_result"
    }
   ],
   "source": [
    "x = torch.tensor([[-1], [0], [1]], dtype=torch.float)\n",
    "x"
   ]
  },
  {
   "cell_type": "markdown",
   "id": "9dcbbf65",
   "metadata": {},
   "source": [
    "## 1.3 - Criando a representação do grafo"
   ]
  },
  {
   "cell_type": "markdown",
   "id": "f0585938",
   "metadata": {},
   "source": [
    "Por fim, de modo a representar o grafo G, precisamos apenas criar uma instância da classe <code>Data</code>, passando os tensores como argumentos do construtor."
   ]
  },
  {
   "cell_type": "code",
   "execution_count": 9,
   "id": "73bfd5e6",
   "metadata": {},
   "outputs": [
    {
     "data": {
      "text/plain": [
       "Data(x=[3, 1], edge_index=[2, 4])"
      ]
     },
     "execution_count": 9,
     "metadata": {},
     "output_type": "execute_result"
    }
   ],
   "source": [
    "data = Data(x=x, edge_index=edge_index)\n",
    "data"
   ]
  },
  {
   "cell_type": "markdown",
   "id": "dfa8d6fd",
   "metadata": {},
   "source": [
    "Dessa forma, criamos a representação do grafo G, indicado pela imagem abaixo, no PyG. "
   ]
  },
  {
   "cell_type": "markdown",
   "id": "8be9fd15",
   "metadata": {},
   "source": [
    "<figure>\n",
    "<img src=\"img/graph.svg\" alt=\"Grafo\" width='400'>\n",
    "    <figcaption>\n",
    "        <em>Fonte: \n",
    "            <a href='https://pytorch-geometric.readthedocs.io/en/latest/'>Documentação do Pytorch Geometric</a>\n",
    "        </em>\n",
    "    </figcaption>\n",
    "</figure>\n",
    "\n"
   ]
  },
  {
   "cell_type": "markdown",
   "id": "754c4337",
   "metadata": {},
   "source": [
    "## 1.4 - Atributos e métodos"
   ]
  },
  {
   "cell_type": "markdown",
   "id": "5bdacebe",
   "metadata": {},
   "source": [
    "A classe <code>Data</code> contem diversos parâmetros que retornam informações importantes da representação do grafo. Por exemplo, podemos visualizar a matriz que representa as arestas no formato COO:"
   ]
  },
  {
   "cell_type": "code",
   "execution_count": 10,
   "id": "c379e11d",
   "metadata": {},
   "outputs": [
    {
     "data": {
      "text/plain": [
       "tensor([[0, 1, 1, 2],\n",
       "        [1, 0, 2, 1]])"
      ]
     },
     "execution_count": 10,
     "metadata": {},
     "output_type": "execute_result"
    }
   ],
   "source": [
    "data.edge_index"
   ]
  },
  {
   "cell_type": "markdown",
   "id": "a140bf13",
   "metadata": {},
   "source": [
    "A fim da melhor visualização, podemos transpor essa matriz:"
   ]
  },
  {
   "cell_type": "code",
   "execution_count": 11,
   "id": "a1c4ae7d",
   "metadata": {},
   "outputs": [
    {
     "data": {
      "text/plain": [
       "tensor([[0, 1],\n",
       "        [1, 0],\n",
       "        [1, 2],\n",
       "        [2, 1]])"
      ]
     },
     "execution_count": 11,
     "metadata": {},
     "output_type": "execute_result"
    }
   ],
   "source": [
    "data.edge_index.t()"
   ]
  },
  {
   "cell_type": "markdown",
   "id": "08c18253",
   "metadata": {},
   "source": [
    "Podemos visualizar também a matriz de _features_ que guarda as variáveis independentes do modelo:"
   ]
  },
  {
   "cell_type": "code",
   "execution_count": 12,
   "id": "ce0191b8",
   "metadata": {},
   "outputs": [
    {
     "data": {
      "text/plain": [
       "tensor([[-1.],\n",
       "        [ 0.],\n",
       "        [ 1.]])"
      ]
     },
     "execution_count": 12,
     "metadata": {},
     "output_type": "execute_result"
    }
   ],
   "source": [
    "data.x"
   ]
  },
  {
   "cell_type": "markdown",
   "id": "8734973e",
   "metadata": {},
   "source": [
    "Podemos saber a quantidade de nós do grafo:"
   ]
  },
  {
   "cell_type": "code",
   "execution_count": 13,
   "id": "1d9bafa5",
   "metadata": {},
   "outputs": [
    {
     "data": {
      "text/plain": [
       "3"
      ]
     },
     "execution_count": 13,
     "metadata": {},
     "output_type": "execute_result"
    }
   ],
   "source": [
    "data.num_nodes"
   ]
  },
  {
   "cell_type": "markdown",
   "id": "8abd45ae",
   "metadata": {},
   "source": [
    "Bem como o número de arestas:"
   ]
  },
  {
   "cell_type": "code",
   "execution_count": 14,
   "id": "9dd743fb",
   "metadata": {},
   "outputs": [
    {
     "data": {
      "text/plain": [
       "4"
      ]
     },
     "execution_count": 14,
     "metadata": {},
     "output_type": "execute_result"
    }
   ],
   "source": [
    "data.num_edges"
   ]
  },
  {
   "cell_type": "markdown",
   "id": "60662906",
   "metadata": {},
   "source": [
    "Além da quantidade de _features_ por nó:"
   ]
  },
  {
   "cell_type": "code",
   "execution_count": 15,
   "id": "580fdb00",
   "metadata": {},
   "outputs": [
    {
     "data": {
      "text/plain": [
       "1"
      ]
     },
     "execution_count": 15,
     "metadata": {},
     "output_type": "execute_result"
    }
   ],
   "source": [
    "data.num_features"
   ]
  },
  {
   "cell_type": "markdown",
   "id": "90c27852",
   "metadata": {},
   "source": [
    "Além disso, há métodos que retornnam também outras informações gerais acerca do grafo, como se ele possui nós isolados:"
   ]
  },
  {
   "cell_type": "code",
   "execution_count": 16,
   "id": "c7d9272c",
   "metadata": {},
   "outputs": [
    {
     "data": {
      "text/plain": [
       "False"
      ]
     },
     "execution_count": 16,
     "metadata": {},
     "output_type": "execute_result"
    }
   ],
   "source": [
    "data.has_isolated_nodes()"
   ]
  },
  {
   "cell_type": "markdown",
   "id": "26769147",
   "metadata": {},
   "source": [
    "Se possui grafos conectados a si (_self loops_):"
   ]
  },
  {
   "cell_type": "code",
   "execution_count": 17,
   "id": "305ee392",
   "metadata": {},
   "outputs": [
    {
     "data": {
      "text/plain": [
       "False"
      ]
     },
     "execution_count": 17,
     "metadata": {},
     "output_type": "execute_result"
    }
   ],
   "source": [
    "data.has_self_loops()"
   ]
  },
  {
   "cell_type": "markdown",
   "id": "6997ba8a",
   "metadata": {},
   "source": [
    "Por fim, se o grafo é dirigido:"
   ]
  },
  {
   "cell_type": "code",
   "execution_count": 18,
   "id": "d9458f71",
   "metadata": {},
   "outputs": [
    {
     "data": {
      "text/plain": [
       "False"
      ]
     },
     "execution_count": 18,
     "metadata": {},
     "output_type": "execute_result"
    }
   ],
   "source": [
    "data.is_directed()"
   ]
  },
  {
   "cell_type": "markdown",
   "id": "60b61499",
   "metadata": {},
   "source": [
    "# 2- Dataset Cora"
   ]
  },
  {
   "cell_type": "markdown",
   "id": "a5a4c3af",
   "metadata": {},
   "source": [
    "Até o presente momento, apenas verificamos como o PyG representa um grafo, bem como as informações que podemos extrair dele. A partir disso, já podemos trabalhar com um exemplo real."
   ]
  },
  {
   "cell_type": "markdown",
   "id": "3c59654e",
   "metadata": {},
   "source": [
    "Para tanto, o PyG disponibiliza diversos datasets, dentre eles, o <code>Cora</code>, presente na coleção <code>Planetoid</code>, um dos mais empregados para benchmark. Abaixo, há uma breve descrição do dataset:"
   ]
  },
  {
   "cell_type": "markdown",
   "id": "0018cc9f",
   "metadata": {},
   "source": [
    ">\n",
    ">O dataset Cora é constituído por 2708 publicações de Machine Learning classificadas entre 7 categorias:\n",
    "> - Baseado em Caso\n",
    "> - Algortimos Genéticos\n",
    "> - Redes Neurais\n",
    "> - Métodos Probabilísticos\n",
    "> - Aprendizagem por Reforço\n",
    "> - Regra de Aprendizagem\n",
    "> - Teoria\n",
    ">\n",
    ">Os artigos foram selecionados de sorte que todos citam ou são citados por ao menos outro artigo. No total, há 5429 links de citação.\n",
    ">\n",
    ">Com base na frequência de palavras relevantes dos documentos, foi criado um vocabulário com 1433 palavras únicas. Cada publicação é descrito por um vetor binário que corresponde a presença ou ausência de determinada palavra do vocabulário.\n",
    ">\n",
    ">_Fonte: https://linqs.soe.ucsc.edu/data_"
   ]
  },
  {
   "cell_type": "markdown",
   "id": "539f816d",
   "metadata": {},
   "source": [
    "A partir da descrição acima, podemos inferir algumas características do grafo que representa o dataset <code>Cora</code>. Nesse contexto, as publicações são referentes aos nós; as citações, às arestas. Além disso, o vetor binário indicando a presença ou ausência de palavras do vocabulário na publicação representa o vetor de _features_ de cada nó. "
   ]
  },
  {
   "cell_type": "markdown",
   "id": "6d80939a",
   "metadata": {},
   "source": [
    "Dessa forma, teríamos um grafo com 2708 nós (publicações), 5429 arestas (links de citação) e 1433 _features_ para cada nó. Podemos ter uma breve ideia da forma desse grafo com base na imagem abaixo. Cada cor represente uma dentre as 7 classes (_labels_) possíveis para os nós:"
   ]
  },
  {
   "cell_type": "markdown",
   "id": "48a7e72d",
   "metadata": {},
   "source": [
    "<figure>\n",
    "<img src=\"img/cora.jpg\" alt=\"Cora\" width='450'>\n",
    "    <figcaption>\n",
    "        <em>Fonte: \n",
    "            <a href='https://paperswithcode.com/dataset/cora'>PapersWithCode</a>\n",
    "        </em>\n",
    "    </figcaption>\n",
    "</figure>\n"
   ]
  },
  {
   "cell_type": "markdown",
   "id": "25c63ecc",
   "metadata": {},
   "source": [
    "## 2.1- Importando o dataset"
   ]
  },
  {
   "cell_type": "markdown",
   "id": "fc507777",
   "metadata": {},
   "source": [
    "Para ter acesso a qualquer dataset disponibilizado pelo PyG, deve-se importar a classe referente à coleção do dataset a partir de <code>torch_geometric.datasets</code>. Nesse caso, o Cora está presente na coleção <code>Planetoid</code>. "
   ]
  },
  {
   "cell_type": "code",
   "execution_count": 19,
   "id": "461b5ff2",
   "metadata": {},
   "outputs": [],
   "source": [
    "from torch_geometric.datasets import Planetoid"
   ]
  },
  {
   "cell_type": "markdown",
   "id": "266f283b",
   "metadata": {},
   "source": [
    "Agora, devemos especificar o diretório de destino (<code>root</code>), bem como o nome (<code>name</code>) do dataset. Caso não se encontre no local, então o PyG irá realizar o download dos arquivos brutos (_raw_) do dataset, convertendo posteriormente para o formato <code>Data</code> já discutido. "
   ]
  },
  {
   "cell_type": "code",
   "execution_count": 20,
   "id": "169c5c30",
   "metadata": {},
   "outputs": [],
   "source": [
    "dataset = Planetoid(root='.', name='Cora')"
   ]
  },
  {
   "cell_type": "markdown",
   "id": "9c0341e0",
   "metadata": {},
   "source": [
    "No exemplo acima, o destino final do dataset é o mesmo diretório deste notebook <code>'.'</code>. Então, é possível visualizar a criação da pasta Cora. Dentro dela, há duas pastas: _raw_ e _processed_. Na primeira, constam os arquivos originais do dataset; na segundo, os empregados pelo PyG para representar o dataset como um grafo no formato <code>Data</code> originados a partir do processamentos dos primeiros."
   ]
  },
  {
   "cell_type": "markdown",
   "id": "9c7e8704",
   "metadata": {},
   "source": [
    "## 2.2- Visualizando o dataset"
   ]
  },
  {
   "cell_type": "markdown",
   "id": "c9a6b9e0",
   "metadata": {},
   "source": [
    "Uma vez inicializado, podemos visualizar algumas informações do dataset. Por exemplo, seu tamanho, isto é, a quantidade de grafos que possui:"
   ]
  },
  {
   "cell_type": "code",
   "execution_count": 21,
   "id": "f04b5e89",
   "metadata": {},
   "outputs": [
    {
     "data": {
      "text/plain": [
       "1"
      ]
     },
     "execution_count": 21,
     "metadata": {},
     "output_type": "execute_result"
    }
   ],
   "source": [
    "len(dataset)"
   ]
  },
  {
   "cell_type": "markdown",
   "id": "f062d24a",
   "metadata": {},
   "source": [
    "No total, há apenas um grande grafo que representa todo o dataset. Além disso, podemos verificar a quantidade de classes (_labels_) dos nós:"
   ]
  },
  {
   "cell_type": "code",
   "execution_count": 22,
   "id": "524c9f42",
   "metadata": {},
   "outputs": [
    {
     "data": {
      "text/plain": [
       "7"
      ]
     },
     "execution_count": 22,
     "metadata": {},
     "output_type": "execute_result"
    }
   ],
   "source": [
    "dataset.num_classes"
   ]
  },
  {
   "cell_type": "markdown",
   "id": "e0612f80",
   "metadata": {},
   "source": [
    "Conforme exposto pela descrição, há de fato 7 classes. Podemos também verificar o número de _features_ dos nós:"
   ]
  },
  {
   "cell_type": "code",
   "execution_count": 23,
   "id": "47b6d445",
   "metadata": {},
   "outputs": [
    {
     "data": {
      "text/plain": [
       "1433"
      ]
     },
     "execution_count": 23,
     "metadata": {},
     "output_type": "execute_result"
    }
   ],
   "source": [
    "dataset.num_node_features"
   ]
  },
  {
   "cell_type": "markdown",
   "id": "a515ff43",
   "metadata": {},
   "source": [
    "Dessa forma, é possível constatar que há 1433 _features_ por nó de fato."
   ]
  },
  {
   "cell_type": "markdown",
   "id": "3bc9a2c4",
   "metadata": {},
   "source": [
    "Agora, vamos referenciar o grafo do dataset. Nesse caso, como mencionado, há apenas um grande grafo, porém há datasets que contêm diversos grafos, especialmente para problemas de classificação em nível de nó, cada um acessado por meio de um index posicional."
   ]
  },
  {
   "cell_type": "code",
   "execution_count": 24,
   "id": "9e41e704",
   "metadata": {},
   "outputs": [],
   "source": [
    "data = dataset[0]"
   ]
  },
  {
   "cell_type": "markdown",
   "id": "829d0188",
   "metadata": {},
   "source": [
    "A partir disso, podemos verificar se o grafo retornado realmente é uma instância da classe <code>Data</code> conforme mencionado."
   ]
  },
  {
   "cell_type": "code",
   "execution_count": 25,
   "id": "a54cd5a8",
   "metadata": {},
   "outputs": [
    {
     "name": "stdout",
     "output_type": "stream",
     "text": [
      ">> O grafo é instâncida de Data\n"
     ]
    }
   ],
   "source": [
    "text = 'O grafo é instâncida de Data' if isinstance(data, Data) else 'O grafo não é instância de Data'\n",
    "print(f'>> {text}')"
   ]
  },
  {
   "cell_type": "markdown",
   "id": "81b9cbf4",
   "metadata": {},
   "source": [
    "Além disso, podemos verificar também se é um grafo dirigido ou não:"
   ]
  },
  {
   "cell_type": "code",
   "execution_count": 26,
   "id": "89cb3460",
   "metadata": {},
   "outputs": [
    {
     "name": "stdout",
     "output_type": "stream",
     "text": [
      ">> O grafo não é dirigido\n"
     ]
    }
   ],
   "source": [
    "text = 'O grafo não é dirigido' if data.is_undirected() else 'O grafo é dirigido'\n",
    "print(f'>> {text}')"
   ]
  },
  {
   "cell_type": "markdown",
   "id": "4e9781e1",
   "metadata": {},
   "source": [
    "Bem como a quantidade de nós e de arestas. Lembre que as arestas são computadas duas vezes na representação de um grafo não dirigido. Portando, devemos dividir o resultado pela metade."
   ]
  },
  {
   "cell_type": "code",
   "execution_count": 27,
   "id": "17c0c0f1",
   "metadata": {},
   "outputs": [
    {
     "name": "stdout",
     "output_type": "stream",
     "text": [
      ">> # de nós: 2708\n",
      ">> # de arestas: 5278\n"
     ]
    }
   ],
   "source": [
    "num_nodes = data.num_nodes\n",
    "num_edges = data.num_edges\n",
    "print(f'>> # de nós: {num_nodes}')\n",
    "print(f'>> # de arestas: {num_edges//2}')"
   ]
  },
  {
   "cell_type": "markdown",
   "id": "32d33981",
   "metadata": {},
   "source": [
    "Dessa forma, constatamos haverm realmente 2708 nós (_publicações_), porém um pouco menos de arestas (_links de citações_) mencionadas na descrição. "
   ]
  },
  {
   "cell_type": "markdown",
   "id": "9fa668ef",
   "metadata": {},
   "source": [
    "Podemos utilizar uma forma mais compacta para verificar informações de cardinalidade do grafo ao simplesmente imprimir o objeto."
   ]
  },
  {
   "cell_type": "code",
   "execution_count": 32,
   "id": "e2001cb9",
   "metadata": {},
   "outputs": [
    {
     "data": {
      "text/plain": [
       "Data(x=[2708, 1433], edge_index=[2, 10556], y=[2708], train_mask=[2708], val_mask=[2708], test_mask=[2708])"
      ]
     },
     "execution_count": 32,
     "metadata": {},
     "output_type": "execute_result"
    }
   ],
   "source": [
    "data"
   ]
  },
  {
   "cell_type": "markdown",
   "id": "5e8d692c",
   "metadata": {},
   "source": [
    "Aqui, podemos visualizar alguns parâmetros que nos informam sobre a quantidade de nós, arestas e _features_:\n",
    "\n",
    "><b>x</b>: informa as dimensões da matriz de _features_ [2708 linhas (nós), 1433 colunas (_features_)].\n"
   ]
  },
  {
   "cell_type": "code",
   "execution_count": 46,
   "id": "733fbe42",
   "metadata": {},
   "outputs": [
    {
     "data": {
      "text/plain": [
       "torch.Size([2708, 1433])"
      ]
     },
     "execution_count": 46,
     "metadata": {},
     "output_type": "execute_result"
    }
   ],
   "source": [
    "data.x.shape"
   ]
  },
  {
   "cell_type": "markdown",
   "id": "e8f0bae3",
   "metadata": {},
   "source": [
    "><b>edge_index</b>: informa as dimensões da matriz de representação das arestas no formato COO [2 linhas (partida/destino), 10556 colunas (arestas para ambas direções)]."
   ]
  },
  {
   "cell_type": "code",
   "execution_count": 47,
   "id": "3d8eaa34",
   "metadata": {},
   "outputs": [
    {
     "data": {
      "text/plain": [
       "torch.Size([2, 10556])"
      ]
     },
     "execution_count": 47,
     "metadata": {},
     "output_type": "execute_result"
    }
   ],
   "source": [
    "data.edge_index.shape"
   ]
  },
  {
   "cell_type": "markdown",
   "id": "2223b1bf",
   "metadata": {},
   "source": [
    "Além disso, novos parâmetros surgiram, trazendo novas informações:"
   ]
  },
  {
   "cell_type": "markdown",
   "id": "a0ab865d",
   "metadata": {},
   "source": [
    "><b>y</b>: vetor que representa as _labels_, isto é, a variável que desejamos predizer do dataset. Pode ter dimensões variadas. Para predições em nível de grafo, possui apenas uma linha. Já para predições em nível de nó, possui uma linha para cada nó no grafo. O grafo atual se encaixa nesta categoria [2780 nós]\n"
   ]
  },
  {
   "cell_type": "code",
   "execution_count": 40,
   "id": "497123b9",
   "metadata": {},
   "outputs": [
    {
     "data": {
      "text/plain": [
       "tensor([3, 4, 4,  ..., 3, 3, 3])"
      ]
     },
     "execution_count": 40,
     "metadata": {},
     "output_type": "execute_result"
    }
   ],
   "source": [
    "data.y"
   ]
  },
  {
   "cell_type": "markdown",
   "id": "f85155bf",
   "metadata": {},
   "source": [
    "><b>train_mask</b>: vetor booleano que especifica quais nós são reservados para o treinamento [2780 nós]\n"
   ]
  },
  {
   "cell_type": "code",
   "execution_count": 41,
   "id": "4a8b9984",
   "metadata": {},
   "outputs": [
    {
     "data": {
      "text/plain": [
       "tensor([ True,  True,  True,  ..., False, False, False])"
      ]
     },
     "execution_count": 41,
     "metadata": {},
     "output_type": "execute_result"
    }
   ],
   "source": [
    "data.train_mask"
   ]
  },
  {
   "cell_type": "markdown",
   "id": "4a4961fa",
   "metadata": {},
   "source": [
    "><b>val_mask</b>: vetor booleano que especifica quais nós são reservados para a validação [2780 nós]"
   ]
  },
  {
   "cell_type": "code",
   "execution_count": 42,
   "id": "61dbe774",
   "metadata": {},
   "outputs": [
    {
     "data": {
      "text/plain": [
       "tensor([False, False, False,  ..., False, False, False])"
      ]
     },
     "execution_count": 42,
     "metadata": {},
     "output_type": "execute_result"
    }
   ],
   "source": [
    "data.val_mask"
   ]
  },
  {
   "cell_type": "markdown",
   "id": "79b8ec6f",
   "metadata": {},
   "source": [
    "><b>test_mask</b>: vetor booleano que especifica quais nós são reservados para o teste [2780 nós]"
   ]
  },
  {
   "cell_type": "code",
   "execution_count": 43,
   "id": "2f3edf27",
   "metadata": {},
   "outputs": [
    {
     "data": {
      "text/plain": [
       "tensor([False, False, False,  ...,  True,  True,  True])"
      ]
     },
     "execution_count": 43,
     "metadata": {},
     "output_type": "execute_result"
    }
   ],
   "source": [
    "data.test_mask"
   ]
  },
  {
   "cell_type": "markdown",
   "id": "f5263c3b",
   "metadata": {},
   "source": [
    "Dessa forma, para o dataset em questão, não precisamos nos preocupar na divisão em conjunto de treinamento, validação e teste. Isso já está estabelecido de acordo com as máscaras."
   ]
  },
  {
   "cell_type": "markdown",
   "id": "182dc025",
   "metadata": {},
   "source": [
    "# 3- Modelo"
   ]
  },
  {
   "cell_type": "markdown",
   "id": "df59b481",
   "metadata": {},
   "source": [
    "Então, finalmente chegou o momento de criarmos nosso modelo utilizando GNNs (_Graph Neural Networks_). Porém, primeiro vamos pensar que tarefa desejamos realizar com esse modelo, isto é, qual tipo de predição desejamos fazer?"
   ]
  },
  {
   "cell_type": "markdown",
   "id": "3b7edfb7",
   "metadata": {},
   "source": [
    "Bem, temos um dataset representado por um grafo, cujas _labels_, isto é, aquilo que desejamos predizer, se referem aos nós do grafo. Nesse caso, elas representam a categoria (dentre 7) do artigo em questão. Dessa forma, desejamos fazer predições em nível de nó, ou seja, predizer a categoria de artigos que não foram apresentados ao modelo durante o treinamento."
   ]
  },
  {
   "cell_type": "markdown",
   "id": "5e866cd4",
   "metadata": {},
   "source": [
    "## 3.1- Imports e considerações necessárias"
   ]
  },
  {
   "cell_type": "markdown",
   "id": "437cb911",
   "metadata": {},
   "source": [
    "Para iniciar o implementação do nosso modelo, precisamos importar a classe base para qualquer modelo de rede neural do Pytorch:"
   ]
  },
  {
   "cell_type": "code",
   "execution_count": 60,
   "id": "5ed45859",
   "metadata": {},
   "outputs": [],
   "source": [
    "from torch.nn import Module"
   ]
  },
  {
   "cell_type": "markdown",
   "id": "91c0cacd",
   "metadata": {},
   "source": [
    "Além disso, iremos importar o módulo do Pytroch com diversas funcionalidade que podem ser usadas durante a implementação do modelo como, por exemplo, as funções de ativação."
   ]
  },
  {
   "cell_type": "code",
   "execution_count": 61,
   "id": "70bdd279",
   "metadata": {},
   "outputs": [],
   "source": [
    "import torch.nn.functional as F"
   ]
  },
  {
   "cell_type": "markdown",
   "id": "f0e0e0f5",
   "metadata": {},
   "source": [
    "Precisamos definir também a arqutetura empregada no modelo. Como exposto na <a href='https://docs.google.com/presentation/d/10DHKI-UI_10aSF2zTca5n06xkZS900iCdYVD2HyMFrc/edit?usp=sharing'> apresentação</a>, entre as arquiteturas disponíveis para grafos, encontra-se a GCN (_Graph Convolutional Networks_). Nesse contexto, para tal arquitetura, ainda podemos escolher entre diversas formas de implementar as camadas de convolução. No entanto, para este exemplo, empregaremos o operador de convolução <code>GCNConv</code> descrita por <a href='https://arxiv.org/abs/1609.02907'>Kipf e Welling (2017)</a>. \n",
    "\n"
   ]
  },
  {
   "cell_type": "code",
   "execution_count": 64,
   "id": "ae0810fe",
   "metadata": {},
   "outputs": [],
   "source": [
    "from torch_geometric.nn import GCNConv"
   ]
  },
  {
   "cell_type": "markdown",
   "id": "347d46f0",
   "metadata": {},
   "source": [
    "Outro aspecto também discutido na <a href='https://docs.google.com/presentation/d/10DHKI-UI_10aSF2zTca5n06xkZS900iCdYVD2HyMFrc/edit?usp=sharing'> apresentação</a> são os vetores de _embeddings_, que representam a agragação de informações dos nós vizinhos. O tamanho de tal vetor geralmente difere da quantidade de _features_ dos nós, sendo uma decisão de hiperparâmetro. "
   ]
  },
  {
   "cell_type": "markdown",
   "id": "167d88b7",
   "metadata": {},
   "source": [
    "EMBEDDING_SIZE = 16"
   ]
  },
  {
   "cell_type": "markdown",
   "id": "a33cafc6",
   "metadata": {},
   "source": [
    "## 3.2- Implementação"
   ]
  },
  {
   "cell_type": "markdown",
   "id": "1f456eb3",
   "metadata": {},
   "source": [
    "Pronto, a partir disso, já é possível implementar o modelo:"
   ]
  },
  {
   "cell_type": "code",
   "execution_count": 66,
   "id": "60e202af",
   "metadata": {},
   "outputs": [],
   "source": [
    "#O modelo herda a classe Module (base para qualquer modelo de nn)\n",
    "class GCN(Module):\n",
    "    def __init__(self):\n",
    "        #A classe herdada é inicializada\n",
    "        super().__init__()\n",
    "        \n",
    "        #São definidas duas camadas de convolução\n",
    "        \n",
    "        #A primeira camada recebe os vetores de features dos nós, construindo o embedding\n",
    "        self.conv1 = GCNConv(dataset.num_node_features, EMBEDDING_SIZE)\n",
    "        #A segunda camada recebe o embedding, predizendo a classe como saída\n",
    "        self.conv2 = GCNConv(EMBEDDING_SIZE, dataset.num_classes)\n",
    "\n",
    "    def forward(self, data):\n",
    "        #Referenciamos a matriz de features e a conectividade do grafo para os nós repassados em data\n",
    "        x, edge_index = data.x, data.edge_index\n",
    "        \n",
    "        x = self.conv1(x, edge_index) #Repassamos esses dados para a primeira camada\n",
    "        x = F.relu(x) #Não linearidade é adicionada\n",
    "        x = F.dropout(x, training=self.training) #Realiza-se o processo de dropout\n",
    "        x = self.conv2(x, edge_index) #Embedding é repassado para a segunda camada\n",
    "\n",
    "        return F.log_softmax(x, dim=1)#Não lineariedade é aplicada"
   ]
  },
  {
   "cell_type": "markdown",
   "id": "9ae7ffe7",
   "metadata": {},
   "source": [
    "Vamos analisar a implementação linha a linha para entender o que está sendo feito."
   ]
  },
  {
   "cell_type": "markdown",
   "id": "1ad43fa3",
   "metadata": {},
   "source": [
    "Na primeira linha, definimo a classe GCN que representará nosso modelo, o qual deve herdar a classe <code>torch.nn.Module</code>, a classe base para qualquer modelo de rede neural."
   ]
  },
  {
   "cell_type": "markdown",
   "id": "8bc30660",
   "metadata": {},
   "source": [
    "Na classe GCN, iremos definir dois métodos: <code>\\_\\_init__</code> e <code>forward</code>"
   ]
  },
  {
   "cell_type": "markdown",
   "id": "b1a04173",
   "metadata": {},
   "source": [
    "### 3.4- Método \\_\\_init__( )"
   ]
  },
  {
   "cell_type": "markdown",
   "id": "2283cc94",
   "metadata": {},
   "source": [
    "No método <code>\\_\\_init__</code>, iremos inicializar a classe, bem como definir a topologia da rede neural. Dessa forma: "
   ]
  },
  {
   "cell_type": "markdown",
   "id": "87ac2975",
   "metadata": {},
   "source": [
    "1. Na primeira linha do método, inicializamos a classe herdada. "
   ]
  },
  {
   "cell_type": "markdown",
   "id": "c77722c5",
   "metadata": {},
   "source": [
    "2. Na segunda linha, definimos nossa primeira camada de convolução <code>self.conv1</code>, a qual aplica o operador convolucional <code>GCNConv</code>. Nesse caso, precisamos especificar para o operador o tamanho de entrada e de saída dos dados. No primeiro caso, como os dados de entrada são os vetores de _features_, o tamanho é de <code>data.num_node_features</code>. Já no segudno, como os dados de saída são os _embeddings_, o tamanho é de <code>EMBEDDING_SIZE</code>"
   ]
  },
  {
   "cell_type": "markdown",
   "id": "4302bba2",
   "metadata": {},
   "source": [
    "3. Na terceira linha, definimos nossa segunda camada de convolução <code>self.conv2</code>, a qual aplica o operador convolucional <code>GCNConv</code>. Nesse caso, precisamos especificar novamente o tamanho de entrada e de saída dos dados para o operador. No primeiro caso, como os dados de entrada são os vetores de _embedding_, o tamanho é de <code>EMBEDDING_SIZE</code>. Já no segudno, como os dados de saída são as classes dos artigos, o tamanho é de <code>data.num_classes</code>"
   ]
  },
  {
   "cell_type": "markdown",
   "id": "52d64f78",
   "metadata": {},
   "source": [
    "A fim de melhor visualizar o procedimento adotado, imagine que parte do grafo é representado pela imagem abaixo, destacando o vetor de _featares_ do nó A."
   ]
  },
  {
   "cell_type": "markdown",
   "id": "ab9b761f",
   "metadata": {},
   "source": [
    "<figure>\n",
    "    <img src='img/imp1.png' alt='Grafo genérico'>\n",
    "    <figcaption><em>Fonte: própria </em></figcaption>\n",
    "</figure>"
   ]
  },
  {
   "cell_type": "markdown",
   "id": "e0a5bbee",
   "metadata": {},
   "source": [
    "A primeira camada será responsável por receber o vetor de _features_ do nó A. Por isso, especificamos a quantidade de _features_ no canal de entrada. Além disso, ela executará o primeiro nível de agregação, resultando no primeiro vetor de _embeddings_ para o nó A."
   ]
  },
  {
   "cell_type": "markdown",
   "id": "924fd40e",
   "metadata": {},
   "source": [
    "Em seguida, a segunda camada irá receber o vetor de _embeddings_ do nó A. Por isso, especificamos o tamanho dele para o canal de entrada. Por fim, ela irá realizar a classificação do nó entre as 7 possíveis classes definidas."
   ]
  },
  {
   "cell_type": "markdown",
   "id": "916ee55d",
   "metadata": {},
   "source": [
    "Então, a topoplogia da rede pode ser visualizada da seguinte forma:"
   ]
  },
  {
   "cell_type": "markdown",
   "id": "2ae73379",
   "metadata": {},
   "source": [
    "<figure>\n",
    "    <img src='img/imp2.png' alt='Topologia'>\n",
    "    <figcaption><em>Fonte: própria </em></figcaption>\n",
    "</figure>"
   ]
  },
  {
   "cell_type": "markdown",
   "id": "755d81a3",
   "metadata": {},
   "source": [
    "### 3.5- Método forward( )"
   ]
  },
  {
   "cell_type": "markdown",
   "id": "67af0074",
   "metadata": {},
   "source": [
    "No método <code>forward</code>, definimos a regra de propagação da rede neural, ou seja, a computação realizada pelo modelo para realizar uma predição. Perceba que até o momendo só falamos na estrutura da rede. Dessa forma:"
   ]
  },
  {
   "cell_type": "markdown",
   "id": "ebfff238",
   "metadata": {},
   "source": [
    "1. Na primeira linha, referenciamos a matriz de _features_ <code>x</code>, bem como a conectividade do grafo <code>edge_index</code>, repassado do modelo por meio do atributo data."
   ]
  },
  {
   "cell_type": "markdown",
   "id": "bf2e7b7b",
   "metadata": {},
   "source": [
    "2. Na segunda linha, repassamos esses dados para a primeira camada."
   ]
  },
  {
   "cell_type": "markdown",
   "id": "5bad90b0",
   "metadata": {},
   "source": [
    "3. Na terceira linha, adicionamos uma função de ativação na saída da primeira camada. As funções de ativação são muito imporantes para um modelo, pois elas adicionam não-linearidade, dessa forma expandindo a capacidade de classificação. Além disso, elas definem quais valores são repassados para as próximas camadas. Nesse caso, empregamos a unidade linear refificada (ReLu). Ela simplesmente retorna o valor do neurônio, se for positivo; 0, se for negativo. O comportamento da função pode ser visto pelo gráfico abaixo:"
   ]
  },
  {
   "cell_type": "code",
   "execution_count": 122,
   "id": "e24c59d1",
   "metadata": {},
   "outputs": [
    {
     "data": {
      "text/plain": [
       "[<matplotlib.lines.Line2D at 0x7ff616cc3610>]"
      ]
     },
     "execution_count": 122,
     "metadata": {},
     "output_type": "execute_result"
    },
    {
     "data": {
      "image/png": "[encoded data removed]",
      "text/plain": [
       "<Figure size 432x288 with 1 Axes>"
      ]
     },
     "metadata": {
      "needs_background": "light"
     },
     "output_type": "display_data"
    }
   ],
   "source": [
    "import numpy as np\n",
    "import matplotlib.pyplot as plt\n",
    "\n",
    "relu = lambda x: 0 if x <=0 else x \n",
    "\n",
    "x = np.linspace(-2.0, 2.0, 1000)\n",
    "y = np.array([relu(_) for _ in x])\n",
    "plt.plot(x,y)\n"
   ]
  },
  {
   "cell_type": "markdown",
   "id": "5017b71e",
   "metadata": {},
   "source": [
    "4. Na quarta linha, aplicamos a técninca de dropout, um algoritmo recentemente introduzido no treinamento de redes neurais que tem demonstrado excelentes resultados. Nele, neurônios são temporariamente retirados do modelo de forma aleatória em cada época. Assim, pode-se pensar que diversos modelos diferentes são treinados, já que a topologia da rede muda, tendo como resultado o efeito médio de todas essas redes diferentes. Uma das vantagens da técninca é, por exemplo, evitar o problema de superadaptação dos dados (_overfitting_) ao generalizar o poder de inferência do modelo. O efeito do dropout é ilustrado abaixo:"
   ]
  },
  {
   "cell_type": "markdown",
   "id": "9bf9d11d",
   "metadata": {},
   "source": [
    "<figure>\n",
    "    <img src='img/dropout.png' height='100'>\n",
    "    <figcaption><em>Fonte: <a href='https://www.deeplearningbook.com.br/capitulo-23-como-funciona-o-dropout/'>DeepLearningBook</a> </em></figcaption>\n",
    "</figure>"
   ]
  },
  {
   "cell_type": "markdown",
   "id": "f2ab7e89",
   "metadata": {},
   "source": [
    "5. Na quinta linha, repassamos os resultados para a segunda camada."
   ]
  },
  {
   "cell_type": "code",
   "execution_count": null,
   "id": "682259d2",
   "metadata": {},
   "outputs": [],
   "source": []
  }
 ],
 "metadata": {
  "kernelspec": {
   "display_name": "Python 3",
   "language": "python",
   "name": "python3"
  },
  "language_info": {
   "codemirror_mode": {
    "name": "ipython",
    "version": 3
   },
   "file_extension": ".py",
   "mimetype": "text/x-python",
   "name": "python",
   "nbconvert_exporter": "python",
   "pygments_lexer": "ipython3",
   "version": "3.9.7"
  }
 },
 "nbformat": 4,
 "nbformat_minor": 5
}
