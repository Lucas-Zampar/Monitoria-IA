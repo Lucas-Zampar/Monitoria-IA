{
 "cells": [
  {
   "cell_type": "markdown",
   "id": "e02b20bb",
   "metadata": {},
   "source": [
    "# Instalação"
   ]
  },
  {
   "cell_type": "markdown",
   "id": "b2f307bf",
   "metadata": {},
   "source": [
    "A fim de desenvolver modelos de deep learning para grafos, será necessário instalar o módulo Pytorch Geometric. Para tanto, iremos desinstalar a versão atual do Pytorch pelo seguinte código:"
   ]
  },
  {
   "cell_type": "code",
   "execution_count": null,
   "id": "fc5d6545",
   "metadata": {},
   "outputs": [],
   "source": [
    "'''\n",
    "!pip3 uninstall torchtext -y\n",
    "!pip3 uninstall torchvision -y\n",
    "!pip3 uninstall torch -y\n",
    "'''"
   ]
  },
  {
   "cell_type": "markdown",
   "id": "56ebd221",
   "metadata": {},
   "source": [
    "A partir disso, iremos instalar a versão 1.9.0, anterior a atual:"
   ]
  },
  {
   "cell_type": "code",
   "execution_count": null,
   "id": "baa1a47f",
   "metadata": {},
   "outputs": [],
   "source": [
    "#!pip3 install torch==1.9.0"
   ]
  },
  {
   "cell_type": "markdown",
   "id": "43f30ff8",
   "metadata": {},
   "source": [
    "Com isso, poderemos baixar o pacote do Pytorch Geometric. Caso não seja instalado, reinicie a máquina, pois a instalação da nova versão do Pytorch pode não ter sido salva corretamente na máquina virtual."
   ]
  },
  {
   "cell_type": "code",
   "execution_count": null,
   "id": "3f5e3eac",
   "metadata": {},
   "outputs": [],
   "source": [
    "'''\n",
    "import torch\n",
    "\n",
    "if torch.__version__ != '1.9.0+cu102':\n",
    "    print('Versão do pytorch inadequada! Favor reiniciar a máquina virtual.')\n",
    "else:    \n",
    "    pytorch_version=f'torch-{torch.__version__}.html'\n",
    "    !pip3 install --no-index torch-scatter -f https://pytorch-geometric.com/whl/$pytorch_version\n",
    "    !pip3 install --no-index torch-sparse -f https://pytorch-geometric.com/whl/$pytorch_version\n",
    "    !pip3 install --no-index torch-cluster -f https://pytorch-geometric.com/whl/$pytorch_version\n",
    "    !pip3 install --no-index torch-spline-conv -f https://pytorch-geometric.com/whl/$pytorch_version\n",
    "    !pip3 install torch-geometric\n",
    "'''"
   ]
  },
  {
   "cell_type": "markdown",
   "id": "6e46c9ea",
   "metadata": {},
   "source": [
    "# 1- Representação de um grafo"
   ]
  },
  {
   "cell_type": "markdown",
   "id": "c8d26f71",
   "metadata": {},
   "source": [
    "Como introdução ao PyG, vamos construir o grafo definido pela equação abaixo:"
   ]
  },
  {
   "cell_type": "markdown",
   "metadata": {},
   "source": [
    "$$ G = \\{ V, E \\} $$"
   ]
  },
  {
   "cell_type": "markdown",
   "metadata": {},
   "source": [
    "Em que:"
   ]
  },
  {
   "cell_type": "markdown",
   "metadata": {},
   "source": [
    "$$ V = \\{ \\{0, 1, 2 \\} \\} $$\n",
    "$$ E = \\{ \\{0, 1\\}, \\{1, 2\\} \\} $$"
   ]
  },
  {
   "cell_type": "markdown",
   "metadata": {},
   "source": [
    "Note que o grafo G é composto por três vértices {0,1,2} e por duas arestas {{0,1},{1,2}}, sendo não dirigido."
   ]
  },
  {
   "cell_type": "markdown",
   "metadata": {},
   "source": [
    "No PyG, um grafo é representado como uma instância da classe <code>torch_geometric.data.Data</code>. Portanto, devemos importá-la de modo a construir o grafo. "
   ]
  },
  {
   "cell_type": "markdown",
   "metadata": {},
   "source": [
    "Além disso, importaremos também o módulo <code>torch</code> com a finalidade de utilizar algumas funcionalidades do Pytorch, como os tensores."
   ]
  },
  {
   "cell_type": "code",
   "execution_count": 1,
   "id": "86559d05",
   "metadata": {},
   "outputs": [],
   "source": [
    "import torch\n",
    "from torch_geometric.data import Data"
   ]
  },
  {
   "cell_type": "markdown",
   "metadata": {},
   "source": [
    "## 1.1- Representando as arestas"
   ]
  },
  {
   "cell_type": "markdown",
   "metadata": {},
   "source": [
    "A classe <code>Data</code> espera receber a representação das arestas no formato <code>COO</code> (COOrdinate). Nele, a conectividade do grafo é representada por meio de uma matriz com duas linhas, a primeira se referindo aos vértices de origem; a segunda, aos de destino. Dessa forma, os dois vértices em uma mesma coluna compõem a aresta em questão."
   ]
  },
  {
   "cell_type": "markdown",
   "metadata": {},
   "source": [
    "Usualmente,tal matriz é referida como <code>edge_index</code>, sendo implementada por um tensor do tipo <code>torch.long</code>:"
   ]
  },
  {
   "cell_type": "code",
   "execution_count": 28,
   "id": "62f3aa57",
   "metadata": {},
   "outputs": [
    {
     "data": {
      "text/plain": [
       "tensor([[0, 1, 1, 2],\n",
       "        [1, 0, 2, 1]])"
      ]
     },
     "execution_count": 28,
     "metadata": {},
     "output_type": "execute_result"
    }
   ],
   "source": [
    "edge_index = torch.tensor([[0, 1, 1, 2],\n",
    "                          [1, 0, 2, 1]], dtype=torch.long)\n",
    "edge_index"
   ]
  },
  {
   "cell_type": "markdown",
   "id": "8e818bd9",
   "metadata": {},
   "source": [
    "Perceba que, na primeria coluna, encontram-se os vértices 0 e 1 respectivamente, representando uma aresta que parte de 0 em direção a 1. Já na segunda coluna, novamente encontramos os vértices 0 e 1, porém na ordem inversa, indicando que agora a aresta parte de 1 em direção a 0. \n"
   ]
  },
  {
   "cell_type": "markdown",
   "metadata": {},
   "source": [
    "Tal notação, embora pareça redundante, é necessária para sinalizar que o grafo é não dirigido. O mesmo padrão se repete para as duas últimas colunas, as quais representam a aresta {1,2}."
   ]
  },
  {
   "cell_type": "markdown",
   "metadata": {},
   "source": [
    "Outra forma de definir as arestas seria por meio de uma lista de tuplas. Porém, de modo a manter o formato COO, precisamos realizar a transposição do tensor, por meio do método <code>t</code>, além de aplicar o método <code>contiguous</code> em seguida."
   ]
  },
  {
   "cell_type": "code",
   "execution_count": 30,
   "metadata": {},
   "outputs": [
    {
     "data": {
      "text/plain": [
       "tensor([[0, 1, 1, 2],\n",
       "        [1, 0, 2, 1]])"
      ]
     },
     "execution_count": 30,
     "metadata": {},
     "output_type": "execute_result"
    }
   ],
   "source": [
    "edge_index = torch.tensor([[0,1],\n",
    "                           [1,0],\n",
    "                           [1,2],\n",
    "                           [2,1]], dtype=torch.long)\n",
    "\n",
    "edge_index = edge_index.t().contiguous()\n",
    "edge_index"
   ]
  },
  {
   "cell_type": "markdown",
   "metadata": {},
   "source": [
    "## 1.2 - Representando as _features_"
   ]
  },
  {
   "cell_type": "markdown",
   "id": "9dadaf5f",
   "metadata": {},
   "source": [
    "Para esse exemplo, cada nó terá apenas uma _feature_. Dessa forma, podemos definir o tensor como uma matriz coluna, em que cada linha representa as _features_ dos nós 0, 1 e 2 respectivamente. "
   ]
  },
  {
   "cell_type": "markdown",
   "metadata": {},
   "source": [
    "Como as _features_ são as variáveis independentes do modelo, iremos referenciar tal tensor como <code>x</code>, além de atribuir o tipo de dado <code>torch.float</code>."
   ]
  },
  {
   "cell_type": "code",
   "execution_count": 31,
   "id": "26cbd09c",
   "metadata": {},
   "outputs": [
    {
     "data": {
      "text/plain": [
       "tensor([[-1.],\n",
       "        [ 0.],\n",
       "        [ 1.]])"
      ]
     },
     "execution_count": 31,
     "metadata": {},
     "output_type": "execute_result"
    }
   ],
   "source": [
    "x = torch.tensor([[-1], [0], [1]], dtype=torch.float)\n",
    "x"
   ]
  },
  {
   "cell_type": "markdown",
   "metadata": {},
   "source": [
    "## 1.3 - Criando a representação do grafo"
   ]
  },
  {
   "cell_type": "markdown",
   "id": "b80e31d0",
   "metadata": {},
   "source": [
    "Por fim, de modo a representar o grafo G, precisamos apenas criar uma instância da classe <code>Data</code>, passando os tensores como argumentos do construtor."
   ]
  },
  {
   "cell_type": "code",
   "execution_count": 4,
   "id": "86a56293",
   "metadata": {},
   "outputs": [
    {
     "data": {
      "text/plain": [
       "Data(x=[3, 1], edge_index=[2, 4])"
      ]
     },
     "execution_count": 4,
     "metadata": {},
     "output_type": "execute_result"
    }
   ],
   "source": [
    "data = Data(x=x, edge_index=edge_index)\n",
    "data"
   ]
  },
  {
   "cell_type": "markdown",
   "metadata": {},
   "source": [
    "Dessa forma, criamos a representação do grafo G, indicado pela imagem abaixo, no PyG. "
   ]
  },
  {
   "cell_type": "markdown",
   "metadata": {},
   "source": [
    "<figure>\n",
    "    <img src=\"img/graph.svg\" alt=\"Grafo\" width='400'>\n",
    "    <figcaption style=\"font-size: 12px; text-align: center;\">\n",
    "        <em> \n",
    "            Fonte: \n",
    "                <a href=\"https://pytorch-geometric.readthedocs.io/en/latest/notes/introduction.html\"> \n",
    "                    Documentação do Pytorch Geometric\n",
    "                </a> \n",
    "        </em> \n",
    "    </figcaption>\n",
    "</figure>\n"
   ]
  },
  {
   "cell_type": "markdown",
   "metadata": {},
   "source": [
    "## 1.4 - Atributos e métodos"
   ]
  },
  {
   "cell_type": "markdown",
   "metadata": {},
   "source": [
    "A classe <code>Data</code> contem diversos parâmetros que retornam informações importantes da representação do grafo. Por exemplo, podemos visualizar a matriz que representa as arestas no formato COO:"
   ]
  },
  {
   "cell_type": "code",
   "execution_count": 32,
   "metadata": {},
   "outputs": [
    {
     "data": {
      "text/plain": [
       "tensor([[0, 1, 1, 2],\n",
       "        [1, 0, 2, 1]])"
      ]
     },
     "execution_count": 32,
     "metadata": {},
     "output_type": "execute_result"
    }
   ],
   "source": [
    "data.edge_index"
   ]
  },
  {
   "cell_type": "markdown",
   "metadata": {},
   "source": [
    "A fim da melhor visualização, podemos transpor essa matriz:"
   ]
  },
  {
   "cell_type": "code",
   "execution_count": 33,
   "metadata": {},
   "outputs": [
    {
     "data": {
      "text/plain": [
       "tensor([[0, 1],\n",
       "        [1, 0],\n",
       "        [1, 2],\n",
       "        [2, 1]])"
      ]
     },
     "execution_count": 33,
     "metadata": {},
     "output_type": "execute_result"
    }
   ],
   "source": [
    "data.edge_index.t()"
   ]
  },
  {
   "cell_type": "markdown",
   "metadata": {},
   "source": [
    "Podemos visualizar também a matriz de _features_ que guarda as variáveis independentes do modelo:"
   ]
  },
  {
   "cell_type": "code",
   "execution_count": 34,
   "metadata": {},
   "outputs": [
    {
     "data": {
      "text/plain": [
       "tensor([[-1.],\n",
       "        [ 0.],\n",
       "        [ 1.]])"
      ]
     },
     "execution_count": 34,
     "metadata": {},
     "output_type": "execute_result"
    }
   ],
   "source": [
    "data.x"
   ]
  },
  {
   "cell_type": "markdown",
   "metadata": {},
   "source": [
    "Podemos saber a quantidade de nós do grafo:"
   ]
  },
  {
   "cell_type": "code",
   "execution_count": 35,
   "metadata": {},
   "outputs": [
    {
     "data": {
      "text/plain": [
       "3"
      ]
     },
     "execution_count": 35,
     "metadata": {},
     "output_type": "execute_result"
    }
   ],
   "source": [
    "data.num_nodes"
   ]
  },
  {
   "cell_type": "markdown",
   "metadata": {},
   "source": [
    "Bem como o número de arestas:"
   ]
  },
  {
   "cell_type": "code",
   "execution_count": 36,
   "metadata": {},
   "outputs": [
    {
     "data": {
      "text/plain": [
       "4"
      ]
     },
     "execution_count": 36,
     "metadata": {},
     "output_type": "execute_result"
    }
   ],
   "source": [
    "data.num_edges"
   ]
  },
  {
   "cell_type": "markdown",
   "metadata": {},
   "source": [
    "Além da quantidade de _features_ por nó:"
   ]
  },
  {
   "cell_type": "code",
   "execution_count": 37,
   "metadata": {},
   "outputs": [
    {
     "data": {
      "text/plain": [
       "1"
      ]
     },
     "execution_count": 37,
     "metadata": {},
     "output_type": "execute_result"
    }
   ],
   "source": [
    "data.num_features"
   ]
  },
  {
   "cell_type": "markdown",
   "metadata": {},
   "source": [
    "Além disso, há métodos que retornnam também outras informações gerais acerca do grafo, como se ele possui nós isolados:"
   ]
  },
  {
   "cell_type": "code",
   "execution_count": 38,
   "metadata": {},
   "outputs": [
    {
     "data": {
      "text/plain": [
       "False"
      ]
     },
     "execution_count": 38,
     "metadata": {},
     "output_type": "execute_result"
    }
   ],
   "source": [
    "data.has_isolated_nodes()"
   ]
  },
  {
   "cell_type": "markdown",
   "metadata": {},
   "source": [
    "Se possui grafos conectados a si (_self loops_):"
   ]
  },
  {
   "cell_type": "code",
   "execution_count": 39,
   "metadata": {},
   "outputs": [
    {
     "data": {
      "text/plain": [
       "False"
      ]
     },
     "execution_count": 39,
     "metadata": {},
     "output_type": "execute_result"
    }
   ],
   "source": [
    "data.has_self_loops()"
   ]
  },
  {
   "cell_type": "markdown",
   "metadata": {},
   "source": [
    "Por fim, se o grafo é dirigido:"
   ]
  },
  {
   "cell_type": "code",
   "execution_count": 41,
   "metadata": {},
   "outputs": [
    {
     "data": {
      "text/plain": [
       "False"
      ]
     },
     "execution_count": 41,
     "metadata": {},
     "output_type": "execute_result"
    }
   ],
   "source": [
    "data.is_directed()"
   ]
  },
  {
   "cell_type": "markdown",
   "metadata": {},
   "source": [
    "# 2- Datasets"
   ]
  },
  {
   "cell_type": "code",
   "execution_count": null,
   "metadata": {},
   "outputs": [],
   "source": []
  }
 ],
 "metadata": {
  "kernelspec": {
   "display_name": "Python 3 (ipykernel)",
   "language": "python",
   "name": "python3"
  },
  "language_info": {
   "codemirror_mode": {
    "name": "ipython",
    "version": 3
   },
   "file_extension": ".py",
   "mimetype": "text/x-python",
   "name": "python",
   "nbconvert_exporter": "python",
   "pygments_lexer": "ipython3",
   "version": "3.9.7"
  }
 },
 "nbformat": 4,
 "nbformat_minor": 5
}
