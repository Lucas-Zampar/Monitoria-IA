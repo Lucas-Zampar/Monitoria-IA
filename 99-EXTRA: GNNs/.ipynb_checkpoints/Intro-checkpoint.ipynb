{
 "cells": [
  {
   "cell_type": "markdown",
   "id": "86877dd6",
   "metadata": {},
   "source": [
    "# Instalação"
   ]
  },
  {
   "cell_type": "markdown",
   "id": "7a65edd6",
   "metadata": {},
   "source": [
    "A fim de desenvolver modelos de deep learning para grafos, será necessário instalar o módulo Pytorch Geometric. Para tanto, iremos desinstalar a versão atual do Pytorch pelo seguinte código:"
   ]
  },
  {
   "cell_type": "code",
   "execution_count": 1,
   "id": "cfded6ab",
   "metadata": {},
   "outputs": [
    {
     "data": {
      "text/plain": [
       "'\\n!pip3 uninstall torchtext -y\\n!pip3 uninstall torchvision -y\\n!pip3 uninstall torch -y\\n'"
      ]
     },
     "execution_count": 1,
     "metadata": {},
     "output_type": "execute_result"
    }
   ],
   "source": [
    "'''\n",
    "!pip3 uninstall torchtext -y\n",
    "!pip3 uninstall torchvision -y\n",
    "!pip3 uninstall torch -y\n",
    "'''"
   ]
  },
  {
   "cell_type": "markdown",
   "id": "d824cdaa",
   "metadata": {},
   "source": [
    "A partir disso, iremos instalar a versão 1.9.0, anterior a atual:"
   ]
  },
  {
   "cell_type": "code",
   "execution_count": 2,
   "id": "3ec70f68",
   "metadata": {},
   "outputs": [],
   "source": [
    "#!pip3 install torch==1.9.0"
   ]
  },
  {
   "cell_type": "markdown",
   "id": "b348bf46",
   "metadata": {},
   "source": [
    "Com isso, poderemos baixar o pacote do Pytorch Geometric. Caso não seja instalado, reinicie a máquina, pois a instalação da nova versão do Pytorch pode não ter sido salva corretamente na máquina virtual."
   ]
  },
  {
   "cell_type": "code",
   "execution_count": 3,
   "id": "036ef057",
   "metadata": {},
   "outputs": [
    {
     "data": {
      "text/plain": [
       "\"\\nimport torch\\n\\nif torch.__version__ != '1.9.0+cu102':\\n    print('Versão do pytorch inadequada! Favor reiniciar a máquina virtual.')\\nelse:    \\n    pytorch_version=f'torch-{torch.__version__}.html'\\n    !pip3 install --no-index torch-scatter -f https://pytorch-geometric.com/whl/$pytorch_version\\n    !pip3 install --no-index torch-sparse -f https://pytorch-geometric.com/whl/$pytorch_version\\n    !pip3 install --no-index torch-cluster -f https://pytorch-geometric.com/whl/$pytorch_version\\n    !pip3 install --no-index torch-spline-conv -f https://pytorch-geometric.com/whl/$pytorch_version\\n    !pip3 install torch-geometric\\n\""
      ]
     },
     "execution_count": 3,
     "metadata": {},
     "output_type": "execute_result"
    }
   ],
   "source": [
    "'''\n",
    "import torch\n",
    "\n",
    "if torch.__version__ != '1.9.0+cu102':\n",
    "    print('Versão do pytorch inadequada! Favor reiniciar a máquina virtual.')\n",
    "else:    \n",
    "    pytorch_version=f'torch-{torch.__version__}.html'\n",
    "    !pip3 install --no-index torch-scatter -f https://pytorch-geometric.com/whl/$pytorch_version\n",
    "    !pip3 install --no-index torch-sparse -f https://pytorch-geometric.com/whl/$pytorch_version\n",
    "    !pip3 install --no-index torch-cluster -f https://pytorch-geometric.com/whl/$pytorch_version\n",
    "    !pip3 install --no-index torch-spline-conv -f https://pytorch-geometric.com/whl/$pytorch_version\n",
    "    !pip3 install torch-geometric\n",
    "'''"
   ]
  },
  {
   "cell_type": "markdown",
   "id": "c8d35b7a",
   "metadata": {},
   "source": [
    "# 1- Representação de um grafo"
   ]
  },
  {
   "cell_type": "markdown",
   "id": "ced6873e",
   "metadata": {},
   "source": [
    "Como introdução ao PyG, vamos construir o grafo definido pela equação abaixo:"
   ]
  },
  {
   "cell_type": "markdown",
   "id": "5e7c4911",
   "metadata": {},
   "source": [
    "$$ G = \\{ V, E \\} $$"
   ]
  },
  {
   "cell_type": "markdown",
   "id": "62481ebb",
   "metadata": {},
   "source": [
    "Em que:"
   ]
  },
  {
   "cell_type": "markdown",
   "id": "eb9c7a43",
   "metadata": {},
   "source": [
    "$$ V = \\{ \\{0, 1, 2 \\} \\} $$\n",
    "$$ E = \\{ \\{0, 1\\}, \\{1, 2\\} \\} $$"
   ]
  },
  {
   "cell_type": "markdown",
   "id": "0b03344f",
   "metadata": {},
   "source": [
    "Note que o grafo G é composto por três vértices {0,1,2} e por duas arestas {{0,1},{1,2}}, sendo não dirigido."
   ]
  },
  {
   "cell_type": "markdown",
   "id": "a25633c4",
   "metadata": {},
   "source": [
    "No PyG, um grafo é representado como uma instância da classe <code>torch_geometric.data.Data</code>. Portanto, devemos importá-la de modo a construir o grafo. "
   ]
  },
  {
   "cell_type": "markdown",
   "id": "114b6963",
   "metadata": {},
   "source": [
    "Além disso, importaremos também o módulo <code>torch</code> com a finalidade de utilizar algumas funcionalidades do Pytorch, como os tensores."
   ]
  },
  {
   "cell_type": "code",
   "execution_count": 4,
   "id": "bd5b1bee",
   "metadata": {},
   "outputs": [],
   "source": [
    "import torch\n",
    "from torch_geometric.data import Data"
   ]
  },
  {
   "cell_type": "markdown",
   "id": "e518afed",
   "metadata": {},
   "source": [
    "## 1.1- Representando as arestas"
   ]
  },
  {
   "cell_type": "markdown",
   "id": "d195b6dc",
   "metadata": {},
   "source": [
    "A classe <code>Data</code> espera receber a representação das arestas no formato <code>COO</code> (COOrdinate). Nele, a conectividade do grafo é representada por meio de uma matriz com duas linhas, a primeira se referindo aos vértices de origem; a segunda, aos de destino. Dessa forma, os dois vértices em uma mesma coluna compõem a aresta em questão."
   ]
  },
  {
   "cell_type": "markdown",
   "id": "9ac0ed20",
   "metadata": {},
   "source": [
    "Usualmente,tal matriz é referida como <code>edge_index</code>, sendo implementada por um tensor do tipo <code>torch.long</code>:"
   ]
  },
  {
   "cell_type": "code",
   "execution_count": 5,
   "id": "69d4bf63",
   "metadata": {},
   "outputs": [
    {
     "data": {
      "text/plain": [
       "tensor([[0, 1, 1, 2],\n",
       "        [1, 0, 2, 1]])"
      ]
     },
     "execution_count": 5,
     "metadata": {},
     "output_type": "execute_result"
    }
   ],
   "source": [
    "edge_index = torch.tensor([[0, 1, 1, 2],\n",
    "                          [1, 0, 2, 1]], dtype=torch.long)\n",
    "edge_index"
   ]
  },
  {
   "cell_type": "markdown",
   "id": "3435fde3",
   "metadata": {},
   "source": [
    "Perceba que, na primeria coluna, encontram-se os vértices 0 e 1 respectivamente, representando uma aresta que parte de 0 em direção a 1. Já na segunda coluna, novamente encontramos os vértices 0 e 1, porém na ordem inversa, indicando que agora a aresta parte de 1 em direção a 0. \n"
   ]
  },
  {
   "cell_type": "markdown",
   "id": "0e3d343a",
   "metadata": {},
   "source": [
    "Tal notação, embora pareça redundante, é necessária para sinalizar que o grafo é não dirigido. O mesmo padrão se repete para as duas últimas colunas, as quais representam a aresta {1,2}."
   ]
  },
  {
   "cell_type": "markdown",
   "id": "2975411e",
   "metadata": {},
   "source": [
    "Outra forma de definir as arestas seria por meio de uma lista de tuplas. Porém, de modo a manter o formato COO, precisamos realizar a transposição do tensor, por meio do método <code>t</code>, além de aplicar o método <code>contiguous</code> em seguida."
   ]
  },
  {
   "cell_type": "code",
   "execution_count": 6,
   "id": "30429e52",
   "metadata": {},
   "outputs": [
    {
     "data": {
      "text/plain": [
       "tensor([[0, 1, 1, 2],\n",
       "        [1, 0, 2, 1]])"
      ]
     },
     "execution_count": 6,
     "metadata": {},
     "output_type": "execute_result"
    }
   ],
   "source": [
    "edge_index = torch.tensor([[0,1],\n",
    "                           [1,0],\n",
    "                           [1,2],\n",
    "                           [2,1]], dtype=torch.long)\n",
    "\n",
    "edge_index = edge_index.t().contiguous()\n",
    "edge_index"
   ]
  },
  {
   "cell_type": "markdown",
   "id": "6dabf614",
   "metadata": {},
   "source": [
    "## 1.2 - Representando as _features_"
   ]
  },
  {
   "cell_type": "markdown",
   "id": "18c15c2c",
   "metadata": {},
   "source": [
    "Para esse exemplo, cada nó terá apenas uma _feature_. Dessa forma, podemos definir o tensor como uma matriz coluna, em que cada linha representa as _features_ dos nós 0, 1 e 2 respectivamente. "
   ]
  },
  {
   "cell_type": "markdown",
   "id": "8ebd2c7e",
   "metadata": {},
   "source": [
    "Como as _features_ são as variáveis independentes do modelo, iremos referenciar tal tensor como <code>x</code>, além de atribuir o tipo de dado <code>torch.float</code>."
   ]
  },
  {
   "cell_type": "code",
   "execution_count": 7,
   "id": "1ded71fa",
   "metadata": {},
   "outputs": [
    {
     "data": {
      "text/plain": [
       "tensor([[-1.],\n",
       "        [ 0.],\n",
       "        [ 1.]])"
      ]
     },
     "execution_count": 7,
     "metadata": {},
     "output_type": "execute_result"
    }
   ],
   "source": [
    "x = torch.tensor([[-1], [0], [1]], dtype=torch.float)\n",
    "x"
   ]
  },
  {
   "cell_type": "markdown",
   "id": "387fc094",
   "metadata": {},
   "source": [
    "## 1.3 - Criando a representação do grafo"
   ]
  },
  {
   "cell_type": "markdown",
   "id": "050218d0",
   "metadata": {},
   "source": [
    "Por fim, de modo a representar o grafo G, precisamos apenas criar uma instância da classe <code>Data</code>, passando os tensores como argumentos do construtor."
   ]
  },
  {
   "cell_type": "code",
   "execution_count": 8,
   "id": "1827682c",
   "metadata": {},
   "outputs": [
    {
     "data": {
      "text/plain": [
       "Data(x=[3, 1], edge_index=[2, 4])"
      ]
     },
     "execution_count": 8,
     "metadata": {},
     "output_type": "execute_result"
    }
   ],
   "source": [
    "data = Data(x=x, edge_index=edge_index)\n",
    "data"
   ]
  },
  {
   "cell_type": "markdown",
   "id": "e30fd5e4",
   "metadata": {},
   "source": [
    "Dessa forma, criamos a representação do grafo G, indicado pela imagem abaixo, no PyG. "
   ]
  },
  {
   "cell_type": "markdown",
   "id": "6384a2a4",
   "metadata": {},
   "source": [
    "<figure>\n",
    "<img src=\"img/graph.svg\" alt=\"Grafo\" width='400'>\n",
    "    <figcaption>\n",
    "        <em>Fonte: \n",
    "            <a href='https://pytorch-geometric.readthedocs.io/en/latest/'>Documentação do Pytorch Geometric</a>\n",
    "        </em>\n",
    "    </figcaption>\n",
    "</figure>\n",
    "\n"
   ]
  },
  {
   "cell_type": "markdown",
   "id": "960f9029",
   "metadata": {},
   "source": [
    "## 1.4 - Atributos e métodos"
   ]
  },
  {
   "cell_type": "markdown",
   "id": "220d91e4",
   "metadata": {},
   "source": [
    "A classe <code>Data</code> contem diversos parâmetros que retornam informações importantes da representação do grafo. Por exemplo, podemos visualizar a matriz que representa as arestas no formato COO:"
   ]
  },
  {
   "cell_type": "code",
   "execution_count": 9,
   "id": "37e0f146",
   "metadata": {},
   "outputs": [
    {
     "data": {
      "text/plain": [
       "tensor([[0, 1, 1, 2],\n",
       "        [1, 0, 2, 1]])"
      ]
     },
     "execution_count": 9,
     "metadata": {},
     "output_type": "execute_result"
    }
   ],
   "source": [
    "data.edge_index"
   ]
  },
  {
   "cell_type": "markdown",
   "id": "2e76a00f",
   "metadata": {},
   "source": [
    "A fim da melhor visualização, podemos transpor essa matriz:"
   ]
  },
  {
   "cell_type": "code",
   "execution_count": 10,
   "id": "1f782d2f",
   "metadata": {},
   "outputs": [
    {
     "data": {
      "text/plain": [
       "tensor([[0, 1],\n",
       "        [1, 0],\n",
       "        [1, 2],\n",
       "        [2, 1]])"
      ]
     },
     "execution_count": 10,
     "metadata": {},
     "output_type": "execute_result"
    }
   ],
   "source": [
    "data.edge_index.t()"
   ]
  },
  {
   "cell_type": "markdown",
   "id": "43613dba",
   "metadata": {},
   "source": [
    "Podemos visualizar também a matriz de _features_ que guarda as variáveis independentes do modelo:"
   ]
  },
  {
   "cell_type": "code",
   "execution_count": 11,
   "id": "2da6eccc",
   "metadata": {},
   "outputs": [
    {
     "data": {
      "text/plain": [
       "tensor([[-1.],\n",
       "        [ 0.],\n",
       "        [ 1.]])"
      ]
     },
     "execution_count": 11,
     "metadata": {},
     "output_type": "execute_result"
    }
   ],
   "source": [
    "data.x"
   ]
  },
  {
   "cell_type": "markdown",
   "id": "c4cc801f",
   "metadata": {},
   "source": [
    "Podemos saber a quantidade de nós do grafo:"
   ]
  },
  {
   "cell_type": "code",
   "execution_count": 12,
   "id": "2ac6ea41",
   "metadata": {},
   "outputs": [
    {
     "data": {
      "text/plain": [
       "3"
      ]
     },
     "execution_count": 12,
     "metadata": {},
     "output_type": "execute_result"
    }
   ],
   "source": [
    "data.num_nodes"
   ]
  },
  {
   "cell_type": "markdown",
   "id": "804a9454",
   "metadata": {},
   "source": [
    "Bem como o número de arestas:"
   ]
  },
  {
   "cell_type": "code",
   "execution_count": 13,
   "id": "92865e34",
   "metadata": {},
   "outputs": [
    {
     "data": {
      "text/plain": [
       "4"
      ]
     },
     "execution_count": 13,
     "metadata": {},
     "output_type": "execute_result"
    }
   ],
   "source": [
    "data.num_edges"
   ]
  },
  {
   "cell_type": "markdown",
   "id": "cda76d8e",
   "metadata": {},
   "source": [
    "Além da quantidade de _features_ por nó:"
   ]
  },
  {
   "cell_type": "code",
   "execution_count": 14,
   "id": "11c6657d",
   "metadata": {},
   "outputs": [
    {
     "data": {
      "text/plain": [
       "1"
      ]
     },
     "execution_count": 14,
     "metadata": {},
     "output_type": "execute_result"
    }
   ],
   "source": [
    "data.num_features"
   ]
  },
  {
   "cell_type": "markdown",
   "id": "1abb7696",
   "metadata": {},
   "source": [
    "Além disso, há métodos que retornnam também outras informações gerais acerca do grafo, como se ele possui nós isolados:"
   ]
  },
  {
   "cell_type": "code",
   "execution_count": 15,
   "id": "b0fa1b0f",
   "metadata": {},
   "outputs": [
    {
     "data": {
      "text/plain": [
       "False"
      ]
     },
     "execution_count": 15,
     "metadata": {},
     "output_type": "execute_result"
    }
   ],
   "source": [
    "data.has_isolated_nodes()"
   ]
  },
  {
   "cell_type": "markdown",
   "id": "f1a629c8",
   "metadata": {},
   "source": [
    "Se possui grafos conectados a si (_self loops_):"
   ]
  },
  {
   "cell_type": "code",
   "execution_count": 16,
   "id": "eb7986f6",
   "metadata": {},
   "outputs": [
    {
     "data": {
      "text/plain": [
       "False"
      ]
     },
     "execution_count": 16,
     "metadata": {},
     "output_type": "execute_result"
    }
   ],
   "source": [
    "data.has_self_loops()"
   ]
  },
  {
   "cell_type": "markdown",
   "id": "9e25f45c",
   "metadata": {},
   "source": [
    "Por fim, se o grafo é dirigido:"
   ]
  },
  {
   "cell_type": "code",
   "execution_count": 17,
   "id": "f5a5ffa1",
   "metadata": {},
   "outputs": [
    {
     "data": {
      "text/plain": [
       "False"
      ]
     },
     "execution_count": 17,
     "metadata": {},
     "output_type": "execute_result"
    }
   ],
   "source": [
    "data.is_directed()"
   ]
  },
  {
   "cell_type": "markdown",
   "id": "9b981658",
   "metadata": {},
   "source": [
    "# 2- Dataset Cora"
   ]
  },
  {
   "cell_type": "markdown",
   "id": "85b0ca25",
   "metadata": {},
   "source": [
    "Até o presente momento, apenas verificamos como o PyG representa um grafo, bem como as informações que podemos extrair dele. A partir disso, já podemos trabalhar com um exemplo real."
   ]
  },
  {
   "cell_type": "markdown",
   "id": "c74d138b",
   "metadata": {},
   "source": [
    "Para tanto, o PyG disponibiliza diversos datasets, dentre eles, o <code>Cora</code>, presente na coleção <code>Planetoid</code>, um dos mais empregados para benchmark. Abaixo, há uma breve descrição do dataset:"
   ]
  },
  {
   "cell_type": "markdown",
   "id": "4fc6c5af",
   "metadata": {},
   "source": [
    ">\n",
    ">O dataset Cora é constituído por 2708 publicações de Machine Learning classificadas entre 7 categorias:\n",
    "> - Baseado em Caso\n",
    "> - Algortimos Genéticos\n",
    "> - Redes Neurais\n",
    "> - Métodos Probabilísticos\n",
    "> - Aprendizagem por Reforço\n",
    "> - Regra de Aprendizagem\n",
    "> - Teoria\n",
    ">\n",
    ">Os artigos foram selecionados de sorte que todos citam ou são citados por ao menos outro artigo. No total, há 5429 links de citação.\n",
    ">\n",
    ">Com base na frequência de palavras relevantes dos documentos, foi criado um vocabulário com 1433 palavras únicas. Cada publicação é descrito por um vetor binário que corresponde a presença ou ausência de determinada palavra do vocabulário.\n",
    ">\n",
    ">_Fonte: https://linqs.soe.ucsc.edu/data_"
   ]
  },
  {
   "cell_type": "markdown",
   "id": "03003ebd",
   "metadata": {},
   "source": [
    "A partir da descrição acima, podemos inferir algumas características do grafo que representa o dataset <code>Cora</code>. Nesse contexto, as publicações são referentes aos nós; as citações, às arestas. Além disso, o vetor binário indicando a presença ou ausência de palavras do vocabulário na publicação representa o vetor de _features_ de cada nó. "
   ]
  },
  {
   "cell_type": "markdown",
   "id": "ae93ac03",
   "metadata": {},
   "source": [
    "Dessa forma, teríamos um grafo com 2708 nós (publicações), 5429 arestas (links de citação) e 1433 _features_ para cada nó. Podemos ter uma breve ideia da forma desse grafo com base na imagem abaixo. Cada cor represente uma dentre as 7 classes (_labels_) possíveis para os nós:"
   ]
  },
  {
   "cell_type": "markdown",
   "id": "3323283f",
   "metadata": {},
   "source": [
    "<figure>\n",
    "<img src=\"img/cora.jpg\" alt=\"Cora\" width='450'>\n",
    "    <figcaption>\n",
    "        <em>Fonte: \n",
    "            <a href='https://paperswithcode.com/dataset/cora'>PapersWithCode</a>\n",
    "        </em>\n",
    "    </figcaption>\n",
    "</figure>\n"
   ]
  },
  {
   "cell_type": "markdown",
   "id": "8b4cd1c2",
   "metadata": {},
   "source": [
    "## 2.1- Importando o dataset"
   ]
  },
  {
   "cell_type": "markdown",
   "id": "28e3f247",
   "metadata": {},
   "source": [
    "Para ter acesso a qualquer dataset disponibilizado pelo PyG, deve-se importar a classe referente à coleção do dataset a partir de <code>torch_geometric.datasets</code>. Nesse caso, o Cora está presente na coleção <code>Planetoid</code>. "
   ]
  },
  {
   "cell_type": "code",
   "execution_count": 18,
   "id": "4a4e96f1",
   "metadata": {},
   "outputs": [],
   "source": [
    "from torch_geometric.datasets import Planetoid"
   ]
  },
  {
   "cell_type": "markdown",
   "id": "3212f6a2",
   "metadata": {},
   "source": [
    "Agora, devemos especificar o diretório de destino (<code>root</code>), bem como o nome (<code>name</code>) do dataset. Caso não se encontre no local, então o PyG irá realizar o download dos arquivos brutos (_raw_) do dataset, convertendo posteriormente para o formato <code>Data</code> já discutido. "
   ]
  },
  {
   "cell_type": "code",
   "execution_count": 19,
   "id": "da39462e",
   "metadata": {},
   "outputs": [],
   "source": [
    "dataset = Planetoid(root='.', name='Cora')"
   ]
  },
  {
   "cell_type": "markdown",
   "id": "30f76fe8",
   "metadata": {},
   "source": [
    "No exemplo acima, o destino final do dataset é o mesmo diretório deste notebook <code>'.'</code>. Então, é possível visualizar a criação da pasta Cora. Dentro dela, há duas pastas: _raw_ e _processed_. Na primeira, constam os arquivos originais do dataset; na segundo, os empregados pelo PyG para representar o dataset como um grafo no formato <code>Data</code> originados a partir do processamentos dos primeiros."
   ]
  },
  {
   "cell_type": "markdown",
   "id": "7afed60e",
   "metadata": {},
   "source": [
    "## 2.2- Visualizando o dataset"
   ]
  },
  {
   "cell_type": "markdown",
   "id": "458505dc",
   "metadata": {},
   "source": [
    "Uma vez inicializado, podemos visualizar algumas informações do dataset. Por exemplo, seu tamanho, isto é, a quantidade de grafos que possui:"
   ]
  },
  {
   "cell_type": "code",
   "execution_count": 20,
   "id": "7f3576f6",
   "metadata": {},
   "outputs": [
    {
     "data": {
      "text/plain": [
       "1"
      ]
     },
     "execution_count": 20,
     "metadata": {},
     "output_type": "execute_result"
    }
   ],
   "source": [
    "len(dataset)"
   ]
  },
  {
   "cell_type": "markdown",
   "id": "c33cb7aa",
   "metadata": {},
   "source": [
    "No total, há apenas um grande grafo que representa todo o dataset. Além disso, podemos verificar a quantidade de classes (_labels_) dos nós:"
   ]
  },
  {
   "cell_type": "code",
   "execution_count": 21,
   "id": "7c355960",
   "metadata": {},
   "outputs": [
    {
     "data": {
      "text/plain": [
       "7"
      ]
     },
     "execution_count": 21,
     "metadata": {},
     "output_type": "execute_result"
    }
   ],
   "source": [
    "dataset.num_classes"
   ]
  },
  {
   "cell_type": "markdown",
   "id": "4ca4b923",
   "metadata": {},
   "source": [
    "Conforme exposto pela descrição, há de fato 7 classes. Podemos também verificar o número de _features_ dos nós:"
   ]
  },
  {
   "cell_type": "code",
   "execution_count": 22,
   "id": "8536685e",
   "metadata": {},
   "outputs": [
    {
     "data": {
      "text/plain": [
       "1433"
      ]
     },
     "execution_count": 22,
     "metadata": {},
     "output_type": "execute_result"
    }
   ],
   "source": [
    "dataset.num_node_features"
   ]
  },
  {
   "cell_type": "markdown",
   "id": "c3a95077",
   "metadata": {},
   "source": [
    "Dessa forma, é possível constatar que há 1433 _features_ de fato por nó."
   ]
  },
  {
   "cell_type": "markdown",
   "id": "0b65e125",
   "metadata": {},
   "source": [
    "Agora, vamos referenciar o grafo do dataset. Nesse caso, como mencionado, há apenas um grande grafo, porém há datasets que contêm diversos grafos, especialmente para problemas de classificação em nível de nó, cada um acessado por meio de um index posicional."
   ]
  },
  {
   "cell_type": "code",
   "execution_count": 23,
   "id": "a47fd1bf",
   "metadata": {},
   "outputs": [],
   "source": [
    "data = dataset[0]"
   ]
  },
  {
   "cell_type": "markdown",
   "id": "fcab83f5",
   "metadata": {},
   "source": [
    "A partir disso, podemos verificar se o grafo retornado realmente é uma instância da classe <code>Data</code> conforme mencionado."
   ]
  },
  {
   "cell_type": "code",
   "execution_count": 24,
   "id": "c84f6d8e",
   "metadata": {},
   "outputs": [
    {
     "name": "stdout",
     "output_type": "stream",
     "text": [
      ">> O grafo é instâncida de Data\n"
     ]
    }
   ],
   "source": [
    "text = 'O grafo é instâncida de Data' if isinstance(data, Data) else 'O grafo não é instância de Data'\n",
    "print(f'>> {text}')"
   ]
  },
  {
   "cell_type": "markdown",
   "id": "2116d172",
   "metadata": {},
   "source": [
    "Além disso, podemos verificar também se é um grafo dirigido ou não:"
   ]
  },
  {
   "cell_type": "code",
   "execution_count": 25,
   "id": "e07032f4",
   "metadata": {},
   "outputs": [
    {
     "name": "stdout",
     "output_type": "stream",
     "text": [
      ">> O grafo não é dirigido\n"
     ]
    }
   ],
   "source": [
    "text = 'O grafo não é dirigido' if data.is_undirected() else 'O grafo é dirigido'\n",
    "print(f'>> {text}')"
   ]
  },
  {
   "cell_type": "markdown",
   "id": "7f5dd456",
   "metadata": {},
   "source": [
    "Bem como a quantidade de nós e de arestas. Lembre que as arestas são computadas duas vezes na representação de um grafo não dirigido. Portando, devemos dividir o resultado pela metade."
   ]
  },
  {
   "cell_type": "code",
   "execution_count": 27,
   "id": "016e9500",
   "metadata": {},
   "outputs": [
    {
     "name": "stdout",
     "output_type": "stream",
     "text": [
      ">> # de nós: 2708\n",
      ">> # de arestas: 5278\n"
     ]
    }
   ],
   "source": [
    "num_nodes = data.num_nodes\n",
    "num_edges = data.num_edges\n",
    "print(f'>> # de nós: {num_nodes}')\n",
    "print(f'>> # de arestas: {num_edges//2}')"
   ]
  },
  {
   "cell_type": "markdown",
   "id": "9d836e28",
   "metadata": {},
   "source": [
    "Dessa forma, constatamos haver 2708 nós (_publicações_), porém um pouco menos de arestas (_links de citações_) mencionadas na descrição. "
   ]
  },
  {
   "cell_type": "markdown",
   "id": "e256a109",
   "metadata": {},
   "source": [
    "Outra forma "
   ]
  },
  {
   "cell_type": "code",
   "execution_count": null,
   "id": "8c0d8fe0",
   "metadata": {},
   "outputs": [],
   "source": []
  },
  {
   "cell_type": "code",
   "execution_count": null,
   "id": "bf44624d",
   "metadata": {},
   "outputs": [],
   "source": []
  },
  {
   "cell_type": "code",
   "execution_count": null,
   "id": "2cbd32f9",
   "metadata": {},
   "outputs": [],
   "source": []
  },
  {
   "cell_type": "code",
   "execution_count": null,
   "id": "196db689",
   "metadata": {},
   "outputs": [],
   "source": []
  },
  {
   "cell_type": "code",
   "execution_count": null,
   "id": "8119e9b6",
   "metadata": {},
   "outputs": [],
   "source": []
  },
  {
   "cell_type": "code",
   "execution_count": null,
   "id": "3bb44398",
   "metadata": {},
   "outputs": [],
   "source": []
  },
  {
   "cell_type": "code",
   "execution_count": null,
   "id": "7623f3a5",
   "metadata": {},
   "outputs": [],
   "source": []
  },
  {
   "cell_type": "code",
   "execution_count": null,
   "id": "4c357750",
   "metadata": {},
   "outputs": [],
   "source": []
  },
  {
   "cell_type": "code",
   "execution_count": null,
   "id": "121baf84",
   "metadata": {},
   "outputs": [],
   "source": []
  },
  {
   "cell_type": "code",
   "execution_count": null,
   "id": "24bc9f82",
   "metadata": {},
   "outputs": [],
   "source": []
  },
  {
   "cell_type": "markdown",
   "id": "1309a922",
   "metadata": {},
   "source": []
  }
 ],
 "metadata": {
  "kernelspec": {
   "display_name": "Python 3",
   "language": "python",
   "name": "python3"
  },
  "language_info": {
   "codemirror_mode": {
    "name": "ipython",
    "version": 3
   },
   "file_extension": ".py",
   "mimetype": "text/x-python",
   "name": "python",
   "nbconvert_exporter": "python",
   "pygments_lexer": "ipython3",
   "version": "3.9.7"
  }
 },
 "nbformat": 4,
 "nbformat_minor": 5
}
