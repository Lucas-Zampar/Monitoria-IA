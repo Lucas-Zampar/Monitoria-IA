{
 "cells": [
  {
   "cell_type": "markdown",
   "id": "3ba6795a",
   "metadata": {},
   "source": [
    "# Introdução "
   ]
  },
  {
   "cell_type": "markdown",
   "id": "2a862976",
   "metadata": {},
   "source": [
    "# 1- Dataset no formato tabular"
   ]
  },
  {
   "cell_type": "markdown",
   "id": "d39ff3e5",
   "metadata": {},
   "source": [
    "O dataset cora também está disponível no formato csv através da página do grupo <a href='https://linqs.soe.ucsc.edu/data'> LINQS </a>. No entanto, não é necessário realizar o download, pois ele já consta na pasta <a href='cora.csv'>cora.csv</a> do diretório atual deste notebook. Para tanto, vamos referenciar o arquivo <code>cora.content</code> (matriz de características e classes) e <code>cora.cites</code> (relações de citação)."
   ]
  },
  {
   "cell_type": "code",
   "execution_count": 1,
   "id": "ff74458a",
   "metadata": {},
   "outputs": [],
   "source": [
    "path_content = 'cora.csv/cora.content'\n",
    "path_cites = 'cora.csv/cora.cites'"
   ]
  },
  {
   "cell_type": "markdown",
   "id": "b790b2a4",
   "metadata": {},
   "source": [
    "Em seguida, vamos importar as tabela a partir do <code>pandas</code>"
   ]
  },
  {
   "cell_type": "code",
   "execution_count": 2,
   "id": "674e1969",
   "metadata": {},
   "outputs": [],
   "source": [
    "import pandas as pd\n",
    "\n",
    "\n",
    "#Carrega citações\n",
    "cites = pd.read_csv(path_cites, sep='\\t', header=None, names=['target','source'])\n",
    "\n",
    "#Nome das colunas referentes às palavras\n",
    "feature_names = [f'P_{_}' for _ in range(1433)]\n",
    "\n",
    "#Define o nome de todas as colunas para a tabela de características e classificações\n",
    "column_names = ['id'] + feature_names + ['label']\n",
    "\n",
    "#Carrega características e classificações\n",
    "content = pd.read_csv(path_content, sep='\\t', header=None, names=column_names)\n",
    "\n",
    "#Ordena a tabela de acordo com o id do artigo\n",
    "content = content.sort_values('id')\n"
   ]
  },
  {
   "cell_type": "markdown",
   "id": "e614be52",
   "metadata": {},
   "source": [
    "Agora, vamos visualizar a tabela contendo as características e as classificações:"
   ]
  },
  {
   "cell_type": "code",
   "execution_count": 3,
   "id": "365dd2b3",
   "metadata": {},
   "outputs": [
    {
     "data": {
      "text/html": [
       "<div>\n",
       "<style scoped>\n",
       "    .dataframe tbody tr th:only-of-type {\n",
       "        vertical-align: middle;\n",
       "    }\n",
       "\n",
       "    .dataframe tbody tr th {\n",
       "        vertical-align: top;\n",
       "    }\n",
       "\n",
       "    .dataframe thead th {\n",
       "        text-align: right;\n",
       "    }\n",
       "</style>\n",
       "<table border=\"1\" class=\"dataframe\">\n",
       "  <thead>\n",
       "    <tr style=\"text-align: right;\">\n",
       "      <th></th>\n",
       "      <th>id</th>\n",
       "      <th>P_0</th>\n",
       "      <th>P_1</th>\n",
       "      <th>P_2</th>\n",
       "      <th>P_3</th>\n",
       "      <th>P_4</th>\n",
       "      <th>P_5</th>\n",
       "      <th>P_6</th>\n",
       "      <th>P_7</th>\n",
       "      <th>P_8</th>\n",
       "      <th>...</th>\n",
       "      <th>P_1424</th>\n",
       "      <th>P_1425</th>\n",
       "      <th>P_1426</th>\n",
       "      <th>P_1427</th>\n",
       "      <th>P_1428</th>\n",
       "      <th>P_1429</th>\n",
       "      <th>P_1430</th>\n",
       "      <th>P_1431</th>\n",
       "      <th>P_1432</th>\n",
       "      <th>label</th>\n",
       "    </tr>\n",
       "  </thead>\n",
       "  <tbody>\n",
       "    <tr>\n",
       "      <th>163</th>\n",
       "      <td>35</td>\n",
       "      <td>0</td>\n",
       "      <td>0</td>\n",
       "      <td>0</td>\n",
       "      <td>0</td>\n",
       "      <td>0</td>\n",
       "      <td>0</td>\n",
       "      <td>0</td>\n",
       "      <td>0</td>\n",
       "      <td>0</td>\n",
       "      <td>...</td>\n",
       "      <td>0</td>\n",
       "      <td>0</td>\n",
       "      <td>0</td>\n",
       "      <td>0</td>\n",
       "      <td>0</td>\n",
       "      <td>0</td>\n",
       "      <td>0</td>\n",
       "      <td>0</td>\n",
       "      <td>0</td>\n",
       "      <td>Genetic_Algorithms</td>\n",
       "    </tr>\n",
       "    <tr>\n",
       "      <th>168</th>\n",
       "      <td>40</td>\n",
       "      <td>0</td>\n",
       "      <td>0</td>\n",
       "      <td>0</td>\n",
       "      <td>0</td>\n",
       "      <td>0</td>\n",
       "      <td>0</td>\n",
       "      <td>0</td>\n",
       "      <td>0</td>\n",
       "      <td>0</td>\n",
       "      <td>...</td>\n",
       "      <td>0</td>\n",
       "      <td>0</td>\n",
       "      <td>0</td>\n",
       "      <td>0</td>\n",
       "      <td>0</td>\n",
       "      <td>0</td>\n",
       "      <td>0</td>\n",
       "      <td>0</td>\n",
       "      <td>0</td>\n",
       "      <td>Genetic_Algorithms</td>\n",
       "    </tr>\n",
       "    <tr>\n",
       "      <th>552</th>\n",
       "      <td>114</td>\n",
       "      <td>0</td>\n",
       "      <td>0</td>\n",
       "      <td>0</td>\n",
       "      <td>0</td>\n",
       "      <td>0</td>\n",
       "      <td>0</td>\n",
       "      <td>0</td>\n",
       "      <td>1</td>\n",
       "      <td>0</td>\n",
       "      <td>...</td>\n",
       "      <td>0</td>\n",
       "      <td>0</td>\n",
       "      <td>0</td>\n",
       "      <td>0</td>\n",
       "      <td>0</td>\n",
       "      <td>0</td>\n",
       "      <td>0</td>\n",
       "      <td>0</td>\n",
       "      <td>0</td>\n",
       "      <td>Reinforcement_Learning</td>\n",
       "    </tr>\n",
       "    <tr>\n",
       "      <th>1459</th>\n",
       "      <td>117</td>\n",
       "      <td>0</td>\n",
       "      <td>0</td>\n",
       "      <td>0</td>\n",
       "      <td>0</td>\n",
       "      <td>0</td>\n",
       "      <td>0</td>\n",
       "      <td>0</td>\n",
       "      <td>0</td>\n",
       "      <td>0</td>\n",
       "      <td>...</td>\n",
       "      <td>0</td>\n",
       "      <td>0</td>\n",
       "      <td>0</td>\n",
       "      <td>0</td>\n",
       "      <td>0</td>\n",
       "      <td>0</td>\n",
       "      <td>0</td>\n",
       "      <td>0</td>\n",
       "      <td>0</td>\n",
       "      <td>Reinforcement_Learning</td>\n",
       "    </tr>\n",
       "    <tr>\n",
       "      <th>554</th>\n",
       "      <td>128</td>\n",
       "      <td>0</td>\n",
       "      <td>1</td>\n",
       "      <td>0</td>\n",
       "      <td>0</td>\n",
       "      <td>0</td>\n",
       "      <td>0</td>\n",
       "      <td>0</td>\n",
       "      <td>0</td>\n",
       "      <td>0</td>\n",
       "      <td>...</td>\n",
       "      <td>0</td>\n",
       "      <td>0</td>\n",
       "      <td>0</td>\n",
       "      <td>0</td>\n",
       "      <td>0</td>\n",
       "      <td>0</td>\n",
       "      <td>0</td>\n",
       "      <td>0</td>\n",
       "      <td>0</td>\n",
       "      <td>Reinforcement_Learning</td>\n",
       "    </tr>\n",
       "    <tr>\n",
       "      <th>...</th>\n",
       "      <td>...</td>\n",
       "      <td>...</td>\n",
       "      <td>...</td>\n",
       "      <td>...</td>\n",
       "      <td>...</td>\n",
       "      <td>...</td>\n",
       "      <td>...</td>\n",
       "      <td>...</td>\n",
       "      <td>...</td>\n",
       "      <td>...</td>\n",
       "      <td>...</td>\n",
       "      <td>...</td>\n",
       "      <td>...</td>\n",
       "      <td>...</td>\n",
       "      <td>...</td>\n",
       "      <td>...</td>\n",
       "      <td>...</td>\n",
       "      <td>...</td>\n",
       "      <td>...</td>\n",
       "      <td>...</td>\n",
       "      <td>...</td>\n",
       "    </tr>\n",
       "    <tr>\n",
       "      <th>147</th>\n",
       "      <td>1154500</td>\n",
       "      <td>0</td>\n",
       "      <td>0</td>\n",
       "      <td>0</td>\n",
       "      <td>0</td>\n",
       "      <td>0</td>\n",
       "      <td>0</td>\n",
       "      <td>0</td>\n",
       "      <td>0</td>\n",
       "      <td>0</td>\n",
       "      <td>...</td>\n",
       "      <td>0</td>\n",
       "      <td>0</td>\n",
       "      <td>0</td>\n",
       "      <td>0</td>\n",
       "      <td>0</td>\n",
       "      <td>0</td>\n",
       "      <td>0</td>\n",
       "      <td>0</td>\n",
       "      <td>0</td>\n",
       "      <td>Case_Based</td>\n",
       "    </tr>\n",
       "    <tr>\n",
       "      <th>1953</th>\n",
       "      <td>1154520</td>\n",
       "      <td>0</td>\n",
       "      <td>0</td>\n",
       "      <td>0</td>\n",
       "      <td>0</td>\n",
       "      <td>0</td>\n",
       "      <td>0</td>\n",
       "      <td>0</td>\n",
       "      <td>0</td>\n",
       "      <td>0</td>\n",
       "      <td>...</td>\n",
       "      <td>0</td>\n",
       "      <td>0</td>\n",
       "      <td>0</td>\n",
       "      <td>0</td>\n",
       "      <td>0</td>\n",
       "      <td>0</td>\n",
       "      <td>0</td>\n",
       "      <td>0</td>\n",
       "      <td>0</td>\n",
       "      <td>Neural_Networks</td>\n",
       "    </tr>\n",
       "    <tr>\n",
       "      <th>1955</th>\n",
       "      <td>1154524</td>\n",
       "      <td>0</td>\n",
       "      <td>0</td>\n",
       "      <td>0</td>\n",
       "      <td>0</td>\n",
       "      <td>0</td>\n",
       "      <td>0</td>\n",
       "      <td>0</td>\n",
       "      <td>0</td>\n",
       "      <td>0</td>\n",
       "      <td>...</td>\n",
       "      <td>0</td>\n",
       "      <td>0</td>\n",
       "      <td>0</td>\n",
       "      <td>0</td>\n",
       "      <td>0</td>\n",
       "      <td>0</td>\n",
       "      <td>0</td>\n",
       "      <td>0</td>\n",
       "      <td>0</td>\n",
       "      <td>Rule_Learning</td>\n",
       "    </tr>\n",
       "    <tr>\n",
       "      <th>1956</th>\n",
       "      <td>1154525</td>\n",
       "      <td>0</td>\n",
       "      <td>0</td>\n",
       "      <td>0</td>\n",
       "      <td>0</td>\n",
       "      <td>0</td>\n",
       "      <td>0</td>\n",
       "      <td>0</td>\n",
       "      <td>0</td>\n",
       "      <td>0</td>\n",
       "      <td>...</td>\n",
       "      <td>0</td>\n",
       "      <td>0</td>\n",
       "      <td>0</td>\n",
       "      <td>0</td>\n",
       "      <td>0</td>\n",
       "      <td>0</td>\n",
       "      <td>0</td>\n",
       "      <td>0</td>\n",
       "      <td>0</td>\n",
       "      <td>Rule_Learning</td>\n",
       "    </tr>\n",
       "    <tr>\n",
       "      <th>1686</th>\n",
       "      <td>1155073</td>\n",
       "      <td>0</td>\n",
       "      <td>0</td>\n",
       "      <td>0</td>\n",
       "      <td>0</td>\n",
       "      <td>0</td>\n",
       "      <td>0</td>\n",
       "      <td>0</td>\n",
       "      <td>0</td>\n",
       "      <td>0</td>\n",
       "      <td>...</td>\n",
       "      <td>0</td>\n",
       "      <td>0</td>\n",
       "      <td>0</td>\n",
       "      <td>0</td>\n",
       "      <td>0</td>\n",
       "      <td>0</td>\n",
       "      <td>0</td>\n",
       "      <td>0</td>\n",
       "      <td>0</td>\n",
       "      <td>Rule_Learning</td>\n",
       "    </tr>\n",
       "  </tbody>\n",
       "</table>\n",
       "<p>2708 rows × 1435 columns</p>\n",
       "</div>"
      ],
      "text/plain": [
       "           id  P_0  P_1  P_2  P_3  P_4  P_5  P_6  P_7  P_8  ...  P_1424  \\\n",
       "163        35    0    0    0    0    0    0    0    0    0  ...       0   \n",
       "168        40    0    0    0    0    0    0    0    0    0  ...       0   \n",
       "552       114    0    0    0    0    0    0    0    1    0  ...       0   \n",
       "1459      117    0    0    0    0    0    0    0    0    0  ...       0   \n",
       "554       128    0    1    0    0    0    0    0    0    0  ...       0   \n",
       "...       ...  ...  ...  ...  ...  ...  ...  ...  ...  ...  ...     ...   \n",
       "147   1154500    0    0    0    0    0    0    0    0    0  ...       0   \n",
       "1953  1154520    0    0    0    0    0    0    0    0    0  ...       0   \n",
       "1955  1154524    0    0    0    0    0    0    0    0    0  ...       0   \n",
       "1956  1154525    0    0    0    0    0    0    0    0    0  ...       0   \n",
       "1686  1155073    0    0    0    0    0    0    0    0    0  ...       0   \n",
       "\n",
       "      P_1425  P_1426  P_1427  P_1428  P_1429  P_1430  P_1431  P_1432  \\\n",
       "163        0       0       0       0       0       0       0       0   \n",
       "168        0       0       0       0       0       0       0       0   \n",
       "552        0       0       0       0       0       0       0       0   \n",
       "1459       0       0       0       0       0       0       0       0   \n",
       "554        0       0       0       0       0       0       0       0   \n",
       "...      ...     ...     ...     ...     ...     ...     ...     ...   \n",
       "147        0       0       0       0       0       0       0       0   \n",
       "1953       0       0       0       0       0       0       0       0   \n",
       "1955       0       0       0       0       0       0       0       0   \n",
       "1956       0       0       0       0       0       0       0       0   \n",
       "1686       0       0       0       0       0       0       0       0   \n",
       "\n",
       "                       label  \n",
       "163       Genetic_Algorithms  \n",
       "168       Genetic_Algorithms  \n",
       "552   Reinforcement_Learning  \n",
       "1459  Reinforcement_Learning  \n",
       "554   Reinforcement_Learning  \n",
       "...                      ...  \n",
       "147               Case_Based  \n",
       "1953         Neural_Networks  \n",
       "1955           Rule_Learning  \n",
       "1956           Rule_Learning  \n",
       "1686           Rule_Learning  \n",
       "\n",
       "[2708 rows x 1435 columns]"
      ]
     },
     "execution_count": 3,
     "metadata": {},
     "output_type": "execute_result"
    }
   ],
   "source": [
    "content"
   ]
  },
  {
   "cell_type": "markdown",
   "id": "bac9e070",
   "metadata": {},
   "source": [
    "Agora, vamos visualizar a tabela contendo as citações:"
   ]
  },
  {
   "cell_type": "code",
   "execution_count": 4,
   "id": "cbbb3b09",
   "metadata": {},
   "outputs": [
    {
     "data": {
      "text/html": [
       "<div>\n",
       "<style scoped>\n",
       "    .dataframe tbody tr th:only-of-type {\n",
       "        vertical-align: middle;\n",
       "    }\n",
       "\n",
       "    .dataframe tbody tr th {\n",
       "        vertical-align: top;\n",
       "    }\n",
       "\n",
       "    .dataframe thead th {\n",
       "        text-align: right;\n",
       "    }\n",
       "</style>\n",
       "<table border=\"1\" class=\"dataframe\">\n",
       "  <thead>\n",
       "    <tr style=\"text-align: right;\">\n",
       "      <th></th>\n",
       "      <th>target</th>\n",
       "      <th>source</th>\n",
       "    </tr>\n",
       "  </thead>\n",
       "  <tbody>\n",
       "    <tr>\n",
       "      <th>0</th>\n",
       "      <td>35</td>\n",
       "      <td>1033</td>\n",
       "    </tr>\n",
       "    <tr>\n",
       "      <th>1</th>\n",
       "      <td>35</td>\n",
       "      <td>103482</td>\n",
       "    </tr>\n",
       "    <tr>\n",
       "      <th>2</th>\n",
       "      <td>35</td>\n",
       "      <td>103515</td>\n",
       "    </tr>\n",
       "    <tr>\n",
       "      <th>3</th>\n",
       "      <td>35</td>\n",
       "      <td>1050679</td>\n",
       "    </tr>\n",
       "    <tr>\n",
       "      <th>4</th>\n",
       "      <td>35</td>\n",
       "      <td>1103960</td>\n",
       "    </tr>\n",
       "    <tr>\n",
       "      <th>...</th>\n",
       "      <td>...</td>\n",
       "      <td>...</td>\n",
       "    </tr>\n",
       "    <tr>\n",
       "      <th>5424</th>\n",
       "      <td>853116</td>\n",
       "      <td>19621</td>\n",
       "    </tr>\n",
       "    <tr>\n",
       "      <th>5425</th>\n",
       "      <td>853116</td>\n",
       "      <td>853155</td>\n",
       "    </tr>\n",
       "    <tr>\n",
       "      <th>5426</th>\n",
       "      <td>853118</td>\n",
       "      <td>1140289</td>\n",
       "    </tr>\n",
       "    <tr>\n",
       "      <th>5427</th>\n",
       "      <td>853155</td>\n",
       "      <td>853118</td>\n",
       "    </tr>\n",
       "    <tr>\n",
       "      <th>5428</th>\n",
       "      <td>954315</td>\n",
       "      <td>1155073</td>\n",
       "    </tr>\n",
       "  </tbody>\n",
       "</table>\n",
       "<p>5429 rows × 2 columns</p>\n",
       "</div>"
      ],
      "text/plain": [
       "      target   source\n",
       "0         35     1033\n",
       "1         35   103482\n",
       "2         35   103515\n",
       "3         35  1050679\n",
       "4         35  1103960\n",
       "...      ...      ...\n",
       "5424  853116    19621\n",
       "5425  853116   853155\n",
       "5426  853118  1140289\n",
       "5427  853155   853118\n",
       "5428  954315  1155073\n",
       "\n",
       "[5429 rows x 2 columns]"
      ]
     },
     "execution_count": 4,
     "metadata": {},
     "output_type": "execute_result"
    }
   ],
   "source": [
    "cites"
   ]
  },
  {
   "cell_type": "markdown",
   "id": "b22ed5de",
   "metadata": {},
   "source": [
    "# 2- Análise de PDFs"
   ]
  },
  {
   "cell_type": "markdown",
   "id": "18f7834e",
   "metadata": {},
   "source": [
    "Segundo o <a href= 'http://eliassi.org/papers/ai-mag-tr08.pdf'> artigo </a> que referencia o dataset cora que empregamos até o momento, durante o preprocessamento das publicações do dataset, houve a remoção de _stopwords_ e normalização textual. Para visualizar essas técnincas, vamos carregar um pdf de amostra que discute sobre vieses em machine learning:"
   ]
  },
  {
   "cell_type": "code",
   "execution_count": 5,
   "id": "021c5f1b",
   "metadata": {},
   "outputs": [],
   "source": [
    "#!conda install -c conda-forge pdfplumber -y"
   ]
  },
  {
   "cell_type": "code",
   "execution_count": 6,
   "id": "44feeb43",
   "metadata": {
    "scrolled": true
   },
   "outputs": [],
   "source": [
    "import pdfplumber\n",
    "\n",
    "\n",
    "#PDF_PATH = 'CAMINHO PARA O SEU PDF'\n",
    "\n",
    "PDF_PATH = 'Vieses em machine learning.pdf'\n",
    "\n",
    "\n",
    "#Carrega o PDF\n",
    "pdf = pdfplumber.open(PDF_PATH)\n",
    "\n",
    "#Verifica a quantidade de páginas\n",
    "num_pages = len(pdf.pages)\n",
    "\n",
    "#String para o texto do PDF\n",
    "text_from_pdf = ''\n",
    "\n",
    "#Para cada página, extraia o texto \n",
    "for _ in range(num_pages):\n",
    "    text_from_pdf +=  pdf.pages[_].extract_text()\n",
    "\n",
    "#Todas as palavras minúsculas\n",
    "text_from_pdf = text_from_pdf.lower()"
   ]
  },
  {
   "cell_type": "code",
   "execution_count": 7,
   "id": "67ae32f7",
   "metadata": {},
   "outputs": [
    {
     "data": {
      "text/plain": [
       "'vieses em sistemas de machine learning\\nlucas f. zampar1\\n1departamento de ciências exatas e tecnológicas – universidade federal do amapá\\n(unifap)\\n68903-329– macapá – ap – brasil\\nlucas.26.zampar@gmail.com\\nabstract. the present work aims to present the problem of bias in the\\ndevelopment of machine learning systems.\\nresumo. o presente trabalho visa apresentar a problemática de vieses no\\ndesenvolvimento de sistemas de machine learning.\\n1. introdução\\nos algoritmos de ml (machine learning) têm ganhado destaque ultimamente\\npela aplicação em diferentes áreas, bem como a crescente presença nas atividades\\ncotidianas. por exemplo, algoritmos do tipo podem ser encontrados nos sistemas de\\nrecomendações personalizadas das plataformas destreaming,de reconhecimento da fala\\nnossmartphones, de reconhecimento facial nas redessociais, etc.\\nno entanto, apesar dos numerosos benefícios, ainda há muitas preocupações\\nreferentes a tais tecnologias. dentre elas, é possível citar a presença de viés, termo\\nempregado por diversas áreas, porém com sentidosdiferentes.nessecontexto,sureshe\\nguttag (2021) empregaram a palavra relacionando-a como fonte de dano potencial\\ndurante o ciclo de vida de um sistema de ml, desenvolvendo uma framework que\\nidentiﬁca sete vieses.\\n2. vieses comuns em machine learning\\nneste trabalho, serão explorados quatro deles (histórico, de representação, de medidae\\nde avaliação) de modo a apresentar a problemática do campo de forma geral. além\\ndisso, para cada um deles, será apresentado ao menos um trabalho relacionado.\\n2.1 viés histórico\\no viés histórico ocorre na própria geração dos dados, uma vez que a sociedade\\nque os produz é enviesada. assim, mesmo modelos treinados com dadosperfeitamente\\nmensurados e amostrados podem causar danos a um determinado grupo, como o\\nreforçamento de esteriótipos.\\nnesse contexto, há ampla documentação expondooenviesamentodegêneropor\\nparte das aplicações comerciais detraduçãoautomática,dadoqueconferempronomesa\\nproﬁssões e atividades de acordo com atribuição histórica em muitos casos. por\\nexemplo, fitria(2021)demonstrouessecomportamentonogoogletranslateaotraduzirexpressões neutras em relação ao gênero do indonésio para o inglês, obtendo como\\nresultado a associação de proﬁssões como doutor, engenheiro epresidenteahomens,já\\nas mulheres foram associadas a enfermeiras, professoras e cuidadoras de casa.\\nfigura 1 - exemplo de enviesamento de gênero nas traduções do google translate.\\nfonte:  fitria (2021)\\n2.2 viés de representação\\no viés de representação surge quando há sub-representação em parte dos dados\\nempregados durante o treinamento. dessa forma, a capacidade de generalização do\\nmodelo pode ser comprometida para esse conjunto.\\nnesse sentido, a falta de representatividade em datasets pode ser notada no\\nestudo de shankar et al. (2017), que avaliaram o geodiversidade de dois datasets\\npúblicos de imagens amplamente empregados: openimage e imagenet. das imagens\\nanalisadas no primeiro,quase60%eramsituadasnosseispaísesmaisrepresentativosda\\namérica do norte eeuropa.jáparaosegundo,45%delaseramlocalizadasnosestados\\nunidos.\\nfigura 2 - geodiversidade em datasets públicos de imagens.\\nfonte:   shankar et al. (2017)as consequências do viés de representação podem ser observadas no trabalho\\nde devries et al. (2019), que analisaram a acurácia de seis grandes sistemas de\\nreconhecimento de objetos em relação a um dataset geograﬁcamente diverso. dessa\\nforma, eles demonstraram que a acurácia média dos sistemas cai conforme a renda\\nmensal média dos países das imagens, indicando a falta de representatividade para\\npaíses emergentes.\\nfigura 3 - relação da acurácia média dos sistemas analisados com a renda mensal média dos países.\\nfonte:   devries et al. (2019)\\n2.3 viés de medida\\no viés de medida está presente quando as medidas, como características e\\nrótulos, empregadas em um problema de predição reﬂetem pobremente o que sedeseja\\nmedir ou são geradas de forma diferente entre grupos.\\nnesse contexto, no sistema judiciário, modelos que avaliam réus geralmente\\nincluem número de prisões como medida do risco oferecido. porém, tais medidas\\npodem ser geradas desproporcionalmente entre grupos, dado que determinadas\\ncomunidades são mais policiadas do que outras. por exemplo, angwin et al. (2016)\\nanalisaram a acurácia do sistema compas, utilizado por diversas cortes\\nnorte-americanas para avaliar o risco de reincidência dos réus. a partir disso,\\nconcluíram que a taxa de falsos positivos era signiﬁcativamente maior para réusnegros\\n(44.9%) do que brancos (23.5%).figura 4 -a taxa de falsos positivos é maior para réus negros.\\nfonte:   angwin et al. (2016)\\n2.4 viés de avaliação\\no viés de avaliação acontece quando o dataset de teste ou de benchmark\\nsub-representa parte dos dados aosquaiso modelopodeserexpostofuturamente.dessa\\nforma, o modelo pode aparentar um bom desempenho, porém para apenas alguns\\nconjuntos de dados.\\nnesse sentindo, buolamwini e gebru (2018) analisaram a representatividade de\\nmulheres negras em dois datasets de análise facial amplamente empregados para\\nbenchmark: adience e ijb-a. no primeiro, constataram que elas constituíam apenas\\n7.4%; no segundo, 4.4%. além disso, no mesmo estudo, veriﬁcaram a acurácia de três\\nsistemas comerciais de reconhecimento de gênero das empresas microsoft, ibm e\\nface++. para todos, as maiores taxas de erros se concentraram em mulheres negras,\\nenquanto as menores em homens brancos.\\nfigura 5 -falta de representatividade de mulheres negras em datasets de benchmark.\\nfonte:   buolamwini e gebru (2018)figura 6 - os desempenhos de três sistemas de reconhecimento de gênero são os piores para faces de\\nmulheres negras.\\nfonte:   buolamwini e gebru (2018)\\n3. conclusão\\numa vez que os sistemas de machine learning estão cada vez mais presentes nas\\ntomadas de decisões que afetam a vida das pessoasemdiferentesníveis,odebatesobre\\na presença de vieses neles é extramente importante.nessecontexto,odesenvolvimento\\nde modelos deve ser norteado a partir de uma perspectiva ética, analisando como eles\\npodem afetar a vida de diferentes pessoas. dessa forma, os riscos de danos a\\ndeterminadas parcelas da sociedade, especialmente minorias, pode ser reduzido,\\npromovendo assim sistemas justos.\\nreferências\\nsuresh, harini; guttag, john. a framework for understanding sources of harm\\nthroughout the machine learning life cycle. in: equity and access in algorithms,\\nmechanisms, and optimization. 2021. p. 1-9.\\nfitria, tira nur. gender bias in translation using google translate: problems and\\nsolution. language circle: journal of language and literature, v. 15, n. 2, 2021.shankar, shreya et al. no classiﬁcation without representation: assessing\\ngeodiversity issues in open data sets for the developing world. arxiv preprint\\narxiv:1711.08536, 2017.\\nde vries, terrance etal.doesobjectrecognitionworkforeveryone?.in:proceedings\\nof the ieee/cvf conference on computer vision and pattern recognition\\nworkshops. 2019. p. 52-59.\\nangwin, julia et al. machine bias.there’s software used acrossthecountrytopredict\\nfuture criminals. and it’s biased against blacks. propublica. 23 maio 2016.\\ndisponível em:\\n<https://www.propublica.org/article/machine-bias-risk-assessments-in-criminal-sente\\nncing>. acesso em: 08 fev. 2022.\\nbuolamwini, joy; gebru, timnit. gender shades: intersectional accuracy\\ndisparities in commercial gender classiﬁcation. in: conference on fairness,\\naccountability and transparency. pmlr, 2018. p. 77-91.'"
      ]
     },
     "execution_count": 7,
     "metadata": {},
     "output_type": "execute_result"
    }
   ],
   "source": [
    "text_from_pdf"
   ]
  },
  {
   "cell_type": "markdown",
   "id": "0c5887f6",
   "metadata": {},
   "source": [
    "Em seguida, realizaremos a tokenização e remoção das _stopwords_ do texto. Vamos fazer isso por meio do módulo NLTK:"
   ]
  },
  {
   "cell_type": "code",
   "execution_count": 8,
   "id": "ee3ad989",
   "metadata": {},
   "outputs": [],
   "source": [
    "#!conda install -c conda-forge spacy -y\n",
    "#!python -m nltk.downloader popular\n",
    "#!python -m nltk.downloader rslp"
   ]
  },
  {
   "cell_type": "code",
   "execution_count": 9,
   "id": "2f54867c",
   "metadata": {},
   "outputs": [],
   "source": [
    "import nltk\n",
    "from nltk.corpus import stopwords\n",
    "from nltk.tokenize import word_tokenize \n",
    "\n",
    "#Conjunto de stopwords do Português\n",
    "stop_words = set(stopwords.words('portuguese')) \n",
    "\n",
    "#Tokenizção textual \n",
    "word_tokens = word_tokenize(text_from_pdf)\n",
    "\n",
    "#Seleciona palavras que não são stopword em uma lista\n",
    "filtered_sentence = [w for w in word_tokens if w not in stop_words] \n",
    "\n",
    "#Aplicamos também a remoção para o inglês neste exemplo\n",
    "stop_words = set(stopwords.words('english')) \n",
    "filtered_sentence = [w for w in filtered_sentence if w not in stop_words] \n"
   ]
  },
  {
   "cell_type": "code",
   "execution_count": 10,
   "id": "3247c783",
   "metadata": {},
   "outputs": [
    {
     "name": "stdout",
     "output_type": "stream",
     "text": [
      "False\n",
      "False\n",
      "False\n"
     ]
    }
   ],
   "source": [
    "#Verifica a remoção de algumas stopwords\n",
    "print('a' in filtered_sentence)\n",
    "print('em' in filtered_sentence)\n",
    "print('de' in filtered_sentence)"
   ]
  },
  {
   "cell_type": "markdown",
   "id": "db9888d1",
   "metadata": {},
   "source": [
    "Agora, vamos realizar a normalização textual por meio de _lemmatization_. Infelimente, ele não se aplica para palavras do Portugês:"
   ]
  },
  {
   "cell_type": "code",
   "execution_count": 11,
   "id": "5d72bde9",
   "metadata": {},
   "outputs": [],
   "source": [
    "from nltk.stem import WordNetLemmatizer\n",
    "\n",
    "#Instancia o stemmer\n",
    "wordnet_lemmatizer = WordNetLemmatizer()\n",
    "\n",
    "#Para cara palavra, aplique o stemmer\n",
    "filtered_sentence = [wordnet_lemmatizer.lemmatize(word) for word in filtered_sentence]"
   ]
  },
  {
   "cell_type": "markdown",
   "id": "ad36c27c",
   "metadata": {},
   "source": [
    "Podemos também aplicar a normalização textual por meio _lemmatization_ para palavras do Inglês:"
   ]
  },
  {
   "cell_type": "markdown",
   "id": "045fdca5",
   "metadata": {},
   "source": [
    "Por fim, podemos eliminar pontuações e números:"
   ]
  },
  {
   "cell_type": "code",
   "execution_count": 12,
   "id": "6900fc14",
   "metadata": {},
   "outputs": [],
   "source": [
    "from string import punctuation\n",
    "\n",
    "#Elimina pontuações\n",
    "filtered_sentence =  [c for c in filtered_sentence if c not in punctuation]\n",
    "\n",
    "#Elimina dígitos \n",
    "filtered_sentence =  [c for c in filtered_sentence if not c.isdigit()]\n",
    "\n",
    "#Eliminaremos também palavras com menos de dois caracteres, por exemplo, et al\n",
    "filtered_sentence =  [c for c in filtered_sentence if not len(c) <= 2]\n"
   ]
  },
  {
   "cell_type": "markdown",
   "id": "28379125",
   "metadata": {},
   "source": [
    "Após o preprocessamento textual, podemos visualizar as 10 palavras mais frequentes no texto:"
   ]
  },
  {
   "cell_type": "code",
   "execution_count": 13,
   "id": "c2532982",
   "metadata": {},
   "outputs": [
    {
     "data": {
      "text/html": [
       "<div>\n",
       "<style scoped>\n",
       "    .dataframe tbody tr th:only-of-type {\n",
       "        vertical-align: middle;\n",
       "    }\n",
       "\n",
       "    .dataframe tbody tr th {\n",
       "        vertical-align: top;\n",
       "    }\n",
       "\n",
       "    .dataframe thead th {\n",
       "        text-align: right;\n",
       "    }\n",
       "</style>\n",
       "<table border=\"1\" class=\"dataframe\">\n",
       "  <thead>\n",
       "    <tr style=\"text-align: right;\">\n",
       "      <th></th>\n",
       "      <th>Frequência</th>\n",
       "    </tr>\n",
       "  </thead>\n",
       "  <tbody>\n",
       "    <tr>\n",
       "      <th>viés</th>\n",
       "      <td>10</td>\n",
       "    </tr>\n",
       "    <tr>\n",
       "      <th>sistemas</th>\n",
       "      <td>10</td>\n",
       "    </tr>\n",
       "    <tr>\n",
       "      <th>machine</th>\n",
       "      <td>8</td>\n",
       "    </tr>\n",
       "    <tr>\n",
       "      <th>learning</th>\n",
       "      <td>7</td>\n",
       "    </tr>\n",
       "    <tr>\n",
       "      <th>fonte</th>\n",
       "      <td>7</td>\n",
       "    </tr>\n",
       "    <tr>\n",
       "      <th>ser</th>\n",
       "      <td>7</td>\n",
       "    </tr>\n",
       "    <tr>\n",
       "      <th>forma</th>\n",
       "      <td>6</td>\n",
       "    </tr>\n",
       "    <tr>\n",
       "      <th>vieses</th>\n",
       "      <td>5</td>\n",
       "    </tr>\n",
       "    <tr>\n",
       "      <th>dado</th>\n",
       "      <td>5</td>\n",
       "    </tr>\n",
       "    <tr>\n",
       "      <th>datasets</th>\n",
       "      <td>5</td>\n",
       "    </tr>\n",
       "  </tbody>\n",
       "</table>\n",
       "</div>"
      ],
      "text/plain": [
       "          Frequência\n",
       "viés              10\n",
       "sistemas          10\n",
       "machine            8\n",
       "learning           7\n",
       "fonte              7\n",
       "ser                7\n",
       "forma              6\n",
       "vieses             5\n",
       "dado               5\n",
       "datasets           5"
      ]
     },
     "execution_count": 13,
     "metadata": {},
     "output_type": "execute_result"
    }
   ],
   "source": [
    "import pandas as pd\n",
    "\n",
    "df = pd.Series(filtered_sentence).value_counts().to_frame()[:10]\n",
    "df.columns = ['Frequência']\n",
    "\n",
    "df"
   ]
  },
  {
   "cell_type": "markdown",
   "id": "5388849d",
   "metadata": {},
   "source": [
    "Como esperado, entre as 10 palavras mais frequentes neste texto, encontram-se as palavras referentes ao tema discutido como: viés, vieses, machine, learning, dado e dataset."
   ]
  },
  {
   "cell_type": "markdown",
   "id": "63252aa4",
   "metadata": {},
   "source": [
    "Para melhorar a visualização, podemos plotar um gráfico de barras:"
   ]
  },
  {
   "cell_type": "code",
   "execution_count": 14,
   "id": "0adfe4eb",
   "metadata": {},
   "outputs": [
    {
     "data": {
      "text/plain": [
       "<AxesSubplot:>"
      ]
     },
     "execution_count": 14,
     "metadata": {},
     "output_type": "execute_result"
    },
    {
     "data": {
      "image/png": "[encoded data removed]",
      "text/plain": [
       "<Figure size 720x720 with 1 Axes>"
      ]
     },
     "metadata": {
      "needs_background": "light"
     },
     "output_type": "display_data"
    }
   ],
   "source": [
    "df.plot(kind='bar', figsize=(10,10), rot=30, fontsize=15)"
   ]
  },
  {
   "cell_type": "markdown",
   "id": "3affa867",
   "metadata": {},
   "source": [
    "# 3- Definindo funções"
   ]
  },
  {
   "cell_type": "markdown",
   "id": "48eacbd0",
   "metadata": {},
   "source": [
    "Podemos transformar o que foi visto acima em funções a fim de utilizar em outros PDFs que desejar. A seguir, temos a função que extrai páginas:"
   ]
  },
  {
   "cell_type": "code",
   "execution_count": 15,
   "id": "16a12bdd",
   "metadata": {},
   "outputs": [],
   "source": [
    "import pdfplumber\n",
    "\n",
    "\n",
    "def extract_text(pdf_path):\n",
    "    pdf = pdfplumber.open(pdf_path)\n",
    "    num_pages = len(pdf.pages)\n",
    "    text_from_pdf = ''\n",
    "    for _ in range(num_pages):\n",
    "        text_from_pdf +=  pdf.pages[_].extract_text()\n",
    "\n",
    "    return text_from_pdf.lower()\n"
   ]
  },
  {
   "cell_type": "markdown",
   "id": "06fbe65c",
   "metadata": {},
   "source": [
    "Em seguida, vamos realizar a limpeza do texto:"
   ]
  },
  {
   "cell_type": "code",
   "execution_count": 16,
   "id": "9591b583",
   "metadata": {},
   "outputs": [],
   "source": [
    "import nltk\n",
    "from nltk.corpus import stopwords\n",
    "from nltk.stem import WordNetLemmatizer\n",
    "from nltk.tokenize import word_tokenize \n",
    "from string import punctuation\n",
    "from string import digits\n",
    "\n",
    "\n",
    "def has_unwanted(word):\n",
    "    \n",
    "    #Você pode especificar caracteres indesejados nesta função\n",
    "    #Por exempo, o código comentado especifica aspas\n",
    "    #if word == '\\'':\n",
    "    #    return True\n",
    "    \n",
    "    if len(word) <= 2:\n",
    "        return True\n",
    "    \n",
    "    #Especifica palavras com pontuação ou dígitos\n",
    "    for c in word: \n",
    "        if c in punctuation or c in digits:\n",
    "            return True \n",
    "    \n",
    "    return False\n",
    "    \n",
    "\n",
    "def text_cleaning(text):\n",
    "\n",
    "    \n",
    "    stop_words = set(stopwords.words('portuguese')) \n",
    "    wordnet_lemmatizer = WordNetLemmatizer()\n",
    "    word_tokens = word_tokenize (text) \n",
    "    \n",
    "    filtered_sentence = [w for w in word_tokens if w not in stop_words] \n",
    "    \n",
    "    stop_words = set(stopwords.words('english')) \n",
    "    filtered_sentence = [w for w in filtered_sentence if w not in stop_words] \n",
    "    \n",
    "    filtered_sentence = [wordnet_lemmatizer.lemmatize(word) for word in filtered_sentence]\n",
    "    filtered_sentence = [w for w in filtered_sentence if not has_unwanted(w)]\n",
    "    \n",
    "    \n",
    "    return filtered_sentence\n"
   ]
  },
  {
   "cell_type": "markdown",
   "id": "2ea8e010",
   "metadata": {},
   "source": [
    "Em seguida, vamos definir a tabela de frequência das palavras mais comuns nos documentos:"
   ]
  },
  {
   "cell_type": "code",
   "execution_count": 17,
   "id": "e46c38ce",
   "metadata": {},
   "outputs": [],
   "source": [
    "import pandas as pd\n",
    "\n",
    "def freq_table(filtered_pdf, itens=10):\n",
    "    df = pd.Series(filtered_pdf).value_counts().to_frame()[:itens]\n",
    "    df.columns = ['Frequência']\n",
    "    return df"
   ]
  },
  {
   "cell_type": "markdown",
   "id": "23821ad3",
   "metadata": {},
   "source": [
    "Por fim, podemos definir a função que exiba o gráfico em barras a partir da tabela de frequência:"
   ]
  },
  {
   "cell_type": "code",
   "execution_count": 18,
   "id": "60da2d82",
   "metadata": {
    "scrolled": true
   },
   "outputs": [],
   "source": [
    "def show_freq(df, color='blue'):\n",
    "    df.plot(kind='bar', figsize=(10,10), rot=30, fontsize=15, color=color)"
   ]
  },
  {
   "cell_type": "markdown",
   "id": "465091fd",
   "metadata": {},
   "source": [
    "Pronto, agora basta aplicar em um exemplo:"
   ]
  },
  {
   "cell_type": "code",
   "execution_count": 19,
   "id": "da582960",
   "metadata": {},
   "outputs": [],
   "source": [
    "PDF_PATH = 'Vieses em machine learning.pdf'"
   ]
  },
  {
   "cell_type": "code",
   "execution_count": 20,
   "id": "804863c6",
   "metadata": {},
   "outputs": [
    {
     "data": {
      "text/html": [
       "<div>\n",
       "<style scoped>\n",
       "    .dataframe tbody tr th:only-of-type {\n",
       "        vertical-align: middle;\n",
       "    }\n",
       "\n",
       "    .dataframe tbody tr th {\n",
       "        vertical-align: top;\n",
       "    }\n",
       "\n",
       "    .dataframe thead th {\n",
       "        text-align: right;\n",
       "    }\n",
       "</style>\n",
       "<table border=\"1\" class=\"dataframe\">\n",
       "  <thead>\n",
       "    <tr style=\"text-align: right;\">\n",
       "      <th></th>\n",
       "      <th>Frequência</th>\n",
       "    </tr>\n",
       "  </thead>\n",
       "  <tbody>\n",
       "    <tr>\n",
       "      <th>sistemas</th>\n",
       "      <td>10</td>\n",
       "    </tr>\n",
       "    <tr>\n",
       "      <th>viés</th>\n",
       "      <td>10</td>\n",
       "    </tr>\n",
       "    <tr>\n",
       "      <th>machine</th>\n",
       "      <td>8</td>\n",
       "    </tr>\n",
       "    <tr>\n",
       "      <th>learning</th>\n",
       "      <td>7</td>\n",
       "    </tr>\n",
       "    <tr>\n",
       "      <th>ser</th>\n",
       "      <td>7</td>\n",
       "    </tr>\n",
       "    <tr>\n",
       "      <th>fonte</th>\n",
       "      <td>7</td>\n",
       "    </tr>\n",
       "    <tr>\n",
       "      <th>forma</th>\n",
       "      <td>6</td>\n",
       "    </tr>\n",
       "    <tr>\n",
       "      <th>datasets</th>\n",
       "      <td>5</td>\n",
       "    </tr>\n",
       "    <tr>\n",
       "      <th>dado</th>\n",
       "      <td>5</td>\n",
       "    </tr>\n",
       "    <tr>\n",
       "      <th>vieses</th>\n",
       "      <td>5</td>\n",
       "    </tr>\n",
       "  </tbody>\n",
       "</table>\n",
       "</div>"
      ],
      "text/plain": [
       "          Frequência\n",
       "sistemas          10\n",
       "viés              10\n",
       "machine            8\n",
       "learning           7\n",
       "ser                7\n",
       "fonte              7\n",
       "forma              6\n",
       "datasets           5\n",
       "dado               5\n",
       "vieses             5"
      ]
     },
     "execution_count": 20,
     "metadata": {},
     "output_type": "execute_result"
    }
   ],
   "source": [
    "text_from_pdf = extract_text(PDF_PATH)\n",
    "filtered_text = text_cleaning(text_from_pdf)\n",
    "freq_words = freq_table(filtered_text)\n",
    "freq_words"
   ]
  },
  {
   "cell_type": "code",
   "execution_count": 21,
   "id": "1395a6dd",
   "metadata": {},
   "outputs": [
    {
     "data": {
      "image/png": "[encoded data removed]",
      "text/plain": [
       "<Figure size 720x720 with 1 Axes>"
      ]
     },
     "metadata": {
      "needs_background": "light"
     },
     "output_type": "display_data"
    }
   ],
   "source": [
    "show_freq(freq_words, color='orange')"
   ]
  },
  {
   "cell_type": "code",
   "execution_count": null,
   "id": "1b8569fd",
   "metadata": {},
   "outputs": [],
   "source": []
  }
 ],
 "metadata": {
  "kernelspec": {
   "display_name": "Python 3 (ipykernel)",
   "language": "python",
   "name": "python3"
  },
  "language_info": {
   "codemirror_mode": {
    "name": "ipython",
    "version": 3
   },
   "file_extension": ".py",
   "mimetype": "text/x-python",
   "name": "python",
   "nbconvert_exporter": "python",
   "pygments_lexer": "ipython3",
   "version": "3.9.10"
  }
 },
 "nbformat": 4,
 "nbformat_minor": 5
}
