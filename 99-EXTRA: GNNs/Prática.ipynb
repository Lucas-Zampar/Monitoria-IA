{
 "cells": [
  {
   "cell_type": "markdown",
   "id": "7a09a3af",
   "metadata": {},
   "source": [
    "# 1- Escolha da unidade de processamento (GPU ou CPU)"
   ]
  },
  {
   "cell_type": "code",
   "execution_count": 1,
   "id": "7a1a86b6",
   "metadata": {},
   "outputs": [],
   "source": [
    "import torch\n",
    "\n",
    "#device = torch.device('cuda' if torch.cuda.is_available() else 'cpu')\n",
    "device = torch.device('cpu')\n"
   ]
  },
  {
   "cell_type": "markdown",
   "id": "0d4f0403",
   "metadata": {},
   "source": [
    "# 2- Dataset"
   ]
  },
  {
   "cell_type": "markdown",
   "id": "8eb7e18c",
   "metadata": {},
   "source": [
    "## 2.1- Inicialização do dataset"
   ]
  },
  {
   "cell_type": "code",
   "execution_count": 2,
   "id": "cbb1ea04",
   "metadata": {},
   "outputs": [],
   "source": [
    "from torch_geometric.datasets import #TO-DO\n",
    "\n",
    "dataset =  CitationFull(root='.', name= #TO-DO)  \n",
    "\n",
    "#Divisor de trianamento, validação e teste\n",
    "\n",
    "div_train = int( len(dataset[0].y)*  6/10 ) \n",
    "div_val = int( len(dataset[0].y)* 8/10 )\n",
    "div_test = len( dataset[0].y )\n",
    "\n",
    "#Número de classes\n",
    "\n",
    "num_classes = dataset.num_classes\n"
   ]
  },
  {
   "cell_type": "markdown",
   "id": "bd15d568",
   "metadata": {},
   "source": [
    "## 2.2- Transferência do dataset para a unidade de processamento "
   ]
  },
  {
   "cell_type": "code",
   "execution_count": 3,
   "id": "7bae4605",
   "metadata": {},
   "outputs": [],
   "source": [
    "data = dataset[0].to(device)"
   ]
  },
  {
   "cell_type": "markdown",
   "id": "9e36635f",
   "metadata": {},
   "source": [
    "# 3-Modelo"
   ]
  },
  {
   "cell_type": "markdown",
   "id": "86d34fe7",
   "metadata": {},
   "source": [
    "## 3.1- Definição do modelo "
   ]
  },
  {
   "cell_type": "code",
   "execution_count": 4,
   "id": "a1592a2d",
   "metadata": {},
   "outputs": [],
   "source": [
    "from torch.nn import Module \n",
    "from torch.nn.functional import relu, log_softmax\n",
    "from torch_geometric.nn import GCNConv\n",
    "\n",
    "EMBEDDING_SIZE = 16\n",
    "\n",
    "class GCN(Module):\n",
    "    \n",
    "    def __init__(self, input_channel, output_channel):\n",
    "        super().__init__()\n",
    "        \n",
    "        #Definir as camadas\n",
    "        \n",
    "        self.conv1 = GCNConv(input_channel, EMBEDDING_SIZE)\n",
    "        self.conv2 = GCNConv(EMBEDDING_SIZE, output_channel)\n",
    "        \n",
    "    \n",
    "    def forward(self, x, edge_index):\n",
    "        #Lógica de computação da rede\n",
    "    \n",
    "        x = self.conv1(x, edge_index).relu()\n",
    "        x = self.conv2(x, edge_index)\n",
    "        \n",
    "        return log_softmax(x, dim=1)"
   ]
  },
  {
   "cell_type": "markdown",
   "id": "570bc694",
   "metadata": {},
   "source": [
    "## 3.2- Transferência do modelo para a unidade de processamento"
   ]
  },
  {
   "cell_type": "code",
   "execution_count": 5,
   "id": "23342c12",
   "metadata": {},
   "outputs": [],
   "source": [
    "input_channel = dataset.num_node_features\n",
    "output_channel = dataset.num_classes\n",
    "\n",
    "model = GCN(input_channel, output_channel).to(device)"
   ]
  },
  {
   "cell_type": "markdown",
   "id": "9472c8b9",
   "metadata": {},
   "source": [
    "# 4-Treianmento "
   ]
  },
  {
   "cell_type": "markdown",
   "id": "1ae77657",
   "metadata": {},
   "source": [
    "## 4.1- Escolha da função de custo e otimizador"
   ]
  },
  {
   "cell_type": "code",
   "execution_count": 6,
   "id": "88fbae72",
   "metadata": {},
   "outputs": [],
   "source": [
    "import torch\n",
    "\n",
    "loss_function = torch.nn.CrossEntropyLoss()  \n",
    "optimizer = torch.optim.Adam(model.parameters(), lr=0.01, weight_decay=5e-4) \n",
    "\n"
   ]
  },
  {
   "cell_type": "markdown",
   "id": "822e46ee",
   "metadata": {},
   "source": [
    "## 4.2- Definição da função de treinamento"
   ]
  },
  {
   "cell_type": "code",
   "execution_count": 7,
   "id": "5e6cf171",
   "metadata": {},
   "outputs": [],
   "source": [
    "def train():\n",
    "    optimizer.zero_grad()\n",
    "\n",
    "    out = model(data.x, data.edge_index) \n",
    "    \n",
    "    train_x = out[ :div_train ]\n",
    "    train_y = data.y[ :div_train ]\n",
    "    \n",
    "    loss = loss_function(train_x, train_y) \n",
    "    loss.backward()  \n",
    "    optimizer.step() \n",
    "        \n",
    "    return loss\n"
   ]
  },
  {
   "cell_type": "markdown",
   "id": "bbe0f23d",
   "metadata": {},
   "source": [
    "## 4.3- Definição da função de avaliação"
   ]
  },
  {
   "cell_type": "code",
   "execution_count": 8,
   "id": "dcd6549f",
   "metadata": {},
   "outputs": [],
   "source": [
    "def aval_train():\n",
    "    pred = model(data.x, data.edge_index).argmax(dim=1) # Realiza predições\n",
    "    correct = (pred[ div_train: div_val ] == data.y[ div_train:div_val ]).sum() # Soma os acertos totais\n",
    "    acc = int(correct) / len(data.y[ div_train:div_val ]) # Calcula a acurácia acertos / total\n",
    "    return acc\n"
   ]
  },
  {
   "cell_type": "markdown",
   "id": "aa2501bf",
   "metadata": {},
   "source": [
    "## 4.4- Treinando o modelo "
   ]
  },
  {
   "cell_type": "code",
   "execution_count": 9,
   "id": "bc970ef1",
   "metadata": {},
   "outputs": [
    {
     "name": "stdout",
     "output_type": "stream",
     "text": [
      "Epoch: 050, Loss: 0.3121, Acurácia: 0.8835911742328176\n",
      "Epoch: 100, Loss: 0.2738, Acurácia: 0.8848592442302815\n",
      "Epoch: 150, Loss: 0.2613, Acurácia: 0.8818158762363683\n",
      "Epoch: 200, Loss: 0.2551, Acurácia: 0.8846056302307888\n"
     ]
    }
   ],
   "source": [
    "import numpy as np\n",
    "\n",
    "#Define o número de epochs\n",
    "num_epochs = 200 \n",
    "\n",
    "#Listas de acurácia e de loss\n",
    "accuracies = []\n",
    "losses = []\n",
    "\n",
    "epochs = np.arange(1, num_epochs+1)\n",
    "\n",
    "for epoch in epochs:\n",
    "    loss = train() #Realiza o treinamento\n",
    "    accuracy = aval_train() #Calcula a acurácia\n",
    "    losses.append(float(loss)) #Anexa o loss atual a lista de losses\n",
    "    accuracies.append(accuracy) # Anexa a acurácia atual na lista de acuracias\n",
    "    if epoch%50 == 0: print(f'Epoch: {epoch:03d}, Loss: {loss:.4f}, Acurácia: {accuracy}') #Imprima o status a cada 50 epochs"
   ]
  },
  {
   "cell_type": "markdown",
   "id": "453a7c4f",
   "metadata": {},
   "source": [
    "# 5- Visualizando os resultados"
   ]
  },
  {
   "cell_type": "markdown",
   "id": "38c5dbcd",
   "metadata": {},
   "source": [
    "## 5.1- Definindo a função de avaliação final"
   ]
  },
  {
   "cell_type": "code",
   "execution_count": 10,
   "id": "889a7d1b",
   "metadata": {},
   "outputs": [],
   "source": [
    "def aval_final():\n",
    "    pred = model(data.x, data.edge_index).argmax(dim=1) # Realiza predições\n",
    "    correct = (pred[ div_val: div_test ] == data.y[ div_val: div_test ]).sum() # Soma os acertos totais\n",
    "    acc = int(correct) / len(data.y[ div_val:div_test ]) # Calcula a acurácia acertos / total\n",
    "    print('Total de acertos: ', int(correct))\n",
    "    print('Total de dados comparados: ', len(data.y[ div_val:div_test ])) \n",
    "    print(f'Acurácia final: {acc:.2f}')\n",
    "    return acc"
   ]
  },
  {
   "cell_type": "markdown",
   "id": "50002a23",
   "metadata": {},
   "source": [
    "## 5.2- Visualizando a acurácia final"
   ]
  },
  {
   "cell_type": "code",
   "execution_count": 11,
   "id": "7679bb21",
   "metadata": {},
   "outputs": [
    {
     "name": "stdout",
     "output_type": "stream",
     "text": [
      "Total de acertos:  3442\n",
      "Total de dados comparados:  3944\n",
      "Acurácia final: 0.87\n"
     ]
    }
   ],
   "source": [
    "acc = aval_final()"
   ]
  },
  {
   "cell_type": "markdown",
   "id": "02e9bcde",
   "metadata": {},
   "source": [
    "## 5.3- Gráfico da loss X acurácia"
   ]
  },
  {
   "cell_type": "code",
   "execution_count": 12,
   "id": "43a2ab61",
   "metadata": {
    "scrolled": true
   },
   "outputs": [
    {
     "name": "stderr",
     "output_type": "stream",
     "text": [
      "/tmp/ipykernel_18030/3308861433.py:11: UserWarning: Matplotlib is currently using module://matplotlib_inline.backend_inline, which is a non-GUI backend, so cannot show the figure.\n",
      "  fig.show()\n"
     ]
    },
    {
     "data": {
      "image/png": "[encoded data removed]",
      "text/plain": [
       "<Figure size 288x288 with 1 Axes>"
      ]
     },
     "metadata": {
      "needs_background": "light"
     },
     "output_type": "display_data"
    }
   ],
   "source": [
    "import matplotlib.pyplot as plt \n",
    "#%matplotlib notebook\n",
    "\n",
    "l = len(epochs)*[acc]\n",
    "\n",
    "fig, ax = plt.subplots(figsize=(4,4))\n",
    "ax.plot(epochs, losses, color='red')\n",
    "ax.plot(epochs, accuracies, color='blue')\n",
    "ax.plot(epochs, l, color='orange')\n",
    "ax.set(xlabel='EPOCH')\n",
    "fig.show()"
   ]
  },
  {
   "cell_type": "code",
   "execution_count": 13,
   "id": "37fdc354",
   "metadata": {},
   "outputs": [],
   "source": [
    "fig.savefig('teste', dpi=300, format='png')"
   ]
  },
  {
   "cell_type": "markdown",
   "id": "9a77a58c",
   "metadata": {},
   "source": [
    "# ATIVIDADE"
   ]
  },
  {
   "cell_type": "markdown",
   "id": "e036a7ab",
   "metadata": {},
   "source": [
    "Com base no que já foi visto, você deverá implementar um modelo de GCN que será treinado com um dos <a href='https://pytorch-geometric.readthedocs.io/en/latest/modules/datasets.html#torch_geometric.datasets.CitationFull'>datasets</a> da coleção CitationFull, exceto o que foi apresentado na aula <code>Cora_ML</code>. A partir disso, você escreverá um relatório de no máximo duas laudas que deve contar com as seguintes partes:\n",
    "\n",
    "<ol>\n",
    "\n",
    "<li><b>PARTE 1:</b>\n",
    "Descreva como o dataset escolhido pode ser representado por meio de um grafo, destacando o que seriam os <b>nós</b>, <b>arestas</b> e <b>arrays de características (<em>features</em>)</b>  nesse contexto.\n",
    "</li>\n",
    "    \n",
    "<li><b>PARTE 2:</b>\n",
    "Descreva como o modelo foi desenvolvido, destacando o número de camadas, tamanho das amostras para cada <b>canal de entrada e de saída</b>, o objetivo do método forward e as funções de ativação empregadas. Além disso, faça uma breve comentário sobre a importância das funções de ativação em um modelo de deep learning.  \n",
    "</li>\n",
    "    \n",
    "\n",
    "<li><b>PARTE 3:</b>\n",
    "Descreva os resultado obtidos, informando a acurácia final, bem como o gráfico que relaciona a loss e a acurácia para cada epoch. A partir do gráfico, responda se a acurácia converge para determinado valor. Se sim, aproximadamente a partir de quantas epochs? Treinar o modelo por mais epochs aumentaria a acurácia final? \n",
    "</li>\n",
    "    \n",
    "</ol>\n",
    "\n",
    "\n",
    "\n"
   ]
  },
  {
   "cell_type": "markdown",
   "id": "f98a78e7",
   "metadata": {},
   "source": [
    "## 5.5-Visualizando o total de acertos por classe "
   ]
  },
  {
   "cell_type": "markdown",
   "id": "08d027ec",
   "metadata": {},
   "source": [
    "Além disso, é possível visualizar o total de acertos para o dataset de teste por meio de uma tabela. A primeira coluna mostra o total de acertos para determinada classe; a segunda, o total de itens do dataset daquela classe; a terceira, a taxa de erro em porcentagem."
   ]
  },
  {
   "cell_type": "code",
   "execution_count": 14,
   "id": "8df2a13c",
   "metadata": {},
   "outputs": [
    {
     "data": {
      "text/plain": [
       "\"\\nimport pandas as pd\\n\\nlabels ={0: 'Case-Based', \\n         1: 'Theory', \\n         2: 'Genetic_Algorithms', \\n         3: 'Probabilistic_Methods', \\n         4: 'Neural_Networks', \\n         5: 'Rule_Learning', \\n         6: 'Reinforcement_Learning'}\\n\\npred = pd.Series(model(data.x, data.edge_index)[div_val:div_test].argmax(1).cpu())\\ny = pd.Series(data.y[div_val:div_test].cpu())\\n\\ncolumns = { 'PRED': pred, 'REAL': y}\\ndf = pd.DataFrame(columns)\\n\\nacertos = df[ df['PRED'] == df['REAL'] ].value_counts().sort_index(axis=0, ascending=True)\\nacertos.index = labels.values()\\n\\n#total = pred.value_counts().sort_index(axis=0, ascending=True) # total de predições\\n\\nreal = y.value_counts().sort_index(axis=0, ascending=True)\\nreal.index = labels.values()\\n\\nnew_columns = {'ACERTOS': acertos, 'REAL': real}\\ndf = pd.DataFrame(new_columns)\\ndf['%'] = (df['ACERTOS'] / df['REAL'])*100\\n\\nprint(df.to_string(formatters={'%':'{:.2f}'.format}))\\n\""
      ]
     },
     "execution_count": 14,
     "metadata": {},
     "output_type": "execute_result"
    }
   ],
   "source": [
    "'''\n",
    "import pandas as pd\n",
    "\n",
    "labels ={0: 'Case-Based', \n",
    "         1: 'Theory', \n",
    "         2: 'Genetic_Algorithms', \n",
    "         3: 'Probabilistic_Methods', \n",
    "         4: 'Neural_Networks', \n",
    "         5: 'Rule_Learning', \n",
    "         6: 'Reinforcement_Learning'}\n",
    "\n",
    "pred = pd.Series(model(data.x, data.edge_index)[div_val:div_test].argmax(1).cpu())\n",
    "y = pd.Series(data.y[div_val:div_test].cpu())\n",
    "\n",
    "columns = { 'PRED': pred, 'REAL': y}\n",
    "df = pd.DataFrame(columns)\n",
    "\n",
    "acertos = df[ df['PRED'] == df['REAL'] ].value_counts().sort_index(axis=0, ascending=True)\n",
    "acertos.index = labels.values()\n",
    "\n",
    "#total = pred.value_counts().sort_index(axis=0, ascending=True) # total de predições\n",
    "\n",
    "real = y.value_counts().sort_index(axis=0, ascending=True)\n",
    "real.index = labels.values()\n",
    "\n",
    "new_columns = {'ACERTOS': acertos, 'REAL': real}\n",
    "df = pd.DataFrame(new_columns)\n",
    "df['%'] = (df['ACERTOS'] / df['REAL'])*100\n",
    "\n",
    "print(df.to_string(formatters={'%':'{:.2f}'.format}))\n",
    "'''"
   ]
  }
 ],
 "metadata": {
  "kernelspec": {
   "display_name": "Python 3 (ipykernel)",
   "language": "python",
   "name": "python3"
  },
  "language_info": {
   "codemirror_mode": {
    "name": "ipython",
    "version": 3
   },
   "file_extension": ".py",
   "mimetype": "text/x-python",
   "name": "python",
   "nbconvert_exporter": "python",
   "pygments_lexer": "ipython3",
   "version": "3.9.10"
  }
 },
 "nbformat": 4,
 "nbformat_minor": 5
}
