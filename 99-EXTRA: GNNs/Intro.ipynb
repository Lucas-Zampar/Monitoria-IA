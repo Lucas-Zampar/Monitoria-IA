{
 "cells": [
  {
   "cell_type": "markdown",
   "id": "2b018094",
   "metadata": {},
   "source": [
    "# Instalação"
   ]
  },
  {
   "cell_type": "markdown",
   "id": "418391c7",
   "metadata": {},
   "source": [
    "A fim de desenvolver modelos de deep learning para grafos, será necessário instalar o módulo Pytorch Geometric. Para tanto, iremos desinstalar a versão atual do Pytorch pelo seguinte código:"
   ]
  },
  {
   "cell_type": "code",
   "execution_count": 1,
   "id": "de8e43c2",
   "metadata": {},
   "outputs": [
    {
     "data": {
      "text/plain": [
       "'\\n!pip3 uninstall torchtext -y\\n!pip3 uninstall torchvision -y\\n!pip3 uninstall torch -y\\n'"
      ]
     },
     "execution_count": 1,
     "metadata": {},
     "output_type": "execute_result"
    }
   ],
   "source": [
    "'''\n",
    "!pip3 uninstall torchtext -y\n",
    "!pip3 uninstall torchvision -y\n",
    "!pip3 uninstall torch -y\n",
    "'''"
   ]
  },
  {
   "cell_type": "markdown",
   "id": "1714c688",
   "metadata": {},
   "source": [
    "A partir disso, iremos instalar a versão 1.9.0, anterior a atual:"
   ]
  },
  {
   "cell_type": "code",
   "execution_count": 2,
   "id": "184676c1",
   "metadata": {},
   "outputs": [],
   "source": [
    "#!pip3 install torch==1.9.0"
   ]
  },
  {
   "cell_type": "markdown",
   "id": "5ef83e4a",
   "metadata": {},
   "source": [
    "Com isso, poderemos baixar o pacote do Pytorch Geometric. Caso não seja instalado, reinicie a máquina, pois a instalação da nova versão do Pytorch pode não ter sido salva corretamente na máquina virtual."
   ]
  },
  {
   "cell_type": "code",
   "execution_count": 3,
   "id": "048e5d16",
   "metadata": {},
   "outputs": [
    {
     "data": {
      "text/plain": [
       "\"\\nimport torch\\n\\nif torch.__version__ != '1.9.0+cu102':\\n    print('Versão do pytorch inadequada! Favor reiniciar a máquina virtual.')\\nelse:    \\n    pytorch_version=f'torch-{torch.__version__}.html'\\n    !pip3 install --no-index torch-scatter -f https://pytorch-geometric.com/whl/$pytorch_version\\n    !pip3 install --no-index torch-sparse -f https://pytorch-geometric.com/whl/$pytorch_version\\n    !pip3 install --no-index torch-cluster -f https://pytorch-geometric.com/whl/$pytorch_version\\n    !pip3 install --no-index torch-spline-conv -f https://pytorch-geometric.com/whl/$pytorch_version\\n    !pip3 install torch-geometric\\n\""
      ]
     },
     "execution_count": 3,
     "metadata": {},
     "output_type": "execute_result"
    }
   ],
   "source": [
    "'''\n",
    "import torch\n",
    "\n",
    "if torch.__version__ != '1.9.0+cu102':\n",
    "    print('Versão do pytorch inadequada! Favor reiniciar a máquina virtual.')\n",
    "else:    \n",
    "    pytorch_version=f'torch-{torch.__version__}.html'\n",
    "    !pip3 install --no-index torch-scatter -f https://pytorch-geometric.com/whl/$pytorch_version\n",
    "    !pip3 install --no-index torch-sparse -f https://pytorch-geometric.com/whl/$pytorch_version\n",
    "    !pip3 install --no-index torch-cluster -f https://pytorch-geometric.com/whl/$pytorch_version\n",
    "    !pip3 install --no-index torch-spline-conv -f https://pytorch-geometric.com/whl/$pytorch_version\n",
    "    !pip3 install torch-geometric\n",
    "'''"
   ]
  },
  {
   "cell_type": "markdown",
   "id": "653ba662",
   "metadata": {},
   "source": [
    "# 1- Representação de um grafo"
   ]
  },
  {
   "cell_type": "markdown",
   "id": "db92686d",
   "metadata": {},
   "source": [
    "Como introdução ao PyG, vamos construir o grafo definido pela equação abaixo:"
   ]
  },
  {
   "cell_type": "markdown",
   "id": "4f41acd9",
   "metadata": {},
   "source": [
    "$$ G = \\{ V, E \\} $$"
   ]
  },
  {
   "cell_type": "markdown",
   "id": "a338a27d",
   "metadata": {},
   "source": [
    "Em que:"
   ]
  },
  {
   "cell_type": "markdown",
   "id": "b72ee77b",
   "metadata": {},
   "source": [
    "$$ V = \\{ \\{0, 1, 2 \\} \\} $$\n",
    "$$ E = \\{ \\{0, 1\\}, \\{1, 2\\} \\} $$"
   ]
  },
  {
   "cell_type": "markdown",
   "id": "880d318c",
   "metadata": {},
   "source": [
    "Note que o grafo G é composto por três vértices {0,1,2} e por duas arestas {{0,1},{1,2}}, sendo não dirigido."
   ]
  },
  {
   "cell_type": "markdown",
   "id": "ceace5dc",
   "metadata": {},
   "source": [
    "No PyG, um grafo é representado como uma instância da classe <code>torch_geometric.data.Data</code>. Portanto, devemos importá-la de modo a construir o grafo. "
   ]
  },
  {
   "cell_type": "markdown",
   "id": "d979bc08",
   "metadata": {},
   "source": [
    "Além disso, importaremos também o módulo <code>torch</code> com a finalidade de utilizar algumas funcionalidades do Pytorch, como os tensores."
   ]
  },
  {
   "cell_type": "code",
   "execution_count": 4,
   "id": "1afb2cda",
   "metadata": {},
   "outputs": [],
   "source": [
    "import torch\n",
    "from torch_geometric.data import Data"
   ]
  },
  {
   "cell_type": "markdown",
   "id": "e137a054",
   "metadata": {},
   "source": [
    "## 1.1- Representando as arestas"
   ]
  },
  {
   "cell_type": "markdown",
   "id": "480118dc",
   "metadata": {},
   "source": [
    "A classe <code>Data</code> espera receber a representação das arestas no formato <code>COO</code> (COOrdinate). Nele, a conectividade do grafo é representada por meio de uma matriz com duas linhas, a primeira se referindo aos vértices de origem; a segunda, aos de destino. Dessa forma, os dois vértices em uma mesma coluna compõem a aresta em questão."
   ]
  },
  {
   "cell_type": "markdown",
   "id": "5c2a8446",
   "metadata": {},
   "source": [
    "Usualmente,tal matriz é referida como <code>edge_index</code>, sendo implementada por um tensor do tipo <code>torch.long</code>:"
   ]
  },
  {
   "cell_type": "code",
   "execution_count": 5,
   "id": "1837820f",
   "metadata": {},
   "outputs": [
    {
     "data": {
      "text/plain": [
       "tensor([[0, 1, 1, 2],\n",
       "        [1, 0, 2, 1]])"
      ]
     },
     "execution_count": 5,
     "metadata": {},
     "output_type": "execute_result"
    }
   ],
   "source": [
    "edge_index = torch.tensor([[0, 1, 1, 2],\n",
    "                          [1, 0, 2, 1]], dtype=torch.long)\n",
    "edge_index"
   ]
  },
  {
   "cell_type": "markdown",
   "id": "a19f1e63",
   "metadata": {},
   "source": [
    "Perceba que, na primeria coluna, encontram-se os vértices 0 e 1 respectivamente, representando uma aresta que parte de 0 em direção a 1. Já na segunda coluna, novamente encontramos os vértices 0 e 1, porém na ordem inversa, indicando que agora a aresta parte de 1 em direção a 0. \n"
   ]
  },
  {
   "cell_type": "markdown",
   "id": "8877ec97",
   "metadata": {},
   "source": [
    "Tal notação, embora pareça redundante, é necessária para sinalizar que o grafo é não dirigido. O mesmo padrão se repete para as duas últimas colunas, as quais representam a aresta {1,2}."
   ]
  },
  {
   "cell_type": "markdown",
   "id": "ef83b222",
   "metadata": {},
   "source": [
    "Outra forma de definir as arestas seria por meio de uma lista de tuplas. Porém, de modo a manter o formato COO, precisamos realizar a transposição do tensor, por meio do método <code>t</code>, além de aplicar o método <code>contiguous</code> em seguida."
   ]
  },
  {
   "cell_type": "code",
   "execution_count": 6,
   "id": "daf15b1f",
   "metadata": {},
   "outputs": [
    {
     "data": {
      "text/plain": [
       "tensor([[0, 1, 1, 2],\n",
       "        [1, 0, 2, 1]])"
      ]
     },
     "execution_count": 6,
     "metadata": {},
     "output_type": "execute_result"
    }
   ],
   "source": [
    "edge_index = torch.tensor([[0,1],\n",
    "                           [1,0],\n",
    "                           [1,2],\n",
    "                           [2,1]], dtype=torch.long)\n",
    "\n",
    "edge_index = edge_index.t().contiguous()\n",
    "edge_index"
   ]
  },
  {
   "cell_type": "markdown",
   "id": "bcd01af5",
   "metadata": {},
   "source": [
    "## 1.2 - Representando as _features_"
   ]
  },
  {
   "cell_type": "markdown",
   "id": "bc3bbb0d",
   "metadata": {},
   "source": [
    "Para esse exemplo, cada nó terá apenas uma _feature_. Dessa forma, podemos definir o tensor como uma matriz coluna, em que cada linha representa as _features_ dos nós 0, 1 e 2 respectivamente. "
   ]
  },
  {
   "cell_type": "markdown",
   "id": "f8b74fc5",
   "metadata": {},
   "source": [
    "Como as _features_ são as variáveis independentes do modelo, iremos referenciar tal tensor como <code>x</code>, além de atribuir o tipo de dado <code>torch.float</code>."
   ]
  },
  {
   "cell_type": "code",
   "execution_count": 7,
   "id": "cb2367b7",
   "metadata": {},
   "outputs": [
    {
     "data": {
      "text/plain": [
       "tensor([[-1.],\n",
       "        [ 0.],\n",
       "        [ 1.]])"
      ]
     },
     "execution_count": 7,
     "metadata": {},
     "output_type": "execute_result"
    }
   ],
   "source": [
    "x = torch.tensor([[-1], [0], [1]], dtype=torch.float)\n",
    "x"
   ]
  },
  {
   "cell_type": "markdown",
   "id": "7c0d7d5f",
   "metadata": {},
   "source": [
    "## 1.3 - Criando a representação do grafo"
   ]
  },
  {
   "cell_type": "markdown",
   "id": "4e1996f3",
   "metadata": {},
   "source": [
    "Por fim, de modo a representar o grafo G, precisamos apenas criar uma instância da classe <code>Data</code>, passando os tensores como argumentos do construtor."
   ]
  },
  {
   "cell_type": "code",
   "execution_count": 8,
   "id": "50e6717b",
   "metadata": {},
   "outputs": [
    {
     "data": {
      "text/plain": [
       "Data(x=[3, 1], edge_index=[2, 4])"
      ]
     },
     "execution_count": 8,
     "metadata": {},
     "output_type": "execute_result"
    }
   ],
   "source": [
    "data = Data(x=x, edge_index=edge_index)\n",
    "data"
   ]
  },
  {
   "cell_type": "markdown",
   "id": "1dc26bc3",
   "metadata": {},
   "source": [
    "Dessa forma, criamos a representação do grafo G, indicado pela imagem abaixo, no PyG. "
   ]
  },
  {
   "cell_type": "markdown",
   "id": "6613ae29",
   "metadata": {},
   "source": [
    "<figure>\n",
    "    <img src=\"img/graph.svg\" alt=\"Grafo\" width='400'>\n",
    "    <figcaption style=\"font-size: 12px; text-align: center;\">\n",
    "        <em> \n",
    "            Fonte: \n",
    "                <a href=\"https://pytorch-geometric.readthedocs.io/en/latest/notes/introduction.html\"> \n",
    "                    Documentação do Pytorch Geometric\n",
    "                </a> \n",
    "        </em> \n",
    "    </figcaption>\n",
    "</figure>\n"
   ]
  },
  {
   "cell_type": "markdown",
   "id": "8f134964",
   "metadata": {},
   "source": [
    "## 1.4 - Atributos e métodos"
   ]
  },
  {
   "cell_type": "markdown",
   "id": "f4d7b6a2",
   "metadata": {},
   "source": [
    "A classe <code>Data</code> contem diversos parâmetros que retornam informações importantes da representação do grafo. Por exemplo, podemos visualizar a matriz que representa as arestas no formato COO:"
   ]
  },
  {
   "cell_type": "code",
   "execution_count": 9,
   "id": "122865e8",
   "metadata": {},
   "outputs": [
    {
     "data": {
      "text/plain": [
       "tensor([[0, 1, 1, 2],\n",
       "        [1, 0, 2, 1]])"
      ]
     },
     "execution_count": 9,
     "metadata": {},
     "output_type": "execute_result"
    }
   ],
   "source": [
    "data.edge_index"
   ]
  },
  {
   "cell_type": "markdown",
   "id": "cba2e841",
   "metadata": {},
   "source": [
    "A fim da melhor visualização, podemos transpor essa matriz:"
   ]
  },
  {
   "cell_type": "code",
   "execution_count": 10,
   "id": "2bb76788",
   "metadata": {},
   "outputs": [
    {
     "data": {
      "text/plain": [
       "tensor([[0, 1],\n",
       "        [1, 0],\n",
       "        [1, 2],\n",
       "        [2, 1]])"
      ]
     },
     "execution_count": 10,
     "metadata": {},
     "output_type": "execute_result"
    }
   ],
   "source": [
    "data.edge_index.t()"
   ]
  },
  {
   "cell_type": "markdown",
   "id": "c7450d39",
   "metadata": {},
   "source": [
    "Podemos visualizar também a matriz de _features_ que guarda as variáveis independentes do modelo:"
   ]
  },
  {
   "cell_type": "code",
   "execution_count": 11,
   "id": "a55f8c1b",
   "metadata": {},
   "outputs": [
    {
     "data": {
      "text/plain": [
       "tensor([[-1.],\n",
       "        [ 0.],\n",
       "        [ 1.]])"
      ]
     },
     "execution_count": 11,
     "metadata": {},
     "output_type": "execute_result"
    }
   ],
   "source": [
    "data.x"
   ]
  },
  {
   "cell_type": "markdown",
   "id": "8af263c4",
   "metadata": {},
   "source": [
    "Podemos saber a quantidade de nós do grafo:"
   ]
  },
  {
   "cell_type": "code",
   "execution_count": 12,
   "id": "f1b2926c",
   "metadata": {},
   "outputs": [
    {
     "data": {
      "text/plain": [
       "3"
      ]
     },
     "execution_count": 12,
     "metadata": {},
     "output_type": "execute_result"
    }
   ],
   "source": [
    "data.num_nodes"
   ]
  },
  {
   "cell_type": "markdown",
   "id": "dbec3f79",
   "metadata": {},
   "source": [
    "Bem como o número de arestas:"
   ]
  },
  {
   "cell_type": "code",
   "execution_count": 13,
   "id": "70cfdeb1",
   "metadata": {},
   "outputs": [
    {
     "data": {
      "text/plain": [
       "4"
      ]
     },
     "execution_count": 13,
     "metadata": {},
     "output_type": "execute_result"
    }
   ],
   "source": [
    "data.num_edges"
   ]
  },
  {
   "cell_type": "markdown",
   "id": "7bd008d9",
   "metadata": {},
   "source": [
    "Além da quantidade de _features_ por nó:"
   ]
  },
  {
   "cell_type": "code",
   "execution_count": 14,
   "id": "56b8c7bd",
   "metadata": {},
   "outputs": [
    {
     "data": {
      "text/plain": [
       "1"
      ]
     },
     "execution_count": 14,
     "metadata": {},
     "output_type": "execute_result"
    }
   ],
   "source": [
    "data.num_features"
   ]
  },
  {
   "cell_type": "markdown",
   "id": "b525909e",
   "metadata": {},
   "source": [
    "Além disso, há métodos que retornnam também outras informações gerais acerca do grafo, como se ele possui nós isolados:"
   ]
  },
  {
   "cell_type": "code",
   "execution_count": 15,
   "id": "81da7024",
   "metadata": {},
   "outputs": [
    {
     "data": {
      "text/plain": [
       "False"
      ]
     },
     "execution_count": 15,
     "metadata": {},
     "output_type": "execute_result"
    }
   ],
   "source": [
    "data.has_isolated_nodes()"
   ]
  },
  {
   "cell_type": "markdown",
   "id": "2cb61bdf",
   "metadata": {},
   "source": [
    "Se possui grafos conectados a si (_self loops_):"
   ]
  },
  {
   "cell_type": "code",
   "execution_count": 16,
   "id": "729cce62",
   "metadata": {},
   "outputs": [
    {
     "data": {
      "text/plain": [
       "False"
      ]
     },
     "execution_count": 16,
     "metadata": {},
     "output_type": "execute_result"
    }
   ],
   "source": [
    "data.has_self_loops()"
   ]
  },
  {
   "cell_type": "markdown",
   "id": "0b37a852",
   "metadata": {},
   "source": [
    "Por fim, se o grafo é dirigido:"
   ]
  },
  {
   "cell_type": "code",
   "execution_count": 17,
   "id": "26db34bd",
   "metadata": {},
   "outputs": [
    {
     "data": {
      "text/plain": [
       "False"
      ]
     },
     "execution_count": 17,
     "metadata": {},
     "output_type": "execute_result"
    }
   ],
   "source": [
    "data.is_directed()"
   ]
  },
  {
   "cell_type": "markdown",
   "id": "602115b9",
   "metadata": {},
   "source": [
    "# 2- Datasets"
   ]
  },
  {
   "cell_type": "markdown",
   "id": "ff91bbb8",
   "metadata": {},
   "source": [
    "O PyG disponibiliza diversas coleções comuns de datasets para benchmark. Dentre elas, podemos citar a <a href='https://chrsmrrs.github.io/datasets/docs/datasets/'>TUDataset</a>, contendo diversos datasets para classificação e regressão de grafos em campos como química, bioinformática, visão computacional e redes sociais."
   ]
  },
  {
   "cell_type": "markdown",
   "id": "8c187925",
   "metadata": {},
   "source": [
    "## 2.1 - Inicializando o dataset"
   ]
  },
  {
   "cell_type": "markdown",
   "id": "0e18f9f5",
   "metadata": {},
   "source": [
    "Para ter acesso a um dataset específico, deve-se importar a classe com o nome da coleção a partir de <code>torch_geometric.datasets</code>. Então, repassar para o construtor o local onde se deseja realizar o download do dataset (<code>root</code>), bem como o nome (<code>name</code>). "
   ]
  },
  {
   "cell_type": "markdown",
   "id": "e851495b",
   "metadata": {},
   "source": [
    "O PyG então irá realizar o download dos arquivos brutos (_raw_) do dataset, convertendo posteriormente para o formato <code>Data</code> já discutido. Por exemplo, podemos inicializar o dataset ENZYMES da referida coleção <a href='https://chrsmrrs.github.io/datasets/docs/datasets/'>TUDataset</a>. "
   ]
  },
  {
   "cell_type": "code",
   "execution_count": 18,
   "id": "98a7fd24",
   "metadata": {},
   "outputs": [],
   "source": [
    "from torch_geometric.datasets import TUDataset\n",
    "\n",
    "dataset = TUDataset(root='.', name='ENZYMES')"
   ]
  },
  {
   "cell_type": "markdown",
   "id": "585744b0",
   "metadata": {},
   "source": [
    "Se verificarmos o diretório deste notebook, encontraremos agora uma pasta denominada ENZYMES. Dentro dela, haverá a pasta _raw_, contendo os arquivos originais do dataset, e _processed_, contendo os arquivos empregados pelo PyG para representar os grafos no formato <code>Data</code>."
   ]
  },
  {
   "cell_type": "markdown",
   "id": "6e4dbd13",
   "metadata": {},
   "source": [
    "Se entrarmos em _raw_, encontraremos o arquivo <a href='ENZYMES/raw/README.txt'>README.txt</a>, contendo uma breve descrição do dataset:"
   ]
  },
  {
   "cell_type": "markdown",
   "id": "8b91f928",
   "metadata": {},
   "source": [
    ">ENZYMES é um dataset de estruturas terciárias de proteínas obtido de (Borgwardt et al., 2005) consistindo de 600 enzimas do dataset de enzimas BRENDA (Schomburg et al., 2004). Nesse caso, a tarefa é atribuir corretamente cada enzima para uma das 6 classes de EC(Enzyme Commission)."
   ]
  },
  {
   "cell_type": "markdown",
   "id": "a099ea1e",
   "metadata": {},
   "source": [
    "## 2.2- Visualizando informações do dataset"
   ]
  },
  {
   "cell_type": "markdown",
   "id": "105d9958",
   "metadata": {},
   "source": [
    "Apesar do texto abordar conceitos fora do nosso conhecimento, vamos focar em duas propriedades importantes desse dataset. "
   ]
  },
  {
   "cell_type": "markdown",
   "id": "bcd42082",
   "metadata": {},
   "source": [
    "A primeira é o número de grafos. Segundo a descrição, há 600 enzimas, ou seja, 600 grafos, o que pode ser constatado por meio de:"
   ]
  },
  {
   "cell_type": "code",
   "execution_count": 19,
   "id": "1b36177d",
   "metadata": {},
   "outputs": [
    {
     "data": {
      "text/plain": [
       "600"
      ]
     },
     "execution_count": 19,
     "metadata": {},
     "output_type": "execute_result"
    }
   ],
   "source": [
    "len(dataset)"
   ]
  },
  {
   "cell_type": "markdown",
   "id": "548c5d2b",
   "metadata": {},
   "source": [
    "A segunda é o número de classes, isto é, aquilo que desejamos predizer. Segunda a descrição, há 6 classes, o que pode ser constatado por meio de:"
   ]
  },
  {
   "cell_type": "code",
   "execution_count": 20,
   "id": "b9470277",
   "metadata": {},
   "outputs": [
    {
     "data": {
      "text/plain": [
       "6"
      ]
     },
     "execution_count": 20,
     "metadata": {},
     "output_type": "execute_result"
    }
   ],
   "source": [
    "dataset.num_classes"
   ]
  },
  {
   "cell_type": "markdown",
   "id": "81df28bc",
   "metadata": {},
   "source": [
    "Além disso, podemos verificar a quantidade de _features_ por nó:"
   ]
  },
  {
   "cell_type": "code",
   "execution_count": 21,
   "id": "13bcbd74",
   "metadata": {},
   "outputs": [
    {
     "data": {
      "text/plain": [
       "3"
      ]
     },
     "execution_count": 21,
     "metadata": {},
     "output_type": "execute_result"
    }
   ],
   "source": [
    "dataset.num_node_features"
   ]
  },
  {
   "cell_type": "markdown",
   "id": "8ec6d7cf",
   "metadata": {},
   "source": [
    "## 2.3- Visualizando informações de uma amostra"
   ]
  },
  {
   "cell_type": "markdown",
   "id": "dafdef50",
   "metadata": {},
   "source": [
    "Agora, vamos pegar uma amostra do dataset:"
   ]
  },
  {
   "cell_type": "code",
   "execution_count": 22,
   "id": "42aa8c2d",
   "metadata": {},
   "outputs": [],
   "source": [
    "data = dataset[0]"
   ]
  },
  {
   "cell_type": "markdown",
   "id": "6f2b3ddf",
   "metadata": {},
   "source": [
    "Inicialmente, podemos verificar que a amostra realmente é do tipo <code>Data</code> conforme mencionado:"
   ]
  },
  {
   "cell_type": "code",
   "execution_count": 65,
   "id": "79bd7f0c",
   "metadata": {},
   "outputs": [
    {
     "name": "stdout",
     "output_type": "stream",
     "text": [
      ">> O grafo é instâncida de Data\n"
     ]
    }
   ],
   "source": [
    "print('>> O grafo{} é instâncida de Data'.format('' if isinstance(data, Data) else ' não'))"
   ]
  },
  {
   "cell_type": "markdown",
   "id": "5990901b",
   "metadata": {},
   "source": [
    "A partir disso, podemos aplicar alguns métodos apresentados anteriormente. Por exemplo, podemos verificar se o grafo é dirigido ou não:"
   ]
  },
  {
   "cell_type": "code",
   "execution_count": 66,
   "id": "d03242a7",
   "metadata": {},
   "outputs": [
    {
     "name": "stdout",
     "output_type": "stream",
     "text": [
      ">> O grafo não é dirigido\n"
     ]
    }
   ],
   "source": [
    "print('>> O grafo{} é dirigido'.format('' if data.is_directed() else ' não'))"
   ]
  },
  {
   "cell_type": "markdown",
   "id": "54c46e05",
   "metadata": {},
   "source": [
    "Podemos verificar a quantidade de nós e de arestas do grafo. Como o grafo é não dirigido, o número de arestas é computado duas vezes. Então, devemos dividir por dois:"
   ]
  },
  {
   "cell_type": "code",
   "execution_count": 58,
   "id": "9924de36",
   "metadata": {},
   "outputs": [
    {
     "name": "stdout",
     "output_type": "stream",
     "text": [
      ">> # de nós:  37\n",
      ">> # de arestas:  84\n"
     ]
    }
   ],
   "source": [
    "print('>> # de nós: ', data.num_nodes)\n",
    "print('>> # de arestas: ', data.num_edges//2)"
   ]
  },
  {
   "cell_type": "markdown",
   "id": "bc7aa351",
   "metadata": {},
   "source": [
    "Podemos visualizar a matriz de _features_ do grafo:"
   ]
  },
  {
   "cell_type": "code",
   "execution_count": 61,
   "id": "752dc423",
   "metadata": {},
   "outputs": [
    {
     "data": {
      "text/plain": [
       "tensor([[1., 0., 0.],\n",
       "        [1., 0., 0.],\n",
       "        [1., 0., 0.],\n",
       "        [1., 0., 0.],\n",
       "        [1., 0., 0.],\n",
       "        [1., 0., 0.],\n",
       "        [1., 0., 0.],\n",
       "        [1., 0., 0.],\n",
       "        [1., 0., 0.],\n",
       "        [1., 0., 0.],\n",
       "        [1., 0., 0.],\n",
       "        [1., 0., 0.],\n",
       "        [1., 0., 0.],\n",
       "        [1., 0., 0.],\n",
       "        [1., 0., 0.],\n",
       "        [1., 0., 0.],\n",
       "        [1., 0., 0.],\n",
       "        [1., 0., 0.],\n",
       "        [1., 0., 0.],\n",
       "        [1., 0., 0.],\n",
       "        [1., 0., 0.],\n",
       "        [1., 0., 0.],\n",
       "        [1., 0., 0.],\n",
       "        [1., 0., 0.],\n",
       "        [0., 1., 0.],\n",
       "        [0., 1., 0.],\n",
       "        [0., 1., 0.],\n",
       "        [0., 1., 0.],\n",
       "        [0., 1., 0.],\n",
       "        [0., 1., 0.],\n",
       "        [0., 1., 0.],\n",
       "        [0., 1., 0.],\n",
       "        [0., 1., 0.],\n",
       "        [0., 1., 0.],\n",
       "        [0., 1., 0.],\n",
       "        [0., 1., 0.],\n",
       "        [0., 1., 0.]])"
      ]
     },
     "execution_count": 61,
     "metadata": {},
     "output_type": "execute_result"
    }
   ],
   "source": [
    "data.x"
   ]
  },
  {
   "cell_type": "markdown",
   "id": "30f63c4f",
   "metadata": {},
   "source": [
    "Conforme informado anteriormente, podemos notar que há 3 _features_ por nó realmente."
   ]
  },
  {
   "cell_type": "markdown",
   "id": "92349911",
   "metadata": {},
   "source": [
    "Por fim, podemos visualizar a qual classe pertence esse grafo:"
   ]
  },
  {
   "cell_type": "code",
   "execution_count": 67,
   "id": "a5019e44",
   "metadata": {},
   "outputs": [
    {
     "data": {
      "text/plain": [
       "tensor([5])"
      ]
     },
     "execution_count": 67,
     "metadata": {},
     "output_type": "execute_result"
    }
   ],
   "source": [
    "data.y"
   ]
  },
  {
   "cell_type": "markdown",
   "id": "5df04936",
   "metadata": {},
   "source": [
    "## 2.4- Dividindo o dataset"
   ]
  },
  {
   "cell_type": "markdown",
   "id": "d3cfb83c",
   "metadata": {},
   "source": [
    "Um passo importante no treinamento de qualquer modelo de Deep Learning é separar o dataset em conjunto de treinamento e de validação. "
   ]
  },
  {
   "cell_type": "markdown",
   "id": "487e4b5e",
   "metadata": {},
   "source": [
    "Antes da divisão, é interessante que o dataset seja embaralhado aleatoriamente, o que pode ser feito por meio de:"
   ]
  },
  {
   "cell_type": "code",
   "execution_count": 68,
   "id": "a0e3a3d2",
   "metadata": {},
   "outputs": [],
   "source": [
    "dataset = dataset.shuffle()"
   ]
  },
  {
   "cell_type": "markdown",
   "id": "01577cca",
   "metadata": {},
   "source": [
    "Então, podemos empregar slices para dividir o dataset. Por exemplo, se desejarmos reserver 90% do dataset para o treinamento, podemos realizar o seguinte cálculo:"
   ]
  },
  {
   "cell_type": "code",
   "execution_count": 79,
   "id": "cb013d54",
   "metadata": {},
   "outputs": [
    {
     "data": {
      "text/plain": [
       "540"
      ]
     },
     "execution_count": 79,
     "metadata": {},
     "output_type": "execute_result"
    }
   ],
   "source": [
    "index= 90*len(dataset)//100\n",
    "index"
   ]
  },
  {
   "cell_type": "markdown",
   "id": "9c7582d5",
   "metadata": {},
   "source": [
    "Empregando posteriormente na divisão:"
   ]
  },
  {
   "cell_type": "code",
   "execution_count": 82,
   "id": "e56cf3dc",
   "metadata": {
    "scrolled": true
   },
   "outputs": [
    {
     "data": {
      "text/plain": [
       "(ENZYMES(540), ENZYMES(60))"
      ]
     },
     "execution_count": 82,
     "metadata": {},
     "output_type": "execute_result"
    }
   ],
   "source": [
    "train_dataset = dataset[:index]\n",
    "valid_dataset = dataset[index:]\n",
    "\n",
    "train_dataset, valid_dataset"
   ]
  },
  {
   "cell_type": "markdown",
   "id": "b17456d6",
   "metadata": {},
   "source": [
    "# To be continued"
   ]
  },
  {
   "cell_type": "code",
   "execution_count": null,
   "id": "3461d524",
   "metadata": {},
   "outputs": [],
   "source": []
  },
  {
   "cell_type": "code",
   "execution_count": null,
   "id": "26ff7b2b",
   "metadata": {},
   "outputs": [],
   "source": []
  },
  {
   "cell_type": "code",
   "execution_count": 84,
   "id": "3855c0d2",
   "metadata": {},
   "outputs": [
    {
     "name": "stderr",
     "output_type": "stream",
     "text": [
      "Downloading https://github.com/kimiyoung/planetoid/raw/master/data/ind.cora.x\n",
      "Downloading https://github.com/kimiyoung/planetoid/raw/master/data/ind.cora.tx\n",
      "Downloading https://github.com/kimiyoung/planetoid/raw/master/data/ind.cora.allx\n",
      "Downloading https://github.com/kimiyoung/planetoid/raw/master/data/ind.cora.y\n",
      "Downloading https://github.com/kimiyoung/planetoid/raw/master/data/ind.cora.ty\n",
      "Downloading https://github.com/kimiyoung/planetoid/raw/master/data/ind.cora.ally\n",
      "Downloading https://github.com/kimiyoung/planetoid/raw/master/data/ind.cora.graph\n",
      "Downloading https://github.com/kimiyoung/planetoid/raw/master/data/ind.cora.test.index\n",
      "Processing...\n",
      "Done!\n"
     ]
    }
   ],
   "source": [
    "from torch_geometric.datasets import Planetoid\n",
    "\n",
    "dataset = Planetoid(root='/tmp/Cora', name='Cora')"
   ]
  },
  {
   "cell_type": "code",
   "execution_count": 85,
   "id": "de901537",
   "metadata": {},
   "outputs": [
    {
     "data": {
      "text/plain": [
       "1"
      ]
     },
     "execution_count": 85,
     "metadata": {},
     "output_type": "execute_result"
    }
   ],
   "source": [
    "len(dataset)"
   ]
  },
  {
   "cell_type": "code",
   "execution_count": 86,
   "id": "6f0fa5ce",
   "metadata": {},
   "outputs": [
    {
     "data": {
      "text/plain": [
       "7"
      ]
     },
     "execution_count": 86,
     "metadata": {},
     "output_type": "execute_result"
    }
   ],
   "source": [
    "dataset.num_classes"
   ]
  },
  {
   "cell_type": "code",
   "execution_count": 87,
   "id": "f638b494",
   "metadata": {},
   "outputs": [
    {
     "data": {
      "text/plain": [
       "1433"
      ]
     },
     "execution_count": 87,
     "metadata": {},
     "output_type": "execute_result"
    }
   ],
   "source": [
    "dataset.num_node_features"
   ]
  },
  {
   "cell_type": "code",
   "execution_count": 88,
   "id": "31493b1d",
   "metadata": {},
   "outputs": [],
   "source": [
    "data = dataset[0]"
   ]
  },
  {
   "cell_type": "code",
   "execution_count": 92,
   "id": "9e148e40",
   "metadata": {},
   "outputs": [
    {
     "data": {
      "text/plain": [
       "tensor([3, 4, 4,  ..., 3, 3, 3])"
      ]
     },
     "execution_count": 92,
     "metadata": {},
     "output_type": "execute_result"
    }
   ],
   "source": [
    "data.y"
   ]
  },
  {
   "cell_type": "code",
   "execution_count": 97,
   "id": "3af687fe",
   "metadata": {},
   "outputs": [
    {
     "data": {
      "text/plain": [
       "tensor(140)"
      ]
     },
     "execution_count": 97,
     "metadata": {},
     "output_type": "execute_result"
    }
   ],
   "source": [
    "data.train_mask.sum()"
   ]
  },
  {
   "cell_type": "code",
   "execution_count": 98,
   "id": "5c08bb05",
   "metadata": {},
   "outputs": [
    {
     "data": {
      "text/plain": [
       "tensor(500)"
      ]
     },
     "execution_count": 98,
     "metadata": {},
     "output_type": "execute_result"
    }
   ],
   "source": [
    "data.val_mask.sum()"
   ]
  },
  {
   "cell_type": "code",
   "execution_count": 99,
   "id": "4d2a5e6b",
   "metadata": {},
   "outputs": [
    {
     "data": {
      "text/plain": [
       "tensor(1000)"
      ]
     },
     "execution_count": 99,
     "metadata": {},
     "output_type": "execute_result"
    }
   ],
   "source": [
    "data.test_mask.sum()"
   ]
  },
  {
   "cell_type": "code",
   "execution_count": 100,
   "id": "fe7822d7",
   "metadata": {},
   "outputs": [
    {
     "data": {
      "text/plain": [
       "Data(x=[2708, 1433], edge_index=[2, 10556], y=[2708], train_mask=[2708], val_mask=[2708], test_mask=[2708])"
      ]
     },
     "execution_count": 100,
     "metadata": {},
     "output_type": "execute_result"
    }
   ],
   "source": [
    "data"
   ]
  },
  {
   "cell_type": "code",
   "execution_count": null,
   "id": "b76144e6",
   "metadata": {},
   "outputs": [],
   "source": []
  }
 ],
 "metadata": {
  "kernelspec": {
   "display_name": "Python 3",
   "language": "python",
   "name": "python3"
  },
  "language_info": {
   "codemirror_mode": {
    "name": "ipython",
    "version": 3
   },
   "file_extension": ".py",
   "mimetype": "text/x-python",
   "name": "python",
   "nbconvert_exporter": "python",
   "pygments_lexer": "ipython3",
   "version": "3.9.7"
  }
 },
 "nbformat": 4,
 "nbformat_minor": 5
}
